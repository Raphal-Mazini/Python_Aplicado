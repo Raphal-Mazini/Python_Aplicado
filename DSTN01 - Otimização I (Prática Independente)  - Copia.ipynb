{
 "cells": [
  {
   "cell_type": "markdown",
   "metadata": {
    "id": "QXLQAQLLapLs"
   },
   "source": [
    "# Introdução"
   ]
  },
  {
   "cell_type": "markdown",
   "metadata": {
    "id": "UeBi4cZiapLv"
   },
   "source": [
    "Agora é com você!. Use o que desenvolvemos na prática guiada para aplicar o grid search em novos dados.\n"
   ]
  },
  {
   "cell_type": "markdown",
   "metadata": {
    "id": "nYbqDwjEapLx"
   },
   "source": [
    "Diretrizes:<br>\n",
    "    1) Use o arquivo de diabetes.csv para criar um modelo KNN<br>\n",
    "    2) Observe a documentação da class KNeighborsClassifier e veja os hiperparâmetros <br>disponíveis e quais seus possíveis valores. Escolha 3 hiperparâmetros para otimizar.<br>\n",
    "    3) Crie um Pipeline que combina ```MinMaxScaler``` e o ```KNeighborsClassifier```<br> \n",
    "    4) Crie uma grid para guardar os ranges de valores que você criou  para cada hiperparâmetro <br>\n",
    "    5) Defina uma validação <br>\n",
    "    6) Aplique o ```GridSearchCV```<br>\n",
    "    7) Avalie a performance no treino e no teste.<br>"
   ]
  },
  {
   "cell_type": "markdown",
   "metadata": {
    "id": "Xgp1VhOMbMZT"
   },
   "source": [
    "Link do dataset: https://raw.githubusercontent.com/abnr/ml-data/main/diabetes.csv"
   ]
  },
  {
   "cell_type": "markdown",
   "metadata": {
    "id": "bMq49uxgapL0"
   },
   "source": [
    "# Setup"
   ]
  },
  {
   "cell_type": "code",
   "execution_count": null,
   "metadata": {
    "id": "alTqm5reapL2"
   },
   "outputs": [],
   "source": [
    "# Leia seus dados e carregue todas as classes e funções que vai utilizar "
   ]
  },
  {
   "cell_type": "markdown",
   "metadata": {
    "id": "liLJYjjkapL3"
   },
   "source": [
    "# Pipeline e Grid"
   ]
  },
  {
   "cell_type": "code",
   "execution_count": null,
   "metadata": {
    "id": "It2t5ecMapL4"
   },
   "outputs": [],
   "source": [
    "# Crie o pipeline aqui"
   ]
  },
  {
   "cell_type": "code",
   "execution_count": null,
   "metadata": {
    "id": "qq8vE2JRapL4"
   },
   "outputs": [],
   "source": [
    "# Defina a grid de hiperparâmetros. \n",
    "# Não esqueça de adicionar \"prefixo__\", \n",
    "# sendo o prefixo o nome que você dá ao step que contém o modelo dentro do pipeline."
   ]
  },
  {
   "cell_type": "markdown",
   "metadata": {
    "id": "UIoYN53zapL6"
   },
   "source": [
    "# Grid Search"
   ]
  },
  {
   "cell_type": "code",
   "execution_count": null,
   "metadata": {
    "id": "NvgKPzbyapL7"
   },
   "outputs": [],
   "source": [
    "# Defina o método de validação,\n",
    "# defina a classe do Grid Search e inicialize a busca"
   ]
  },
  {
   "cell_type": "markdown",
   "metadata": {
    "id": "ser3tqXoapL8"
   },
   "source": [
    "# Performance"
   ]
  },
  {
   "cell_type": "code",
   "execution_count": null,
   "metadata": {
    "id": "yJ6vv4NiapL-"
   },
   "outputs": [],
   "source": [
    "# Avalie a performance no treino e no teste"
   ]
  },
  {
   "cell_type": "markdown",
   "metadata": {
    "id": "JLDX_MVrapL-"
   },
   "source": [
    "# Avançado"
   ]
  },
  {
   "cell_type": "markdown",
   "metadata": {
    "id": "U6w6ChxHapL-"
   },
   "source": [
    "Escolha um modelo com mais hiperparâmetros, como RandomForest e faça o mesmo processo de otimização com gridsearch."
   ]
  },
  {
   "cell_type": "code",
   "execution_count": null,
   "metadata": {
    "id": "_XCfiETnbACD"
   },
   "outputs": [],
   "source": []
  }
 ],
 "metadata": {
  "colab": {
   "name": "Cópia de DSTN02 - Otimização I (Prática Independente) .ipynb",
   "provenance": [
    {
     "file_id": "1hNc5Q64124q7bIfi6WWYp7IspCgqD4N1",
     "timestamp": 1624060405531
    },
    {
     "file_id": "1DJ39cTPFdzYXBP6k6JP_tjKhwg-W_QjM",
     "timestamp": 1624058317414
    }
   ]
  },
  "kernelspec": {
   "display_name": "Python 3 (ipykernel)",
   "language": "python",
   "name": "python3"
  },
  "language_info": {
   "codemirror_mode": {
    "name": "ipython",
    "version": 3
   },
   "file_extension": ".py",
   "mimetype": "text/x-python",
   "name": "python",
   "nbconvert_exporter": "python",
   "pygments_lexer": "ipython3",
   "version": "3.9.7"
  },
  "toc": {
   "base_numbering": 1,
   "nav_menu": {},
   "number_sections": true,
   "sideBar": true,
   "skip_h1_title": false,
   "title_cell": "Table of Contents",
   "title_sidebar": "Contents",
   "toc_cell": false,
   "toc_position": {},
   "toc_section_display": true,
   "toc_window_display": false
  },
  "varInspector": {
   "cols": {
    "lenName": 16,
    "lenType": 16,
    "lenVar": 40
   },
   "kernels_config": {
    "python": {
     "delete_cmd_postfix": "",
     "delete_cmd_prefix": "del ",
     "library": "var_list.py",
     "varRefreshCmd": "print(var_dic_list())"
    },
    "r": {
     "delete_cmd_postfix": ") ",
     "delete_cmd_prefix": "rm(",
     "library": "var_list.r",
     "varRefreshCmd": "cat(var_dic_list()) "
    }
   },
   "types_to_exclude": [
    "module",
    "function",
    "builtin_function_or_method",
    "instance",
    "_Feature"
   ],
   "window_display": false
  }
 },
 "nbformat": 4,
 "nbformat_minor": 1
}
