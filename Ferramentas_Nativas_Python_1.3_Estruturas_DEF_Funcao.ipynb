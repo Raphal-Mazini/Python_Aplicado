{
 "cells": [
  {
   "cell_type": "markdown",
   "metadata": {},
   "source": [
    "## ``def``\n",
    "\n",
    "Para __criar uma função__ em Python, usa se a palavra-chave ``def``, em seguida o nome da função, como descrito na sintaxe abaixo. Uma função não precisa de parâmetros, mas se precisar, pode-se usar um ou mais __parâmetros__. Esses parâmetros definidos na são chamados de __parâmetros formais__"
   ]
  },
  {
   "cell_type": "code",
   "execution_count": 40,
   "metadata": {},
   "outputs": [
    {
     "name": "stdout",
     "output_type": "stream",
     "text": [
      "========================================\n",
      "Teste 01\n",
      "========================================\n",
      "Teste 02\n",
      "========================================\n"
     ]
    }
   ],
   "source": [
    "# Definindo uma função para imprimir uma linha\n",
    "# Sem Parametros\n",
    "def lin():\n",
    "    print('='*40)\n",
    "\n",
    "      \n",
    "# Executando a função \"lin()\"\n",
    "lin()\n",
    "print('Teste 01')\n",
    "lin()\n",
    "print('Teste 02') \n",
    "lin()   "
   ]
  },
  {
   "cell_type": "code",
   "execution_count": 41,
   "metadata": {},
   "outputs": [
    {
     "name": "stdout",
     "output_type": "stream",
     "text": [
      "========================================\n",
      "Aulas de Função\n",
      "========================================\n",
      "========================================\n",
      "Defindo Funções\n",
      "========================================\n"
     ]
    }
   ],
   "source": [
    "# Definindo uma função para duas linhas e uma Strintg\n",
    "# Com um parametro\n",
    "def mensagem(msg):\n",
    "    print('='*40)\n",
    "    print(msg)\n",
    "    print('='*40)\n",
    "\n",
    "# Executando a Função \"mensagem()\"\n",
    "mensagem('Aulas de Função')\n",
    "mensagem('Defindo Funções')"
   ]
  },
  {
   "cell_type": "code",
   "execution_count": 42,
   "metadata": {},
   "outputs": [
    {
     "name": "stdout",
     "output_type": "stream",
     "text": [
      "10\n",
      "2\n"
     ]
    }
   ],
   "source": [
    "# Definindo uma Função de Soma\n",
    "# Com dois parametros\n",
    "def soma(a, b):\n",
    "    d = a + b\n",
    "    print(d)\n",
    "\n",
    "# Executando a Função \"soma()\"    \n",
    "soma(4,6)\n",
    "soma(1,1)"
   ]
  },
  {
   "cell_type": "code",
   "execution_count": 43,
   "metadata": {},
   "outputs": [
    {
     "name": "stdout",
     "output_type": "stream",
     "text": [
      "4.67\n",
      "4.00\n"
     ]
    }
   ],
   "source": [
    "# Definindo uma Função para Média\n",
    "# Com Três parametros\n",
    "def media(a, b, c):\n",
    "    m = ((a+b+c) / 3)\n",
    "    print(f'{m:.2f}')\n",
    "    \n",
    "# Executando a Função \"media()\"\n",
    "media(5,6,3) \n",
    "media(2,2,8) "
   ]
  },
  {
   "cell_type": "markdown",
   "metadata": {},
   "source": [
    "## ``def nome(*):``\n",
    "\n",
    "Com o asterisco ativa o operador de desempacotamento na definição da função, Operador de “desempacotamento” Pode ser utilizado em tuplas, listas e em dicionários. No caso do Dicionário, o que ele faz é desconstruir cada elemento do dicionário em chave e valor, atrelando o nome do argumento da função com a chave do dicionário\n",
    "\n",
    "Defini o parâmetro em lista, variando deste modo a quantidade de parametros de entrada, usando um asterisco (*) antes do nome do parâmetro, e os argumentos são passados como uma lista, variando o tamanho dos parâmetros que devem ser passados para a função. Se não fornecer pelo menos um valor como parâmetros, a função produzirá um erro"
   ]
  },
  {
   "cell_type": "code",
   "execution_count": 44,
   "metadata": {},
   "outputs": [
    {
     "name": "stdout",
     "output_type": "stream",
     "text": [
      "========================================\n",
      "(1, 2)\n",
      "(2, 3, 4)\n",
      "========================================\n",
      "========================================\n",
      "1ª >>> 1 \n",
      "2ª >>> 2 \n",
      "A Quantidade Total de Elemetos: 2\n",
      "========================================\n",
      "1ª >>> 2 \n",
      "2ª >>> 3 \n",
      "3ª >>> 5 \n",
      "4ª >>> 6 \n",
      "A Quantidade Total de Elemetos: 4\n",
      "========================================\n"
     ]
    }
   ],
   "source": [
    "# Definindo uma Função Visualização de Números\n",
    "# Com quantidade variada de prametros\n",
    "def visualizar(*num):\n",
    "    print(num)\n",
    "lin()    \n",
    "visualizar(1,2)\n",
    "visualizar(2,3,4)  \n",
    "\n",
    "lin()\n",
    "\n",
    "# Definindo uma Função para contar\n",
    "# Com quantidade variada de parametros\n",
    "def contar(*num2):\n",
    "    for i,valor in enumerate(num2):\n",
    "        print(f'{i+1}ª >>> {valor} ')\n",
    "    print(f'A Quantidade Total de Elemetos: {len(num2)}')\n",
    "\n",
    "\n",
    "# Executando a Função \"contar()\" junto com a Função \"lin()\"\n",
    "lin()\n",
    "contar(1,2)\n",
    "lin()\n",
    "contar(2,3,5,6) \n",
    "lin()       "
   ]
  },
  {
   "cell_type": "markdown",
   "metadata": {},
   "source": [
    "## Exercicios de Exemplo"
   ]
  },
  {
   "cell_type": "code",
   "execution_count": 138,
   "metadata": {},
   "outputs": [
    {
     "name": "stdout",
     "output_type": "stream",
     "text": [
      "2 4 6 8 10 Fim !!!\n"
     ]
    }
   ],
   "source": [
    "def conta(i, f, p):\n",
    "    \n",
    "    c = i\n",
    "    while c <= f:\n",
    "        print(f'{c}', end=' ')\n",
    "        c += p\n",
    "        \n",
    "    print('Fim !!!')   \n",
    "   \n",
    "conta(2,10,2) "
   ]
  },
  {
   "cell_type": "code",
   "execution_count": 45,
   "metadata": {},
   "outputs": [
    {
     "name": "stdout",
     "output_type": "stream",
     "text": [
      "========================================\n",
      "Lista Original: [2, 4, 6, 8, 10, 12]\n",
      "========================================\n",
      "Dobrando obtemos: [4, 8, 12, 16, 20, 24]\n",
      "========================================\n"
     ]
    }
   ],
   "source": [
    "# Definindo uma Função para Dobrar\n",
    "# Parametros entrada como lista\n",
    "minha_lista = [2, 4, 6, 8, 10, 12]\n",
    "def dobra(lst):\n",
    "    pos = 0\n",
    "    while pos < len(lst):\n",
    "        lst[pos] *= 2\n",
    "        pos += 1\n",
    "    print(f'Dobrando obtemos: {lst}')    \n",
    "\n",
    "\n",
    "lin()\n",
    "# Visualizando a lista original como comparativo \n",
    "print(f'Lista Original: {minha_lista}')\n",
    "# Executando a Função \"dobra()\" junto com a Função \"lin()\"\n",
    "lin()\n",
    "dobra(minha_lista) \n",
    "lin()       "
   ]
  },
  {
   "cell_type": "code",
   "execution_count": 46,
   "metadata": {},
   "outputs": [
    {
     "name": "stdout",
     "output_type": "stream",
     "text": [
      "A soma dos valores (2, 2) é igual 4\n",
      "A soma dos valores (1, 1, 1, 1, 1) é igual 5\n"
     ]
    }
   ],
   "source": [
    "# Definindo uma função de soma\n",
    "# Com variação de parametros, desempacotamento\n",
    "def soma2(*valores):\n",
    "    s = 0\n",
    "    for num in valores:\n",
    "        s += num\n",
    "    print(f'A soma dos valores {valores} é igual {s}')\n",
    "    \n",
    "# Executando a Função \"soma2()\"\n",
    "soma2(2,2)\n",
    "soma2(1,1,1,1,1)    "
   ]
  },
  {
   "cell_type": "code",
   "execution_count": 47,
   "metadata": {},
   "outputs": [
    {
     "name": "stdout",
     "output_type": "stream",
     "text": [
      "A área do Terreno 3.50m x 6.00m é de 21.00m²\n",
      "A área do Terreno 12.65m x 10.56m é de 133.58m²\n"
     ]
    }
   ],
   "source": [
    "# Definindo uma Função calcular a área\n",
    "# Com dois parametros\n",
    "def area(largura, comprimento):\n",
    "    a = largura * comprimento\n",
    "    print(f'A área do Terreno {largura:.2f}m x {comprimento:.2f}m é de {a:.2f}m²')\n",
    "   \n",
    "    \n",
    "area(3.5,6)    \n",
    "area(12.65,10.56)"
   ]
  },
  {
   "cell_type": "code",
   "execution_count": 48,
   "metadata": {},
   "outputs": [
    {
     "name": "stdout",
     "output_type": "stream",
     "text": [
      "A area de (2, 3)m = 6m²\n",
      "A area de (3, 2, 4)m = 24m²\n"
     ]
    }
   ],
   "source": [
    "# Definindo uma Função calcular área\n",
    "# Com desempacotamento *\n",
    "def area2(*val):\n",
    "    m = 1\n",
    "    for i in val:\n",
    "        m *= i\n",
    "    print(f'A area de {val}m = {m}m²')\n",
    "\n",
    "area2(2,3)  \n",
    "area2(3,2,4)  "
   ]
  },
  {
   "cell_type": "code",
   "execution_count": 49,
   "metadata": {},
   "outputs": [
    {
     "name": "stdout",
     "output_type": "stream",
     "text": [
      "========================================\n",
      "         Desafio Concluido !!\n",
      "========================================\n",
      "========================================\n",
      "         Exercicio do Desafio\n",
      "========================================\n"
     ]
    }
   ],
   "source": [
    "# Exercicio Exemplo\n",
    "def escreva(msg):\n",
    "    lin()\n",
    "    print(f'         {msg}')\n",
    "    lin()\n",
    "\n",
    "\n",
    "escreva('Desafio Concluido !!')  \n",
    "escreva('Exercicio do Desafio')  \n"
   ]
  },
  {
   "cell_type": "code",
   "execution_count": 50,
   "metadata": {},
   "outputs": [
    {
     "name": "stdout",
     "output_type": "stream",
     "text": [
      "========================================\n",
      "A Contagem de 2 até 20 de 2 em 2\n",
      "2 4 6 8 10 12 14 16 18 20 Concluido !!!\n",
      "========================================\n",
      "A Contagem de 20 até 2 de 2 em 2\n",
      "20 18 16 14 12 10 8 6 4 2 Concluido !!!\n",
      "========================================\n",
      "========================================\n",
      "         Personalize a Contagem\n",
      "========================================\n",
      "========================================\n",
      "A Contagem de 2 até 9 de 2 em 2\n",
      "2 4 6 8 Concluido !!!\n"
     ]
    }
   ],
   "source": [
    "from time import sleep\n",
    "\n",
    "def contador(i, f, p):\n",
    "    \n",
    "    print('='* 40)\n",
    "    print(f'A Contagem de {i} até {f} de {p} em {p}')\n",
    "    if p < 0:\n",
    "        p *= -1\n",
    "    if p == 0:\n",
    "        p = 1    \n",
    "    if i < f:\n",
    "        cont = i\n",
    "        while cont <= f:\n",
    "            print(f'{cont}',flush=True ,end=' ' )\n",
    "            sleep(0.5)\n",
    "            cont += p\n",
    "        print('Concluido !!!')         \n",
    "    else:\n",
    "        cont = i\n",
    "        while cont >= f:\n",
    "            print(f'{cont}',end=' ', flush=True)\n",
    "            sleep(0.5)\n",
    "            cont -= p\n",
    "        print('Concluido !!!')\n",
    "        print('='*40)\n",
    "        \n",
    "\n",
    "contador(2,20,2)   \n",
    "contador(20,2,2)        \n",
    "\n",
    "escreva('Personalize a Contagem')\n",
    "\n",
    "\n",
    "inic = int(input('Nº de Inicio >> '))\n",
    "fm = int(input('Nº de Final >> '))\n",
    "ps = int(input('Nº de Pulos >> '))\n",
    "contador(inic, fm, ps)      "
   ]
  },
  {
   "cell_type": "code",
   "execution_count": 51,
   "metadata": {},
   "outputs": [
    {
     "name": "stdout",
     "output_type": "stream",
     "text": [
      "A Contagem de 1 até 10 de 1 em 1\n",
      "Lista de Valores: 1 2 3 4 5 6 7 8 9 10 >>> O Número Total de Elementos: 10\n",
      "\n",
      "A Contagem de 10 até -2 de -2 em -2\n",
      "Lista de Valores: 10 8 6 4 2 0 >>> O Número Total de Elementos: 6\n",
      "\n"
     ]
    }
   ],
   "source": [
    "# Exercicio Exemplo\n",
    "def contador(inicio, fim, passo):\n",
    "    print(f'A Contagem de {inicio} até {fim-1} de {passo} em {passo}')\n",
    "    t = 0\n",
    "    print(f'Lista de Valores:', end=' ')   \n",
    "    for i in range(inicio, fim, passo):\n",
    "        t += 1        \n",
    "        print(f'{i}', end=' ')\n",
    "        sleep(0.5)\n",
    "    print(f'>>> O Número Total de Elementos: {t}')\n",
    "    print()\n",
    "    \n",
    "contador(1,11,1) \n",
    "contador(10,-1,-2)   \n",
    "\n",
    "\n"
   ]
  },
  {
   "cell_type": "code",
   "execution_count": 52,
   "metadata": {},
   "outputs": [
    {
     "name": "stdout",
     "output_type": "stream",
     "text": [
      "Ao todo 4 elementos >> Maior valor: 6\n",
      "Ao todo 6 elementos >> Maior valor: 9\n"
     ]
    }
   ],
   "source": [
    "def maior(*val):    \n",
    "    mior = []\n",
    "    for i in val:       \n",
    "        mior.append(i)\n",
    "        sleep(0.2)        \n",
    "    print(f'Ao todo {len(val)} elementos >> Maior valor: {max(mior)}', \n",
    "          flush=True)\n",
    "        \n",
    "        \n",
    "maior(2,3,5,6) \n",
    "maior(2,9,4,5,7,1)       "
   ]
  },
  {
   "cell_type": "code",
   "execution_count": 109,
   "metadata": {},
   "outputs": [
    {
     "name": "stdout",
     "output_type": "stream",
     "text": [
      "Os números são:  8 8 10 9 5 \n",
      "A soma dos pares: 26\n",
      "A soma dos valores pares 26\n"
     ]
    }
   ],
   "source": [
    "from random import randint\n",
    "\n",
    "def sorteia(lista):\n",
    "    par = []\n",
    "    print(f'Os números são: ', end=' ')\n",
    "    for cont in range(0,5):\n",
    "        n = randint(1,10)\n",
    "        num.append(n)\n",
    "        print(f'{n}', end=\" \")\n",
    "        #sleep(0.5)\n",
    "        if n % 2 == 0:\n",
    "            par.append(n)\n",
    "    print()\n",
    "    print(f'A soma dos pares: {sum(par)}')        \n",
    "\n",
    "        \n",
    "num = []\n",
    "sorteia(num)\n",
    "\n",
    "\n",
    "def somaPar(lista):\n",
    "    soma = 0\n",
    "    for valor in lista:\n",
    "        if valor % 2 == 0:\n",
    "            soma += valor       \n",
    "    print(f'A soma dos valores pares {soma}')  \n",
    "\n",
    "somaPar(num)         \n",
    "       "
   ]
  },
  {
   "cell_type": "code",
   "execution_count": 127,
   "metadata": {},
   "outputs": [
    {
     "name": "stdout",
     "output_type": "stream",
     "text": [
      "A soma dos valores pares 26\n"
     ]
    }
   ],
   "source": [
    "def somaPar(lista):    \n",
    "    \"\"\"\n",
    "    \n",
    "    _summary_ \n",
    "    \n",
    "    Args:\n",
    "         somarPar(lista): _description_\n",
    "         \n",
    "         >>> Irá somar todos os elementos pares que estiverem presentes em uma lista\n",
    "         \n",
    "    \"\"\"\n",
    "    \n",
    "    soma = 0\n",
    "    for valor in lista:\n",
    "        if valor % 2 == 0:\n",
    "            soma += valor       \n",
    "    print(f'A soma dos valores pares {soma}')    \n",
    "\n",
    "somaPar(num)        "
   ]
  },
  {
   "cell_type": "code",
   "execution_count": 139,
   "metadata": {},
   "outputs": [
    {
     "name": "stdout",
     "output_type": "stream",
     "text": [
      "A Soma dos termos (5, 3, 0) = 8\n",
      "A Soma dos termos (3, 2, 5) = 10\n",
      "A Soma dos termos (0, 0, 0) = 0\n"
     ]
    }
   ],
   "source": [
    "def mais(a=0, b=0, c=0):\n",
    "    \"\"\"_summary_\n",
    "    >>> Soma todos os termos que forem inseridos\n",
    "\n",
    "    Args:\n",
    "        a (int, optional): 1º Termo da Soma. Defaults to 0.\n",
    "        b (int, optional): 2º Termo da Soma. Defaults to 0.\n",
    "        c (int, optional): 3º Termo da Soma. Defaults to 0.\n",
    "    \"\"\"\n",
    "    s = a + b + c\n",
    "    print(f'A Soma dos termos {a,b,c} = {s}')\n",
    "    \n",
    "    \n",
    "mais(5,3)\n",
    "mais(3,2,5)\n",
    "mais()"
   ]
  },
  {
   "cell_type": "code",
   "execution_count": 142,
   "metadata": {},
   "outputs": [
    {
     "name": "stdout",
     "output_type": "stream",
     "text": [
      "O Resultado fatorial é 24 e 720\n"
     ]
    }
   ],
   "source": [
    "def fatorial(num=1):\n",
    "    f = 1\n",
    "    for c in range(num, 0, -1):\n",
    "        f *= c\n",
    "    return f   \n",
    "\n",
    "fr1 = fatorial(4)\n",
    "fr2 = fatorial(6)\n",
    "print(f'O Resultado fatorial é {fr1} e {fr2}') \n",
    "        "
   ]
  },
  {
   "cell_type": "code",
   "execution_count": 146,
   "metadata": {},
   "outputs": [
    {
     "name": "stdout",
     "output_type": "stream",
     "text": [
      "Este Numero é << Par >>\n"
     ]
    }
   ],
   "source": [
    "def ParImpar(n=0):\n",
    "    if n % 2 == 0:\n",
    "        print('Este Numero é << Par >>')\n",
    "    else:\n",
    "        print('Este Número é << Ímpar >>')\n",
    "\n",
    "n = int(input('Insira um Número >>> '))\n",
    "ParImpar(n)            "
   ]
  },
  {
   "cell_type": "code",
   "execution_count": 150,
   "metadata": {},
   "outputs": [
    {
     "name": "stdout",
     "output_type": "stream",
     "text": [
      "<< Par >>\n",
      "O Número 32 é None\n"
     ]
    }
   ],
   "source": [
    "def ParImpar(n=0):\n",
    "    if n % 2 == 0:\n",
    "        print('<< Par >>')\n",
    "    else:\n",
    "        print('<< Ímpar >>')\n",
    "\n",
    "n0 = int(input('Insira um Número >>> '))\n",
    "print(f'O Número {n0} é {ParImpar(n0)}') # Não Retorna o Resultado \"None\"   "
   ]
  },
  {
   "cell_type": "code",
   "execution_count": 155,
   "metadata": {},
   "outputs": [
    {
     "name": "stdout",
     "output_type": "stream",
     "text": [
      "O Número 532 é << PAR >>\n"
     ]
    }
   ],
   "source": [
    "def par(nn=0):\n",
    "    if nn % 2 == 0:\n",
    "        return True\n",
    "    else:\n",
    "        return False\n",
    "    \n",
    "n1 = int(input('Digite Número >> '))     \n",
    "if par(n1):\n",
    "    print(f'O Número {n1} é << PAR >>')\n",
    "else:\n",
    "    print(f'O Número {n1} é << ÍMPAR >>')     "
   ]
  },
  {
   "cell_type": "code",
   "execution_count": 177,
   "metadata": {},
   "outputs": [
    {
     "name": "stdout",
     "output_type": "stream",
     "text": [
      "Ano:1980\n",
      "Aos 43 anos >> OBRIGATÓRIO VOTAR.\n",
      "concluido !!\n"
     ]
    }
   ],
   "source": [
    "def voto(ano):\n",
    "    from datetime import date\n",
    "    atual = date.today().year\n",
    "    idade = atual - ano\n",
    "    if idade < 16:\n",
    "        return f'Aos {idade} anos >> NÃO VOTAR.'\n",
    "    elif 16 <= idade < 18 or idade > 65:\n",
    "        return f'Aos {idade} anos >> OPCIONAL VOTAR.'\n",
    "    else:\n",
    "        return f'Aos {idade} anos >> OBRIGATÓRIO VOTAR.'\n",
    "  \n",
    "        \n",
    "\n",
    "data = int(input('Digite Ano de Nascimento >>> '))  \n",
    "print(f'Ano:{data}\\n{voto(data)}')\n",
    "print('concluido !!')   "
   ]
  },
  {
   "cell_type": "code",
   "execution_count": 44,
   "metadata": {},
   "outputs": [
    {
     "name": "stdout",
     "output_type": "stream",
     "text": [
      "120\n",
      "5 x 4 x 3 x 2 x 1 = 120\n",
      "Help on function fatorial_ in module __main__:\n",
      "\n",
      "fatorial_(ni, show=False)\n",
      "    Função de calculo Fatorial:\n",
      "    \n",
      "    param ni: Número a ser Calculado.\n",
      "    param show: (opcional) Visualiza ou não a fatoração\n",
      "\n"
     ]
    }
   ],
   "source": [
    "def fatorial_(ni, show=False):    \n",
    "    \"\"\"\n",
    "    Função de calculo Fatorial:\n",
    "    \n",
    "    param ni: Número a ser Calculado.\n",
    "    param show: (opcional) Visualiza ou não a fatoração\n",
    "    \n",
    "    \"\"\"          \n",
    "    f = 1\n",
    "    for c in range(ni, 0, -1):\n",
    "        if show:\n",
    "            print(f'{c}', end='') \n",
    "            if c > 1:\n",
    "                print(' x ', end='')\n",
    "            else:\n",
    "                print(' = ', end='')                            \n",
    "        f *= c\n",
    "    return f\n",
    "    \n",
    "print(fatorial_(5, show=False))\n",
    "print(fatorial_(5, show=True))     \n",
    "help(fatorial_)"
   ]
  },
  {
   "cell_type": "code",
   "execution_count": 4,
   "metadata": {},
   "outputs": [
    {
     "name": "stdout",
     "output_type": "stream",
     "text": [
      "O Jogador Jervazio fez 3 gols\n"
     ]
    }
   ],
   "source": [
    "def ficha(jog='<Desconhecido>', gol=0):\n",
    "    print(f'O Jogador {jog} fez {gol} gols')\n",
    "    \n",
    "\n",
    "n = str(input('Nome Jogador >> '))\n",
    "g = str(input('Nº de Gol(s) >> '))\n",
    "\n",
    "if g.isnumeric():\n",
    "    g = int(g)\n",
    "else:\n",
    "    g = 0\n",
    "    \n",
    "if n.strip() == '':\n",
    "    ficha(gol=g) \n",
    "else:\n",
    "    ficha(n, g)"
   ]
  },
  {
   "cell_type": "code",
   "execution_count": 28,
   "metadata": {},
   "outputs": [
    {
     "name": "stdout",
     "output_type": "stream",
     "text": [
      "{'total': 4, 'maior': 8, 'menor': 5, 'media': 6.25, 'situacao': 'Regular'}\n",
      "{'total': 3, 'maior': 8.5, 'menor': 2.5, 'media': 5.5}\n",
      "{'total': 4, 'maior': 9.5, 'menor': 5.5, 'media': 7.25, 'situacao': 'Boa'}\n",
      "Help on function notas in module __main__:\n",
      "\n",
      "notas(*n, sit=False)\n",
      "    >>> Função para analisar notas e situação academica de diversos alunos.\n",
      "    \n",
      "    Param n: <float> Uma ou mais notas de alunos(Aceita n Notas)\n",
      "    Param sit: <Boolean> (Opcional) Visualiza ou NÃO a situação academica do aluno referente a sua média\n",
      "    return: <dict> Retorna um Dicionário com \"Nº total de Notas\", \"Maior Nota Inserida\", \"Média das Notas\" e a \"Situação Acadenica\"\n",
      "\n"
     ]
    }
   ],
   "source": [
    "def notas(*n, sit=False):\n",
    "    \n",
    "    \"\"\"    \n",
    "        >>> Função para analisar notas e situação academica de diversos alunos.\n",
    "        \n",
    "        Param n: <float> Uma ou mais notas de alunos(Aceita n Notas)\n",
    "        Param sit: <Boolean> (Opcional) Visualiza ou NÃO a situação academica do aluno referente a sua média\n",
    "        return: <dict> Retorna um Dicionário com \"Nº total de Notas\", \"Maior Nota Inserida\", \"Média das Notas\" e a \"Situação Acadenica\"    \n",
    "        \n",
    "    \"\"\"\n",
    "    r = dict()\n",
    "    r['total'] = len(n)\n",
    "    r['maior'] = max(n)\n",
    "    r['menor'] = min(n)\n",
    "    r['media'] = sum(n) / len(n)\n",
    "    if sit:\n",
    "        if r['media'] >= 7:\n",
    "            r['situacao'] = 'Boa'\n",
    "        elif r['media'] >= 5:\n",
    "                r['situacao'] = 'Regular'\n",
    "        else:\n",
    "            r['situacao'] = 'Ruim'        \n",
    "    return r\n",
    "\n",
    "print(notas(5,6,8,6, sit=True))\n",
    "print(notas(5.5, 2.5, 8.5))\n",
    "print(notas(6.5, 7.5, 5.5, 9.5, sit=True))\n",
    "help(notas)   "
   ]
  },
  {
   "cell_type": "code",
   "execution_count": 27,
   "metadata": {},
   "outputs": [
    {
     "name": "stdout",
     "output_type": "stream",
     "text": [
      "\u001b[0;30;43m~~~~~~~~~~~~~~~~~~~~~~~\n",
      "Sistema de Ajuda PyHelp\n",
      "~~~~~~~~~~~~~~~~~~~~~~~\n",
      "\u001b[m\u001b[m~~~~~~~~~~~~~~~~~~~~~~~~~~\n",
      "Acessando o Manual 'break'\n",
      "~~~~~~~~~~~~~~~~~~~~~~~~~~\n",
      "\u001b[m\u001b[0:30:41mThe \"break\" statement\n",
      "*********************\n",
      "\n",
      "   break_stmt ::= \"break\"\n",
      "\n",
      "\"break\" may only occur syntactically nested in a \"for\" or \"while\"\n",
      "loop, but not nested in a function or class definition within that\n",
      "loop.\n",
      "\n",
      "It terminates the nearest enclosing loop, skipping the optional \"else\"\n",
      "clause if the loop has one.\n",
      "\n",
      "If a \"for\" loop is terminated by \"break\", the loop control target\n",
      "keeps its current value.\n",
      "\n",
      "When \"break\" passes control out of a \"try\" statement with a \"finally\"\n",
      "clause, that \"finally\" clause is executed before really leaving the\n",
      "loop.\n",
      "\n",
      "Related help topics: while, for\n",
      "\n",
      "\u001b[m\u001b[0;30;45m~~~~~~~~~~~~~~~~~~~~~\n",
      "Processo Concluido !!\n",
      "~~~~~~~~~~~~~~~~~~~~~\n",
      "\u001b[m\u001b[0;30;43m~~~~~~~~~~~~~~~~~~~~~~~\n",
      "Sistema de Ajuda PyHelp\n",
      "~~~~~~~~~~~~~~~~~~~~~~~\n",
      "\u001b[m\u001b[0:30:42m~~~~~~\n",
      "Fim !!\n",
      "~~~~~~\n",
      "\u001b[m"
     ]
    }
   ],
   "source": [
    "comando = ' '\n",
    "c = ('\\033[m',       # 0 >> Sem Cor\n",
    "     '\\033[0:30:41m',# 1 >> Vermelho\n",
    "     '\\033[0:30:42m',# 2 >> Verde \n",
    "     '\\033[0;30;43m',# 3 >> Amarelo\n",
    "     '\\033[0;30;44m',# 4 >> Azul\n",
    "     '\\033[0;30;45m',# 5 >> Roxo\n",
    "     '\\033[7;30m')   # 6 >> Branco\n",
    "\n",
    "def ajuda(com):\n",
    "    titulo(f'Acessando o Manual \\'{com}\\'')\n",
    "    print(c[1], end='')\n",
    "    help(com)\n",
    "    print(c[0], end='')\n",
    "\n",
    "\n",
    "def titulo(msg, cor=0):\n",
    "    tam = len(msg)\n",
    "    print(c[cor], end='')\n",
    "    print('~'* tam)\n",
    "    print(msg)\n",
    "    print('~'* tam)\n",
    "    print(c[0], end='')    \n",
    "\n",
    "\n",
    "while True:\n",
    "    titulo('Sistema de Ajuda PyHelp',cor=3)\n",
    "    comando = str(input('Função ou Biblioteca >> '))\n",
    "    if comando.upper() in 'FIM':\n",
    "        break\n",
    "    else:\n",
    "        ajuda(comando)\n",
    "    titulo('Processo Concluido !!',cor=5)   \n",
    "titulo('Fim !!',cor=2)     "
   ]
  },
  {
   "cell_type": "code",
   "execution_count": 13,
   "metadata": {},
   "outputs": [],
   "source": [
    "def str_moeda(preco=0, moeda='R$'):\n",
    "    return f'{str_moeda}{preco}'.replace('.', ',')  "
   ]
  },
  {
   "cell_type": "code",
   "execution_count": null,
   "metadata": {},
   "outputs": [],
   "source": []
  }
 ],
 "metadata": {
  "kernelspec": {
   "display_name": "Python 3",
   "language": "python",
   "name": "python3"
  },
  "language_info": {
   "codemirror_mode": {
    "name": "ipython",
    "version": 3
   },
   "file_extension": ".py",
   "mimetype": "text/x-python",
   "name": "python",
   "nbconvert_exporter": "python",
   "pygments_lexer": "ipython3",
   "version": "3.10.2"
  },
  "orig_nbformat": 4
 },
 "nbformat": 4,
 "nbformat_minor": 2
}
