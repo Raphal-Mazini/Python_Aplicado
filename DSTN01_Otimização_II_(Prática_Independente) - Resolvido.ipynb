{
 "cells": [
  {
   "cell_type": "markdown",
   "metadata": {
    "id": "aBFZR7ZpDvC9"
   },
   "source": [
    "Agora, aplicaremos todos os conceitos que vimos de otimização. Usaremos ParemeterGrid, ParameterSampler, GridSearch e RandomSearch. Use o datase diabetes.csv"
   ]
  },
  {
   "cell_type": "markdown",
   "metadata": {
    "id": "9wMkAEOIDvC3"
   },
   "source": [
    "# Instruções"
   ]
  },
  {
   "cell_type": "code",
   "execution_count": null,
   "metadata": {
    "id": "7qFRwSnD6sNN"
   },
   "outputs": [],
   "source": [
    "# biblioteca\n",
    "from sklearn.metrics import log_loss, accuracy_score\n",
    "import pandas as pd\n",
    "import numpy as np\n",
    "from sklearn.preprocessing import MinMaxScaler\n",
    "from sklearn.neighbors import KNeighborsClassifier\n",
    "from sklearn.pipeline import Pipeline\n",
    "from scipy.stats import randint\n",
    "from sklearn.model_selection import StratifiedKFold, ParameterGrid, ParameterSampler, GridSearchCV, RandomizedSearchCV, train_test_split"
   ]
  },
  {
   "cell_type": "code",
   "execution_count": null,
   "metadata": {
    "id": "zNh_8Poy6sNR"
   },
   "outputs": [],
   "source": [
    "# dados \n",
    "df_diabetes = pd.read_csv('https://raw.githubusercontent.com/abnr/ml-data/main/diabetes.csv')"
   ]
  },
  {
   "cell_type": "code",
   "execution_count": null,
   "metadata": {
    "colab": {
     "base_uri": "https://localhost:8080/",
     "height": 206
    },
    "executionInfo": {
     "elapsed": 797,
     "status": "ok",
     "timestamp": 1624487682510,
     "user": {
      "displayName": "Abner Cardoso Rodrigues Neto",
      "photoUrl": "",
      "userId": "17964229224599879007"
     },
     "user_tz": 180
    },
    "id": "5DcjZD4RAsb0",
    "outputId": "739c0e84-584b-430f-a8b3-8494e8ca6ec8"
   },
   "outputs": [
    {
     "data": {
      "text/html": [
       "<div>\n",
       "<style scoped>\n",
       "    .dataframe tbody tr th:only-of-type {\n",
       "        vertical-align: middle;\n",
       "    }\n",
       "\n",
       "    .dataframe tbody tr th {\n",
       "        vertical-align: top;\n",
       "    }\n",
       "\n",
       "    .dataframe thead th {\n",
       "        text-align: right;\n",
       "    }\n",
       "</style>\n",
       "<table border=\"1\" class=\"dataframe\">\n",
       "  <thead>\n",
       "    <tr style=\"text-align: right;\">\n",
       "      <th></th>\n",
       "      <th>preg</th>\n",
       "      <th>plas</th>\n",
       "      <th>pres</th>\n",
       "      <th>skin</th>\n",
       "      <th>insu</th>\n",
       "      <th>mass</th>\n",
       "      <th>pedi</th>\n",
       "      <th>age</th>\n",
       "      <th>class</th>\n",
       "    </tr>\n",
       "  </thead>\n",
       "  <tbody>\n",
       "    <tr>\n",
       "      <th>0</th>\n",
       "      <td>6</td>\n",
       "      <td>148</td>\n",
       "      <td>72</td>\n",
       "      <td>35</td>\n",
       "      <td>0</td>\n",
       "      <td>33.6</td>\n",
       "      <td>0.627</td>\n",
       "      <td>50</td>\n",
       "      <td>tested_positive</td>\n",
       "    </tr>\n",
       "    <tr>\n",
       "      <th>1</th>\n",
       "      <td>1</td>\n",
       "      <td>85</td>\n",
       "      <td>66</td>\n",
       "      <td>29</td>\n",
       "      <td>0</td>\n",
       "      <td>26.6</td>\n",
       "      <td>0.351</td>\n",
       "      <td>31</td>\n",
       "      <td>tested_negative</td>\n",
       "    </tr>\n",
       "    <tr>\n",
       "      <th>2</th>\n",
       "      <td>8</td>\n",
       "      <td>183</td>\n",
       "      <td>64</td>\n",
       "      <td>0</td>\n",
       "      <td>0</td>\n",
       "      <td>23.3</td>\n",
       "      <td>0.672</td>\n",
       "      <td>32</td>\n",
       "      <td>tested_positive</td>\n",
       "    </tr>\n",
       "    <tr>\n",
       "      <th>3</th>\n",
       "      <td>1</td>\n",
       "      <td>89</td>\n",
       "      <td>66</td>\n",
       "      <td>23</td>\n",
       "      <td>94</td>\n",
       "      <td>28.1</td>\n",
       "      <td>0.167</td>\n",
       "      <td>21</td>\n",
       "      <td>tested_negative</td>\n",
       "    </tr>\n",
       "    <tr>\n",
       "      <th>4</th>\n",
       "      <td>0</td>\n",
       "      <td>137</td>\n",
       "      <td>40</td>\n",
       "      <td>35</td>\n",
       "      <td>168</td>\n",
       "      <td>43.1</td>\n",
       "      <td>2.288</td>\n",
       "      <td>33</td>\n",
       "      <td>tested_positive</td>\n",
       "    </tr>\n",
       "  </tbody>\n",
       "</table>\n",
       "</div>"
      ],
      "text/plain": [
       "   preg  plas  pres  skin  insu  mass   pedi  age            class\n",
       "0     6   148    72    35     0  33.6  0.627   50  tested_positive\n",
       "1     1    85    66    29     0  26.6  0.351   31  tested_negative\n",
       "2     8   183    64     0     0  23.3  0.672   32  tested_positive\n",
       "3     1    89    66    23    94  28.1  0.167   21  tested_negative\n",
       "4     0   137    40    35   168  43.1  2.288   33  tested_positive"
      ]
     },
     "execution_count": 4,
     "metadata": {
      "tags": []
     },
     "output_type": "execute_result"
    }
   ],
   "source": [
    "df_diabetes.head()"
   ]
  },
  {
   "cell_type": "markdown",
   "metadata": {
    "id": "G1S7n2XADvC-"
   },
   "source": [
    "# Treino, Teste e Validação"
   ]
  },
  {
   "cell_type": "markdown",
   "metadata": {
    "id": "EIOQoPwmDvC-"
   },
   "source": [
    "Primeiramente, teste a estratégia de dividir em treino, teste e validação. Ou seja, teremos 3 datasets. Siga o passo a passo abaixo."
   ]
  },
  {
   "cell_type": "markdown",
   "metadata": {
    "id": "G0S3WBXrDvC-"
   },
   "source": [
    "1. Defina um Pipeline com Knn e MinMaxScaler. Defina também a validação StratifiedKFold\n",
    "2. Divida o X em X_train, X_test e X_val. Sugestão de percentuais: 70, 15, 15\n",
    "3. Crie a grid de parâmetros para o grid search (varie métrica de distância, número de vizinhos e pesos de votação)\n",
    "4. Crie a grid de parâmetros para o random search (varie métrica de distância, número de vizinhos e pesos de votação). Use 50 iterações\n",
    "5. Execute um loop para o grid search\n",
    "6. Execute um loop para o random search\n",
    "7. Avalie a performance e os conjuntos de hiperparametros associados (lembre-se de que o objetivo é pegar o conjunto, cujo erro de validação é o menor)"
   ]
  },
  {
   "cell_type": "markdown",
   "metadata": {
    "id": "l4J2bJ1LDvC_"
   },
   "source": [
    "Dica: Divida primeiro em X_train e X_test e depois use o X_train para dividr em X_train e X_Val.\n",
    "Lembre de printar os parâmetros escolhidos e o score. Use sempre 'neg_log_loss' como métrica.m"
   ]
  },
  {
   "cell_type": "code",
   "execution_count": null,
   "metadata": {
    "id": "CfvDJuMU6sNZ"
   },
   "outputs": [],
   "source": [
    "# Pipeline \n",
    "knn = Pipeline(steps=[('pre_processing', MinMaxScaler()), ('model', KNeighborsClassifier())])"
   ]
  },
  {
   "cell_type": "code",
   "execution_count": null,
   "metadata": {
    "id": "1FlQK1ydDvC_"
   },
   "outputs": [],
   "source": [
    "# Divisão em X_train, X_test, X_val\n",
    "df_train, df_test = train_test_split(df_diabetes, stratify=df_diabetes['class'], test_size=0.15, random_state=123)"
   ]
  },
  {
   "cell_type": "code",
   "execution_count": null,
   "metadata": {
    "id": "VAiWFYfS6sNc"
   },
   "outputs": [],
   "source": [
    "n_rows_validation = int(0.15*df_diabetes.shape[0])\n",
    "percent_validation = round((n_rows_validation/df_train.shape[0]), 2)"
   ]
  },
  {
   "cell_type": "code",
   "execution_count": null,
   "metadata": {
    "id": "9wYpGs3Y6sNd"
   },
   "outputs": [],
   "source": [
    "df_train, df_validation = train_test_split(df_train, stratify=df_train['class'], test_size=percent_validation, random_state=123)"
   ]
  },
  {
   "cell_type": "code",
   "execution_count": null,
   "metadata": {
    "id": "xhUZhXsmDvDA"
   },
   "outputs": [],
   "source": [
    "# Definição da grid para o grid search\n",
    "param_grid_search = {'model__metric':['manhattan','euclidean'],\n",
    "                     'model__n_neighbors':list(range(1,52,2)),\n",
    "                     'model__weights':['uniform','distance']}"
   ]
  },
  {
   "cell_type": "code",
   "execution_count": null,
   "metadata": {
    "id": "K3t-7_5UDvDA"
   },
   "outputs": [],
   "source": [
    "# Definição da grid para o random search\n",
    "param_random_search = {'model__metric':['manhattan', 'euclidean'],\n",
    "                       'model__n_neighbors': randint(1,51),\n",
    "                       'model__weights':['uniform','distance']}"
   ]
  },
  {
   "cell_type": "code",
   "execution_count": null,
   "metadata": {
    "id": "Gi8VACRe6sNh"
   },
   "outputs": [],
   "source": [
    "X_train, y_train = df_train.drop('class', axis=1), df_train['class']\n",
    "X_test, y_test = df_test.drop('class', axis=1), df_test['class']\n",
    "X_validation, y_validation = df_validation.drop('class', axis=1), df_validation['class']"
   ]
  },
  {
   "cell_type": "code",
   "execution_count": null,
   "metadata": {
    "id": "6YPVZZWQDvDA"
   },
   "outputs": [],
   "source": [
    "# Loop grid search\n",
    "validation_score_grid_search = []\n",
    "train_score_grid_search = []\n",
    "list_grid_search_params = list(ParameterGrid(param_grid_search))\n",
    "\n",
    "for combinacao in list_grid_search_params:\n",
    "    knn.set_params(**combinacao)\n",
    "    knn.fit(X_train, y_train)\n",
    "    y_validation_predict = knn.predict_proba(X_validation)\n",
    "    y_train_predict = knn.predict_proba(X_train)\n",
    "    validation_score_grid_search.append(log_loss(y_validation, y_validation_predict))\n",
    "    train_score_grid_search.append(log_loss(y_train, y_train_predict))"
   ]
  },
  {
   "cell_type": "code",
   "execution_count": null,
   "metadata": {
    "colab": {
     "base_uri": "https://localhost:8080/"
    },
    "executionInfo": {
     "elapsed": 1054,
     "status": "ok",
     "timestamp": 1624487876753,
     "user": {
      "displayName": "Abner Cardoso Rodrigues Neto",
      "photoUrl": "",
      "userId": "17964229224599879007"
     },
     "user_tz": 180
    },
    "id": "SlN9pVQkBctI",
    "outputId": "0f96488d-f091-4cd4-c681-22725aea9dd5"
   },
   "outputs": [
    {
     "data": {
      "text/plain": [
       "[{'model__metric': 'manhattan',\n",
       "  'model__n_neighbors': 1,\n",
       "  'model__weights': 'uniform'},\n",
       " {'model__metric': 'manhattan',\n",
       "  'model__n_neighbors': 1,\n",
       "  'model__weights': 'distance'},\n",
       " {'model__metric': 'manhattan',\n",
       "  'model__n_neighbors': 3,\n",
       "  'model__weights': 'uniform'},\n",
       " {'model__metric': 'manhattan',\n",
       "  'model__n_neighbors': 3,\n",
       "  'model__weights': 'distance'},\n",
       " {'model__metric': 'manhattan',\n",
       "  'model__n_neighbors': 5,\n",
       "  'model__weights': 'uniform'},\n",
       " {'model__metric': 'manhattan',\n",
       "  'model__n_neighbors': 5,\n",
       "  'model__weights': 'distance'},\n",
       " {'model__metric': 'manhattan',\n",
       "  'model__n_neighbors': 7,\n",
       "  'model__weights': 'uniform'},\n",
       " {'model__metric': 'manhattan',\n",
       "  'model__n_neighbors': 7,\n",
       "  'model__weights': 'distance'},\n",
       " {'model__metric': 'manhattan',\n",
       "  'model__n_neighbors': 9,\n",
       "  'model__weights': 'uniform'},\n",
       " {'model__metric': 'manhattan',\n",
       "  'model__n_neighbors': 9,\n",
       "  'model__weights': 'distance'},\n",
       " {'model__metric': 'manhattan',\n",
       "  'model__n_neighbors': 11,\n",
       "  'model__weights': 'uniform'},\n",
       " {'model__metric': 'manhattan',\n",
       "  'model__n_neighbors': 11,\n",
       "  'model__weights': 'distance'},\n",
       " {'model__metric': 'manhattan',\n",
       "  'model__n_neighbors': 13,\n",
       "  'model__weights': 'uniform'},\n",
       " {'model__metric': 'manhattan',\n",
       "  'model__n_neighbors': 13,\n",
       "  'model__weights': 'distance'},\n",
       " {'model__metric': 'manhattan',\n",
       "  'model__n_neighbors': 15,\n",
       "  'model__weights': 'uniform'},\n",
       " {'model__metric': 'manhattan',\n",
       "  'model__n_neighbors': 15,\n",
       "  'model__weights': 'distance'},\n",
       " {'model__metric': 'manhattan',\n",
       "  'model__n_neighbors': 17,\n",
       "  'model__weights': 'uniform'},\n",
       " {'model__metric': 'manhattan',\n",
       "  'model__n_neighbors': 17,\n",
       "  'model__weights': 'distance'},\n",
       " {'model__metric': 'manhattan',\n",
       "  'model__n_neighbors': 19,\n",
       "  'model__weights': 'uniform'},\n",
       " {'model__metric': 'manhattan',\n",
       "  'model__n_neighbors': 19,\n",
       "  'model__weights': 'distance'},\n",
       " {'model__metric': 'manhattan',\n",
       "  'model__n_neighbors': 21,\n",
       "  'model__weights': 'uniform'},\n",
       " {'model__metric': 'manhattan',\n",
       "  'model__n_neighbors': 21,\n",
       "  'model__weights': 'distance'},\n",
       " {'model__metric': 'manhattan',\n",
       "  'model__n_neighbors': 23,\n",
       "  'model__weights': 'uniform'},\n",
       " {'model__metric': 'manhattan',\n",
       "  'model__n_neighbors': 23,\n",
       "  'model__weights': 'distance'},\n",
       " {'model__metric': 'manhattan',\n",
       "  'model__n_neighbors': 25,\n",
       "  'model__weights': 'uniform'},\n",
       " {'model__metric': 'manhattan',\n",
       "  'model__n_neighbors': 25,\n",
       "  'model__weights': 'distance'},\n",
       " {'model__metric': 'manhattan',\n",
       "  'model__n_neighbors': 27,\n",
       "  'model__weights': 'uniform'},\n",
       " {'model__metric': 'manhattan',\n",
       "  'model__n_neighbors': 27,\n",
       "  'model__weights': 'distance'},\n",
       " {'model__metric': 'manhattan',\n",
       "  'model__n_neighbors': 29,\n",
       "  'model__weights': 'uniform'},\n",
       " {'model__metric': 'manhattan',\n",
       "  'model__n_neighbors': 29,\n",
       "  'model__weights': 'distance'},\n",
       " {'model__metric': 'manhattan',\n",
       "  'model__n_neighbors': 31,\n",
       "  'model__weights': 'uniform'},\n",
       " {'model__metric': 'manhattan',\n",
       "  'model__n_neighbors': 31,\n",
       "  'model__weights': 'distance'},\n",
       " {'model__metric': 'manhattan',\n",
       "  'model__n_neighbors': 33,\n",
       "  'model__weights': 'uniform'},\n",
       " {'model__metric': 'manhattan',\n",
       "  'model__n_neighbors': 33,\n",
       "  'model__weights': 'distance'},\n",
       " {'model__metric': 'manhattan',\n",
       "  'model__n_neighbors': 35,\n",
       "  'model__weights': 'uniform'},\n",
       " {'model__metric': 'manhattan',\n",
       "  'model__n_neighbors': 35,\n",
       "  'model__weights': 'distance'},\n",
       " {'model__metric': 'manhattan',\n",
       "  'model__n_neighbors': 37,\n",
       "  'model__weights': 'uniform'},\n",
       " {'model__metric': 'manhattan',\n",
       "  'model__n_neighbors': 37,\n",
       "  'model__weights': 'distance'},\n",
       " {'model__metric': 'manhattan',\n",
       "  'model__n_neighbors': 39,\n",
       "  'model__weights': 'uniform'},\n",
       " {'model__metric': 'manhattan',\n",
       "  'model__n_neighbors': 39,\n",
       "  'model__weights': 'distance'},\n",
       " {'model__metric': 'manhattan',\n",
       "  'model__n_neighbors': 41,\n",
       "  'model__weights': 'uniform'},\n",
       " {'model__metric': 'manhattan',\n",
       "  'model__n_neighbors': 41,\n",
       "  'model__weights': 'distance'},\n",
       " {'model__metric': 'manhattan',\n",
       "  'model__n_neighbors': 43,\n",
       "  'model__weights': 'uniform'},\n",
       " {'model__metric': 'manhattan',\n",
       "  'model__n_neighbors': 43,\n",
       "  'model__weights': 'distance'},\n",
       " {'model__metric': 'manhattan',\n",
       "  'model__n_neighbors': 45,\n",
       "  'model__weights': 'uniform'},\n",
       " {'model__metric': 'manhattan',\n",
       "  'model__n_neighbors': 45,\n",
       "  'model__weights': 'distance'},\n",
       " {'model__metric': 'manhattan',\n",
       "  'model__n_neighbors': 47,\n",
       "  'model__weights': 'uniform'},\n",
       " {'model__metric': 'manhattan',\n",
       "  'model__n_neighbors': 47,\n",
       "  'model__weights': 'distance'},\n",
       " {'model__metric': 'manhattan',\n",
       "  'model__n_neighbors': 49,\n",
       "  'model__weights': 'uniform'},\n",
       " {'model__metric': 'manhattan',\n",
       "  'model__n_neighbors': 49,\n",
       "  'model__weights': 'distance'},\n",
       " {'model__metric': 'manhattan',\n",
       "  'model__n_neighbors': 51,\n",
       "  'model__weights': 'uniform'},\n",
       " {'model__metric': 'manhattan',\n",
       "  'model__n_neighbors': 51,\n",
       "  'model__weights': 'distance'},\n",
       " {'model__metric': 'euclidean',\n",
       "  'model__n_neighbors': 1,\n",
       "  'model__weights': 'uniform'},\n",
       " {'model__metric': 'euclidean',\n",
       "  'model__n_neighbors': 1,\n",
       "  'model__weights': 'distance'},\n",
       " {'model__metric': 'euclidean',\n",
       "  'model__n_neighbors': 3,\n",
       "  'model__weights': 'uniform'},\n",
       " {'model__metric': 'euclidean',\n",
       "  'model__n_neighbors': 3,\n",
       "  'model__weights': 'distance'},\n",
       " {'model__metric': 'euclidean',\n",
       "  'model__n_neighbors': 5,\n",
       "  'model__weights': 'uniform'},\n",
       " {'model__metric': 'euclidean',\n",
       "  'model__n_neighbors': 5,\n",
       "  'model__weights': 'distance'},\n",
       " {'model__metric': 'euclidean',\n",
       "  'model__n_neighbors': 7,\n",
       "  'model__weights': 'uniform'},\n",
       " {'model__metric': 'euclidean',\n",
       "  'model__n_neighbors': 7,\n",
       "  'model__weights': 'distance'},\n",
       " {'model__metric': 'euclidean',\n",
       "  'model__n_neighbors': 9,\n",
       "  'model__weights': 'uniform'},\n",
       " {'model__metric': 'euclidean',\n",
       "  'model__n_neighbors': 9,\n",
       "  'model__weights': 'distance'},\n",
       " {'model__metric': 'euclidean',\n",
       "  'model__n_neighbors': 11,\n",
       "  'model__weights': 'uniform'},\n",
       " {'model__metric': 'euclidean',\n",
       "  'model__n_neighbors': 11,\n",
       "  'model__weights': 'distance'},\n",
       " {'model__metric': 'euclidean',\n",
       "  'model__n_neighbors': 13,\n",
       "  'model__weights': 'uniform'},\n",
       " {'model__metric': 'euclidean',\n",
       "  'model__n_neighbors': 13,\n",
       "  'model__weights': 'distance'},\n",
       " {'model__metric': 'euclidean',\n",
       "  'model__n_neighbors': 15,\n",
       "  'model__weights': 'uniform'},\n",
       " {'model__metric': 'euclidean',\n",
       "  'model__n_neighbors': 15,\n",
       "  'model__weights': 'distance'},\n",
       " {'model__metric': 'euclidean',\n",
       "  'model__n_neighbors': 17,\n",
       "  'model__weights': 'uniform'},\n",
       " {'model__metric': 'euclidean',\n",
       "  'model__n_neighbors': 17,\n",
       "  'model__weights': 'distance'},\n",
       " {'model__metric': 'euclidean',\n",
       "  'model__n_neighbors': 19,\n",
       "  'model__weights': 'uniform'},\n",
       " {'model__metric': 'euclidean',\n",
       "  'model__n_neighbors': 19,\n",
       "  'model__weights': 'distance'},\n",
       " {'model__metric': 'euclidean',\n",
       "  'model__n_neighbors': 21,\n",
       "  'model__weights': 'uniform'},\n",
       " {'model__metric': 'euclidean',\n",
       "  'model__n_neighbors': 21,\n",
       "  'model__weights': 'distance'},\n",
       " {'model__metric': 'euclidean',\n",
       "  'model__n_neighbors': 23,\n",
       "  'model__weights': 'uniform'},\n",
       " {'model__metric': 'euclidean',\n",
       "  'model__n_neighbors': 23,\n",
       "  'model__weights': 'distance'},\n",
       " {'model__metric': 'euclidean',\n",
       "  'model__n_neighbors': 25,\n",
       "  'model__weights': 'uniform'},\n",
       " {'model__metric': 'euclidean',\n",
       "  'model__n_neighbors': 25,\n",
       "  'model__weights': 'distance'},\n",
       " {'model__metric': 'euclidean',\n",
       "  'model__n_neighbors': 27,\n",
       "  'model__weights': 'uniform'},\n",
       " {'model__metric': 'euclidean',\n",
       "  'model__n_neighbors': 27,\n",
       "  'model__weights': 'distance'},\n",
       " {'model__metric': 'euclidean',\n",
       "  'model__n_neighbors': 29,\n",
       "  'model__weights': 'uniform'},\n",
       " {'model__metric': 'euclidean',\n",
       "  'model__n_neighbors': 29,\n",
       "  'model__weights': 'distance'},\n",
       " {'model__metric': 'euclidean',\n",
       "  'model__n_neighbors': 31,\n",
       "  'model__weights': 'uniform'},\n",
       " {'model__metric': 'euclidean',\n",
       "  'model__n_neighbors': 31,\n",
       "  'model__weights': 'distance'},\n",
       " {'model__metric': 'euclidean',\n",
       "  'model__n_neighbors': 33,\n",
       "  'model__weights': 'uniform'},\n",
       " {'model__metric': 'euclidean',\n",
       "  'model__n_neighbors': 33,\n",
       "  'model__weights': 'distance'},\n",
       " {'model__metric': 'euclidean',\n",
       "  'model__n_neighbors': 35,\n",
       "  'model__weights': 'uniform'},\n",
       " {'model__metric': 'euclidean',\n",
       "  'model__n_neighbors': 35,\n",
       "  'model__weights': 'distance'},\n",
       " {'model__metric': 'euclidean',\n",
       "  'model__n_neighbors': 37,\n",
       "  'model__weights': 'uniform'},\n",
       " {'model__metric': 'euclidean',\n",
       "  'model__n_neighbors': 37,\n",
       "  'model__weights': 'distance'},\n",
       " {'model__metric': 'euclidean',\n",
       "  'model__n_neighbors': 39,\n",
       "  'model__weights': 'uniform'},\n",
       " {'model__metric': 'euclidean',\n",
       "  'model__n_neighbors': 39,\n",
       "  'model__weights': 'distance'},\n",
       " {'model__metric': 'euclidean',\n",
       "  'model__n_neighbors': 41,\n",
       "  'model__weights': 'uniform'},\n",
       " {'model__metric': 'euclidean',\n",
       "  'model__n_neighbors': 41,\n",
       "  'model__weights': 'distance'},\n",
       " {'model__metric': 'euclidean',\n",
       "  'model__n_neighbors': 43,\n",
       "  'model__weights': 'uniform'},\n",
       " {'model__metric': 'euclidean',\n",
       "  'model__n_neighbors': 43,\n",
       "  'model__weights': 'distance'},\n",
       " {'model__metric': 'euclidean',\n",
       "  'model__n_neighbors': 45,\n",
       "  'model__weights': 'uniform'},\n",
       " {'model__metric': 'euclidean',\n",
       "  'model__n_neighbors': 45,\n",
       "  'model__weights': 'distance'},\n",
       " {'model__metric': 'euclidean',\n",
       "  'model__n_neighbors': 47,\n",
       "  'model__weights': 'uniform'},\n",
       " {'model__metric': 'euclidean',\n",
       "  'model__n_neighbors': 47,\n",
       "  'model__weights': 'distance'},\n",
       " {'model__metric': 'euclidean',\n",
       "  'model__n_neighbors': 49,\n",
       "  'model__weights': 'uniform'},\n",
       " {'model__metric': 'euclidean',\n",
       "  'model__n_neighbors': 49,\n",
       "  'model__weights': 'distance'},\n",
       " {'model__metric': 'euclidean',\n",
       "  'model__n_neighbors': 51,\n",
       "  'model__weights': 'uniform'},\n",
       " {'model__metric': 'euclidean',\n",
       "  'model__n_neighbors': 51,\n",
       "  'model__weights': 'distance'}]"
      ]
     },
     "execution_count": 15,
     "metadata": {
      "tags": []
     },
     "output_type": "execute_result"
    }
   ],
   "source": [
    "list_grid_search_params"
   ]
  },
  {
   "cell_type": "code",
   "execution_count": null,
   "metadata": {
    "colab": {
     "base_uri": "https://localhost:8080/"
    },
    "executionInfo": {
     "elapsed": 6,
     "status": "ok",
     "timestamp": 1624487752397,
     "user": {
      "displayName": "Abner Cardoso Rodrigues Neto",
      "photoUrl": "",
      "userId": "17964229224599879007"
     },
     "user_tz": 180
    },
    "id": "U7RMWyVE6sNi",
    "outputId": "c8ff900c-0278-40f8-81c1-fc66af250a5c"
   },
   "outputs": [
    {
     "data": {
      "text/plain": [
       "0.4842443612174514"
      ]
     },
     "execution_count": 13,
     "metadata": {
      "tags": []
     },
     "output_type": "execute_result"
    }
   ],
   "source": [
    "np.min(validation_score_grid_search)"
   ]
  },
  {
   "cell_type": "code",
   "execution_count": null,
   "metadata": {
    "colab": {
     "base_uri": "https://localhost:8080/"
    },
    "executionInfo": {
     "elapsed": 403,
     "status": "ok",
     "timestamp": 1624487757226,
     "user": {
      "displayName": "Abner Cardoso Rodrigues Neto",
      "photoUrl": "",
      "userId": "17964229224599879007"
     },
     "user_tz": 180
    },
    "id": "FmajPlUo6sNn",
    "outputId": "a6d7c1a5-3840-4292-cada-92a0cc317210"
   },
   "outputs": [
    {
     "data": {
      "text/plain": [
       "79"
      ]
     },
     "execution_count": 14,
     "metadata": {
      "tags": []
     },
     "output_type": "execute_result"
    }
   ],
   "source": [
    "np.argmin(validation_score_grid_search)"
   ]
  },
  {
   "cell_type": "code",
   "execution_count": null,
   "metadata": {
    "id": "ze3CTM3X6sNo"
   },
   "outputs": [],
   "source": [
    "best_grid_search_params = list_grid_search_params[np.argmin(validation_score_grid_search)]"
   ]
  },
  {
   "cell_type": "code",
   "execution_count": null,
   "metadata": {
    "colab": {
     "base_uri": "https://localhost:8080/"
    },
    "executionInfo": {
     "elapsed": 14,
     "status": "ok",
     "timestamp": 1624488394998,
     "user": {
      "displayName": "Abner Cardoso Rodrigues Neto",
      "photoUrl": "",
      "userId": "17964229224599879007"
     },
     "user_tz": 180
    },
    "id": "G2T2bvFa6sNo",
    "outputId": "eeadb1b7-a434-4a37-a89f-723bac6493f7"
   },
   "outputs": [
    {
     "data": {
      "text/plain": [
       "Pipeline(memory=None,\n",
       "         steps=[('pre_processing',\n",
       "                 MinMaxScaler(copy=True, feature_range=(0, 1))),\n",
       "                ('model',\n",
       "                 KNeighborsClassifier(algorithm='auto', leaf_size=30,\n",
       "                                      metric='euclidean', metric_params=None,\n",
       "                                      n_jobs=None, n_neighbors=27, p=2,\n",
       "                                      weights='distance'))],\n",
       "         verbose=False)"
      ]
     },
     "execution_count": 17,
     "metadata": {
      "tags": []
     },
     "output_type": "execute_result"
    }
   ],
   "source": [
    "knn_grid_search = knn.set_params(**best_grid_search_params)\n",
    "knn_grid_search.fit(X_train, y_train)\n"
   ]
  },
  {
   "cell_type": "code",
   "execution_count": null,
   "metadata": {
    "colab": {
     "base_uri": "https://localhost:8080/"
    },
    "executionInfo": {
     "elapsed": 10,
     "status": "ok",
     "timestamp": 1624488395000,
     "user": {
      "displayName": "Abner Cardoso Rodrigues Neto",
      "photoUrl": "",
      "userId": "17964229224599879007"
     },
     "user_tz": 180
    },
    "id": "93l1lvf96sNq",
    "outputId": "15e3d13b-ef80-4566-9d90-4d4ccdeeccc1"
   },
   "outputs": [
    {
     "name": "stdout",
     "output_type": "stream",
     "text": [
      "Performance no treino: 9.992007221626413e-16\n"
     ]
    }
   ],
   "source": [
    "print(f'Performance no treino: {log_loss(y_train, knn_grid_search.predict_proba(X_train))}')"
   ]
  },
  {
   "cell_type": "code",
   "execution_count": null,
   "metadata": {
    "colab": {
     "base_uri": "https://localhost:8080/"
    },
    "executionInfo": {
     "elapsed": 5,
     "status": "ok",
     "timestamp": 1624488396398,
     "user": {
      "displayName": "Abner Cardoso Rodrigues Neto",
      "photoUrl": "",
      "userId": "17964229224599879007"
     },
     "user_tz": 180
    },
    "id": "AVU-yhzL6sNr",
    "outputId": "f9ee6470-2a85-4162-87d2-dbe2c9ffe126"
   },
   "outputs": [
    {
     "name": "stdout",
     "output_type": "stream",
     "text": [
      "Performance no test: 0.4617165016364378\n"
     ]
    }
   ],
   "source": [
    "print(f'Performance no test: {log_loss(y_test, knn_grid_search.predict_proba(X_test))}')"
   ]
  },
  {
   "cell_type": "code",
   "execution_count": null,
   "metadata": {
    "id": "iV95WmkE6sNr"
   },
   "outputs": [],
   "source": [
    "df_metrics_grid_search = pd.DataFrame({'params':list_grid_search_params, 'train_score':train_score_grid_search, 'validation_score':validation_score_grid_search})"
   ]
  },
  {
   "cell_type": "code",
   "execution_count": null,
   "metadata": {
    "id": "u78uwbyo6sNt"
   },
   "outputs": [],
   "source": [
    "df_metrics_grid_search.sort_values(by='validation_score', inplace=True)"
   ]
  },
  {
   "cell_type": "code",
   "execution_count": null,
   "metadata": {
    "colab": {
     "base_uri": "https://localhost:8080/",
     "height": 423
    },
    "executionInfo": {
     "elapsed": 504,
     "status": "ok",
     "timestamp": 1624488407219,
     "user": {
      "displayName": "Abner Cardoso Rodrigues Neto",
      "photoUrl": "",
      "userId": "17964229224599879007"
     },
     "user_tz": 180
    },
    "id": "tEusGytc6sNt",
    "outputId": "d4318c93-c410-4dc8-bb03-a72c6e0171d7"
   },
   "outputs": [
    {
     "data": {
      "text/html": [
       "<div>\n",
       "<style scoped>\n",
       "    .dataframe tbody tr th:only-of-type {\n",
       "        vertical-align: middle;\n",
       "    }\n",
       "\n",
       "    .dataframe tbody tr th {\n",
       "        vertical-align: top;\n",
       "    }\n",
       "\n",
       "    .dataframe thead th {\n",
       "        text-align: right;\n",
       "    }\n",
       "</style>\n",
       "<table border=\"1\" class=\"dataframe\">\n",
       "  <thead>\n",
       "    <tr style=\"text-align: right;\">\n",
       "      <th></th>\n",
       "      <th>params</th>\n",
       "      <th>train_score</th>\n",
       "      <th>validation_score</th>\n",
       "    </tr>\n",
       "  </thead>\n",
       "  <tbody>\n",
       "    <tr>\n",
       "      <th>79</th>\n",
       "      <td>{'model__metric': 'euclidean', 'model__n_neigh...</td>\n",
       "      <td>9.992007e-16</td>\n",
       "      <td>0.484244</td>\n",
       "    </tr>\n",
       "    <tr>\n",
       "      <th>77</th>\n",
       "      <td>{'model__metric': 'euclidean', 'model__n_neigh...</td>\n",
       "      <td>9.992007e-16</td>\n",
       "      <td>0.484616</td>\n",
       "    </tr>\n",
       "    <tr>\n",
       "      <th>76</th>\n",
       "      <td>{'model__metric': 'euclidean', 'model__n_neigh...</td>\n",
       "      <td>4.795928e-01</td>\n",
       "      <td>0.484912</td>\n",
       "    </tr>\n",
       "    <tr>\n",
       "      <th>78</th>\n",
       "      <td>{'model__metric': 'euclidean', 'model__n_neigh...</td>\n",
       "      <td>4.804441e-01</td>\n",
       "      <td>0.485690</td>\n",
       "    </tr>\n",
       "    <tr>\n",
       "      <th>75</th>\n",
       "      <td>{'model__metric': 'euclidean', 'model__n_neigh...</td>\n",
       "      <td>9.992007e-16</td>\n",
       "      <td>0.487739</td>\n",
       "    </tr>\n",
       "    <tr>\n",
       "      <th>...</th>\n",
       "      <td>...</td>\n",
       "      <td>...</td>\n",
       "      <td>...</td>\n",
       "    </tr>\n",
       "    <tr>\n",
       "      <th>3</th>\n",
       "      <td>{'model__metric': 'manhattan', 'model__n_neigh...</td>\n",
       "      <td>9.992007e-16</td>\n",
       "      <td>4.693654</td>\n",
       "    </tr>\n",
       "    <tr>\n",
       "      <th>53</th>\n",
       "      <td>{'model__metric': 'euclidean', 'model__n_neigh...</td>\n",
       "      <td>9.992007e-16</td>\n",
       "      <td>10.537254</td>\n",
       "    </tr>\n",
       "    <tr>\n",
       "      <th>52</th>\n",
       "      <td>{'model__metric': 'euclidean', 'model__n_neigh...</td>\n",
       "      <td>9.992007e-16</td>\n",
       "      <td>10.537254</td>\n",
       "    </tr>\n",
       "    <tr>\n",
       "      <th>1</th>\n",
       "      <td>{'model__metric': 'manhattan', 'model__n_neigh...</td>\n",
       "      <td>9.992007e-16</td>\n",
       "      <td>11.415358</td>\n",
       "    </tr>\n",
       "    <tr>\n",
       "      <th>0</th>\n",
       "      <td>{'model__metric': 'manhattan', 'model__n_neigh...</td>\n",
       "      <td>9.992007e-16</td>\n",
       "      <td>11.415358</td>\n",
       "    </tr>\n",
       "  </tbody>\n",
       "</table>\n",
       "<p>104 rows × 3 columns</p>\n",
       "</div>"
      ],
      "text/plain": [
       "                                               params  ...  validation_score\n",
       "79  {'model__metric': 'euclidean', 'model__n_neigh...  ...          0.484244\n",
       "77  {'model__metric': 'euclidean', 'model__n_neigh...  ...          0.484616\n",
       "76  {'model__metric': 'euclidean', 'model__n_neigh...  ...          0.484912\n",
       "78  {'model__metric': 'euclidean', 'model__n_neigh...  ...          0.485690\n",
       "75  {'model__metric': 'euclidean', 'model__n_neigh...  ...          0.487739\n",
       "..                                                ...  ...               ...\n",
       "3   {'model__metric': 'manhattan', 'model__n_neigh...  ...          4.693654\n",
       "53  {'model__metric': 'euclidean', 'model__n_neigh...  ...         10.537254\n",
       "52  {'model__metric': 'euclidean', 'model__n_neigh...  ...         10.537254\n",
       "1   {'model__metric': 'manhattan', 'model__n_neigh...  ...         11.415358\n",
       "0   {'model__metric': 'manhattan', 'model__n_neigh...  ...         11.415358\n",
       "\n",
       "[104 rows x 3 columns]"
      ]
     },
     "execution_count": 23,
     "metadata": {
      "tags": []
     },
     "output_type": "execute_result"
    }
   ],
   "source": [
    "df_metrics_grid_search"
   ]
  },
  {
   "cell_type": "code",
   "execution_count": null,
   "metadata": {
    "id": "f8g760vB6sNu",
    "outputId": "a6f3bad3-1811-4569-ab5f-39a2de15caa8"
   },
   "outputs": [
    {
     "data": {
      "text/plain": [
       "104"
      ]
     },
     "execution_count": 33,
     "metadata": {
      "tags": []
     },
     "output_type": "execute_result"
    }
   ],
   "source": [
    "len(list_grid_search_params)"
   ]
  },
  {
   "cell_type": "code",
   "execution_count": null,
   "metadata": {
    "id": "poZZvPkFDvDA"
   },
   "outputs": [],
   "source": [
    "# Loop Random Search\n",
    "validation_score_random_search = []\n",
    "train_score_random_search = []\n",
    "list_random_search_params = list(ParameterSampler(param_random_search, n_iter=50, random_state=123))\n",
    "\n",
    "for combinacao in list_random_search_params:\n",
    "    knn.set_params(**combinacao)\n",
    "    knn.fit(X_train, y_train)\n",
    "    y_validation_predict = knn.predict_proba(X_validation)\n",
    "    y_train_predict = knn.predict_proba(X_train)\n",
    "    validation_score_random_search.append(log_loss(y_validation, y_validation_predict))\n",
    "    train_score_random_search.append(log_loss(y_train, y_train_predict))"
   ]
  },
  {
   "cell_type": "code",
   "execution_count": null,
   "metadata": {
    "colab": {
     "base_uri": "https://localhost:8080/"
    },
    "executionInfo": {
     "elapsed": 22,
     "status": "ok",
     "timestamp": 1624488499865,
     "user": {
      "displayName": "Abner Cardoso Rodrigues Neto",
      "photoUrl": "",
      "userId": "17964229224599879007"
     },
     "user_tz": 180
    },
    "id": "Ek0kXjE5DvDB",
    "outputId": "85d3e68c-35c4-4510-d497-b496aa10c5a0",
    "scrolled": true
   },
   "outputs": [
    {
     "data": {
      "text/plain": [
       "0.48330469099035106"
      ]
     },
     "execution_count": 25,
     "metadata": {
      "tags": []
     },
     "output_type": "execute_result"
    }
   ],
   "source": [
    "# Avalie os melhores parametros\n",
    "np.min(validation_score_random_search)"
   ]
  },
  {
   "cell_type": "code",
   "execution_count": null,
   "metadata": {
    "colab": {
     "base_uri": "https://localhost:8080/"
    },
    "executionInfo": {
     "elapsed": 17,
     "status": "ok",
     "timestamp": 1624488499867,
     "user": {
      "displayName": "Abner Cardoso Rodrigues Neto",
      "photoUrl": "",
      "userId": "17964229224599879007"
     },
     "user_tz": 180
    },
    "id": "YQAZDLZS6sNx",
    "outputId": "3a91ccbe-25de-4a21-d1bb-279322df3086"
   },
   "outputs": [
    {
     "data": {
      "text/plain": [
       "0.4842443612174514"
      ]
     },
     "execution_count": 26,
     "metadata": {
      "tags": []
     },
     "output_type": "execute_result"
    }
   ],
   "source": [
    "np.min(validation_score_grid_search)"
   ]
  },
  {
   "cell_type": "code",
   "execution_count": null,
   "metadata": {
    "colab": {
     "base_uri": "https://localhost:8080/"
    },
    "executionInfo": {
     "elapsed": 7,
     "status": "ok",
     "timestamp": 1624488501200,
     "user": {
      "displayName": "Abner Cardoso Rodrigues Neto",
      "photoUrl": "",
      "userId": "17964229224599879007"
     },
     "user_tz": 180
    },
    "id": "N82FuUni6sNy",
    "outputId": "480f024b-8d85-4b72-f390-c6aeeb914d51"
   },
   "outputs": [
    {
     "name": "stdout",
     "output_type": "stream",
     "text": [
      "Performance no treino: 0.47970810348364473\n",
      "Performance no test: 0.4717777420818704\n"
     ]
    }
   ],
   "source": [
    "best_random_search_params = list_random_search_params[np.argmin(validation_score_random_search)]\n",
    "knn_random_search = knn.set_params(**best_random_search_params)\n",
    "knn_random_search.fit(X_train, y_train)\n",
    "print(f'Performance no treino: {log_loss(y_train, knn_random_search.predict_proba(X_train))}')\n",
    "print(f'Performance no test: {log_loss(y_test, knn_random_search.predict_proba(X_test))}')"
   ]
  },
  {
   "cell_type": "code",
   "execution_count": null,
   "metadata": {
    "colab": {
     "base_uri": "https://localhost:8080/"
    },
    "executionInfo": {
     "elapsed": 6,
     "status": "ok",
     "timestamp": 1624488501648,
     "user": {
      "displayName": "Abner Cardoso Rodrigues Neto",
      "photoUrl": "",
      "userId": "17964229224599879007"
     },
     "user_tz": 180
    },
    "id": "PN2hd7qL6sNz",
    "outputId": "0f953c8b-84d8-4d24-c7e0-70bbc3e72ef1"
   },
   "outputs": [
    {
     "data": {
      "text/plain": [
       "{'model__metric': 'euclidean',\n",
       " 'model__n_neighbors': 24,\n",
       " 'model__weights': 'uniform'}"
      ]
     },
     "execution_count": 28,
     "metadata": {
      "tags": []
     },
     "output_type": "execute_result"
    }
   ],
   "source": [
    "best_random_search_params"
   ]
  },
  {
   "cell_type": "code",
   "execution_count": null,
   "metadata": {
    "colab": {
     "base_uri": "https://localhost:8080/"
    },
    "executionInfo": {
     "elapsed": 10,
     "status": "ok",
     "timestamp": 1624488503932,
     "user": {
      "displayName": "Abner Cardoso Rodrigues Neto",
      "photoUrl": "",
      "userId": "17964229224599879007"
     },
     "user_tz": 180
    },
    "id": "_MmlQeKk6sN1",
    "outputId": "1b5aeecd-41f2-47fd-b709-e650eb25a105"
   },
   "outputs": [
    {
     "data": {
      "text/plain": [
       "Pipeline(memory=None,\n",
       "         steps=[('pre_processing',\n",
       "                 MinMaxScaler(copy=True, feature_range=(0, 1))),\n",
       "                ('model',\n",
       "                 KNeighborsClassifier(algorithm='auto', leaf_size=30,\n",
       "                                      metric='euclidean', metric_params=None,\n",
       "                                      n_jobs=None, n_neighbors=24, p=2,\n",
       "                                      weights='uniform'))],\n",
       "         verbose=False)"
      ]
     },
     "execution_count": 29,
     "metadata": {
      "tags": []
     },
     "output_type": "execute_result"
    }
   ],
   "source": [
    "knn_grid_search"
   ]
  },
  {
   "cell_type": "markdown",
   "metadata": {
    "id": "-EjpUIjYDvDB"
   },
   "source": [
    "# Cross Validation"
   ]
  },
  {
   "cell_type": "markdown",
   "metadata": {
    "id": "tTizZvmvDvDB"
   },
   "source": [
    "Reaproveitando os passos 1, 2, 3, 4 do tópico 2, realize as validações cruzadas com Grid Search e Random Search. Lembre de printar os melhores parâmetros e o score obtido."
   ]
  },
  {
   "cell_type": "code",
   "execution_count": null,
   "metadata": {
    "id": "Baj25_NO6sN3"
   },
   "outputs": [],
   "source": [
    "# Divisão em X_train, X_test\n",
    "df_train, df_test = train_test_split(df_diabetes, stratify=df_diabetes['label'], test_size=0.15, random_state=123)"
   ]
  },
  {
   "cell_type": "code",
   "execution_count": null,
   "metadata": {
    "id": "iPYppfXe6sN3"
   },
   "outputs": [],
   "source": [
    "# cross validation\n",
    "skf = StratifiedKFold(n_splits=10)"
   ]
  },
  {
   "cell_type": "code",
   "execution_count": null,
   "metadata": {
    "id": "9t3x6FLxDvDB"
   },
   "outputs": [],
   "source": [
    "# Grid Search\n",
    "grid_search = GridSearchCV(knn, param_grid_search, cv=skf, return_train_score=True, scoring='neg_log_loss')"
   ]
  },
  {
   "cell_type": "code",
   "execution_count": null,
   "metadata": {
    "id": "Bp3s05_R6sN5",
    "outputId": "cf410a11-0d03-4162-9bfa-4a10f3b669bc"
   },
   "outputs": [
    {
     "data": {
      "text/plain": [
       "GridSearchCV(cv=StratifiedKFold(n_splits=10, random_state=None, shuffle=False),\n",
       "             estimator=Pipeline(steps=[('pre_processing', MinMaxScaler()),\n",
       "                                       ('model',\n",
       "                                        KNeighborsClassifier(metric='euclidean',\n",
       "                                                             n_neighbors=24))]),\n",
       "             param_grid={'model__metric': ['manhattan', 'euclidean'],\n",
       "                         'model__n_neighbors': [1, 3, 5, 7, 9, 11, 13, 15, 17,\n",
       "                                                19, 21, 23, 25, 27, 29, 31, 33,\n",
       "                                                35, 37, 39, 41, 43, 45, 47, 49,\n",
       "                                                51],\n",
       "                         'model__weights': ['uniform', 'distance']},\n",
       "             return_train_score=True, scoring='neg_log_loss')"
      ]
     },
     "execution_count": 71,
     "metadata": {
      "tags": []
     },
     "output_type": "execute_result"
    }
   ],
   "source": [
    "grid_search.fit(X_train, y_train)"
   ]
  },
  {
   "cell_type": "code",
   "execution_count": null,
   "metadata": {
    "id": "5vkp7KVz6sN5"
   },
   "outputs": [],
   "source": [
    "#pd.DataFrame(grid_search.cv_results_)"
   ]
  },
  {
   "cell_type": "code",
   "execution_count": null,
   "metadata": {
    "id": "Vu93fxVL6sN6",
    "outputId": "117a2350-e972-4b3a-a326-78a02dd49c0a"
   },
   "outputs": [
    {
     "data": {
      "text/plain": [
       "-0.5058822204803055"
      ]
     },
     "execution_count": 72,
     "metadata": {
      "tags": []
     },
     "output_type": "execute_result"
    }
   ],
   "source": [
    "grid_search.best_score_"
   ]
  },
  {
   "cell_type": "code",
   "execution_count": null,
   "metadata": {
    "id": "fl7b0-Tl6sN6",
    "outputId": "645ca32a-d4d5-49ec-d4bf-fb1317394fef"
   },
   "outputs": [
    {
     "data": {
      "text/plain": [
       "{'model__metric': 'manhattan',\n",
       " 'model__n_neighbors': 23,\n",
       " 'model__weights': 'uniform'}"
      ]
     },
     "execution_count": 58,
     "metadata": {
      "tags": []
     },
     "output_type": "execute_result"
    }
   ],
   "source": [
    "grid_search.best_params_"
   ]
  },
  {
   "cell_type": "code",
   "execution_count": null,
   "metadata": {
    "id": "JG7nvfEV6sN6"
   },
   "outputs": [],
   "source": [
    "knn_grid_search_cv = grid_search.best_estimator_"
   ]
  },
  {
   "cell_type": "code",
   "execution_count": null,
   "metadata": {
    "id": "FoavHFKu6sN7",
    "outputId": "33c1e853-04fd-4967-c307-2bdbf3effdc7"
   },
   "outputs": [
    {
     "data": {
      "text/plain": [
       "-9.992007221626413e-16"
      ]
     },
     "execution_count": 74,
     "metadata": {
      "tags": []
     },
     "output_type": "execute_result"
    }
   ],
   "source": [
    "grid_search.cv_results_['mean_train_score'][grid_search.best_index_]"
   ]
  },
  {
   "cell_type": "code",
   "execution_count": null,
   "metadata": {
    "id": "evXZZ0bd6sN7",
    "outputId": "3a3dba0c-0808-4b0a-f65e-5cfe6f04291f"
   },
   "outputs": [
    {
     "data": {
      "text/plain": [
       "39"
      ]
     },
     "execution_count": 78,
     "metadata": {
      "tags": []
     },
     "output_type": "execute_result"
    }
   ],
   "source": [
    "grid_search.best_index_"
   ]
  },
  {
   "cell_type": "code",
   "execution_count": null,
   "metadata": {
    "id": "7IPmp4bE6sN8",
    "outputId": "814fdb7e-bfaf-4557-bf80-bf821df226c9"
   },
   "outputs": [
    {
     "data": {
      "text/plain": [
       "array([-9.99200722e-16, -9.99200722e-16, -2.92673114e-01, -9.99200722e-16,\n",
       "       -3.65345127e-01, -9.99200722e-16, -4.04283730e-01, -9.99200722e-16,\n",
       "       -4.22536310e-01, -9.99200722e-16, -4.32305998e-01, -9.99200722e-16,\n",
       "       -4.43747546e-01, -9.99200722e-16, -4.50856255e-01, -9.99200722e-16,\n",
       "       -4.59610115e-01, -9.99200722e-16, -4.64864102e-01, -9.99200722e-16,\n",
       "       -4.68498607e-01, -9.99200722e-16, -4.69995936e-01, -9.99200722e-16,\n",
       "       -4.72150038e-01, -9.99200722e-16, -4.74207814e-01, -9.99200722e-16,\n",
       "       -4.75898446e-01, -9.99200722e-16, -4.77716483e-01, -9.99200722e-16,\n",
       "       -4.78867240e-01, -9.99200722e-16, -4.80992624e-01, -9.99200722e-16,\n",
       "       -4.83466143e-01, -9.99200722e-16, -4.85483373e-01, -9.99200722e-16,\n",
       "       -4.87592237e-01, -9.99200722e-16, -4.89596601e-01, -9.99200722e-16,\n",
       "       -4.91473525e-01, -9.99200722e-16, -4.92577671e-01, -9.99200722e-16,\n",
       "       -4.94372487e-01, -9.99200722e-16, -4.95084230e-01, -9.99200722e-16,\n",
       "       -9.99200722e-16, -9.99200722e-16, -2.93803968e-01, -9.99200722e-16,\n",
       "       -3.60619853e-01, -9.99200722e-16, -3.99239541e-01, -9.99200722e-16,\n",
       "       -4.19460653e-01, -9.99200722e-16, -4.36576334e-01, -9.99200722e-16,\n",
       "       -4.49039820e-01, -9.99200722e-16, -4.60228415e-01, -9.99200722e-16,\n",
       "       -4.67522146e-01, -9.99200722e-16, -4.72264246e-01, -9.99200722e-16,\n",
       "       -4.74616676e-01, -9.99200722e-16, -4.78095400e-01, -9.99200722e-16,\n",
       "       -4.80531257e-01, -9.99200722e-16, -4.81837328e-01, -9.99200722e-16,\n",
       "       -4.85241163e-01, -9.99200722e-16, -4.87462902e-01, -9.99200722e-16,\n",
       "       -4.88473985e-01, -9.99200722e-16, -4.90563218e-01, -9.99200722e-16,\n",
       "       -4.91451488e-01, -9.99200722e-16, -4.92813987e-01, -9.99200722e-16,\n",
       "       -4.94290262e-01, -9.99200722e-16, -4.96881683e-01, -9.99200722e-16,\n",
       "       -5.00143888e-01, -9.99200722e-16, -5.02418909e-01, -9.99200722e-16,\n",
       "       -5.05036212e-01, -9.99200722e-16, -5.06866205e-01, -9.99200722e-16])"
      ]
     },
     "execution_count": 77,
     "metadata": {
      "tags": []
     },
     "output_type": "execute_result"
    }
   ],
   "source": [
    "grid_search.cv_results_['mean_train_score']"
   ]
  },
  {
   "cell_type": "code",
   "execution_count": null,
   "metadata": {
    "id": "U00oXkLt6sN9",
    "outputId": "9c8c9d17-1309-4fd2-a57b-3904ac615b29"
   },
   "outputs": [
    {
     "data": {
      "text/plain": [
       "0.47970810348364473"
      ]
     },
     "execution_count": 75,
     "metadata": {
      "tags": []
     },
     "output_type": "execute_result"
    }
   ],
   "source": [
    "log_loss(y_train, knn_grid_search.predict_proba(X_train))"
   ]
  },
  {
   "cell_type": "code",
   "execution_count": null,
   "metadata": {
    "id": "AYMja06j6sN9",
    "outputId": "ef09e692-5c83-4825-e627-3a71d7583177"
   },
   "outputs": [
    {
     "data": {
      "text/plain": [
       "0.4717777420818704"
      ]
     },
     "execution_count": 76,
     "metadata": {
      "tags": []
     },
     "output_type": "execute_result"
    }
   ],
   "source": [
    "log_loss(y_test, knn_grid_search.predict_proba(X_test))"
   ]
  },
  {
   "cell_type": "code",
   "execution_count": null,
   "metadata": {
    "id": "oXQ-4cSbDvDC"
   },
   "outputs": [],
   "source": [
    "# Random Search"
   ]
  },
  {
   "cell_type": "code",
   "execution_count": null,
   "metadata": {
    "id": "7jy4JpGl6sN_"
   },
   "outputs": [],
   "source": [
    "random_search = RandomizedSearchCV()"
   ]
  },
  {
   "cell_type": "code",
   "execution_count": null,
   "metadata": {
    "id": "dGfoBs8YDvDC"
   },
   "outputs": [],
   "source": [
    "# Avalie a performance no treino e na validação"
   ]
  },
  {
   "cell_type": "markdown",
   "metadata": {
    "id": "lmtTgtKEDvDC"
   },
   "source": [
    "OBS: Não estamos preocupado com performance. A ideia é exercitar a construção desses steps. O dataset não é tão grande e podemos sofrer com isso."
   ]
  }
 ],
 "metadata": {
  "colab": {
   "name": "Cópia de Copy of DSTN07_Otimização_II_(Prática_Independente).ipynb",
   "provenance": [
    {
     "file_id": "1PvIj0sz1xogsJybuPHO3MfFrRZjPqCPZ",
     "timestamp": 1624488791913
    },
    {
     "file_id": "1xuA9AxuIEfjcH1lmASBKhfM0dgTNrTrM",
     "timestamp": 1624310794961
    }
   ]
  },
  "kernelspec": {
   "display_name": "Python 3 (ipykernel)",
   "language": "python",
   "name": "python3"
  },
  "language_info": {
   "codemirror_mode": {
    "name": "ipython",
    "version": 3
   },
   "file_extension": ".py",
   "mimetype": "text/x-python",
   "name": "python",
   "nbconvert_exporter": "python",
   "pygments_lexer": "ipython3",
   "version": "3.9.7"
  },
  "toc": {
   "base_numbering": 1,
   "nav_menu": {},
   "number_sections": true,
   "sideBar": true,
   "skip_h1_title": false,
   "title_cell": "Table of Contents",
   "title_sidebar": "Contents",
   "toc_cell": false,
   "toc_position": {},
   "toc_section_display": true,
   "toc_window_display": false
  },
  "varInspector": {
   "cols": {
    "lenName": 16,
    "lenType": 16,
    "lenVar": 40
   },
   "kernels_config": {
    "python": {
     "delete_cmd_postfix": "",
     "delete_cmd_prefix": "del ",
     "library": "var_list.py",
     "varRefreshCmd": "print(var_dic_list())"
    },
    "r": {
     "delete_cmd_postfix": ") ",
     "delete_cmd_prefix": "rm(",
     "library": "var_list.r",
     "varRefreshCmd": "cat(var_dic_list()) "
    }
   },
   "types_to_exclude": [
    "module",
    "function",
    "builtin_function_or_method",
    "instance",
    "_Feature"
   ],
   "window_display": false
  }
 },
 "nbformat": 4,
 "nbformat_minor": 1
}
