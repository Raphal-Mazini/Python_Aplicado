{
 "cells": [
  {
   "cell_type": "markdown",
   "metadata": {},
   "source": [
    "# <center> Basic Data Preparation </center>\n",
    "\n",
    "<center> <img src=\"https://i.ytimg.com/vi/BiPzz1xZ0XI/maxresdefault.jpg\" width=800 height=600 /> </center>\n",
    "\n",
    "## Basic ToolBox  - Preparação dos Dados II\n",
    "\n",
    "A prparação é uma etapa de pré-processamento dos dados, antes de gerar o modelo definitivo, esta é justamente a etapa para preparar os dados antes de inseri los no modelo\n",
    " "
   ]
  },
  {
   "cell_type": "code",
   "execution_count": 5,
   "metadata": {},
   "outputs": [],
   "source": [
    "# libs\n",
    "#!pip install category-encoders\n",
    "#!pip install  feature-engine\n",
    "import pandas as pd\n",
    "import numpy as np\n",
    "import seaborn as sn\n",
    "import matplotlib.pyplot as plt\n",
    "from sklearn.preprocessing import MinMaxScaler, StandardScaler, RobustScaler, OneHotEncoder, OrdinalEncoder\n",
    "from category_encoders import TargetEncoder\n",
    "#from feature_engine.categorical_encoders import CountFrequencyCategoricalEncoder\n",
    "from feature_engine.encoding import CountFrequencyEncoder\n",
    "from sklearn.model_selection import train_test_split\n",
    "from sklearn.compose import ColumnTransformer\n",
    "from sklearn.pipeline import Pipeline\n",
    "from sklearn.linear_model import LogisticRegression\n",
    "import warnings\n",
    "warnings.filterwarnings('ignore')"
   ]
  },
  {
   "cell_type": "markdown",
   "metadata": {},
   "source": [
    "## Variáveis Qualitativas (Categóricas)"
   ]
  },
  {
   "cell_type": "markdown",
   "metadata": {},
   "source": [
    "Variáveis numéricas são mais faceis de se lhe dar, pois, não apresentam muitos problemas em produção. Quando falamos em **variáveis qualitativas** aí sim, possuímos problemas em potencial, para os quais precisamos ter uma rota de fuga.\n",
    "\n",
    "Os 2 principais problemas são:\n",
    "- Novos níveis nas variáveis\n",
    "- Níveis raros"
   ]
  },
  {
   "cell_type": "markdown",
   "metadata": {},
   "source": [
    "#### Carregando dados"
   ]
  },
  {
   "cell_type": "code",
   "execution_count": 6,
   "metadata": {},
   "outputs": [],
   "source": [
    "df_titanic = pd.read_csv('titanic_prep.csv')"
   ]
  },
  {
   "cell_type": "code",
   "execution_count": 7,
   "metadata": {},
   "outputs": [
    {
     "data": {
      "text/html": [
       "<div>\n",
       "<style scoped>\n",
       "    .dataframe tbody tr th:only-of-type {\n",
       "        vertical-align: middle;\n",
       "    }\n",
       "\n",
       "    .dataframe tbody tr th {\n",
       "        vertical-align: top;\n",
       "    }\n",
       "\n",
       "    .dataframe thead th {\n",
       "        text-align: right;\n",
       "    }\n",
       "</style>\n",
       "<table border=\"1\" class=\"dataframe\">\n",
       "  <thead>\n",
       "    <tr style=\"text-align: right;\">\n",
       "      <th></th>\n",
       "      <th>Embarked</th>\n",
       "      <th>Age</th>\n",
       "      <th>Sex</th>\n",
       "      <th>Pclass</th>\n",
       "      <th>Survived</th>\n",
       "    </tr>\n",
       "  </thead>\n",
       "  <tbody>\n",
       "    <tr>\n",
       "      <th>0</th>\n",
       "      <td>S</td>\n",
       "      <td>22.0</td>\n",
       "      <td>male</td>\n",
       "      <td>3rd</td>\n",
       "      <td>0</td>\n",
       "    </tr>\n",
       "    <tr>\n",
       "      <th>1</th>\n",
       "      <td>C</td>\n",
       "      <td>38.0</td>\n",
       "      <td>female</td>\n",
       "      <td>1st</td>\n",
       "      <td>1</td>\n",
       "    </tr>\n",
       "    <tr>\n",
       "      <th>2</th>\n",
       "      <td>S</td>\n",
       "      <td>26.0</td>\n",
       "      <td>female</td>\n",
       "      <td>3rd</td>\n",
       "      <td>1</td>\n",
       "    </tr>\n",
       "  </tbody>\n",
       "</table>\n",
       "</div>"
      ],
      "text/plain": [
       "  Embarked   Age     Sex Pclass  Survived\n",
       "0        S  22.0    male    3rd         0\n",
       "1        C  38.0  female    1st         1\n",
       "2        S  26.0  female    3rd         1"
      ]
     },
     "execution_count": 7,
     "metadata": {},
     "output_type": "execute_result"
    }
   ],
   "source": [
    "#df_titanic = pd.read_csv('https://raw.githubusercontent.com/abnr/ml-data/main/titanic_reduced.csv')\n",
    "df_titanic.head(3)"
   ]
  },
  {
   "cell_type": "markdown",
   "metadata": {},
   "source": [
    "O DataFrame acima possui uma **variavel qualitativa nominal** \"Sex\" e duas **variavel qualitativa ordinal** \"Pclass\" e \"Embarked\""
   ]
  },
  {
   "cell_type": "markdown",
   "metadata": {},
   "source": [
    "#### Limpando os Dados"
   ]
  },
  {
   "cell_type": "code",
   "execution_count": 8,
   "metadata": {},
   "outputs": [
    {
     "data": {
      "text/plain": [
       "Embarked      2\n",
       "Age         177\n",
       "Sex           0\n",
       "Pclass        0\n",
       "Survived      0\n",
       "dtype: int64"
      ]
     },
     "execution_count": 8,
     "metadata": {},
     "output_type": "execute_result"
    }
   ],
   "source": [
    "# Checando a existencia de valores ausentes, nulos\n",
    "df_titanic.isna().sum()"
   ]
  },
  {
   "cell_type": "code",
   "execution_count": 9,
   "metadata": {},
   "outputs": [],
   "source": [
    "# removendo dados ausentes, nulos\n",
    "df_titanic.dropna(inplace=True)"
   ]
  },
  {
   "cell_type": "code",
   "execution_count": 10,
   "metadata": {},
   "outputs": [
    {
     "data": {
      "text/plain": [
       "Embarked    0\n",
       "Age         0\n",
       "Sex         0\n",
       "Pclass      0\n",
       "Survived    0\n",
       "dtype: int64"
      ]
     },
     "execution_count": 10,
     "metadata": {},
     "output_type": "execute_result"
    }
   ],
   "source": [
    "# Confirmando a remoção de valores ausentes, nulos.\n",
    "df_titanic.isna().sum()"
   ]
  },
  {
   "cell_type": "markdown",
   "metadata": {},
   "source": [
    "#### Segregando as Variaveis "
   ]
  },
  {
   "cell_type": "code",
   "execution_count": 11,
   "metadata": {},
   "outputs": [],
   "source": [
    "# Variaveis Independentes\n",
    "X_titanic = df_titanic.drop('Survived', axis=1)\n",
    "\n",
    "# Variavel Dependente\n",
    "Y_titanic = df_titanic['Survived']"
   ]
  },
  {
   "cell_type": "markdown",
   "metadata": {},
   "source": [
    "#### Dividindo Em Treino e Teste"
   ]
  },
  {
   "cell_type": "code",
   "execution_count": 12,
   "metadata": {},
   "outputs": [],
   "source": [
    "X_train_titanic, X_test_titanic, y_train_titanic, y_test_titanic = train_test_split(\n",
    "    X_titanic, \n",
    "    Y_titanic,\n",
    "    train_size=0.85,\n",
    "    random_state=123)"
   ]
  },
  {
   "cell_type": "markdown",
   "metadata": {},
   "source": [
    "## ``One-Hot Encoder``\n",
    "\n",
    "O **One-Hot Encoding** é uma técnica de **pré-processamento de dados** que **converte variáveis categóricas** em **binários**. Em outras palavras, ele **cria uma nova coluna** para **cada valor único** presente na **variável categórica** e **atribui o valor 1** à coluna correspondente ao **valor presente** e **0 no resto das colunas**. O **one-hot enconding** e funciona melhor para as **variáveis em escala nominal**. Esse processo cria uma variável nova para cada variável string.\n",
    "\n",
    "**One Hot encoding** é utilizado para a **preservação da informação dos valores categóricos originais**, ao criar **novas colunas** para **cada valor único**. Isso permite que os algoritmos de machine learning considerem essa informação durante o treinamento e tomada de decisões.\n",
    "\n",
    "De maneira resuminda, o **One Hot encoding**, é uma **transformação** que fazemos nos dados para representarmos uma **variável categórica** de forma **binária**.\n",
    "\n",
    "#### Vantagens:\n",
    "\n",
    "* Preserva a distância entre as categorias, pois cria colunas binárias distintas para cada categoria.\n",
    "\n",
    "* Adequado para variáveis categóricas sem ordem ou quando a ordem não é relevante.\n",
    "\n",
    "* Pode ser facilmente interpretado por algoritmos de aprendizado de máquina.\n",
    "\n",
    "#### Desvantagens:\n",
    "\n",
    "* Pode levar a um aumento significativo no número de variáveis, especialmente se a variável categórica tiver muitas categorias.\n",
    "* Pode causar o problema de multicolinearidade, onde as colunas binárias estão altamente correlacionadas."
   ]
  },
  {
   "cell_type": "markdown",
   "metadata": {},
   "source": [
    "<center> <img src=\"https://i.imgur.com/TW5m0aJ.png\" height=400 width=600/> </center>"
   ]
  },
  {
   "cell_type": "markdown",
   "metadata": {},
   "source": [
    "#### sklearn.preprocessing.``OneHotEncoder``\n",
    "\n",
    "* Codifique recursos categóricos como uma matriz numérica one-hot. A entrada para este transformador deve ser uma matriz de números inteiros ou strings, denotando os valores assumidos por recursos categóricos (discretos). Os recursos são codificados usando um esquema de codificação one-hot (também conhecido como 'one-of-K' ou 'fictício'). Isso cria uma coluna binária para cada categoria e retorna uma matriz esparsa ou matriz densa (dependendo do arâmetro sparse_output). Por padrão, o codificador deriva as categorias com base nos valores exclusivos de cada recurso. Como alternativa, você também pode especificar categories manualmente. Essa codificação é necessária para alimentar dados categóricos para muitos estimadores do scikit-learn, principalmente modelos lineares e SVMs com os kernels padrão. \n",
    "\n",
    "**Nota**: Uma codificação one-hot de rótulos y deve usar um LabelBinarizer.Um dos principais motivos para utilizarmos o One-Hot Encoder no lugar do pd.get_dummies() é sua integração com a classe e com Pipelines do scikit-learn."
   ]
  },
  {
   "cell_type": "markdown",
   "metadata": {},
   "source": [
    "#### Preparando os Dados"
   ]
  },
  {
   "cell_type": "code",
   "execution_count": 13,
   "metadata": {},
   "outputs": [],
   "source": [
    "# Atribuindo a uma variavel python as variveis qualitativas\n",
    "cat_cols = ['Embarked', 'Pclass', 'Sex']"
   ]
  },
  {
   "cell_type": "code",
   "execution_count": 14,
   "metadata": {},
   "outputs": [],
   "source": [
    "# Atribuindo a uma variavel python todas os dados das variaveis qualitativas\n",
    "X_train_titanic_ = X_train_titanic.loc[:,cat_cols]"
   ]
  },
  {
   "cell_type": "code",
   "execution_count": 15,
   "metadata": {},
   "outputs": [
    {
     "data": {
      "text/plain": [
       "Embarked    0\n",
       "Pclass      0\n",
       "Sex         0\n",
       "dtype: int64"
      ]
     },
     "execution_count": 15,
     "metadata": {},
     "output_type": "execute_result"
    }
   ],
   "source": [
    "# Checando valores ausentes\n",
    "X_train_titanic_.isna().sum()\n",
    "# Existem 2 valores ausentes em \"Embarked\" ( Remover )"
   ]
  },
  {
   "cell_type": "markdown",
   "metadata": {},
   "source": [
    "#### ``OneHotEncoder`` para codificar as variáveis."
   ]
  },
  {
   "cell_type": "code",
   "execution_count": 16,
   "metadata": {},
   "outputs": [
    {
     "data": {
      "text/plain": [
       "array([[0., 0., 1., ..., 1., 0., 1.],\n",
       "       [0., 0., 1., ..., 0., 0., 1.],\n",
       "       [0., 0., 1., ..., 0., 0., 1.],\n",
       "       ...,\n",
       "       [0., 0., 1., ..., 1., 0., 1.],\n",
       "       [0., 0., 1., ..., 0., 0., 1.],\n",
       "       [0., 0., 1., ..., 1., 0., 1.]])"
      ]
     },
     "execution_count": 16,
     "metadata": {},
     "output_type": "execute_result"
    }
   ],
   "source": [
    "# Gerando objeto One-Hot-Encoder\n",
    "ohe = OneHotEncoder(sparse_output=False)\n",
    "\n",
    "# Categorizando as variaveis qualitativas \n",
    "X_train_titanic_onehot = ohe.fit_transform(X_train_titanic_)\n",
    "\n",
    "X_train_titanic_onehot"
   ]
  },
  {
   "cell_type": "markdown",
   "metadata": {},
   "source": [
    "**sparse_output**: Retorna uma matriz esparsa no formato “Compressed Sparse Row” (CSR). Uma matriz é dita esparsa quando possui uma grande quantidade de elementos com valor zero (ou não presentes, ou não necessários). Visualização gráfica de uma matriz esparsa, em que os elementos iguais a zero são representados em branco, e aqueles diferentes de zero em preto."
   ]
  },
  {
   "cell_type": "code",
   "execution_count": 17,
   "metadata": {},
   "outputs": [
    {
     "data": {
      "text/html": [
       "<div>\n",
       "<style scoped>\n",
       "    .dataframe tbody tr th:only-of-type {\n",
       "        vertical-align: middle;\n",
       "    }\n",
       "\n",
       "    .dataframe tbody tr th {\n",
       "        vertical-align: top;\n",
       "    }\n",
       "\n",
       "    .dataframe thead th {\n",
       "        text-align: right;\n",
       "    }\n",
       "</style>\n",
       "<table border=\"1\" class=\"dataframe\">\n",
       "  <thead>\n",
       "    <tr style=\"text-align: right;\">\n",
       "      <th></th>\n",
       "      <th>Embarked_C</th>\n",
       "      <th>Embarked_Q</th>\n",
       "      <th>Embarked_S</th>\n",
       "      <th>Pclass_1st</th>\n",
       "      <th>Pclass_2nd</th>\n",
       "      <th>Pclass_3rd</th>\n",
       "      <th>Sex_female</th>\n",
       "      <th>Sex_male</th>\n",
       "    </tr>\n",
       "  </thead>\n",
       "  <tbody>\n",
       "    <tr>\n",
       "      <th>0</th>\n",
       "      <td>0.0</td>\n",
       "      <td>0.0</td>\n",
       "      <td>1.0</td>\n",
       "      <td>0.0</td>\n",
       "      <td>0.0</td>\n",
       "      <td>1.0</td>\n",
       "      <td>0.0</td>\n",
       "      <td>1.0</td>\n",
       "    </tr>\n",
       "    <tr>\n",
       "      <th>1</th>\n",
       "      <td>0.0</td>\n",
       "      <td>0.0</td>\n",
       "      <td>1.0</td>\n",
       "      <td>1.0</td>\n",
       "      <td>0.0</td>\n",
       "      <td>0.0</td>\n",
       "      <td>0.0</td>\n",
       "      <td>1.0</td>\n",
       "    </tr>\n",
       "    <tr>\n",
       "      <th>2</th>\n",
       "      <td>0.0</td>\n",
       "      <td>0.0</td>\n",
       "      <td>1.0</td>\n",
       "      <td>0.0</td>\n",
       "      <td>1.0</td>\n",
       "      <td>0.0</td>\n",
       "      <td>0.0</td>\n",
       "      <td>1.0</td>\n",
       "    </tr>\n",
       "    <tr>\n",
       "      <th>3</th>\n",
       "      <td>0.0</td>\n",
       "      <td>0.0</td>\n",
       "      <td>1.0</td>\n",
       "      <td>0.0</td>\n",
       "      <td>1.0</td>\n",
       "      <td>0.0</td>\n",
       "      <td>0.0</td>\n",
       "      <td>1.0</td>\n",
       "    </tr>\n",
       "    <tr>\n",
       "      <th>4</th>\n",
       "      <td>0.0</td>\n",
       "      <td>0.0</td>\n",
       "      <td>1.0</td>\n",
       "      <td>0.0</td>\n",
       "      <td>0.0</td>\n",
       "      <td>1.0</td>\n",
       "      <td>0.0</td>\n",
       "      <td>1.0</td>\n",
       "    </tr>\n",
       "    <tr>\n",
       "      <th>...</th>\n",
       "      <td>...</td>\n",
       "      <td>...</td>\n",
       "      <td>...</td>\n",
       "      <td>...</td>\n",
       "      <td>...</td>\n",
       "      <td>...</td>\n",
       "      <td>...</td>\n",
       "      <td>...</td>\n",
       "    </tr>\n",
       "    <tr>\n",
       "      <th>600</th>\n",
       "      <td>1.0</td>\n",
       "      <td>0.0</td>\n",
       "      <td>0.0</td>\n",
       "      <td>0.0</td>\n",
       "      <td>0.0</td>\n",
       "      <td>1.0</td>\n",
       "      <td>0.0</td>\n",
       "      <td>1.0</td>\n",
       "    </tr>\n",
       "    <tr>\n",
       "      <th>601</th>\n",
       "      <td>0.0</td>\n",
       "      <td>0.0</td>\n",
       "      <td>1.0</td>\n",
       "      <td>0.0</td>\n",
       "      <td>0.0</td>\n",
       "      <td>1.0</td>\n",
       "      <td>0.0</td>\n",
       "      <td>1.0</td>\n",
       "    </tr>\n",
       "    <tr>\n",
       "      <th>602</th>\n",
       "      <td>0.0</td>\n",
       "      <td>0.0</td>\n",
       "      <td>1.0</td>\n",
       "      <td>0.0</td>\n",
       "      <td>0.0</td>\n",
       "      <td>1.0</td>\n",
       "      <td>0.0</td>\n",
       "      <td>1.0</td>\n",
       "    </tr>\n",
       "    <tr>\n",
       "      <th>603</th>\n",
       "      <td>0.0</td>\n",
       "      <td>0.0</td>\n",
       "      <td>1.0</td>\n",
       "      <td>1.0</td>\n",
       "      <td>0.0</td>\n",
       "      <td>0.0</td>\n",
       "      <td>0.0</td>\n",
       "      <td>1.0</td>\n",
       "    </tr>\n",
       "    <tr>\n",
       "      <th>604</th>\n",
       "      <td>0.0</td>\n",
       "      <td>0.0</td>\n",
       "      <td>1.0</td>\n",
       "      <td>0.0</td>\n",
       "      <td>0.0</td>\n",
       "      <td>1.0</td>\n",
       "      <td>0.0</td>\n",
       "      <td>1.0</td>\n",
       "    </tr>\n",
       "  </tbody>\n",
       "</table>\n",
       "<p>605 rows × 8 columns</p>\n",
       "</div>"
      ],
      "text/plain": [
       "     Embarked_C  Embarked_Q  Embarked_S  Pclass_1st  Pclass_2nd  Pclass_3rd  \\\n",
       "0           0.0         0.0         1.0         0.0         0.0         1.0   \n",
       "1           0.0         0.0         1.0         1.0         0.0         0.0   \n",
       "2           0.0         0.0         1.0         0.0         1.0         0.0   \n",
       "3           0.0         0.0         1.0         0.0         1.0         0.0   \n",
       "4           0.0         0.0         1.0         0.0         0.0         1.0   \n",
       "..          ...         ...         ...         ...         ...         ...   \n",
       "600         1.0         0.0         0.0         0.0         0.0         1.0   \n",
       "601         0.0         0.0         1.0         0.0         0.0         1.0   \n",
       "602         0.0         0.0         1.0         0.0         0.0         1.0   \n",
       "603         0.0         0.0         1.0         1.0         0.0         0.0   \n",
       "604         0.0         0.0         1.0         0.0         0.0         1.0   \n",
       "\n",
       "     Sex_female  Sex_male  \n",
       "0           0.0       1.0  \n",
       "1           0.0       1.0  \n",
       "2           0.0       1.0  \n",
       "3           0.0       1.0  \n",
       "4           0.0       1.0  \n",
       "..          ...       ...  \n",
       "600         0.0       1.0  \n",
       "601         0.0       1.0  \n",
       "602         0.0       1.0  \n",
       "603         0.0       1.0  \n",
       "604         0.0       1.0  \n",
       "\n",
       "[605 rows x 8 columns]"
      ]
     },
     "execution_count": 17,
     "metadata": {},
     "output_type": "execute_result"
    }
   ],
   "source": [
    "# Convertendo em um DataFrame as variaveis qualitativas codificadas \n",
    "pd.DataFrame(X_train_titanic_onehot, columns=ohe.get_feature_names_out())"
   ]
  },
  {
   "cell_type": "markdown",
   "metadata": {},
   "source": [
    "**Desvantagens:**\n",
    "\n",
    "* Se a variável possui muitos níveis (estados do brasil por exemplo), muitas colunas serão criadas e isso pode ser um problema em termos de processamento e de alta dimensionalidade (maldição da dimensionalidade).\n",
    "\n",
    "* Alguns modelos (árvores) se beneficiam mais de outros métodos."
   ]
  },
  {
   "cell_type": "markdown",
   "metadata": {},
   "source": [
    "## ``OrdinalEncoder``\n",
    "\n",
    "É um transformador de variaveis qualitativas em categoricas. Quando houverem variáveis categóricas ordinais, estas serão melhor codificadas pelo OrdinalEncoder. O OrdinalEncoder atribui um número para cada nível da variável, de acordo com a ordem pré-estabelecida pelo usuário.\n",
    "\n",
    "Preservando a Ordem em Variáveis Categóricas ao contrário do One-Hot Encoder, o Ordinal Encoder é usado quando existe uma ordem natural entre as categorias. Ele atribui valores inteiros sequenciais às categorias, preservando a relação de ordem. Essa abordagem é útil para algoritmos que podem se beneficiar dessa informação, como modelos lineares ou árvores de decisão.\n",
    "\n",
    "\n",
    "#### Vantagens:\n",
    "\n",
    "* Preserva a ordem das categorias e atribui valores numéricos com base na ordem especificada.\n",
    "* Reduz a dimensionalidade do espaço de recursos em comparação com o One-Hot Encoding.\n",
    "\n",
    "\n",
    "#### Desvantagens:\n",
    "\n",
    "* Atribui valores numéricos arbitrários às categorias, o que pode introduzir um viés indesejado.\n",
    "* Algoritmos de aprendizado de máquina podem erroneamente assumir uma relação contínua entre os valores atribuídos."
   ]
  },
  {
   "cell_type": "markdown",
   "metadata": {},
   "source": [
    "#### Preparando os Dados"
   ]
  },
  {
   "cell_type": "code",
   "execution_count": 18,
   "metadata": {},
   "outputs": [],
   "source": [
    "# Obtendo somente a Variavel Qualitativa Ordinal\n",
    "X_train_titanic_class = X_train_titanic.loc[:, ['Pclass']]\n",
    "\n",
    "# Atribuindo a uma variavel python a ordem dos elementos da variavel qualitativa ordinal\n",
    "order_levels = ['1st', '2nd', '3rd']"
   ]
  },
  {
   "cell_type": "markdown",
   "metadata": {},
   "source": [
    "#### sklearn.preprocessing.``OrdinalEncoder``\n",
    "\n",
    "* Codifique recursos categóricos como uma matriz inteira. A entrada para este transformador deve ser uma matriz de números inteiros ou strings, denotando os valores assumidos por recursos categóricos (discretos). Os recursos são convertidos em números inteiros ordinais. Isso resulta em uma única coluna de números inteiros (0 a n_categories - 1) por recurso. Retorna um objeto próprio Codificado montado.\n",
    "\n",
    "**Nota**: Se não especificarmos a ordem dos níveis, o transformador atribui os labels por ordem alfabética nos níveis."
   ]
  },
  {
   "cell_type": "code",
   "execution_count": 19,
   "metadata": {},
   "outputs": [],
   "source": [
    "# Gerando um objeto transformador\n",
    "oe = OrdinalEncoder(categories=[order_levels])\n",
    "\n",
    "\n",
    "X_train_titanic_oe = oe.fit_transform(X_train_titanic_class)"
   ]
  },
  {
   "cell_type": "code",
   "execution_count": 20,
   "metadata": {},
   "outputs": [
    {
     "data": {
      "text/html": [
       "<div>\n",
       "<style scoped>\n",
       "    .dataframe tbody tr th:only-of-type {\n",
       "        vertical-align: middle;\n",
       "    }\n",
       "\n",
       "    .dataframe tbody tr th {\n",
       "        vertical-align: top;\n",
       "    }\n",
       "\n",
       "    .dataframe thead th {\n",
       "        text-align: right;\n",
       "    }\n",
       "</style>\n",
       "<table border=\"1\" class=\"dataframe\">\n",
       "  <thead>\n",
       "    <tr style=\"text-align: right;\">\n",
       "      <th></th>\n",
       "      <th>Pclass</th>\n",
       "    </tr>\n",
       "  </thead>\n",
       "  <tbody>\n",
       "    <tr>\n",
       "      <th>0</th>\n",
       "      <td>2.0</td>\n",
       "    </tr>\n",
       "    <tr>\n",
       "      <th>1</th>\n",
       "      <td>0.0</td>\n",
       "    </tr>\n",
       "    <tr>\n",
       "      <th>2</th>\n",
       "      <td>1.0</td>\n",
       "    </tr>\n",
       "    <tr>\n",
       "      <th>3</th>\n",
       "      <td>1.0</td>\n",
       "    </tr>\n",
       "    <tr>\n",
       "      <th>4</th>\n",
       "      <td>2.0</td>\n",
       "    </tr>\n",
       "  </tbody>\n",
       "</table>\n",
       "</div>"
      ],
      "text/plain": [
       "   Pclass\n",
       "0     2.0\n",
       "1     0.0\n",
       "2     1.0\n",
       "3     1.0\n",
       "4     2.0"
      ]
     },
     "execution_count": 20,
     "metadata": {},
     "output_type": "execute_result"
    }
   ],
   "source": [
    "pd.DataFrame(X_train_titanic_oe, columns=oe.get_feature_names_out()).head()"
   ]
  },
  {
   "cell_type": "markdown",
   "metadata": {},
   "source": [
    "## ``Frequency Encoder``\n",
    "\n",
    "A **codificação de frequência**, geralmente conhecida como **codificação de contagem**, é um método comum empregado no **tratamento de dados categóricos** no aprendizado de máquina. Na **codificação de frequência**, **substituímos** cada **categoria** pela **contagem da frequência** com que ela aparece no **conjunto de dados**. Em outras palavras, **substituímos a categoria pela sua frequência**.\n",
    "\n",
    "Quando temos **muitos níveis nas variáveis categóricas** ou mesmo elas **não possuem nenhum grau ordinal**, podemos utilizar o **Frequency Encoder**. Esse método **substitui cada nível de classe** por sua **frequência nos dados de treino**.\n",
    "\n",
    "Atenção a diferença entre **codificação de destin** e **codificação de frequência**, em resumo, a **codificação de destino substitui cada categoria pelo valor alvo médio**, enquanto a **codificação de frequência substitui cada categoria por sua frequência de ocorrência** no conjunto de dados ."
   ]
  },
  {
   "cell_type": "markdown",
   "metadata": {},
   "source": [
    "#### feature_engine.encoding.``CountFrequencyEncoder``\n",
    "\n",
    "* CountFrequencyEncoder() codificará apenas variáveis ​​categóricas por padrão (tipo 'objeto' ou 'categórico'). Você pode passar uma lista de variáveis ​​para codificar. Alternativamente, o codificador encontrará e codificará todas as variáveis ​​​​categóricas (tipo 'objeto' ou 'categórica'). Este substitui categorias pela contagem ou pela porcentagem de observações por categoria. Por exemplo, na variável cor, se 10 observações forem azuis, o azul será substituído por 10. Alternativamente, se 10% das observações forem azuis, o azul será substituído por 0,1.\n"
   ]
  },
  {
   "cell_type": "code",
   "execution_count": 21,
   "metadata": {},
   "outputs": [],
   "source": [
    "# Gerando um objeto transformador utilizando metodo de frequancia aplicado as variaveis 'Embarked', 'Pclass', 'Sex'\n",
    "cfce = CountFrequencyEncoder(encoding_method='frequency', variables=['Embarked', 'Pclass', 'Sex'])\n",
    "\n",
    "# Obtendo a categorização das frequancias\n",
    "X_train_titanic_cfce = cfce.fit_transform(X_train_titanic)"
   ]
  },
  {
   "cell_type": "code",
   "execution_count": 22,
   "metadata": {},
   "outputs": [
    {
     "data": {
      "text/html": [
       "<div>\n",
       "<style scoped>\n",
       "    .dataframe tbody tr th:only-of-type {\n",
       "        vertical-align: middle;\n",
       "    }\n",
       "\n",
       "    .dataframe tbody tr th {\n",
       "        vertical-align: top;\n",
       "    }\n",
       "\n",
       "    .dataframe thead th {\n",
       "        text-align: right;\n",
       "    }\n",
       "</style>\n",
       "<table border=\"1\" class=\"dataframe\">\n",
       "  <thead>\n",
       "    <tr style=\"text-align: right;\">\n",
       "      <th></th>\n",
       "      <th>Embarked</th>\n",
       "      <th>Age</th>\n",
       "      <th>Sex</th>\n",
       "      <th>Pclass</th>\n",
       "    </tr>\n",
       "  </thead>\n",
       "  <tbody>\n",
       "    <tr>\n",
       "      <th>173</th>\n",
       "      <td>0.770248</td>\n",
       "      <td>21.0</td>\n",
       "      <td>0.642975</td>\n",
       "      <td>0.485950</td>\n",
       "    </tr>\n",
       "    <tr>\n",
       "      <th>6</th>\n",
       "      <td>0.770248</td>\n",
       "      <td>54.0</td>\n",
       "      <td>0.642975</td>\n",
       "      <td>0.266116</td>\n",
       "    </tr>\n",
       "    <tr>\n",
       "      <th>340</th>\n",
       "      <td>0.770248</td>\n",
       "      <td>2.0</td>\n",
       "      <td>0.642975</td>\n",
       "      <td>0.247934</td>\n",
       "    </tr>\n",
       "    <tr>\n",
       "      <th>314</th>\n",
       "      <td>0.770248</td>\n",
       "      <td>43.0</td>\n",
       "      <td>0.642975</td>\n",
       "      <td>0.247934</td>\n",
       "    </tr>\n",
       "    <tr>\n",
       "      <th>565</th>\n",
       "      <td>0.770248</td>\n",
       "      <td>24.0</td>\n",
       "      <td>0.642975</td>\n",
       "      <td>0.485950</td>\n",
       "    </tr>\n",
       "  </tbody>\n",
       "</table>\n",
       "</div>"
      ],
      "text/plain": [
       "     Embarked   Age       Sex    Pclass\n",
       "173  0.770248  21.0  0.642975  0.485950\n",
       "6    0.770248  54.0  0.642975  0.266116\n",
       "340  0.770248   2.0  0.642975  0.247934\n",
       "314  0.770248  43.0  0.642975  0.247934\n",
       "565  0.770248  24.0  0.642975  0.485950"
      ]
     },
     "execution_count": 22,
     "metadata": {},
     "output_type": "execute_result"
    }
   ],
   "source": [
    "# Gerando um DataFrame com os dados transformados\n",
    "pd.DataFrame(X_train_titanic_cfce, columns=cfce.get_feature_names_out()).head()"
   ]
  },
  {
   "cell_type": "markdown",
   "metadata": {},
   "source": [
    "## ``Target Encoder``\n",
    "\n",
    "O **Codificador de destino**  possui como principal função **codificar as categorias presentes nas variaveis qualitativas e substituindo-as** por uma **medição do efeito** que podem ter no **alvo**, a **variavel dependente, target**.\n",
    "\n",
    "**Target Encoder** ou **Codificador de destino** é uma técnica de **pré-processamento de dados** que **transforma variáveis categóricas** utilizando a informação do **alvo (target)** associado a **cada categoria**. \n",
    "\n",
    "Ao vez de atribuir um único número para cada categoria, o **TargetEncoder substitui cada categoria pelo valor médio** (ou outra estatística) do **alvo** para aquela **categoria específica**.\n",
    "\n",
    "A ideia básica do **TargetEncoder** é **utilizar a informação do alvo para capturar padrões nos dados** e torná-los mais informativos para os algoritmos de aprendizado de máquina. Isso pode ajudar a **melhorar a performance do modelo**, especialmente quando a **variável categórica tem relação com o alvo**.\n",
    "\n",
    "#### Vantagens:\n",
    "\n",
    "* **Incorporação de informações do alvo**: O TargetEncoder utiliza a informação do alvo (target) para criar uma representação numérica das categorias. Isso pode ajudar a capturar relações entre as categorias e o alvo, potencialmente melhorando a performance do modelo.\n",
    "\n",
    "* **Menor dimensionalidade**: Ao contrário do One-Hot Encoding, o TargetEncoder não aumenta a dimensionalidade dos dados, já que substitui as categorias por valores numéricos. Isso pode ser vantajoso em termos de eficiência computacional e redução da complexidade do modelo.\n",
    "\n",
    "#### Desvantagens:\n",
    "\n",
    "* **Sensibilidade a dados desbalanceados**: O TargetEncoder pode ser sensível a dados desbalanceados, principalmente quando a variável categórica tem categorias com poucas observações. Nesses casos, a média das categorias pode não ser uma estimativa confiável, levando a resultados enviesados.\n",
    "\n",
    "* **Risco de overfitting**: O TargetEncoder pode introduzir informações do alvo diretamente nos dados, o que pode aumentar o risco de overfitting.Se houver categorias raras ou únicas no conjunto de treinamento que não estão presentes no conjunto de teste, o modelo pode ser incapaz de generalizar adequadamente.\n",
    "\n",
    "* **Problemas com novas categorias**: Assim como o LabelEncoder, o TargetEncoder também pode enfrentar problemas quando novas categorias aparecem nos dados de teste ou produção. Se uma nova categoria não vista durante o treinamento for encontrada, pode ser necessário adotar uma estratégia para lidar com essa situação, como substituir a nova categoria por um valor padrão ou considerar técnicas alternativas de codificação."
   ]
  },
  {
   "cell_type": "code",
   "execution_count": 23,
   "metadata": {},
   "outputs": [
    {
     "data": {
      "text/html": [
       "<div>\n",
       "<style scoped>\n",
       "    .dataframe tbody tr th:only-of-type {\n",
       "        vertical-align: middle;\n",
       "    }\n",
       "\n",
       "    .dataframe tbody tr th {\n",
       "        vertical-align: top;\n",
       "    }\n",
       "\n",
       "    .dataframe thead th {\n",
       "        text-align: right;\n",
       "    }\n",
       "</style>\n",
       "<table border=\"1\" class=\"dataframe\">\n",
       "  <thead>\n",
       "    <tr style=\"text-align: right;\">\n",
       "      <th></th>\n",
       "      <th>Embarked</th>\n",
       "      <th>Age</th>\n",
       "      <th>Sex</th>\n",
       "      <th>Pclass</th>\n",
       "    </tr>\n",
       "  </thead>\n",
       "  <tbody>\n",
       "    <tr>\n",
       "      <th>173</th>\n",
       "      <td>0.360515</td>\n",
       "      <td>21.0</td>\n",
       "      <td>0.195373</td>\n",
       "      <td>0.231293</td>\n",
       "    </tr>\n",
       "    <tr>\n",
       "      <th>6</th>\n",
       "      <td>0.360515</td>\n",
       "      <td>54.0</td>\n",
       "      <td>0.195373</td>\n",
       "      <td>0.627329</td>\n",
       "    </tr>\n",
       "    <tr>\n",
       "      <th>340</th>\n",
       "      <td>0.360515</td>\n",
       "      <td>2.0</td>\n",
       "      <td>0.195373</td>\n",
       "      <td>0.473333</td>\n",
       "    </tr>\n",
       "    <tr>\n",
       "      <th>314</th>\n",
       "      <td>0.360515</td>\n",
       "      <td>43.0</td>\n",
       "      <td>0.195373</td>\n",
       "      <td>0.473333</td>\n",
       "    </tr>\n",
       "    <tr>\n",
       "      <th>565</th>\n",
       "      <td>0.360515</td>\n",
       "      <td>24.0</td>\n",
       "      <td>0.195373</td>\n",
       "      <td>0.231293</td>\n",
       "    </tr>\n",
       "    <tr>\n",
       "      <th>...</th>\n",
       "      <td>...</td>\n",
       "      <td>...</td>\n",
       "      <td>...</td>\n",
       "      <td>...</td>\n",
       "    </tr>\n",
       "    <tr>\n",
       "      <th>125</th>\n",
       "      <td>0.566356</td>\n",
       "      <td>12.0</td>\n",
       "      <td>0.195373</td>\n",
       "      <td>0.231293</td>\n",
       "    </tr>\n",
       "    <tr>\n",
       "      <th>401</th>\n",
       "      <td>0.360515</td>\n",
       "      <td>26.0</td>\n",
       "      <td>0.195373</td>\n",
       "      <td>0.231293</td>\n",
       "    </tr>\n",
       "    <tr>\n",
       "      <th>480</th>\n",
       "      <td>0.360515</td>\n",
       "      <td>9.0</td>\n",
       "      <td>0.195373</td>\n",
       "      <td>0.231293</td>\n",
       "    </tr>\n",
       "    <tr>\n",
       "      <th>456</th>\n",
       "      <td>0.360515</td>\n",
       "      <td>65.0</td>\n",
       "      <td>0.195373</td>\n",
       "      <td>0.627329</td>\n",
       "    </tr>\n",
       "    <tr>\n",
       "      <th>646</th>\n",
       "      <td>0.360515</td>\n",
       "      <td>19.0</td>\n",
       "      <td>0.195373</td>\n",
       "      <td>0.231293</td>\n",
       "    </tr>\n",
       "  </tbody>\n",
       "</table>\n",
       "<p>605 rows × 4 columns</p>\n",
       "</div>"
      ],
      "text/plain": [
       "     Embarked   Age       Sex    Pclass\n",
       "173  0.360515  21.0  0.195373  0.231293\n",
       "6    0.360515  54.0  0.195373  0.627329\n",
       "340  0.360515   2.0  0.195373  0.473333\n",
       "314  0.360515  43.0  0.195373  0.473333\n",
       "565  0.360515  24.0  0.195373  0.231293\n",
       "..        ...   ...       ...       ...\n",
       "125  0.566356  12.0  0.195373  0.231293\n",
       "401  0.360515  26.0  0.195373  0.231293\n",
       "480  0.360515   9.0  0.195373  0.231293\n",
       "456  0.360515  65.0  0.195373  0.627329\n",
       "646  0.360515  19.0  0.195373  0.231293\n",
       "\n",
       "[605 rows x 4 columns]"
      ]
     },
     "metadata": {},
     "output_type": "display_data"
    }
   ],
   "source": [
    "# Gerando Objeto transformador aplicado as variaveis 'Embarked', 'Pclass', 'Sex'\n",
    "te = TargetEncoder(cols=['Embarked', 'Pclass', 'Sex'])\n",
    "\n",
    "# Obtendo a categorização de acordo com o target\n",
    "df_te = te.fit_transform(X_train_titanic, y_train_titanic)\n",
    "\n",
    "# Visualizando a trasformação\n",
    "display(df_te)"
   ]
  },
  {
   "cell_type": "markdown",
   "metadata": {},
   "source": [
    "## ``LabelEncoder``"
   ]
  },
  {
   "cell_type": "markdown",
   "metadata": {},
   "source": [
    "Label Encoder: É uma técnica simples e eficiente que mapeia cada categoria para um valor numérico único. Ele é frequentemente usado em tarefas de classificação binária ou regressão, onde o objetivo é transformar as categorias em valores que possam ser facilmente processados pelos algoritmos de machine learning.Label Encoder não leva em consideração a ordem ou a relação entre as categorias, o que pode ser um desafio para alguns modelos\n",
    "\n",
    "Vantagens:\n",
    "Preserva a ordem das categorias, se houver uma relação ordinal.\n",
    "Reduz a dimensionalidade do espaço de recursos em comparação com o One-Hot Encoding\n",
    "\n",
    "Desvantagens:\n",
    "Pode introduzir uma ordem indesejada se a variável categórica não tiver uma relação ordinal real.\n",
    "Algoritmos de aprendizado de máquina podem erroneamente assumir uma relação de ordem entre as categorias."
   ]
  }
 ],
 "metadata": {
  "kernelspec": {
   "display_name": "Python 3",
   "language": "python",
   "name": "python3"
  },
  "language_info": {
   "codemirror_mode": {
    "name": "ipython",
    "version": 3
   },
   "file_extension": ".py",
   "mimetype": "text/x-python",
   "name": "python",
   "nbconvert_exporter": "python",
   "pygments_lexer": "ipython3",
   "version": "3.10.11"
  }
 },
 "nbformat": 4,
 "nbformat_minor": 2
}
