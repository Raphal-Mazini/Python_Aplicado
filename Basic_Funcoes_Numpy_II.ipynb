{
 "cells": [
  {
   "cell_type": "markdown",
   "id": "ac9ad6eb",
   "metadata": {},
   "source": [
    "# <center> Funções Numpy </center>\n",
    "\n",
    "## BasicToolBox  - Numpy II"
   ]
  },
  {
   "cell_type": "code",
   "execution_count": 215,
   "id": "1f056bd0",
   "metadata": {},
   "outputs": [],
   "source": [
    "import numpy as np"
   ]
  },
  {
   "cell_type": "markdown",
   "id": "482c46d8",
   "metadata": {},
   "source": [
    "## ``linspace`` Numpy\n",
    "\n",
    "* Retorna números com espaçamento uniforme em um intervalo especificado."
   ]
  },
  {
   "cell_type": "code",
   "execution_count": 216,
   "id": "4e1fc2de",
   "metadata": {},
   "outputs": [
    {
     "name": "stdout",
     "output_type": "stream",
     "text": [
      "[1.         1.57142857 2.14285714 2.71428571 3.28571429 3.85714286\n",
      " 4.42857143 5.        ]\n"
     ]
    }
   ],
   "source": [
    "# Criando um intervalo de valores entre 1 e 5 com 8 valores nesse intervalo \n",
    "intervalo = np.linspace(1,5, 8)\n",
    "print(intervalo)"
   ]
  },
  {
   "cell_type": "code",
   "execution_count": 217,
   "id": "8c33702d",
   "metadata": {},
   "outputs": [
    {
     "data": {
      "text/plain": [
       "numpy.ndarray"
      ]
     },
     "execution_count": 217,
     "metadata": {},
     "output_type": "execute_result"
    }
   ],
   "source": [
    "type(intervalo)"
   ]
  },
  {
   "cell_type": "code",
   "execution_count": 218,
   "id": "81347c98",
   "metadata": {},
   "outputs": [
    {
     "name": "stdout",
     "output_type": "stream",
     "text": [
      "1.0\n",
      "1.5714285714285714\n",
      "2.142857142857143\n",
      "2.7142857142857144\n",
      "3.2857142857142856\n",
      "3.8571428571428568\n",
      "4.428571428571429\n",
      "5.0\n"
     ]
    },
    {
     "data": {
      "text/plain": [
       "numpy.float64"
      ]
     },
     "execution_count": 218,
     "metadata": {},
     "output_type": "execute_result"
    }
   ],
   "source": [
    "# Criando um intervalo de valores entre 1 e 5 com 8 valores nesse intervalo\n",
    "for x in np.linspace(1,5, 8):\n",
    "    print(x)\n",
    "type(x)"
   ]
  },
  {
   "cell_type": "markdown",
   "id": "5f47ab20",
   "metadata": {},
   "source": [
    "## ``arange`` Numpy \n",
    "\n",
    "* Retorna valores espaçados uniformemente dentro de um determinado intervalo."
   ]
  },
  {
   "cell_type": "code",
   "execution_count": 219,
   "id": "98dd42ce",
   "metadata": {},
   "outputs": [
    {
     "data": {
      "text/plain": [
       "array([1, 2, 3, 4, 5, 6, 7, 8, 9])"
      ]
     },
     "execution_count": 219,
     "metadata": {},
     "output_type": "execute_result"
    }
   ],
   "source": [
    "# Gerando valores de 1 até 9\n",
    "np.arange(1,10)"
   ]
  },
  {
   "cell_type": "code",
   "execution_count": 220,
   "id": "b3a317a5",
   "metadata": {},
   "outputs": [
    {
     "data": {
      "text/plain": [
       "array([0, 2, 4, 6, 8])"
      ]
     },
     "execution_count": 220,
     "metadata": {},
     "output_type": "execute_result"
    }
   ],
   "source": [
    "# Gerando Valores de 0 até 9 de 2 em 2\n",
    "np.arange(0,10, 2)"
   ]
  },
  {
   "cell_type": "code",
   "execution_count": 221,
   "id": "8d5de940",
   "metadata": {},
   "outputs": [
    {
     "data": {
      "text/plain": [
       "array([1, 3, 5, 7, 9])"
      ]
     },
     "execution_count": 221,
     "metadata": {},
     "output_type": "execute_result"
    }
   ],
   "source": [
    "# Gerando Valores de 1 até 9 pulando de 2 em 2 \n",
    "np.arange(1,10, 2)"
   ]
  },
  {
   "cell_type": "code",
   "execution_count": 222,
   "id": "34141213",
   "metadata": {},
   "outputs": [
    {
     "name": "stdout",
     "output_type": "stream",
     "text": [
      "[0 1 2 3 4 5 6 7 8 9]\n"
     ]
    }
   ],
   "source": [
    "# Criando um intervalo de 10 elementos, sendo valores vde 0 a 9\n",
    "np_arange = np.arange(10)\n",
    "print(np_arange)"
   ]
  },
  {
   "cell_type": "code",
   "execution_count": 223,
   "id": "0dca9332",
   "metadata": {},
   "outputs": [
    {
     "name": "stdout",
     "output_type": "stream",
     "text": [
      "0  2  4  6  8  "
     ]
    }
   ],
   "source": [
    "# Criando um intervalo de 10 elementos, sendo separados os valores pares \n",
    "for x in np_arange:\n",
    "    if x % 2 == 0:\n",
    "        print(x, end='  ')"
   ]
  },
  {
   "cell_type": "code",
   "execution_count": 224,
   "id": "13ecccb1",
   "metadata": {},
   "outputs": [
    {
     "name": "stdout",
     "output_type": "stream",
     "text": [
      "1\n",
      "3\n",
      "5\n",
      "7\n",
      "9\n"
     ]
    }
   ],
   "source": [
    "# Criando um intervalo de 10 elementos, sendo separados os valores ímpares\n",
    "for x in np_arange:\n",
    "    if x % 2 != 0:\n",
    "        print(x)"
   ]
  },
  {
   "cell_type": "markdown",
   "id": "71921cdb",
   "metadata": {},
   "source": [
    "## Indexação"
   ]
  },
  {
   "cell_type": "code",
   "execution_count": 225,
   "id": "9994c6f1",
   "metadata": {},
   "outputs": [
    {
     "name": "stdout",
     "output_type": "stream",
     "text": [
      "[1 2 3] \n",
      "\n",
      "[[2 3 4]\n",
      " [5 6 7]]\n"
     ]
    }
   ],
   "source": [
    "# Craindo array para exemplo \"a\"\n",
    "array_a = np.array([1,2,3])\n",
    "print(array_a,'\\n')\n",
    "\n",
    "# Craindo array para exemplo \"b\"\n",
    "array_b = np.array([[2,3,4],[5,6,7]])\n",
    "print(array_b)"
   ]
  },
  {
   "cell_type": "code",
   "execution_count": 226,
   "id": "f4d12233",
   "metadata": {},
   "outputs": [
    {
     "name": "stdout",
     "output_type": "stream",
     "text": [
      "1\n",
      "3\n",
      "7\n"
     ]
    }
   ],
   "source": [
    "# buscando elemento pelos indices \n",
    "print(array_a[0])\n",
    "print(array_b[0,1])\n",
    "print(array_b[1,2])"
   ]
  },
  {
   "cell_type": "markdown",
   "id": "dfd42167",
   "metadata": {},
   "source": [
    "## <center>  Operadores de Condições Python/Matematicos com Array </center>"
   ]
  },
  {
   "cell_type": "code",
   "execution_count": 227,
   "id": "9706b2dc",
   "metadata": {},
   "outputs": [
    {
     "name": "stdout",
     "output_type": "stream",
     "text": [
      "True\n"
     ]
    }
   ],
   "source": [
    "# Operador matematico de aplicação comparativa entre inteiros\n",
    "print(3 > 1)\n",
    "# Retorno Booleano"
   ]
  },
  {
   "cell_type": "code",
   "execution_count": 228,
   "id": "032509b9",
   "metadata": {},
   "outputs": [
    {
     "name": "stdout",
     "output_type": "stream",
     "text": [
      "[False  True  True]\n"
     ]
    }
   ],
   "source": [
    "# Operador matematico de aplicação comparativa entre intiro (Escalar) e o \"array_a\"\n",
    "print(array_a > 1)\n",
    "# Retorno Booleano"
   ]
  },
  {
   "cell_type": "code",
   "execution_count": 229,
   "id": "00133379",
   "metadata": {},
   "outputs": [
    {
     "name": "stdout",
     "output_type": "stream",
     "text": [
      "[[False False  True]\n",
      " [ True  True  True]]\n"
     ]
    }
   ],
   "source": [
    "# Operador matematico de aplicação comparativa entre intiro (Escalar) e o \"array_b\"\n",
    "print(array_b > 3)\n",
    "# Retorno Booleano"
   ]
  },
  {
   "cell_type": "code",
   "execution_count": 230,
   "id": "56396133",
   "metadata": {},
   "outputs": [
    {
     "data": {
      "text/plain": [
       "array([1])"
      ]
     },
     "execution_count": 230,
     "metadata": {},
     "output_type": "execute_result"
    }
   ],
   "source": [
    "# Operador Python de Igualdade aplicado entre inteiro e o \"array_a\"\n",
    "array_a[array_a == 1]\n",
    "# Busca elemento igual no array"
   ]
  },
  {
   "cell_type": "code",
   "execution_count": 231,
   "id": "d79390d3",
   "metadata": {},
   "outputs": [
    {
     "data": {
      "text/plain": [
       "array([5])"
      ]
     },
     "execution_count": 231,
     "metadata": {},
     "output_type": "execute_result"
    }
   ],
   "source": [
    "# Operador Python de Igualdade aplicado entre inteiro e o \"array_b\"\n",
    "array_b[array_b == 5]\n",
    "# Busca elemento igual no array"
   ]
  },
  {
   "cell_type": "markdown",
   "id": "91cf1f3e",
   "metadata": {},
   "source": [
    "### ``where`` Array Numpy\n",
    "\n",
    "* Retorna elementos escolhidos de x ou y dependendo da condição"
   ]
  },
  {
   "cell_type": "code",
   "execution_count": 232,
   "id": "ebe96e13",
   "metadata": {},
   "outputs": [
    {
     "data": {
      "text/plain": [
       "(array([1, 2], dtype=int64),)"
      ]
     },
     "execution_count": 232,
     "metadata": {},
     "output_type": "execute_result"
    }
   ],
   "source": [
    "# Retorna elementos escolhidos de x ou y dependendo da condição .\n",
    "np.where(array_a > 1)"
   ]
  },
  {
   "cell_type": "markdown",
   "id": "16bfa334",
   "metadata": {},
   "source": [
    "## <center> Funções Estatísticas Básicas Numpy </center>"
   ]
  },
  {
   "cell_type": "markdown",
   "id": "f0ba3e55",
   "metadata": {},
   "source": [
    "## ``mean`` Array Numpy\n",
    "\n",
    "* Calcule a média aritmética ao longo do eixo especificado."
   ]
  },
  {
   "cell_type": "code",
   "execution_count": 233,
   "id": "2db51cb3",
   "metadata": {},
   "outputs": [
    {
     "name": "stdout",
     "output_type": "stream",
     "text": [
      "Média do Array \"a\": 2.0 \n",
      "\n",
      "Média do Array \"b\": 4.5 \n"
     ]
    }
   ],
   "source": [
    "# Função numpy para obter a média aritmética do \"array_a\"\n",
    "media_a = np.mean(array_a)\n",
    "print(f'Média do Array \"a\": {media_a} \\n')\n",
    "\n",
    "# Função numpy para obter a média aritmética do \"array_b\"\n",
    "media_b = np.mean(array_b)\n",
    "print(f'Média do Array \"b\": {media_b} ')"
   ]
  },
  {
   "cell_type": "markdown",
   "id": "ba4804f2",
   "metadata": {},
   "source": [
    "## ``median`` Array Numpy\n",
    "\n",
    "* Retorna a Mediana do conjunto de valores"
   ]
  },
  {
   "cell_type": "code",
   "execution_count": 234,
   "id": "a90409f2",
   "metadata": {},
   "outputs": [
    {
     "data": {
      "text/plain": [
       "2.5"
      ]
     },
     "execution_count": 234,
     "metadata": {},
     "output_type": "execute_result"
    }
   ],
   "source": [
    "# Calculando a Mediana com numpy\n",
    "np.median([1,2,3,4])"
   ]
  },
  {
   "cell_type": "markdown",
   "id": "52c5cb45",
   "metadata": {},
   "source": [
    "## ``std`` Array Numpy\n",
    "\n",
    "* Calcule o desvio padrão ao longo do eixo especificado."
   ]
  },
  {
   "cell_type": "code",
   "execution_count": 235,
   "id": "b430788b",
   "metadata": {},
   "outputs": [
    {
     "name": "stdout",
     "output_type": "stream",
     "text": [
      "Desvio Padrão no Array \"a\": 0.82 \n",
      "\n",
      "Desvio Padrão no Array \"b\": 1.71 \n",
      "\n"
     ]
    }
   ],
   "source": [
    "# Função numpy para obter desvio padrão \"array_a\"\n",
    "desvio_a = np.std(array_a)\n",
    "print(f'Desvio Padrão no Array \"a\": {desvio_a:.2f} \\n')\n",
    "# Limitando o resultado do desvio padrão no array_a ha duas casas decimais \n",
    "\n",
    "# Função numpy para obter desvio padrão \"array_b\"\n",
    "desvio_b = np.std(array_b)\n",
    "print(f'Desvio Padrão no Array \"b\": {desvio_b:.2f} \\n')\n",
    "# Limitando o resultado do desvio padrão no array_b ha duas casas decimais "
   ]
  },
  {
   "cell_type": "markdown",
   "id": "1156e03b",
   "metadata": {},
   "source": [
    "## ``var`` Array Numpy\n",
    "\n",
    "* Calcule a variação ao longo do eixo especificado."
   ]
  },
  {
   "cell_type": "code",
   "execution_count": 236,
   "id": "6433114c",
   "metadata": {},
   "outputs": [
    {
     "name": "stdout",
     "output_type": "stream",
     "text": [
      "Variância no Array \"a\": 0.67\n",
      "Variância no Array \"b\": 2.92\n"
     ]
    }
   ],
   "source": [
    "# Função numpy para obter a variância no \"array_a\"\n",
    "var_a = np.var(array_a)\n",
    "print(f'Variância no Array \"a\": {var_a:.2f}')\n",
    "# Limitando o resultado da variância no array_a ha duas casas decimais \n",
    "\n",
    "# Função numpy para obter a variância no \"array_b\"\n",
    "var_b = np.var(array_b)\n",
    "print(f'Variância no Array \"b\": {var_b:.2f}')\n",
    "# Limitando o resultado da variância no array_b ha duas casas decimais "
   ]
  },
  {
   "cell_type": "markdown",
   "id": "5675d79d",
   "metadata": {},
   "source": [
    "## <center> Manipulando Arrays com hstack e vstack </center>"
   ]
  },
  {
   "cell_type": "code",
   "execution_count": 237,
   "id": "3f190423",
   "metadata": {},
   "outputs": [
    {
     "name": "stdout",
     "output_type": "stream",
     "text": [
      "[1 2 3] \t [2 3 4] \t [1 1 1]\n"
     ]
    }
   ],
   "source": [
    "# Criando Arrays para Exemplificar\n",
    "a = np.array([1,2,3])\n",
    "b = np.array([2,3,4])\n",
    "c = np.array([1,1,1])\n",
    "print(a,'\\t',b,'\\t',c)"
   ]
  },
  {
   "cell_type": "markdown",
   "id": "1bc48765",
   "metadata": {},
   "source": [
    "## ``vstack`` Array Numpy\n",
    "\n",
    "* Empilhe matrizes em sequência verticalmente (linha)."
   ]
  },
  {
   "cell_type": "code",
   "execution_count": 238,
   "id": "1fe92c36",
   "metadata": {},
   "outputs": [
    {
     "name": "stdout",
     "output_type": "stream",
     "text": [
      "[[1 1 1]\n",
      " [1 2 3]\n",
      " [2 3 4]]\n"
     ]
    }
   ],
   "source": [
    "# Criando Arrays para Exemplificar\n",
    "a = np.array([1,2,3])\n",
    "b = np.array([2,3,4])\n",
    "c = np.array([1,1,1])\n",
    "\n",
    "# 1º Opção - Empilhe matrizes em sequência verticalmente (linha).\n",
    "array_vstack_01 = np.vstack((c,a,b))\n",
    "# Criando Arrays para Exemplificar\n",
    "print(array_vstack_01)"
   ]
  },
  {
   "cell_type": "code",
   "execution_count": 239,
   "id": "8132cb20",
   "metadata": {},
   "outputs": [
    {
     "name": "stdout",
     "output_type": "stream",
     "text": [
      "[[1 1 1]\n",
      " [1 2 3]]\n"
     ]
    }
   ],
   "source": [
    "# Criando Arrays para Exemplificar\n",
    "a = np.array([1,2,3])\n",
    "b = np.array([2,3,4])\n",
    "c = np.array([1,1,1])\n",
    "\n",
    "# 2º Opção - Empilhe matrizes em sequência verticalmente (linha).\n",
    "array_vstack_02 = np.vstack((c,a))\n",
    "print(array_vstack_02)"
   ]
  },
  {
   "cell_type": "code",
   "execution_count": 240,
   "id": "f85aa76c",
   "metadata": {},
   "outputs": [
    {
     "name": "stdout",
     "output_type": "stream",
     "text": [
      "[[1 2 3]\n",
      " [4 5 6]\n",
      " [2 3 4]]\n"
     ]
    }
   ],
   "source": [
    "# Craindo Matriz para exemplificação\n",
    "a = np.array([[1,2,3],[4,5,6]])\n",
    "\n",
    "# Criando Vetor para exemplificação\n",
    "b = np.array([2,3,4])\n",
    "\n",
    "# Concatendo por meio do np.vstack()\n",
    "vstack = np.vstack((a,b))\n",
    "print(vstack)"
   ]
  },
  {
   "cell_type": "code",
   "execution_count": 241,
   "id": "1b2306dc",
   "metadata": {},
   "outputs": [
    {
     "data": {
      "text/plain": [
       "numpy.ndarray"
      ]
     },
     "execution_count": 241,
     "metadata": {},
     "output_type": "execute_result"
    }
   ],
   "source": [
    "# Confirmando o Tipo Primitivo do Dado\n",
    "type(vstack)"
   ]
  },
  {
   "cell_type": "markdown",
   "id": "fd8d023b",
   "metadata": {},
   "source": [
    "## ``hstack`` Array Numpy\n",
    "\n",
    "* Empilhe matrizes em sequência horizontalmente (em colunas)."
   ]
  },
  {
   "cell_type": "code",
   "execution_count": 242,
   "id": "c2be373f",
   "metadata": {},
   "outputs": [
    {
     "name": "stdout",
     "output_type": "stream",
     "text": [
      "[1 1 1 1 2 3 2 3 4]\n"
     ]
    }
   ],
   "source": [
    "# Criando Arrays para Exemplificar\n",
    "a = np.array([1,2,3])\n",
    "b = np.array([2,3,4])\n",
    "c = np.array([1,1,1])\n",
    "\n",
    "# Empilhe matrizes em sequência horizontalmente (em colunas)\n",
    "array_hstack_01 = np.hstack((c,a,b))\n",
    "print(array_hstack_01)"
   ]
  },
  {
   "cell_type": "code",
   "execution_count": 243,
   "id": "99b9da26",
   "metadata": {},
   "outputs": [
    {
     "name": "stdout",
     "output_type": "stream",
     "text": [
      "[1 1 1 1 2 3]\n"
     ]
    }
   ],
   "source": [
    "# Criando Arrays para Exemplificar\n",
    "a = np.array([1,2,3])\n",
    "b = np.array([2,3,4])\n",
    "c = np.array([1,1,1])\n",
    "\n",
    "# Empilhe matrizes em sequência horizontalmente (em colunas)\n",
    "array_hstack_01 = np.hstack((c,a))\n",
    "print(array_hstack_01)"
   ]
  },
  {
   "cell_type": "markdown",
   "id": "9781c3a7",
   "metadata": {},
   "source": [
    "## ``append`` Array Numpy\n",
    "\n",
    "* Acrescente valores ao final de uma matriz."
   ]
  },
  {
   "cell_type": "code",
   "execution_count": 244,
   "id": "91a8fe8b",
   "metadata": {},
   "outputs": [
    {
     "name": "stdout",
     "output_type": "stream",
     "text": [
      "[1 2 3 2 3 4]\n"
     ]
    }
   ],
   "source": [
    "# Adicionando valores por meio do append\n",
    "array_apend= np.append(a,b)\n",
    "print(array_apend)"
   ]
  },
  {
   "cell_type": "markdown",
   "id": "00582589",
   "metadata": {},
   "source": [
    "# <center> Concatenação de Arrays </center>"
   ]
  },
  {
   "cell_type": "code",
   "execution_count": 245,
   "id": "014f6507",
   "metadata": {},
   "outputs": [
    {
     "data": {
      "text/plain": [
       "array([1, 2, 3, 4, 5, 6, 2, 3, 4])"
      ]
     },
     "execution_count": 245,
     "metadata": {},
     "output_type": "execute_result"
    }
   ],
   "source": [
    "# Craindo Matriz para exemplificação\n",
    "a = np.array([[1,2,3],[4,5,6]])\n",
    "\n",
    "# Criando Vetor para exemplificação\n",
    "b = np.array([2,3,4])\n",
    "\n",
    "# Concatenando por meio do np.append() Matriz e Vetor\n",
    "apend = np.append(a,b)\n",
    "apend"
   ]
  },
  {
   "cell_type": "code",
   "execution_count": 246,
   "id": "e1dccf8d",
   "metadata": {},
   "outputs": [
    {
     "data": {
      "text/plain": [
       "numpy.ndarray"
      ]
     },
     "execution_count": 246,
     "metadata": {},
     "output_type": "execute_result"
    }
   ],
   "source": [
    "# Confirmando o Tipo Primitivo do Dado\n",
    "type(apend)"
   ]
  },
  {
   "cell_type": "markdown",
   "id": "6c90d27c",
   "metadata": {},
   "source": [
    "## ``reshape`` Array Numpy\n",
    "\n",
    "* Cria uma nova forma a um array sem alterar seus dados."
   ]
  },
  {
   "cell_type": "code",
   "execution_count": 247,
   "id": "ac5c239c",
   "metadata": {},
   "outputs": [
    {
     "data": {
      "text/plain": [
       "array([[1, 2, 3],\n",
       "       [4, 5, 6],\n",
       "       [2, 3, 4]])"
      ]
     },
     "execution_count": 247,
     "metadata": {},
     "output_type": "execute_result"
    }
   ],
   "source": [
    "# Craindo Matriz para exemplificação\n",
    "a = np.array([[1,2,3],[4,5,6]])\n",
    "\n",
    "# Criando Vetor para exemplificação e remodelando seu formato de \"linhas\" para \"colunas\"\n",
    "b = np.array([2,3,4]).reshape(1,3)\n",
    "\n",
    "# Concatendo por meio do np.append()\n",
    "resh_apend = np.append(a,b, axis=0)\n",
    "resh_apend"
   ]
  },
  {
   "cell_type": "code",
   "execution_count": 248,
   "id": "657cc92e",
   "metadata": {},
   "outputs": [
    {
     "data": {
      "text/plain": [
       "array([[1, 2, 3],\n",
       "       [4, 5, 6],\n",
       "       [2, 3, 4]])"
      ]
     },
     "execution_count": 248,
     "metadata": {},
     "output_type": "execute_result"
    }
   ],
   "source": [
    "# Craindo Matriz para exemplificação\n",
    "a = np.array([[1,2,3],[4,5,6]])\n",
    "\n",
    "# Criando Vetor para exemplificação\n",
    "b = np.array([2,3,4])\n",
    "\n",
    "# Concatendo por meio do np.append() e remolando para uma matriz 3x3 = 9\n",
    "resh_apend = np.append(a,b)\n",
    "resh_apend.reshape(3,3)"
   ]
  },
  {
   "cell_type": "code",
   "execution_count": 249,
   "id": "d3fef943",
   "metadata": {},
   "outputs": [
    {
     "data": {
      "text/plain": [
       "numpy.ndarray"
      ]
     },
     "execution_count": 249,
     "metadata": {},
     "output_type": "execute_result"
    }
   ],
   "source": [
    "# Confirmando o Tipo Primitivo do Dado\n",
    "type(resh_apend)"
   ]
  },
  {
   "cell_type": "code",
   "execution_count": 250,
   "id": "e07d3916",
   "metadata": {},
   "outputs": [
    {
     "name": "stdout",
     "output_type": "stream",
     "text": [
      "[0 1 2 3 4 5 6 7 8]\n"
     ]
    }
   ],
   "source": [
    "# Craindo vetor com 9 elementos para exemplificação\n",
    "a = np.array([0,1,2,3,4,5,6,7,8])\n",
    "print(a)"
   ]
  },
  {
   "cell_type": "code",
   "execution_count": 251,
   "id": "b20b9792",
   "metadata": {},
   "outputs": [
    {
     "name": "stdout",
     "output_type": "stream",
     "text": [
      "[[0 1 2]\n",
      " [3 4 5]\n",
      " [6 7 8]]\n"
     ]
    }
   ],
   "source": [
    "# Remodelando o formato de vetor para Matriz3x3 =- 9 elementos\n",
    "array2D_1 = a.reshape((3,3))\n",
    "print(array2D_1)"
   ]
  },
  {
   "cell_type": "markdown",
   "id": "e261a2a4",
   "metadata": {},
   "source": [
    "## ``concatenate`` Array Numpy\n",
    "\n",
    "* Juntar uma sequência de matrizes ao longo de um eixo existente."
   ]
  },
  {
   "cell_type": "code",
   "execution_count": 252,
   "id": "1d4063ce",
   "metadata": {},
   "outputs": [
    {
     "data": {
      "text/plain": [
       "array([[ 0,  1,  2],\n",
       "       [ 3,  4,  5],\n",
       "       [ 6,  7,  8],\n",
       "       [10, 11, 12],\n",
       "       [13, 14, 15],\n",
       "       [16, 17, 18]])"
      ]
     },
     "execution_count": 252,
     "metadata": {},
     "output_type": "execute_result"
    }
   ],
   "source": [
    "# Craindo vetor com 9 elementos para exemplificação e remodelando para o formato de matriz 3x3 = 9\n",
    "array2D_1 = np.array([0,1,2,3,4,5,6,7,8]).reshape((3,3))\n",
    "\n",
    "# Craindo vetor com 9 elementos para exemplificação e remodelando para o formato de matriz 3x3 = 9\n",
    "array2D_2 = np.array([10,11,12,13,14,15,16,17,18]).reshape((3,3))\n",
    "\n",
    "# Concatendo por meio de np.concatente()\n",
    "np.concatenate((array2D_1, array2D_2))"
   ]
  },
  {
   "cell_type": "code",
   "execution_count": 253,
   "id": "a1fb6575",
   "metadata": {},
   "outputs": [
    {
     "data": {
      "text/plain": [
       "array([[ 0,  1,  2],\n",
       "       [ 3,  4,  5],\n",
       "       [ 6,  7,  8],\n",
       "       [10, 11, 12],\n",
       "       [13, 14, 15],\n",
       "       [16, 17, 18]])"
      ]
     },
     "execution_count": 253,
     "metadata": {},
     "output_type": "execute_result"
    }
   ],
   "source": [
    "# Craindo vetor com 9 elementos para exemplificação\n",
    "array2D_1 = np.array([0,1,2,3,4,5,6,7,8])\n",
    "\n",
    "# Craindo vetor com 9 elementos para exemplificação\n",
    "array2D_2 = np.array([10,11,12,13,14,15,16,17,18])\n",
    "\n",
    "# Concatendo  em uma linha por meio de np.concatente()\n",
    "np.concatenate((array2D_1, array2D_2)).reshape((6,3))"
   ]
  },
  {
   "cell_type": "code",
   "execution_count": 254,
   "id": "e2030ea4",
   "metadata": {},
   "outputs": [
    {
     "data": {
      "text/plain": [
       "array([[ 0,  1,  2, 10, 11, 12],\n",
       "       [ 3,  4,  5, 13, 14, 15],\n",
       "       [ 6,  7,  8, 16, 17, 18]])"
      ]
     },
     "execution_count": 254,
     "metadata": {},
     "output_type": "execute_result"
    }
   ],
   "source": [
    "# Craindo vetor com 9 elementos para exemplificação e remodelando para o formato de matriz 3x3 = 9\n",
    "array2D_1 = np.array([0,1,2,3,4,5,6,7,8]).reshape(3,3)\n",
    "\n",
    "# Craindo vetor com 9 elementos para exemplificação e remodelando para o formato de matriz 3x3 = 9\n",
    "array2D_2 = np.array([10,11,12,13,14,15,16,17,18]).reshape(3,3)\n",
    "\n",
    "# Concatendo  em uma linha por meio de np.concatente()\n",
    "np.concatenate((array2D_1, array2D_2), axis=1)"
   ]
  },
  {
   "cell_type": "markdown",
   "id": "ae1ea813",
   "metadata": {},
   "source": [
    "# <center> Funções Matematicas Numpy </center>"
   ]
  },
  {
   "cell_type": "markdown",
   "id": "a780c8ef",
   "metadata": {},
   "source": [
    "## ``sum`` Array numpy\n",
    "\n",
    "* Retorna a soma do conjunto de valores"
   ]
  },
  {
   "cell_type": "code",
   "execution_count": 256,
   "id": "f1ea857a",
   "metadata": {},
   "outputs": [
    {
     "data": {
      "text/plain": [
       "10"
      ]
     },
     "execution_count": 256,
     "metadata": {},
     "output_type": "execute_result"
    }
   ],
   "source": [
    "# Calculando a soma de todos os valores com numpy\n",
    "np.sum([1,2,3,4])"
   ]
  },
  {
   "cell_type": "markdown",
   "id": "a7adeb61",
   "metadata": {},
   "source": [
    "## ``mod`` Array Numpy\n",
    "\n",
    "* Retorna o restante da divisão elemento a elemento."
   ]
  },
  {
   "cell_type": "code",
   "execution_count": 267,
   "id": "927af7bd",
   "metadata": {},
   "outputs": [
    {
     "name": "stdout",
     "output_type": "stream",
     "text": [
      "[0 1 0]\n"
     ]
    },
    {
     "data": {
      "text/plain": [
       "array([0, 1, 0], dtype=int32)"
      ]
     },
     "execution_count": 267,
     "metadata": {},
     "output_type": "execute_result"
    }
   ],
   "source": [
    "lista1 =[1,2,3]\n",
    "\n",
    "lista2 = [4,5,6]\n",
    "\n",
    "print(np.mod(lista2,lista1))\n",
    "np.mod(lista2,lista1)"
   ]
  },
  {
   "cell_type": "code",
   "execution_count": 268,
   "id": "fa7b95cf",
   "metadata": {},
   "outputs": [
    {
     "name": "stdout",
     "output_type": "stream",
     "text": [
      "Fim !!\n",
      "Wall time: 0 ns\n"
     ]
    }
   ],
   "source": [
    "%%time\n",
    "print('Fim !!')"
   ]
  },
  {
   "cell_type": "code",
   "execution_count": null,
   "id": "1d2d78e2",
   "metadata": {},
   "outputs": [],
   "source": []
  }
 ],
 "metadata": {
  "kernelspec": {
   "display_name": "Python 3 (ipykernel)",
   "language": "python",
   "name": "python3"
  },
  "language_info": {
   "codemirror_mode": {
    "name": "ipython",
    "version": 3
   },
   "file_extension": ".py",
   "mimetype": "text/x-python",
   "name": "python",
   "nbconvert_exporter": "python",
   "pygments_lexer": "ipython3",
   "version": "3.9.13"
  }
 },
 "nbformat": 4,
 "nbformat_minor": 5
}
