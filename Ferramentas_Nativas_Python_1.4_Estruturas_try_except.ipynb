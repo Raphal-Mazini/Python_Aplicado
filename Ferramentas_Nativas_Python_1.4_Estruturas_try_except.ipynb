{
 "cells": [
  {
   "cell_type": "markdown",
   "metadata": {},
   "source": [
    "## ``try`` / ``except``\n",
    "\n",
    "O ``try`` é para que o Python tente executar aquele código e caso não consiga executar por conta de um erro ele vai retornar o que temos dentro do ``except``. Dessa maneira você pode personalizar o que será mostrado ao usuário ao invés de uma mensagem de erro grande que pode ser difícil de entender do que se trata\n",
    "\n",
    "O ``try/except`` serve para tratamento de exceções. __Exceção__ é quando uma coisa não ocorre da forma como foi planejada. Pode-se dizer que os programas tem um fluxo normal, e um fluxo excepcional que são as exceções."
   ]
  },
  {
   "cell_type": "code",
   "execution_count": 2,
   "metadata": {},
   "outputs": [
    {
     "name": "stdout",
     "output_type": "stream",
     "text": [
      "O Resultado é 0.40\n"
     ]
    }
   ],
   "source": [
    "try:\n",
    "    a = int(input('Numerador >>> '))\n",
    "    b = int(input('Denominador >>> '))\n",
    "    r = a / b\n",
    "except:\n",
    "    print('Infelizmentre Tivemos um Problema')\n",
    "else:\n",
    "    print(f'O Resultado é {r:.2f}')    "
   ]
  },
  {
   "cell_type": "code",
   "execution_count": 6,
   "metadata": {},
   "outputs": [
    {
     "name": "stdout",
     "output_type": "stream",
     "text": [
      "Houve um Problema ! Digite um Número inteiro !!\n"
     ]
    }
   ],
   "source": [
    "try:\n",
    "    a = int(input('Numerador >>> '))\n",
    "    b = int(input('Denominador >>> '))\n",
    "    r = a / b\n",
    "except:\n",
    "    print(f'Houve um Problema ! Digite um Número inteiro !!')\n",
    "else:\n",
    "    print(f'O Resultado é {r:.2f}')    "
   ]
  },
  {
   "cell_type": "code",
   "execution_count": 11,
   "metadata": {},
   "outputs": [
    {
     "name": "stdout",
     "output_type": "stream",
     "text": [
      "O Resultado é 0.40\n",
      "Volte Sempre !!! \n"
     ]
    }
   ],
   "source": [
    "try:\n",
    "    a = int(input('Numerador >>> '))\n",
    "    b = int(input('Denominador >>> '))\n",
    "    r = a / b\n",
    "except:\n",
    "    print(f'Houve um Problema ! Digite um Número inteiro !!')\n",
    "else:\n",
    "    print(f'O Resultado é {r:.2f}')    \n",
    "finally:    \n",
    "    print('Volte Sempre !!! ')    \n",
    "    "
   ]
  },
  {
   "cell_type": "code",
   "execution_count": 26,
   "metadata": {},
   "outputs": [
    {
     "name": "stdout",
     "output_type": "stream",
     "text": [
      "Houve um Problema com o Tipo de Dado Inserido\n",
      "Volte Sempre !!\n"
     ]
    }
   ],
   "source": [
    "try:\n",
    "    a = int(input('Numerador >>> '))\n",
    "    b = int(input('Denominador >>> '))\n",
    "    r = a / b\n",
    "\n",
    "except(TypeError, ValueError):\n",
    "    print('Valor Invalido Problema com o Tipo de Dado Inserido')\n",
    "except(ZeroDivisionError):\n",
    "    print('Não é Possível Dividir um Número por Zero')\n",
    "except(KeyboardInterrupt):\n",
    "    print('Dados NÃO Informados')  \n",
    "except Exception as erro:\n",
    "    print(f'O erro encontrado foi : {erro.__cause__}')        \n",
    "else:\n",
    "    print(f'O Resultado é {r:.2f}')\n",
    "finally:\n",
    "    print('Volte Sempre !!')      "
   ]
  },
  {
   "cell_type": "code",
   "execution_count": 2,
   "metadata": {},
   "outputs": [
    {
     "name": "stdout",
     "output_type": "stream",
     "text": [
      "\u001b[31mERRO ! Insira um Valor Inteiro\u001b[m\n",
      "\u001b[31mInterrompido pelo Usuário\u001b[m\n",
      "\u001b[36mO Valor Digitado 0\u001b[m\n"
     ]
    }
   ],
   "source": [
    "def leiaInt(msg):\n",
    "    while True:\n",
    "        try:\n",
    "            n = int(input((msg)))\n",
    "        except (ValueError, TypeError):\n",
    "            print(f'\\033[31mERRO ! Insira um Valor Inteiro\\033[m' )\n",
    "            continue\n",
    "        except (KeyboardInterrupt):\n",
    "            print(f'\\033[31mInterrompido pelo Usuário\\033[m')\n",
    "            return 0\n",
    "        else:\n",
    "            return n    \n",
    "\n",
    "\n",
    "num = leiaInt('Digite um Valor >> ')\n",
    "print(f'\\033[36mO Valor Digitado {num}\\033[m')            "
   ]
  },
  {
   "cell_type": "code",
   "execution_count": 12,
   "metadata": {},
   "outputs": [
    {
     "name": "stdout",
     "output_type": "stream",
     "text": [
      "Erro de Conexão!!\n"
     ]
    }
   ],
   "source": [
    "import urllib\n",
    "import urllib.request\n",
    "\n",
    "try:\n",
    "    site = urllib.request.urlopen('http://www.pudim.com.br')\n",
    "except urllib.error.URLError:\n",
    "    print('Erro de Conexão!!')\n",
    "else:\n",
    "    print('Sucesso !!!')        "
   ]
  },
  {
   "cell_type": "code",
   "execution_count": 13,
   "metadata": {},
   "outputs": [
    {
     "name": "stdout",
     "output_type": "stream",
     "text": [
      "Sucesso !!!\n"
     ]
    }
   ],
   "source": [
    "import urllib\n",
    "import urllib.request\n",
    "\n",
    "try:\n",
    "    site = urllib.request.urlopen('http://www.pudim.com.br')\n",
    "except urllib.error.URLError:\n",
    "    print('Erro de Conexão!!')\n",
    "else:\n",
    "    print('Sucesso !!!')   "
   ]
  },
  {
   "cell_type": "code",
   "execution_count": 3,
   "metadata": {},
   "outputs": [
    {
     "name": "stdout",
     "output_type": "stream",
     "text": [
      "==========================================\n",
      "             Vai a M.... !!!              \n",
      "==========================================\n"
     ]
    }
   ],
   "source": [
    "import ex115 as ex\n",
    "\n",
    "ex.cabecalho('Sistema Exercício 115')"
   ]
  },
  {
   "cell_type": "code",
   "execution_count": 1,
   "metadata": {},
   "outputs": [
    {
     "name": "stdout",
     "output_type": "stream",
     "text": [
      "==========================================\n",
      "              Menu Principal              \n",
      "==========================================\n",
      "lista\n"
     ]
    }
   ],
   "source": [
    "import ex115 as ex\n",
    "\n",
    "ex.menu('lista')"
   ]
  }
 ],
 "metadata": {
  "kernelspec": {
   "display_name": "Python 3",
   "language": "python",
   "name": "python3"
  },
  "language_info": {
   "codemirror_mode": {
    "name": "ipython",
    "version": 3
   },
   "file_extension": ".py",
   "mimetype": "text/x-python",
   "name": "python",
   "nbconvert_exporter": "python",
   "pygments_lexer": "ipython3",
   "version": "3.10.2"
  },
  "orig_nbformat": 4
 },
 "nbformat": 4,
 "nbformat_minor": 2
}
