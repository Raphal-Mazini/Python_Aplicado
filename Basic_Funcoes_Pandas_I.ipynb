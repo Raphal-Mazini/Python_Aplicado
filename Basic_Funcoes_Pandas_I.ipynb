{
 "cells": [
  {
   "cell_type": "markdown",
   "id": "4fe45d95",
   "metadata": {},
   "source": [
    "# <center> Funções Pandas </center>\n",
    "\n",
    "## Basic ToolBox  - Pandas I"
   ]
  },
  {
   "cell_type": "code",
   "execution_count": 1,
   "id": "9641db16",
   "metadata": {},
   "outputs": [],
   "source": [
    "import pandas as pd"
   ]
  },
  {
   "cell_type": "markdown",
   "id": "0239cfba",
   "metadata": {},
   "source": [
    "## ``Series`` Pandas\n",
    "\n",
    "* Array unidimensional com rótulos de eixo, oferece suporte à indexação baseada em números inteiros e em rótulos"
   ]
  },
  {
   "cell_type": "code",
   "execution_count": 2,
   "id": "f13275be",
   "metadata": {},
   "outputs": [
    {
     "name": "stdout",
     "output_type": "stream",
     "text": [
      "Num_01    1\n",
      "Num_02    2\n",
      "Num_03    3\n",
      "Num_04    4\n",
      "dtype: int64\n"
     ]
    }
   ],
   "source": [
    "# 1º Craindo uma pd.Series() com Strings como Indices e valores como elementos\n",
    "ex_series_01 = pd.Series([1,2,3,4], index=['Num_01', 'Num_02', 'Num_03', 'Num_04'])\n",
    "print(ex_series_01)"
   ]
  },
  {
   "cell_type": "code",
   "execution_count": 3,
   "id": "df183f6f",
   "metadata": {},
   "outputs": [
    {
     "name": "stdout",
     "output_type": "stream",
     "text": [
      "1\n"
     ]
    }
   ],
   "source": [
    "# Buscando elemento na Series Pandas por meio da posição do indice\n",
    "print(ex_series_01[0])\n",
    "# Posição zero elemento valores um"
   ]
  },
  {
   "cell_type": "code",
   "execution_count": 4,
   "id": "12feca4c",
   "metadata": {},
   "outputs": [
    {
     "name": "stdout",
     "output_type": "stream",
     "text": [
      "1\n"
     ]
    }
   ],
   "source": [
    "# Buscando elemento por meio do index nomeado\n",
    "print(ex_series_01['Num_01'])"
   ]
  },
  {
   "cell_type": "code",
   "execution_count": 5,
   "id": "392e3832",
   "metadata": {},
   "outputs": [
    {
     "name": "stdout",
     "output_type": "stream",
     "text": [
      "1    Num_01\n",
      "2    Num_02\n",
      "3    Num_03\n",
      "4    Num_04\n",
      "dtype: object\n"
     ]
    }
   ],
   "source": [
    "# 2º Craindo Series com inteiros como Indices, renomendo os indices\n",
    "ex_series_02 = pd.Series(['Num_01', 'Num_02', 'Num_03', 'Num_04'],  index=[1,2,3,4])\n",
    "print(ex_series_02)"
   ]
  },
  {
   "cell_type": "code",
   "execution_count": 6,
   "id": "a3c94ee9",
   "metadata": {},
   "outputs": [
    {
     "name": "stdout",
     "output_type": "stream",
     "text": [
      "Num_01\n"
     ]
    }
   ],
   "source": [
    "# Buscando pela posição um, não posssui posição zero\n",
    "print(ex_series_02[1])\n",
    "# Não busca pelo nome do indice, e sim o valor"
   ]
  },
  {
   "cell_type": "markdown",
   "id": "623872e4",
   "metadata": {},
   "source": [
    "## ``values`` Pandas\n",
    "\n",
    "* Retorna somente os valores"
   ]
  },
  {
   "cell_type": "code",
   "execution_count": 7,
   "id": "a3e2866a",
   "metadata": {},
   "outputs": [
    {
     "name": "stdout",
     "output_type": "stream",
     "text": [
      "[1 2 3 4]\n"
     ]
    }
   ],
   "source": [
    "# Retornando os valores contidos na pd.Series()\n",
    "print(ex_series_01.values)"
   ]
  },
  {
   "cell_type": "code",
   "execution_count": 8,
   "id": "7f1d2cbe",
   "metadata": {},
   "outputs": [
    {
     "name": "stdout",
     "output_type": "stream",
     "text": [
      "['Num_01' 'Num_02' 'Num_03' 'Num_04']\n"
     ]
    }
   ],
   "source": [
    "# Retornando os valores contidos na pd.Series()\n",
    "print(ex_series_02.values)"
   ]
  },
  {
   "cell_type": "markdown",
   "id": "2127e9d8",
   "metadata": {},
   "source": [
    "## ``index`` Pandas\n",
    "\n",
    "* Retorna os indices "
   ]
  },
  {
   "cell_type": "code",
   "execution_count": 9,
   "id": "d802a096",
   "metadata": {},
   "outputs": [
    {
     "name": "stdout",
     "output_type": "stream",
     "text": [
      "Index(['Num_01', 'Num_02', 'Num_03', 'Num_04'], dtype='object')\n"
     ]
    }
   ],
   "source": [
    "# Retornando os Indecies da pd.Series()\n",
    "print(ex_series_01.index)"
   ]
  },
  {
   "cell_type": "code",
   "execution_count": 10,
   "id": "69711c46",
   "metadata": {},
   "outputs": [
    {
     "name": "stdout",
     "output_type": "stream",
     "text": [
      "Index([1, 2, 3, 4], dtype='int64')\n"
     ]
    }
   ],
   "source": [
    "# Retornando os Indecies da pd.Series()\n",
    "print(ex_series_02.index)"
   ]
  },
  {
   "cell_type": "markdown",
   "id": "ad311edd",
   "metadata": {},
   "source": [
    "## <center> Operações Matemáticas com Series </center>"
   ]
  },
  {
   "cell_type": "code",
   "execution_count": 11,
   "id": "9bb230d2",
   "metadata": {},
   "outputs": [
    {
     "name": "stdout",
     "output_type": "stream",
     "text": [
      "Series Pandas 01 :\n",
      "Carne     1\n",
      "Salada    2\n",
      "Frutas    3\n",
      "dtype: int64\n",
      "\n",
      "Series Pandas 02 :\n",
      "Ovo       2\n",
      "Salada    3\n",
      "Frutas    4\n",
      "dtype: int64\n"
     ]
    }
   ],
   "source": [
    "# Criando Series 01 para exemplificar\n",
    "series01 = pd.Series([1, 2, 3], index=['Carne', 'Salada', 'Frutas'])\n",
    "print(f'Series Pandas 01 :\\n{series01}')\n",
    "\n",
    "# Criando Series 02 para exemplificar\n",
    "series02 = pd.Series([2, 3, 4], index=['Ovo', 'Salada', 'Frutas'])\n",
    "print(f'\\nSeries Pandas 02 :\\n{series02}')"
   ]
  },
  {
   "cell_type": "markdown",
   "id": "fad26dbd",
   "metadata": {},
   "source": [
    "## ``Soma`` entre ``Series`` Pandas"
   ]
  },
  {
   "cell_type": "code",
   "execution_count": 12,
   "id": "e39946e5",
   "metadata": {},
   "outputs": [
    {
     "name": "stdout",
     "output_type": "stream",
     "text": [
      "Carne     NaN\n",
      "Frutas    7.0\n",
      "Ovo       NaN\n",
      "Salada    5.0\n",
      "dtype: float64\n"
     ]
    }
   ],
   "source": [
    "soma = series01 + series02\n",
    "print(soma)"
   ]
  },
  {
   "cell_type": "markdown",
   "id": "55ccaa58",
   "metadata": {},
   "source": [
    "## ``Subtração`` entre ``Series`` Pandas"
   ]
  },
  {
   "cell_type": "code",
   "execution_count": 13,
   "id": "4393b295",
   "metadata": {},
   "outputs": [
    {
     "name": "stdout",
     "output_type": "stream",
     "text": [
      "Carne     NaN\n",
      "Frutas   -1.0\n",
      "Ovo       NaN\n",
      "Salada   -1.0\n",
      "dtype: float64\n"
     ]
    }
   ],
   "source": [
    "sub = series01 - series02\n",
    "print(sub)"
   ]
  },
  {
   "cell_type": "markdown",
   "id": "a3ea05cb",
   "metadata": {},
   "source": [
    "## ``Divisão`` entre ``Series`` Pandas"
   ]
  },
  {
   "cell_type": "code",
   "execution_count": 14,
   "id": "cae7c448",
   "metadata": {},
   "outputs": [
    {
     "name": "stdout",
     "output_type": "stream",
     "text": [
      "Carne          NaN\n",
      "Frutas    0.750000\n",
      "Ovo            NaN\n",
      "Salada    0.666667\n",
      "dtype: float64\n"
     ]
    }
   ],
   "source": [
    "divsao = series01 / series02\n",
    "print(divsao)"
   ]
  },
  {
   "cell_type": "code",
   "execution_count": 15,
   "id": "7acf7ed1",
   "metadata": {},
   "outputs": [
    {
     "name": "stdout",
     "output_type": "stream",
     "text": [
      "Carne      NaN\n",
      "Frutas    0.75\n",
      "Ovo        NaN\n",
      "Salada    0.67\n",
      "dtype: float64\n"
     ]
    }
   ],
   "source": [
    "divsao = (series01 / series02).round(2)\n",
    "print(divsao)"
   ]
  },
  {
   "cell_type": "markdown",
   "id": "a3a37a38",
   "metadata": {},
   "source": [
    "## ``Multiplicação`` entre ``Series`` Pandas"
   ]
  },
  {
   "cell_type": "code",
   "execution_count": 16,
   "id": "c6fb1af7",
   "metadata": {},
   "outputs": [
    {
     "name": "stdout",
     "output_type": "stream",
     "text": [
      "Carne      NaN\n",
      "Frutas    12.0\n",
      "Ovo        NaN\n",
      "Salada     6.0\n",
      "dtype: float64\n"
     ]
    }
   ],
   "source": [
    "mult = series01 * series02\n",
    "print(mult)"
   ]
  },
  {
   "cell_type": "markdown",
   "id": "5ed8ea9d",
   "metadata": {},
   "source": [
    "## ``Soma`` a Series Pandas"
   ]
  },
  {
   "cell_type": "code",
   "execution_count": 46,
   "id": "9158e5b0",
   "metadata": {},
   "outputs": [
    {
     "name": "stdout",
     "output_type": "stream",
     "text": [
      "Carne     1\n",
      "Salada    2\n",
      "Frutas    3\n",
      "dtype: int64 \n",
      "\n",
      "A Soma de Todos os Elementos 01: 6\n"
     ]
    }
   ],
   "source": [
    "# Visualização series01\n",
    "print(series01,'\\n')\n",
    "\n",
    "# Somando todos os elementos em \"series01\"\n",
    "print(f'A Soma de Todos os Elementos 01: {series01.sum()}')"
   ]
  },
  {
   "cell_type": "code",
   "execution_count": 48,
   "id": "ce27196b",
   "metadata": {},
   "outputs": [
    {
     "name": "stdout",
     "output_type": "stream",
     "text": [
      "Ovo       2\n",
      "Salada    3\n",
      "Frutas    4\n",
      "dtype: int64 \n",
      "\n",
      "A Soma de Todos os Elementos 02: 9\n"
     ]
    }
   ],
   "source": [
    "# Visualização series02\n",
    "print(series02,'\\n')\n",
    "\n",
    "# Somando todos os elementos em \"series02\"\n",
    "print(f'A Soma de Todos os Elementos 02: {series02.sum()}')"
   ]
  },
  {
   "cell_type": "markdown",
   "id": "7091fa24",
   "metadata": {},
   "source": [
    "## ``Desvio Padrão`` na Series Pandas"
   ]
  },
  {
   "cell_type": "code",
   "execution_count": 49,
   "id": "0734c128",
   "metadata": {},
   "outputs": [
    {
     "name": "stdout",
     "output_type": "stream",
     "text": [
      "Carne     1\n",
      "Salada    2\n",
      "Frutas    3\n",
      "dtype: int64 \n",
      "\n",
      "O Desvi Padrão dos Elementos 01: 1.0\n"
     ]
    }
   ],
   "source": [
    "# Visualização series01\n",
    "print(series01,'\\n')\n",
    "\n",
    "# Obtem o Desvio Padrão dos elementos em \"series01\"\n",
    "print(f'O Desvi Padrão dos Elementos 01: {series01.std()}')"
   ]
  },
  {
   "cell_type": "code",
   "execution_count": 50,
   "id": "6e4c6f53",
   "metadata": {},
   "outputs": [
    {
     "name": "stdout",
     "output_type": "stream",
     "text": [
      "Ovo       2\n",
      "Salada    3\n",
      "Frutas    4\n",
      "dtype: int64 \n",
      "\n",
      "O Desvi Padrão dos Elementos 02: 1.0\n"
     ]
    }
   ],
   "source": [
    "# Visualização series02\n",
    "print(series02,'\\n')\n",
    "\n",
    "# Obtem o Desvio Padrão dos elementos em \"series02\"\n",
    "print(f'O Desvi Padrão dos Elementos 02: {series02.std()}')"
   ]
  },
  {
   "cell_type": "markdown",
   "id": "68cb0be4",
   "metadata": {},
   "source": [
    "## ``Máximo`` da Series Pandas"
   ]
  },
  {
   "cell_type": "code",
   "execution_count": 51,
   "id": "74b2e22a",
   "metadata": {},
   "outputs": [
    {
     "name": "stdout",
     "output_type": "stream",
     "text": [
      "Carne     1\n",
      "Salada    2\n",
      "Frutas    3\n",
      "dtype: int64 \n",
      "\n",
      "O Elemento de Maior Valor 01: 3\n"
     ]
    }
   ],
   "source": [
    "# Visualização series01\n",
    "print(series01,'\\n')\n",
    "\n",
    "\n",
    "# Obtem o elemento com o \"maior valor na series01\"\n",
    "print(f'O Elemento de Maior Valor 01: {series01.max()}')"
   ]
  },
  {
   "cell_type": "code",
   "execution_count": 52,
   "id": "dadcf73f",
   "metadata": {},
   "outputs": [
    {
     "name": "stdout",
     "output_type": "stream",
     "text": [
      "Ovo       2\n",
      "Salada    3\n",
      "Frutas    4\n",
      "dtype: int64 \n",
      "\n",
      "O Elemento de Maior Valor 01: 4\n"
     ]
    }
   ],
   "source": [
    "# Visualização series02\n",
    "print(series02,'\\n')\n",
    "\n",
    "\n",
    "# Obtem o elemento com o \"maior valor na series02\"\n",
    "print(f'O Elemento de Maior Valor 01: {series02.max()}')"
   ]
  },
  {
   "cell_type": "markdown",
   "id": "136d0670",
   "metadata": {},
   "source": [
    "## ``Mínimo`` na Series Pandas"
   ]
  },
  {
   "cell_type": "code",
   "execution_count": 54,
   "id": "32dd2f22",
   "metadata": {},
   "outputs": [
    {
     "name": "stdout",
     "output_type": "stream",
     "text": [
      "Carne     1\n",
      "Salada    2\n",
      "Frutas    3\n",
      "dtype: int64 \n",
      "\n",
      "O Elemento de Menor Valor 01:  1\n"
     ]
    }
   ],
   "source": [
    "# Visualização series01\n",
    "print(series01,'\\n')\n",
    "\n",
    "# Obtem o elemento de \"menor valor na series01\"\n",
    "print(f'O Elemento de Menor Valor 01:  {series01.min()}')"
   ]
  },
  {
   "cell_type": "code",
   "execution_count": 55,
   "id": "edf81694",
   "metadata": {},
   "outputs": [
    {
     "name": "stdout",
     "output_type": "stream",
     "text": [
      "Ovo       2\n",
      "Salada    3\n",
      "Frutas    4\n",
      "dtype: int64 \n",
      "\n",
      "O Elemento de Menor Valor 02:  2\n"
     ]
    }
   ],
   "source": [
    "# Visualização series02\n",
    "print(series02,'\\n')\n",
    "\n",
    "# Obtem o elemento de \"menor valor na series02\"\n",
    "print(f'O Elemento de Menor Valor 02:  {series02.min()}')"
   ]
  },
  {
   "cell_type": "markdown",
   "id": "29abad03",
   "metadata": {},
   "source": [
    "## ``Contagem`` na Seires Pandas"
   ]
  },
  {
   "cell_type": "code",
   "execution_count": 59,
   "id": "95c06825",
   "metadata": {},
   "outputs": [
    {
     "name": "stdout",
     "output_type": "stream",
     "text": [
      "Carne     1\n",
      "Salada    2\n",
      "Frutas    3\n",
      "dtype: int64 \n",
      "\n",
      "A Contagem Total de Eementos 01: 3\n"
     ]
    }
   ],
   "source": [
    "# Visualização series01\n",
    "print(series01,'\\n')\n",
    "\n",
    "# Obtem a \"contagem de elementos\" em series01\n",
    "print(f'A Contagem Total de Eementos 01: {series01.count()}')"
   ]
  },
  {
   "cell_type": "code",
   "execution_count": 60,
   "id": "d789a656",
   "metadata": {},
   "outputs": [
    {
     "name": "stdout",
     "output_type": "stream",
     "text": [
      "Ovo       2\n",
      "Salada    3\n",
      "Frutas    4\n",
      "dtype: int64 \n",
      "\n",
      "A Contagem Total de Eementos 02: 3\n"
     ]
    }
   ],
   "source": [
    "# Visualização series02\n",
    "print(series02,'\\n')\n",
    "\n",
    "# Obtem a \"contagem de elementos\" em series02\n",
    "print(f'A Contagem Total de Eementos 02: {series02.count()}')"
   ]
  },
  {
   "cell_type": "code",
   "execution_count": 66,
   "id": "15bf76f2",
   "metadata": {},
   "outputs": [
    {
     "name": "stdout",
     "output_type": "stream",
     "text": [
      "Carne     1\n",
      "Salada    2\n",
      "Frutas    3\n",
      "dtype: int64 \n",
      "\n",
      "A Contagem de Todos os Valores 01: \n",
      "1    1\n",
      "2    1\n",
      "3    1\n",
      "Name: count, dtype: int64\n"
     ]
    }
   ],
   "source": [
    "# Visualização series01\n",
    "print(series01,'\\n')\n",
    "\n",
    "# Obtem a \"contagem dos valores\" em series01\n",
    "print(f'A Contagem de Todos os Valores 01: \\n{series01.value_counts()}')"
   ]
  },
  {
   "cell_type": "code",
   "execution_count": 67,
   "id": "eb8ab95d",
   "metadata": {},
   "outputs": [
    {
     "name": "stdout",
     "output_type": "stream",
     "text": [
      "Ovo       2\n",
      "Salada    3\n",
      "Frutas    4\n",
      "dtype: int64 \n",
      "\n",
      "A Contagem de Todos os Valores 02: \n",
      "2    1\n",
      "3    1\n",
      "4    1\n",
      "Name: count, dtype: int64\n"
     ]
    }
   ],
   "source": [
    "# Visualização series02\n",
    "print(series02,'\\n')\n",
    "\n",
    "# Obtem a \"contagem dos valores\" em series02\n",
    "print(f'A Contagem de Todos os Valores 02: \\n{series02.value_counts()}')"
   ]
  },
  {
   "cell_type": "markdown",
   "id": "7b6dda66",
   "metadata": {},
   "source": [
    "## ``Únicos`` na Series Pandas"
   ]
  },
  {
   "cell_type": "code",
   "execution_count": 63,
   "id": "5d8495f6",
   "metadata": {},
   "outputs": [
    {
     "name": "stdout",
     "output_type": "stream",
     "text": [
      "Carne     1\n",
      "Salada    2\n",
      "Frutas    3\n",
      "dtype: int64 \n",
      "\n",
      "Os Valores Únicos/Exclusivos 01: [1 2 3]\n"
     ]
    }
   ],
   "source": [
    "# Visualização series01\n",
    "print(series01,'\\n')\n",
    "\n",
    "# Retorna os \"valores exclusivos\" na series01\n",
    "print(f'Os Valores Únicos/Exclusivos 01: {series01.unique()}')"
   ]
  },
  {
   "cell_type": "code",
   "execution_count": 64,
   "id": "a23c5f85",
   "metadata": {},
   "outputs": [
    {
     "name": "stdout",
     "output_type": "stream",
     "text": [
      "Ovo       2\n",
      "Salada    3\n",
      "Frutas    4\n",
      "dtype: int64 \n",
      "\n",
      "Os Valores Únicos/Exclusivos 02: [2 3 4]\n"
     ]
    }
   ],
   "source": [
    "# Visualização series02\n",
    "print(series02,'\\n')\n",
    "\n",
    "# Retorna os \"valores exclusivos\" na series02\n",
    "print(f'Os Valores Únicos/Exclusivos 02: {series02.unique()}')"
   ]
  },
  {
   "cell_type": "markdown",
   "id": "1b520fcb",
   "metadata": {},
   "source": [
    "##  <center> Filtro Comparativo entre Series Pandas </center>"
   ]
  },
  {
   "cell_type": "code",
   "execution_count": 38,
   "id": "7cf0db5a",
   "metadata": {},
   "outputs": [
    {
     "name": "stdout",
     "output_type": "stream",
     "text": [
      "Carne     1\n",
      "Salada    2\n",
      "Frutas    3\n",
      "dtype: int64 \n",
      "\n",
      "Carne     False\n",
      "Salada    False\n",
      "Frutas     True\n",
      "dtype: bool\n"
     ]
    }
   ],
   "source": [
    "# Visualização series01\n",
    "print(series01,'\\n')\n",
    "\n",
    "# Obter quais elementos em \"series01 maior que 2\"\n",
    "print(series01 > 2, )"
   ]
  },
  {
   "cell_type": "code",
   "execution_count": 40,
   "id": "d2d9a4d5",
   "metadata": {},
   "outputs": [
    {
     "name": "stdout",
     "output_type": "stream",
     "text": [
      "Carne     1\n",
      "Salada    2\n",
      "Frutas    3\n",
      "dtype: int64 \n",
      "\n",
      "Frutas    3\n",
      "dtype: int64\n"
     ]
    }
   ],
   "source": [
    "# Visualização series01\n",
    "print(series01,'\\n')\n",
    "\n",
    "# Obter o elemento de \"series01 maior de 2\"\n",
    "print(series01[series01> 2])"
   ]
  },
  {
   "cell_type": "code",
   "execution_count": 44,
   "id": "3ba3d4fe",
   "metadata": {},
   "outputs": [
    {
     "name": "stdout",
     "output_type": "stream",
     "text": [
      "Carne     1\n",
      "Salada    2\n",
      "Frutas    3\n",
      "dtype: int64 \n",
      "\n"
     ]
    },
    {
     "data": {
      "text/plain": [
       "Carne     1\n",
       "Salada    2\n",
       "dtype: int64"
      ]
     },
     "execution_count": 44,
     "metadata": {},
     "output_type": "execute_result"
    }
   ],
   "source": [
    "# Visualização series01\n",
    "print(series01,'\\n')\n",
    "\n",
    "# Obter os elementos de \"series01 NÃO maior que 2\"  \n",
    "series01[~(series01 > 2)]"
   ]
  },
  {
   "cell_type": "code",
   "execution_count": 68,
   "id": "7ceaafef",
   "metadata": {},
   "outputs": [
    {
     "name": "stdout",
     "output_type": "stream",
     "text": [
      "Ovo       2\n",
      "Salada    3\n",
      "Frutas    4\n",
      "dtype: int64 \n",
      "\n"
     ]
    },
    {
     "data": {
      "text/plain": [
       "Ovo    2\n",
       "dtype: int64"
      ]
     },
     "execution_count": 68,
     "metadata": {},
     "output_type": "execute_result"
    }
   ],
   "source": [
    "# Visualização series02\n",
    "print(series02,'\\n')\n",
    "\n",
    "# Obter os elementos de \"series02 NÃO maior que 2\"  \n",
    "series02[~(series02 > 2)]"
   ]
  },
  {
   "cell_type": "code",
   "execution_count": 87,
   "id": "b8dfdfbf",
   "metadata": {},
   "outputs": [
    {
     "name": "stdout",
     "output_type": "stream",
     "text": [
      "\n",
      "Series 01: \n",
      "\n",
      "Carne      1\n",
      "Salada     2\n",
      "Frutas     3\n",
      "Legumes    2\n",
      "dtype: int64 \n",
      "\n",
      "\n",
      "Series 02: \n",
      "\n",
      "Ovo        2\n",
      "Salada     3\n",
      "Frutas     4\n",
      "Legumes    2\n",
      "dtype: int64 \n",
      "\n",
      "\n",
      "Comparando Elementos na 01 contidos na 02:\n",
      "\n",
      "Carne      False\n",
      "Salada      True\n",
      "Frutas      True\n",
      "Legumes     True\n",
      "dtype: bool\n"
     ]
    }
   ],
   "source": [
    "# Visualização series01\n",
    "print(f'\\nSeries 01: \\n\\n{series01}','\\n')\n",
    "\n",
    "# Visualização series02\n",
    "print(f'\\nSeries 02: \\n\\n{series02}','\\n')\n",
    "\n",
    "# Comparando a existencia de elementos series01 contidos na series02\n",
    "print(f'\\nComparando os elementos na 01 contidos na 02:\\n\\n{series01.isin(series02)}')"
   ]
  },
  {
   "cell_type": "code",
   "execution_count": 91,
   "id": "ed32656f",
   "metadata": {},
   "outputs": [
    {
     "name": "stdout",
     "output_type": "stream",
     "text": [
      "\n",
      "Series 01: \n",
      "\n",
      "Carne      1\n",
      "Salada     2\n",
      "Frutas     3\n",
      "Legumes    2\n",
      "dtype: int64 \n",
      "\n",
      "\n",
      "Series 02: \n",
      "\n",
      "Ovo        2\n",
      "Salada     3\n",
      "Frutas     4\n",
      "Legumes    2\n",
      "dtype: int64 \n",
      "\n",
      "\n",
      "Os elementos em Comum de 01 em 02: \n",
      "\n",
      "Salada     2\n",
      "Frutas     3\n",
      "Legumes    2\n",
      "dtype: int64\n"
     ]
    }
   ],
   "source": [
    "# Visualização series01\n",
    "print(f'\\nSeries 01: \\n\\n{series01}','\\n')\n",
    "\n",
    "# Visualização series02\n",
    "print(f'\\nSeries 02: \\n\\n{series02}','\\n')\n",
    "\n",
    "# Obtendo os elementos na series01 contidos na series02\n",
    "print(f'\\nOs elementos em Comum de 01 em 02: \\n\\n{series01[series01.isin(series02)]}')"
   ]
  },
  {
   "cell_type": "code",
   "execution_count": 93,
   "id": "a3125d68",
   "metadata": {},
   "outputs": [
    {
     "name": "stdout",
     "output_type": "stream",
     "text": [
      "\n",
      "Series 01: \n",
      "\n",
      "Carne      1\n",
      "Salada     2\n",
      "Frutas     3\n",
      "Legumes    2\n",
      "dtype: int64 \n",
      "\n",
      "\n",
      "Series 02: \n",
      "\n",
      "Ovo        2\n",
      "Salada     3\n",
      "Frutas     4\n",
      "Legumes    2\n",
      "dtype: int64 \n",
      "\n",
      "\n",
      "Os Valores em Comum de 01 em 02: \n",
      "\n",
      "[2 3 2]\n"
     ]
    }
   ],
   "source": [
    "# Visualização series01\n",
    "print(f'\\nSeries 01: \\n\\n{series01}','\\n')\n",
    "\n",
    "# Visualização series02\n",
    "print(f'\\nSeries 02: \\n\\n{series02}','\\n')\n",
    "\n",
    "# Obtendo somente os valores na series01 contidos na series02\n",
    "print(f'\\nOs Valores em Comum de 01 em 02: \\n\\n{series01[series01.isin(series02)].values}')"
   ]
  },
  {
   "cell_type": "code",
   "execution_count": 96,
   "id": "8233104c",
   "metadata": {},
   "outputs": [
    {
     "name": "stdout",
     "output_type": "stream",
     "text": [
      "\n",
      "Series 01: \n",
      "\n",
      "Carne      1\n",
      "Salada     2\n",
      "Frutas     3\n",
      "Legumes    2\n",
      "dtype: int64 \n",
      "\n",
      "\n",
      "Series 02: \n",
      "\n",
      "Ovo        2\n",
      "Salada     3\n",
      "Frutas     4\n",
      "Legumes    2\n",
      "dtype: int64 \n",
      "\n",
      "\n",
      "Os índices em Comum são: \n",
      "\n",
      "Salada     2\n",
      "Frutas     3\n",
      "Legumes    2\n",
      "dtype: int64\n"
     ]
    }
   ],
   "source": [
    "# Visualização series01\n",
    "print(f'\\nSeries 01: \\n\\n{series01}','\\n')\n",
    "\n",
    "# Visualização series02\n",
    "print(f'\\nSeries 02: \\n\\n{series02}','\\n')\n",
    "\n",
    "# 1º Obter os índices na series01 contidos na series02\n",
    "print(f'\\nOs índices em Comum são: \\n\\n{series01[series01.index.isin(series02.index)]}')"
   ]
  },
  {
   "cell_type": "code",
   "execution_count": 98,
   "id": "bffc9d3d",
   "metadata": {},
   "outputs": [
    {
     "name": "stdout",
     "output_type": "stream",
     "text": [
      "\n",
      "Series 01: \n",
      "\n",
      "Carne      1\n",
      "Salada     2\n",
      "Frutas     3\n",
      "Legumes    2\n",
      "dtype: int64 \n",
      "\n",
      "\n",
      "Series 02: \n",
      "\n",
      "Ovo        2\n",
      "Salada     3\n",
      "Frutas     4\n",
      "Legumes    2\n",
      "dtype: int64 \n",
      "\n",
      "\n",
      "Os índices em Comum são: \n",
      "\n",
      "Index(['Salada', 'Frutas', 'Legumes'], dtype='object')\n"
     ]
    }
   ],
   "source": [
    "# Visualização series01\n",
    "print(f'\\nSeries 01: \\n\\n{series01}','\\n')\n",
    "\n",
    "# Visualização series02\n",
    "print(f'\\nSeries 02: \\n\\n{series02}','\\n')\n",
    "\n",
    "# 2º Obter os índices na series01 contidos na series02\n",
    "print(f'\\nOs índices em Comum são: \\n\\n{series01[series01.index.isin(series02.index)].index}')"
   ]
  },
  {
   "cell_type": "markdown",
   "id": "02168bb7",
   "metadata": {},
   "source": [
    "## ``Novo índice``, ``Novo Elemento`` na Series Pandas"
   ]
  },
  {
   "cell_type": "code",
   "execution_count": 71,
   "id": "e6a7cf6c",
   "metadata": {},
   "outputs": [
    {
     "name": "stdout",
     "output_type": "stream",
     "text": [
      "Carne      1\n",
      "Salada     2\n",
      "Frutas     3\n",
      "Legumes    2\n",
      "dtype: int64 \n",
      "\n",
      "Carne      1\n",
      "Salada     2\n",
      "Frutas     3\n",
      "Legumes    2\n",
      "dtype: int64\n"
     ]
    }
   ],
   "source": [
    "# Visualização series01\n",
    "print(series01,'\\n')\n",
    "\n",
    "\n",
    "# Inserindo Novo Índice e Novo Elemento/Valor em series01\n",
    "series01['Legumes'] = 2\n",
    "print(series01)"
   ]
  },
  {
   "cell_type": "code",
   "execution_count": 73,
   "id": "f8bd0397",
   "metadata": {},
   "outputs": [
    {
     "name": "stdout",
     "output_type": "stream",
     "text": [
      "Ovo        2\n",
      "Salada     3\n",
      "Frutas     4\n",
      "Legumes    2\n",
      "dtype: int64 \n",
      "\n",
      "Ovo        2\n",
      "Salada     3\n",
      "Frutas     4\n",
      "Legumes    2\n",
      "dtype: int64\n"
     ]
    }
   ],
   "source": [
    "# Visualização series02\n",
    "print(series02,'\\n')\n",
    "\n",
    "\n",
    "# Inserindo Novo Índice e Novo Elemento/Valor series02\n",
    "series02['Legumes'] = 2\n",
    "print(series02)"
   ]
  },
  {
   "cell_type": "markdown",
   "id": "ce251fc8",
   "metadata": {},
   "source": [
    "## ``Concatenação`` de Series Pandas"
   ]
  },
  {
   "cell_type": "code",
   "execution_count": 101,
   "id": "a846359d",
   "metadata": {},
   "outputs": [
    {
     "name": "stdout",
     "output_type": "stream",
     "text": [
      "\n",
      "Series 01: \n",
      "\n",
      "Carne      1\n",
      "Salada     2\n",
      "Frutas     3\n",
      "Legumes    2\n",
      "dtype: int64 \n",
      "\n",
      "\n",
      "Series 02: \n",
      "\n",
      "Ovo        2\n",
      "Salada     3\n",
      "Frutas     4\n",
      "Legumes    2\n",
      "dtype: int64 \n",
      "\n"
     ]
    },
    {
     "data": {
      "text/html": [
       "<div>\n",
       "<style scoped>\n",
       "    .dataframe tbody tr th:only-of-type {\n",
       "        vertical-align: middle;\n",
       "    }\n",
       "\n",
       "    .dataframe tbody tr th {\n",
       "        vertical-align: top;\n",
       "    }\n",
       "\n",
       "    .dataframe thead th {\n",
       "        text-align: right;\n",
       "    }\n",
       "</style>\n",
       "<table border=\"1\" class=\"dataframe\">\n",
       "  <thead>\n",
       "    <tr style=\"text-align: right;\">\n",
       "      <th></th>\n",
       "      <th>0</th>\n",
       "      <th>1</th>\n",
       "    </tr>\n",
       "  </thead>\n",
       "  <tbody>\n",
       "    <tr>\n",
       "      <th>Carne</th>\n",
       "      <td>1.0</td>\n",
       "      <td>NaN</td>\n",
       "    </tr>\n",
       "    <tr>\n",
       "      <th>Salada</th>\n",
       "      <td>2.0</td>\n",
       "      <td>3.0</td>\n",
       "    </tr>\n",
       "    <tr>\n",
       "      <th>Frutas</th>\n",
       "      <td>3.0</td>\n",
       "      <td>4.0</td>\n",
       "    </tr>\n",
       "    <tr>\n",
       "      <th>Legumes</th>\n",
       "      <td>2.0</td>\n",
       "      <td>2.0</td>\n",
       "    </tr>\n",
       "    <tr>\n",
       "      <th>Ovo</th>\n",
       "      <td>NaN</td>\n",
       "      <td>2.0</td>\n",
       "    </tr>\n",
       "  </tbody>\n",
       "</table>\n",
       "</div>"
      ],
      "text/plain": [
       "           0    1\n",
       "Carne    1.0  NaN\n",
       "Salada   2.0  3.0\n",
       "Frutas   3.0  4.0\n",
       "Legumes  2.0  2.0\n",
       "Ovo      NaN  2.0"
      ]
     },
     "execution_count": 101,
     "metadata": {},
     "output_type": "execute_result"
    }
   ],
   "source": [
    "# Visualização series01\n",
    "print(f'\\nSeries 01: \\n\\n{series01}','\\n')\n",
    "\n",
    "# Visualização series02\n",
    "print(f'\\nSeries 02: \\n\\n{series02}','\\n')\n",
    "\n",
    "# Concatenando series01 e series02 na Vertical\n",
    "pd.concat([series01,series02], axis=1)"
   ]
  },
  {
   "cell_type": "code",
   "execution_count": 102,
   "id": "3307da04",
   "metadata": {},
   "outputs": [
    {
     "name": "stdout",
     "output_type": "stream",
     "text": [
      "\n",
      "Series 01: \n",
      "\n",
      "Carne      1\n",
      "Salada     2\n",
      "Frutas     3\n",
      "Legumes    2\n",
      "dtype: int64 \n",
      "\n",
      "\n",
      "Series 02: \n",
      "\n",
      "Ovo        2\n",
      "Salada     3\n",
      "Frutas     4\n",
      "Legumes    2\n",
      "dtype: int64 \n",
      "\n"
     ]
    },
    {
     "data": {
      "text/plain": [
       "Carne      1\n",
       "Salada     2\n",
       "Frutas     3\n",
       "Legumes    2\n",
       "Ovo        2\n",
       "Salada     3\n",
       "Frutas     4\n",
       "Legumes    2\n",
       "dtype: int64"
      ]
     },
     "execution_count": 102,
     "metadata": {},
     "output_type": "execute_result"
    }
   ],
   "source": [
    "# Visualização series01\n",
    "print(f'\\nSeries 01: \\n\\n{series01}','\\n')\n",
    "\n",
    "# Visualização series02\n",
    "print(f'\\nSeries 02: \\n\\n{series02}','\\n')\n",
    "\n",
    "# Concatenando series01 e series02 na Horizontal\n",
    "pd.concat([series01,series02], axis=0)"
   ]
  }
 ],
 "metadata": {
  "kernelspec": {
   "display_name": "Python 3 (ipykernel)",
   "language": "python",
   "name": "python3"
  },
  "language_info": {
   "codemirror_mode": {
    "name": "ipython",
    "version": 3
   },
   "file_extension": ".py",
   "mimetype": "text/x-python",
   "name": "python",
   "nbconvert_exporter": "python",
   "pygments_lexer": "ipython3",
   "version": "3.9.13"
  }
 },
 "nbformat": 4,
 "nbformat_minor": 5
}
