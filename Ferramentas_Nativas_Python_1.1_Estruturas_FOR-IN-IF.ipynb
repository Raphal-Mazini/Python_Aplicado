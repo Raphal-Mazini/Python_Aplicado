{
 "cells": [
  {
   "attachments": {},
   "cell_type": "markdown",
   "id": "4674b8bf",
   "metadata": {},
   "source": [
    "# Ferramentas Nativas do Python\n",
    "\n",
    "##  Principais Funções e Comandos nativas do python"
   ]
  },
  {
   "attachments": {},
   "cell_type": "markdown",
   "id": "5d535658",
   "metadata": {},
   "source": [
    "## Loop ``for / in ``\n",
    "\n",
    "O ``for`` no Python, nada mais é do que uma estrutura que vai repetir o(s) código(s) que estão dentro dessa estrutura que compo~e a estrutura ``for``\n",
    "\n",
    "O ``for`` é utilizado para percorrer ou iterar sobre uma sequência de dados, seja esse uma lista, uma tupla ou meso uma string, e irá executando um conjunto de instruções em cada item. Python utiliza identação para separar blocos de código.\n",
    "\n",
    "Estruturas de loops ``for`` aninhadas ao __if / elif / else__\n",
    "\n",
    "O comando Python __for__ é uma das estruturas de repetições disponíveis na linguagem que permite a execução de um mesmo comando até que uma determinada condição seja atendida."
   ]
  },
  {
   "cell_type": "code",
   "execution_count": 4,
   "id": "3f85a171",
   "metadata": {},
   "outputs": [
    {
     "name": "stdout",
     "output_type": "stream",
     "text": [
      "6\n",
      "5\n",
      "4\n",
      "3\n",
      "2\n",
      "1\n"
     ]
    }
   ],
   "source": [
    "for i in range(6,0, -1):\n",
    "    print(i)"
   ]
  },
  {
   "cell_type": "code",
   "execution_count": 7,
   "id": "58735e2d",
   "metadata": {},
   "outputs": [
    {
     "name": "stdout",
     "output_type": "stream",
     "text": [
      "20\n",
      "25\n",
      "30\n",
      "35\n",
      "40\n",
      "50\n",
      "60\n"
     ]
    }
   ],
   "source": [
    "lista_idades = [20,25,30,35,40,50,60]\n",
    "for x in range(len(lista_idades)):\n",
    "    print(lista_idades[x])"
   ]
  },
  {
   "cell_type": "code",
   "execution_count": 6,
   "id": "fe7fe031",
   "metadata": {},
   "outputs": [
    {
     "name": "stdout",
     "output_type": "stream",
     "text": [
      "20\n",
      "25\n",
      "30\n",
      "35\n",
      "40\n"
     ]
    }
   ],
   "source": [
    "meus_dados = [20,25,30,35,40]\n",
    "\n",
    "# Exemplo o loop for percorrerá cada elemeto dentro da lista \"meus_dados\"\n",
    "for x in meus_dados:\n",
    "    print(x)"
   ]
  },
  {
   "cell_type": "code",
   "execution_count": 5,
   "id": "19ba9ee1",
   "metadata": {},
   "outputs": [
    {
     "name": "stdout",
     "output_type": "stream",
     "text": [
      "20\n",
      "25\n",
      "30\n",
      "35\n",
      "40\n",
      "50\n",
      "60\n"
     ]
    }
   ],
   "source": [
    "lista_idades = [20,25,30,35,40,50,60]\n",
    "for i in lista_idades:\n",
    "    print(i)"
   ]
  },
  {
   "cell_type": "code",
   "execution_count": 3,
   "id": "e36075fb",
   "metadata": {},
   "outputs": [
    {
     "name": "stdout",
     "output_type": "stream",
     "text": [
      "0\n",
      "1\n",
      "2\n",
      "3\n",
      "4\n"
     ]
    }
   ],
   "source": [
    "# Pra gerar uma sequência podemos utilizar a função range\n",
    "# Sequência de 5 números iniciando o 0\n",
    "for i in range(5):\n",
    "    print(i)"
   ]
  },
  {
   "cell_type": "code",
   "execution_count": 2,
   "id": "372bb8eb",
   "metadata": {},
   "outputs": [
    {
     "name": "stdout",
     "output_type": "stream",
     "text": [
      "Vai !!\n",
      "Vai !!\n",
      "Vai !!\n",
      "Vai !!\n",
      "Toma !!!\n"
     ]
    }
   ],
   "source": [
    "for i in range(2,6):\n",
    "    print('Vai !!')\n",
    "print('Toma !!!')"
   ]
  },
  {
   "cell_type": "code",
   "execution_count": 79,
   "id": "9d43c1f5",
   "metadata": {},
   "outputs": [
    {
     "name": "stdout",
     "output_type": "stream",
     "text": [
      "R -- a -- p -- h -- a -- e -- l -- Concluido !\n"
     ]
    }
   ],
   "source": [
    "for i in 'Raphael':\n",
    "    print( i, end=' -- ')\n",
    "print('Concluido !')"
   ]
  },
  {
   "cell_type": "code",
   "execution_count": 26,
   "id": "8a7735f1",
   "metadata": {},
   "outputs": [
    {
     "name": "stdout",
     "output_type": "stream",
     "text": [
      "10 9 8 7 6 5 4 3 2 1 0 Bum ! Bum! Bum! !!\n"
     ]
    }
   ],
   "source": [
    "## Loop For / range()\n",
    "from time import sleep\n",
    "\n",
    "for count in range(10, -1, -1):\n",
    "    print(count,end=' ')\n",
    "    sleep(1)\n",
    "print('Bum ! Bum! Bum! !!')    "
   ]
  },
  {
   "cell_type": "code",
   "execution_count": 52,
   "id": "5d62c8bb",
   "metadata": {},
   "outputs": [
    {
     "name": "stdout",
     "output_type": "stream",
     "text": [
      "2 4 6 8 10 12 14 16 18 20 22 24 26 28 30 32 34 36 38 40 42 44 46 48 50 \n",
      "\n",
      "2 4 6 8 10 12 14 16 18 20 22 24 26 28 30 32 34 36 38 40 42 44 46 48 50 \n",
      "\n",
      "Fim !!\n"
     ]
    }
   ],
   "source": [
    "# exemplo Separando em pares --> 01\n",
    "for num in range(1,51):\n",
    "    if num %2 == 0:\n",
    "        print(num,end=' ')\n",
    "print('\\n')        \n",
    "\n",
    "# exemplo Separando em pares --> 02\n",
    "for num in range(2,51, 2):\n",
    "    print(num,end=' ')\n",
    "print('\\n\\nFim !!')    "
   ]
  },
  {
   "cell_type": "code",
   "execution_count": 105,
   "id": "bdae4fb7",
   "metadata": {},
   "outputs": [
    {
     "name": "stdout",
     "output_type": "stream",
     "text": [
      "1 3 5 7 9 11 13 15 17 19 21 23 25 27 29 31 33 35 37 39 41 43 45 47 49 51 53 55 57 59 61 63 65 67 69 71 73 75 77 79 81 83 85 87 89 91 93 95 97 99 101 103 105 107 109 111 113 115 117 119 121 123 125 127 129 131 133 135 137 139 141 143 145 147 149 151 153 155 157 159 161 163 165 167 169 171 173 175 177 179 181 183 185 187 189 191 193 195 197 199 201 203 205 207 209 211 213 215 217 219 221 223 225 227 229 231 233 235 237 239 241 243 245 247 249 251 253 255 257 259 261 263 265 267 269 271 273 275 277 279 281 283 285 287 289 291 293 295 297 299 301 303 305 307 309 311 313 315 317 319 321 323 325 327 329 331 333 335 337 339 341 343 345 347 349 351 353 355 357 359 361 363 365 367 369 371 373 375 377 379 381 383 385 387 389 391 393 395 397 399 401 403 405 407 409 411 413 415 417 419 421 423 425 427 429 431 433 435 437 439 441 443 445 447 449 451 453 455 457 459 461 463 465 467 469 471 473 475 477 479 481 483 485 487 489 491 493 495 497 499 \n",
      "\n",
      "A Contagem Total de elementos é 250\n",
      "\n",
      "\n",
      "A Soma dos numeros ímpares de 1 até 500 obteve o resultado: 124750\n",
      "\n",
      "Acima somente separado pelos numeros ímpares\n",
      "\n",
      "======================================================================================================================== \n",
      "\n",
      "Abaixo separado pelos ímpares e filtrado pelos que são divisiveis por \"3\"\n",
      "\n",
      "3 9 15 21 27 33 39 45 51 57 63 69 75 81 87 93 99 105 111 117 123 129 135 141 147 153 159 165 171 177 183 189 195 201 207 213 219 225 231 237 243 249 255 261 267 273 279 285 291 297 303 309 315 321 327 333 339 345 351 357 363 369 375 381 387 393 399 405 411 417 423 429 435 441 447 453 459 465 471 477 483 489 495 \n",
      "\n",
      "A Soma dos numeros ímpares de 1 até 500 e divisiveis por \"3\" obteve o resultado: 20667\n",
      "\n",
      "A Contagem Total de elementos é 83\n"
     ]
    }
   ],
   "source": [
    "# Exemplo somade todos os impares.\n",
    "count = 0\n",
    "soma = 0\n",
    "for i in range(0,501):\n",
    "    if i %2 != 0:\n",
    "        count = count + 1\n",
    "        soma = soma + c\n",
    "        print(i,end=' ')\n",
    "\n",
    "print(f\"\"\"\n",
    "\n",
    "A Contagem Total de elementos é {count}\n",
    "\"\"\")\n",
    "\n",
    "print(f\"\"\"\n",
    "A Soma dos numeros ímpares de 1 até 500 obteve o resultado: {soma}\n",
    "\"\"\")    \n",
    "\n",
    "print('Acima somente separado pelos numeros ímpares\\n')\n",
    "\n",
    "print('='*120,'\\n')\n",
    "\n",
    "print('Abaixo separado pelos ímpares e filtrado pelos que são divisiveis por \"3\"\\n')\n",
    "\n",
    "count = 0\n",
    "soma = 0\n",
    "\n",
    "for c in range(1,501,2):\n",
    "    if c % 3 ==0:\n",
    "        count = count + 1\n",
    "        soma = soma + c\n",
    "        print(c,end=' ')\n",
    "\n",
    "        \n",
    "print(f\"\"\"\n",
    "\n",
    "A Soma dos numeros ímpares de 1 até 500 e divisiveis por \"3\" obteve o resultado: {soma}\n",
    "\"\"\")    \n",
    "print(f\"A Contagem Total de elementos é {count}\")"
   ]
  },
  {
   "cell_type": "code",
   "execution_count": 8,
   "id": "a570d74e",
   "metadata": {},
   "outputs": [
    {
     "name": "stdout",
     "output_type": "stream",
     "text": [
      "2\n",
      "5\n",
      "8\n",
      "11\n",
      "14\n",
      "17\n",
      "20\n",
      "Concluido !\n"
     ]
    }
   ],
   "source": [
    "i = int(input('Digite um Numero de Inicio: '))\n",
    "f = int(input('Digite um numero para o fim: '))\n",
    "p = int(input('Digite o passo de ordem: '))\n",
    "\n",
    "for c in range(i, f+1, p):\n",
    "    print(c)\n",
    "print('Concluido !')"
   ]
  },
  {
   "cell_type": "code",
   "execution_count": 10,
   "id": "e538c00f",
   "metadata": {},
   "outputs": [
    {
     "name": "stdout",
     "output_type": "stream",
     "text": [
      "A Soma de todos os valores é: 30 \n"
     ]
    }
   ],
   "source": [
    "s = 0\n",
    "\n",
    "for c in range(0,5):\n",
    "    n = int(input('Digite um numero: '))\n",
    "    s += n\n",
    "print(f'A Soma de todos os valores é: {s} ')  "
   ]
  },
  {
   "cell_type": "code",
   "execution_count": 109,
   "id": "afadbe24",
   "metadata": {},
   "outputs": [
    {
     "name": "stdout",
     "output_type": "stream",
     "text": [
      "Insira o valor da tabuada de interesse: 7\n",
      "7 x 1 = 7\n",
      "7 x 2 = 14\n",
      "7 x 3 = 21\n",
      "7 x 4 = 28\n",
      "7 x 5 = 35\n",
      "7 x 6 = 42\n",
      "7 x 7 = 49\n",
      "7 x 8 = 56\n",
      "7 x 9 = 63\n",
      "7 x 10 = 70\n"
     ]
    }
   ],
   "source": [
    "# Exemplo Tabuada\n",
    "numeros = int(input('Insira o valor da tabuada de interesse: '))\n",
    "\n",
    "for tab in range(1,11):\n",
    "    print(f\"{numeros} x {tab} = {numeros * tab }\")"
   ]
  },
  {
   "cell_type": "code",
   "execution_count": 5,
   "id": "b5de491f",
   "metadata": {},
   "outputs": [
    {
     "name": "stdout",
     "output_type": "stream",
     "text": [
      "Insira o 1º Termo: 1\n",
      "Razão: 2\n",
      "1  -  3  -  5  -  7  -  9  -  11  -  13  -  15  -  17  -  Concluido !\n"
     ]
    }
   ],
   "source": [
    "# Exemplo \"Progressão Aritmetica\" 10º termo\n",
    "\n",
    "primeiro  = int(input('Insira o 1º Termo: '))\n",
    "razao = int(input('Razão: '))\n",
    "decimo = primeiro + (10 - 1) * razao\n",
    "for c in range(primeiro, decimo, razao):\n",
    "    print(c,end='  -  ')\n",
    "\n",
    "print('Concluido !')    "
   ]
  },
  {
   "cell_type": "code",
   "execution_count": 32,
   "id": "2304d478",
   "metadata": {},
   "outputs": [
    {
     "name": "stdout",
     "output_type": "stream",
     "text": [
      "Insira um número inteiro: 3\n",
      "\u001b[34m 1 \u001b[31m 2 \u001b[34m 3 \n",
      "\u001b[34mO número 3 é primo\n",
      "\n"
     ]
    }
   ],
   "source": [
    "# Exemplo identificando numeros primos com diferenciação de cores\n",
    "\n",
    "nun = int(input('Insira um número inteiro: '))\n",
    "total = 0\n",
    "for c in range(1, nun + 1):\n",
    "    if nun % c == 0:\n",
    "        print('\\033[34m',end=' ')\n",
    "        total += 1   \n",
    "    else:\n",
    "        print('\\033[31m', end=' ')\n",
    "    print(f'{c}', end=' ')        \n",
    "\n",
    "    \n",
    "if total == 2:\n",
    "    print(f'\\n\\033[34mO número {nun} é primo\\n')\n",
    "else:\n",
    "    print(f'\\n\\033[31mO número {nun} não é primo\\n')"
   ]
  },
  {
   "cell_type": "code",
   "execution_count": 67,
   "id": "6e9bcb47",
   "metadata": {},
   "outputs": [
    {
     "name": "stdout",
     "output_type": "stream",
     "text": [
      "insira uma frase:    toma toma\n",
      "AMOTAMOT\n",
      "Esta frase ou palavra NÃO é um palíndromo\n"
     ]
    }
   ],
   "source": [
    "# Exemplo identificar palindromo \n",
    "\n",
    "frase = str(input('insira uma frase:    ')).strip().upper()\n",
    "#print(f\"\\nCom .strip() e .upper()  {frase}\",'\\n')\n",
    "palavras = frase.split()\n",
    "#print(f\"Com .split()  {palavras}\",'\\n')\n",
    "unir = ''.join(palavras)\n",
    "#print(f\" Com ''.join(palvras)  {unir}\\n\")\n",
    "inverso = ''\n",
    "\n",
    "for letras in range(len(unir) -1, -1,-1):\n",
    "    inverso += unir[letras]\n",
    "print(inverso)\n",
    "if inverso == unir:\n",
    "    print('Esta frase ou palavra é um palíndromo ')\n",
    "else:\n",
    "    print('Esta frase ou palavra NÃO é um palíndromo')\n"
   ]
  },
  {
   "cell_type": "code",
   "execution_count": 3,
   "id": "62907436",
   "metadata": {},
   "outputs": [
    {
     "name": "stdout",
     "output_type": "stream",
     "text": [
      "os valores sorteados foram :  6 4 6 5 4 \n",
      "\n",
      "O menor valor nesta seguencia é 4\n",
      "O maior valor nesta seguencia é 6\n"
     ]
    }
   ],
   "source": [
    "from random import randint\n",
    "n = (randint(1,10), randint(1,10), randint(1,10),\n",
    "    randint(1,10),randint(1,10))\n",
    "\n",
    "print(f'os valores sorteados foram : ', end=' ')\n",
    "for numero in n:\n",
    "    print(f'{numero}', end=' ')\n",
    "print(f'\\n\\nO menor valor nesta seguencia é {min(n)}')\n",
    "print(f'O maior valor nesta seguencia é {max(n)}')    "
   ]
  },
  {
   "cell_type": "code",
   "execution_count": 2,
   "id": "457ef5fd",
   "metadata": {},
   "outputs": [
    {
     "name": "stdout",
     "output_type": "stream",
     "text": [
      "======================\n",
      "             Lista Escolar              \n",
      "======================\n",
      "Lápis...............R$ 1.75\n",
      "Borracha............R$ 2.00\n",
      "Caderno.............R$ 15.90\n",
      "Estojo..............R$ 25.00\n",
      "Transferidor........R$ 4.20\n",
      "Compasso............R$ 9.99\n",
      "Mochila.............R$ 120.32\n",
      "Canetas.............R$ 22.30\n",
      "Livro...............R$ 34.90\n",
      "======================\n"
     ]
    }
   ],
   "source": [
    "lista = (\n",
    "    'Lápis', 1.75,\n",
    "    'Borracha', 2,\n",
    "    'Caderno', 15.90,\n",
    "    'Estojo', 25,\n",
    "    'Transferidor', 4.20,\n",
    "    'Compasso', 9.99,\n",
    "    'Mochila', 120.32,\n",
    "    'Canetas', 22.30,\n",
    "    'Livro', 34.90\n",
    ")\n",
    "print('='*22)\n",
    "print(f'{\"Lista Escolar\":^40}')\n",
    "print('='*22)\n",
    "for i in range(0, len(lista)):\n",
    "    if i % 2 == 0:\n",
    "        print(f'{lista[i]:.<20}', end='')\n",
    "    else:\n",
    "        print(f'R$ {lista[i]:.2f}')\n",
    "print('='*22)        "
   ]
  },
  {
   "cell_type": "code",
   "execution_count": 9,
   "id": "c0e1432c",
   "metadata": {},
   "outputs": [
    {
     "name": "stdout",
     "output_type": "stream",
     "text": [
      "\n",
      "Na palavra aprender temos a e e \n",
      "Na palavra programa temos o a a \n",
      "Na palavra linguagem temos i u a e \n",
      "Na palavra lingua temos i u a \n",
      "Na palavra mercado temos e a o \n",
      "Na palavra marcado temos a a o \n",
      "Na palavra pista temos i a \n",
      "Na palavra penis temos e i \n",
      "Na palavra parado temos a a o \n",
      "Na palavra python temos o \n",
      "Na palavra trabalhador temos a a a o "
     ]
    }
   ],
   "source": [
    "palv1 = ('aprender', 'programa', \n",
    "        'linguagem', 'lingua', 'mercado',\n",
    "       'marcado', 'pista', 'penis', 'parado', \n",
    "        'python', 'trabalhador')\n",
    "\n",
    "for p in palv1:\n",
    "    print(f'\\nNa palavra {p} temos', end=' ')\n",
    "    for letra in p:\n",
    "        if letra.lower() in 'aeiou':\n",
    "            print(letra, end= ' ')"
   ]
  },
  {
   "cell_type": "code",
   "execution_count": 17,
   "id": "f9220ddd",
   "metadata": {},
   "outputs": [
    {
     "name": "stdout",
     "output_type": "stream",
     "text": [
      "1º Opção\n",
      "Na posição 0 está o valor 5\n",
      "Na posição 1 está o valor 9\n",
      "Na posição 2 está o valor 4\n",
      "\n",
      " ================================================== \n",
      "\n",
      "2º Opção\n",
      "Na posição 1º está o valor 5\n",
      "Na posição 2º está o valor 9\n",
      "Na posição 3º está o valor 4\n"
     ]
    }
   ],
   "source": [
    "print('1º Opção')\n",
    "valores = [ ]\n",
    "valores.append(5)\n",
    "valores.append(9)\n",
    "valores.append(4)\n",
    "for index, valor in enumerate(valores):\n",
    "    print(f'Na posição {index} está o valor {valor}')\n",
    "\n",
    "print('\\n','=' * 50,'\\n')\n",
    "print('2º Opção')    \n",
    "valores = [ ]\n",
    "valores.append(5)\n",
    "valores.append(9)\n",
    "valores.append(4)\n",
    "for index, valor in enumerate(valores):\n",
    "    print(f'Na posição {index + 1}º está o valor {valor}')    "
   ]
  },
  {
   "cell_type": "code",
   "execution_count": 33,
   "id": "a638cd24",
   "metadata": {},
   "outputs": [
    {
     "name": "stdout",
     "output_type": "stream",
     "text": [
      "Digite um valor >>> 5\n",
      "Digite um valor >>> 4\n",
      "Digite um valor >>> 3\n",
      "Digite um valor >>> 2\n",
      "Digite um valor >>> 1\n",
      "Na posição 0 está o valor 5\n",
      "Na posição 1 está o valor 4\n",
      "Na posição 2 está o valor 3\n",
      "Na posição 3 está o valor 2\n",
      "Na posição 4 está o valor 1\n",
      "==================================================\n",
      "Digite um valor >>> 5\n",
      "Digite um valor >>> 4\n",
      "Digite um valor >>> 3\n",
      "Digite um valor >>> 2\n",
      "Digite um valor >>> 1\n",
      "Na posição 1º está o valor 1\n",
      "Na posição 2º está o valor 2\n",
      "Na posição 3º está o valor 3\n",
      "Na posição 4º está o valor 4\n",
      "Na posição 5º está o valor 5\n"
     ]
    }
   ],
   "source": [
    "val = list()\n",
    "for cont in range(0, 5):\n",
    "    val.append(int(input('Digite um valor >>> ')))\n",
    "for c, v in enumerate(val):\n",
    "    print(f'Na posição {c} está o valor {v}')\n",
    "    \n",
    "print('=' * 50)\n",
    "    \n",
    "val1 = list()\n",
    "for cont in range(0, 5):\n",
    "    val1.append(int(input('Digite um valor >>> ')))\n",
    "    val1.sort()\n",
    "for c, v in enumerate(val1):\n",
    "    print(f'Na posição {c + 1}º está o valor {v}')    "
   ]
  },
  {
   "cell_type": "code",
   "execution_count": 44,
   "id": "bb57a2d3",
   "metadata": {},
   "outputs": [
    {
     "name": "stdout",
     "output_type": "stream",
     "text": [
      "Digite um Valor >>> 25\n",
      "Digite um Valor >>> 85\n",
      "Digite um Valor >>> 65\n",
      "Digite um Valor >>> 95\n",
      "Digite um Valor >>> 15\n",
      "Na posição 0 esta o valor 25\n",
      "Na posição 1 esta o valor 85\n",
      "Na posição 2 esta o valor 65\n",
      "Na posição 3 esta o valor 95\n",
      "Na posição 4 esta o valor 15\n",
      "=-=-=-=-=-=-=-=-=-=-=-=-=-=-=-=-=-=-=-=-=-=-=-=-=-\n",
      "Os valores digitados foram [25, 85, 65, 95, 15]\n",
      "O maior valor digitado foi 95\n",
      "O menor valor digitado foi 15\n"
     ]
    }
   ],
   "source": [
    "conj = list()\n",
    "for rodar in range(0, 5):\n",
    "    conj.append(int(input('Digite um Valor >>> ')))\n",
    "for indice, valor in enumerate(conj):\n",
    "    print(f'Na posição {indice} esta o valor {valor}')\n",
    "print('=-' * 25)   \n",
    "print(f'Os valores digitados foram {conj}')\n",
    "print(f'Maior valor digitado {max(conj)}\\nMenor valor digitado {min(conj)}')    "
   ]
  },
  {
   "cell_type": "code",
   "execution_count": 6,
   "id": "e218952a",
   "metadata": {},
   "outputs": [
    {
     "name": "stdout",
     "output_type": "stream",
     "text": [
      "Mario é menor de idade\n",
      "Camila é maior de idade\n",
      "Samartan é maior de idade\n"
     ]
    }
   ],
   "source": [
    "galera = [ ]\n",
    "dados = [ ]\n",
    "totmai = totmen = 0\n",
    "\n",
    "for c in range(0, 3):\n",
    "    dados.append(str(input('Nome: ')))\n",
    "    dados.append(int(input('Idade: ')))\n",
    "    galera.append(dados[:])\n",
    "    dados.clear()\n",
    "\n",
    "for p in galera:\n",
    "    if p[1] >= 18:\n",
    "        print(f'{p[0].capitalize()} é maior de idade')\n",
    "        totmai += 1\n",
    "    else:\n",
    "        print(f'{p[0].capitalize()} é menor de idade')\n",
    "        totmen += 1       "
   ]
  },
  {
   "cell_type": "code",
   "execution_count": 51,
   "id": "8a3eb898",
   "metadata": {},
   "outputs": [
    {
     "name": "stdout",
     "output_type": "stream",
     "text": [
      "Cadastrado: 32 Cadastrado: 5 Cadastrado: 78 Cadastrado: 41 Cadastrado: 2 Cadastrado: 8 Cadastrado: 25 \n",
      "\n",
      "      \n",
      "      Valores Pares [2, 8, 32, 78]\n",
      "      \n",
      "      Valores Ímpares [5, 25, 41]      \n",
      "      \n"
     ]
    }
   ],
   "source": [
    "lista = [ [] , [] ]\n",
    "\n",
    "for c in range(1,8):\n",
    "    valor = int(input(f'Digite o {c}º >>> '))\n",
    "    print(f'Cadastrado: {valor}',end=' ')\n",
    "    if valor % 2 ==0:\n",
    "        lista[0].append(valor)\n",
    "    else:\n",
    "        lista[1].append(valor)\n",
    "lista[0].sort()\n",
    "lista[1].sort()\n",
    "print(f\"\"\"\\n\n",
    "      \n",
    "      Valores Pares {lista[0]}\n",
    "      \n",
    "      Valores Ímpares {lista[1]}      \n",
    "      \"\"\")"
   ]
  },
  {
   "cell_type": "code",
   "execution_count": 65,
   "id": "13cf4055",
   "metadata": {},
   "outputs": [
    {
     "name": "stdout",
     "output_type": "stream",
     "text": [
      "[2654 ][ 455 ][2445 ]\n",
      "[ 454 ][ 445 ][  3  ]\n",
      "[ 514 ][  2  ][ 54  ]\n"
     ]
    }
   ],
   "source": [
    "matriz = [[0,0,0], \n",
    "          [0,0,0], \n",
    "          [0,0,0]]\n",
    "\n",
    "for l in range(0,3):\n",
    "    for c in range(0,3):\n",
    "        matriz[l][c] = int(input('Digite um Valor >>> '))\n",
    "\n",
    "for l in range(0,3):\n",
    "    for c in range(0,3):\n",
    "        print(f'[{matriz[l][c]:^5}]', end=\"\")        \n",
    "    print()    "
   ]
  },
  {
   "cell_type": "code",
   "execution_count": 71,
   "id": "d4b44482",
   "metadata": {},
   "outputs": [
    {
     "name": "stdout",
     "output_type": "stream",
     "text": [
      "[ 25  ][ 78  ][ 54  ]\n",
      "[ 221 ][ 54  ][ 244 ]\n",
      "[ 55  ][4114 ][  2  ]\n",
      "=-=-=-=-=-=-=-=-=-=-=-=-=-=-=-=-=-=-=-=-\n",
      "A soma dos valores pares é 4546\n",
      "A soma dos valores da 3º coluna é 300\n",
      "O maior valor na 2º linha é 244\n"
     ]
    }
   ],
   "source": [
    "matriz = [[0,0,0], \n",
    "          [0,0,0], \n",
    "          [0,0,0]]\n",
    "\n",
    "spar = mai = scol = 0\n",
    "\n",
    "for l in range(0,3):\n",
    "    for c in range(0,3):\n",
    "        matriz[l][c] = int(input('Digite um Valor >>> '))\n",
    "\n",
    "for l in range(0,3):\n",
    "    for c in range(0,3):\n",
    "        print(f'[{matriz[l][c]:^5}]', end=\"\")\n",
    "        if matriz[l][c] % 2 == 0:\n",
    "            spar += matriz[l][c]                \n",
    "    print()\n",
    "print('=-'*20)\n",
    "print(f'A soma dos valores pares é {spar}')\n",
    "\n",
    "for l in range(0,3):\n",
    "    scol += matriz[l][2]\n",
    "print(f'A soma dos valores da 3º coluna é {scol}')\n",
    "\n",
    "for c in range(0,3):\n",
    "    if c == 0:\n",
    "        mai = matriz[1][c]\n",
    "    elif matriz[1][c] > mai:\n",
    "        mai = matriz[1][c]\n",
    "print(f'O maior valor na 2º linha é {mai}')                    "
   ]
  },
  {
   "cell_type": "code",
   "execution_count": 1,
   "id": "4d6b0146",
   "metadata": {},
   "outputs": [
    {
     "name": "stdout",
     "output_type": "stream",
     "text": [
      "===== Os Números Sorteados ======\n",
      "\n",
      " * Jogador_01 >>> 1\n",
      "\n",
      "\n",
      " * Jogador_02 >>> 4\n",
      "\n",
      "\n",
      " * jogador_03 >>> 3\n",
      "\n",
      "\n",
      " * Jogador_04 >>> 5\n",
      "\n",
      "==================================\n",
      "======= Ranking do Sorteio ======= \n",
      "\n",
      "1º Lugar Jogador_04 com Nº 5\n",
      "2º Lugar Jogador_02 com Nº 4\n",
      "3º Lugar jogador_03 com Nº 3\n",
      "4º Lugar Jogador_01 com Nº 1\n",
      "===================================\n"
     ]
    }
   ],
   "source": [
    "from random import randint\n",
    "from operator import itemgetter\n",
    "\n",
    "jogo = {\n",
    "    'Jogador_01':randint(1,6),\n",
    "    'Jogador_02':randint(1,6),\n",
    "    'jogador_03':randint(1,6),\n",
    "    'Jogador_04':randint(1,6)\n",
    "}\n",
    "\n",
    "print('='*5,'Os Números Sorteados','='*6)\n",
    "\n",
    "rank = dict()\n",
    "\n",
    "for k, v in jogo.items():\n",
    "    print(f'\\n * {k} >>> {v}\\n')\n",
    "print('=' * 34)    \n",
    "\n",
    "rank = sorted(jogo.items(), \n",
    "              key=itemgetter(1),\n",
    "              reverse=True)\n",
    "print('='*7,'Ranking do Sorteio','='*7,'\\n')\n",
    "for i, v in enumerate(rank):\n",
    "    print(f'{i+1}º Lugar {v[0]} com Nº {v[1]}')\n",
    "print('=' * 35)       "
   ]
  },
  {
   "cell_type": "code",
   "execution_count": 11,
   "id": "d862d172",
   "metadata": {},
   "outputs": [
    {
     "name": "stdout",
     "output_type": "stream",
     "text": [
      "=-==-==-==-==-==-==-==-==-==-=\n",
      "nome >> Barboza\n",
      "\n",
      "gol(s) >> [2, 1, 3]\n",
      "\n",
      "total >> 6\n",
      "\n",
      "=-==-==-==-==-==-==-==-==-==-=\n",
      "1º Partida 2 gol(s)\n",
      "2º Partida 1 gol(s)\n",
      "3º Partida 3 gol(s)\n",
      "=-==-==-==-==-==-==-==-==-==-=\n",
      "{'nome': 'Barboza', 'gol(s)': [2, 1, 3], 'total': 6}\n"
     ]
    }
   ],
   "source": [
    "jogador = dict()\n",
    "\n",
    "jogador['nome'] = str(input('Nome Jogador >>> '))\n",
    "tot = int(input(f'Nº de Partidas {jogador[\"nome\"]} >>> '))\n",
    "\n",
    "partidas = []\n",
    "print('=-=' * 10)\n",
    "for c in range(0, tot):\n",
    "    partidas.append(int(input(f'Nº de Gol(s) na {c+1}º partida >>> ')))\n",
    "    \n",
    "jogador['gol(s)'] = partidas[:]\n",
    "jogador['total'] = sum(partidas)\n",
    "\n",
    "for k, v in jogador.items():\n",
    "    print(f'{k} >> {v}\\n')\n",
    "print('=-=' * 10)\n",
    "for i, v in enumerate(jogador['gol(s)']):\n",
    "    print(f'{i+1}º Partida {v} gol(s)')\n",
    "\n",
    "print('=-=' * 10)\n",
    "print(jogador)"
   ]
  },
  {
   "cell_type": "code",
   "execution_count": null,
   "id": "ec6c8bc9",
   "metadata": {},
   "outputs": [],
   "source": []
  }
 ],
 "metadata": {
  "kernelspec": {
   "display_name": "Python 3 (ipykernel)",
   "language": "python",
   "name": "python3"
  },
  "language_info": {
   "codemirror_mode": {
    "name": "ipython",
    "version": 3
   },
   "file_extension": ".py",
   "mimetype": "text/x-python",
   "name": "python",
   "nbconvert_exporter": "python",
   "pygments_lexer": "ipython3",
   "version": "3.10.11"
  }
 },
 "nbformat": 4,
 "nbformat_minor": 5
}
