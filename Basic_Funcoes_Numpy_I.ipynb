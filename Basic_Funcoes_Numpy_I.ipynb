{
 "cells": [
  {
   "cell_type": "markdown",
   "id": "5546af9d",
   "metadata": {},
   "source": [
    "# <center> Funções Bsicas Numpy </center>\n",
    "\n",
    "## BasicToolBox  - Numpy I"
   ]
  },
  {
   "cell_type": "code",
   "execution_count": 2,
   "id": "bd893e35",
   "metadata": {},
   "outputs": [],
   "source": [
    "import numpy as np"
   ]
  },
  {
   "cell_type": "code",
   "execution_count": 137,
   "id": "1fd65574",
   "metadata": {},
   "outputs": [
    {
     "name": "stdout",
     "output_type": "stream",
     "text": [
      "[1, 2, 3]\n"
     ]
    }
   ],
   "source": [
    "# lista para exemplo\n",
    "lista = [1,2,3]\n",
    "\n",
    "print(lista)"
   ]
  },
  {
   "cell_type": "markdown",
   "id": "076af3a3",
   "metadata": {},
   "source": [
    "## ``Array`` Numpy\n",
    "\n",
    "* Cria uma Matriz ou Vetor"
   ]
  },
  {
   "cell_type": "code",
   "execution_count": 138,
   "id": "0dd0432c",
   "metadata": {},
   "outputs": [
    {
     "name": "stdout",
     "output_type": "stream",
     "text": [
      "<class 'numpy.ndarray'> \n",
      "\n",
      "[1. 2. 3.]\n"
     ]
    }
   ],
   "source": [
    "# Craindo um array\n",
    "np_array = np.array(lista, dtype = float)\n",
    "\n",
    "# Verificando o Tipo Primitivo deste objeto numpy\n",
    "print(type(np_array), '\\n')\n",
    "\n",
    "\n",
    "# Varificando os valor no array( Vetor ou Matriz)\n",
    "print(np_array)"
   ]
  },
  {
   "cell_type": "code",
   "execution_count": 139,
   "id": "43c96898",
   "metadata": {},
   "outputs": [
    {
     "name": "stdout",
     "output_type": "stream",
     "text": [
      "[2, 4, 6]\n"
     ]
    }
   ],
   "source": [
    "# Esta função python estruturado com o \"for\", irá itarar em os valores do array\n",
    "for i in range(len(lista)):\n",
    "    lista[i] *= 2\n",
    "print(lista)\n",
    "\n",
    "# Craindo um looping com a quantidades de elementos na lista\n",
    "# Multiplicando cada valor da lista, de acordo com a posição na contagem, por 2"
   ]
  },
  {
   "cell_type": "code",
   "execution_count": 140,
   "id": "85313e84",
   "metadata": {},
   "outputs": [
    {
     "name": "stdout",
     "output_type": "stream",
     "text": [
      "[2, 4, 6, 2, 4, 6]\n"
     ]
    }
   ],
   "source": [
    "# Repetindo duas vezes a lista\n",
    "print(lista*2)\n",
    "# 2,4,6 e novamente 2,4,6"
   ]
  },
  {
   "cell_type": "code",
   "execution_count": 141,
   "id": "7f57f2e3",
   "metadata": {},
   "outputs": [
    {
     "name": "stdout",
     "output_type": "stream",
     "text": [
      "[2. 4. 6.]\n"
     ]
    }
   ],
   "source": [
    "# Multiplicando cada valor do Array por 2\n",
    "print(np_array * 2)"
   ]
  },
  {
   "cell_type": "markdown",
   "id": "4ac5ac9a",
   "metadata": {},
   "source": [
    "## ``ndim`` Array Numpy\n",
    "\n",
    "* Retorna o número de dimensões da matriz."
   ]
  },
  {
   "cell_type": "code",
   "execution_count": 142,
   "id": "11d80ad2",
   "metadata": {},
   "outputs": [
    {
     "data": {
      "text/plain": [
       "1"
      ]
     },
     "execution_count": 142,
     "metadata": {},
     "output_type": "execute_result"
    }
   ],
   "source": [
    "# Verificando o Nº de Dimensões\n",
    "np_array.ndim\n",
    "# este é um objeto numpy.array de uma dimensão"
   ]
  },
  {
   "cell_type": "markdown",
   "id": "2e342e3f",
   "metadata": {},
   "source": [
    "## ``shape`` Array Numpy\n",
    "\n",
    "* Retorne a forma de um array"
   ]
  },
  {
   "cell_type": "code",
   "execution_count": 143,
   "id": "4f0cae60",
   "metadata": {},
   "outputs": [
    {
     "data": {
      "text/plain": [
       "(3,)"
      ]
     },
     "execution_count": 143,
     "metadata": {},
     "output_type": "execute_result"
    }
   ],
   "source": [
    "# Verificando a forma deste objeto numpy.array\n",
    "np_array.shape\n",
    "# Apenas três linhas, em uma unica dimensão"
   ]
  },
  {
   "cell_type": "markdown",
   "id": "3716ebb2",
   "metadata": {},
   "source": [
    "##  ``size`` Array Numpy\n",
    "\n",
    "* Número de elementos na matriz."
   ]
  },
  {
   "cell_type": "code",
   "execution_count": 144,
   "id": "550d426b",
   "metadata": {},
   "outputs": [
    {
     "name": "stdout",
     "output_type": "stream",
     "text": [
      "3\n",
      "[1. 2. 3.]\n",
      "(3,)\n"
     ]
    }
   ],
   "source": [
    "# Verificando o Nº de lementos no array\n",
    "print(np_array.size)\n",
    "# São tres elementos no array, \n",
    "\n",
    "print(np_array)\n",
    "# Os valores 1,2,3 são os tes elementos \n",
    "\n",
    "print(np_array.shape)"
   ]
  },
  {
   "cell_type": "markdown",
   "id": "a8b90558",
   "metadata": {},
   "source": [
    "## ``zeros`` Array Numpy"
   ]
  },
  {
   "cell_type": "code",
   "execution_count": 145,
   "id": "e4f8afa7",
   "metadata": {},
   "outputs": [
    {
     "name": "stdout",
     "output_type": "stream",
     "text": [
      "[[0. 0. 0.]\n",
      " [0. 0. 0.]\n",
      " [0. 0. 0.]] \n",
      "\n",
      "2\n",
      "\n",
      "(3, 3)\n"
     ]
    }
   ],
   "source": [
    "# Criando Array de zero 0\n",
    "z = np.zeros((3,3), float)\n",
    "print(z,'\\n')\n",
    "\n",
    "# Verificando o Nº de Dimensões\n",
    "print(z.ndim)\n",
    "# Duas dimensões\n",
    "\n",
    "print()\n",
    "\n",
    "# Formato do Array\n",
    "print(z.shape)\n",
    "# 3 Linhas e 3 Colunas"
   ]
  },
  {
   "cell_type": "markdown",
   "id": "4283d293",
   "metadata": {},
   "source": [
    "## ``ones`` Array Numpy"
   ]
  },
  {
   "cell_type": "code",
   "execution_count": 146,
   "id": "581e74a2",
   "metadata": {},
   "outputs": [
    {
     "name": "stdout",
     "output_type": "stream",
     "text": [
      "[[1 1 1]\n",
      " [1 1 1]\n",
      " [1 1 1]] \n",
      "\n",
      "2\n",
      "\n",
      "(3, 3)\n"
     ]
    }
   ],
   "source": [
    "# Criando Array de uns 1\n",
    "u = np.ones((3,3), int)\n",
    "print(u, '\\n')\n",
    "\n",
    "# Verificando o Nº de Dimensões\n",
    "print(u.ndim)\n",
    "# Duas dimensões\n",
    "print()\n",
    "\n",
    "# Formato do Array\n",
    "print(u.shape)\n",
    "# 3 Linhas e 3 Colunas"
   ]
  },
  {
   "cell_type": "markdown",
   "id": "746f7c4d",
   "metadata": {},
   "source": [
    "## ``identity`` Array Numpy\n",
    "\n",
    "* Retona a matriz identidade "
   ]
  },
  {
   "cell_type": "code",
   "execution_count": 147,
   "id": "51a99903",
   "metadata": {},
   "outputs": [
    {
     "name": "stdout",
     "output_type": "stream",
     "text": [
      "[[1. 0.]\n",
      " [0. 1.]] \n",
      "\n",
      "2\n",
      "\n",
      "(2, 2)\n"
     ]
    }
   ],
   "source": [
    "# Criando uma Matriz Identidade\n",
    "i = np.identity(2)\n",
    "\n",
    "# Verificando a  Matriz identidade\n",
    "print(i,'\\n')\n",
    "\n",
    "# Verificando o Nº de Dimensões\n",
    "print(i.ndim)\n",
    "# Duas dimensões\n",
    "print()\n",
    "\n",
    "# Formato do Array\n",
    "print(i.shape)\n",
    "# 2 Linhas e 2 Colunas"
   ]
  },
  {
   "cell_type": "markdown",
   "id": "46c7e637",
   "metadata": {},
   "source": [
    "## ``full`` Array Numpy \n",
    "\n",
    "* Retorna uma nova matriz de determinado formato e tipo, preenchida com ``fill_value``(valor de preenchimento)."
   ]
  },
  {
   "cell_type": "code",
   "execution_count": 148,
   "id": "30044e78",
   "metadata": {},
   "outputs": [
    {
     "data": {
      "text/plain": [
       "array([[52, 52, 52],\n",
       "       [52, 52, 52],\n",
       "       [52, 52, 52]])"
      ]
     },
     "execution_count": 148,
     "metadata": {},
     "output_type": "execute_result"
    }
   ],
   "source": [
    "# Criar Matriz com todos os valores iguais\n",
    "np.full((3,3), 52)"
   ]
  },
  {
   "cell_type": "markdown",
   "id": "5e942c8d",
   "metadata": {},
   "source": [
    "## ``np.random`` Array Numpy\n",
    "\n",
    "* Módulo implementa geradores de números pseudo-aleatórios"
   ]
  },
  {
   "cell_type": "code",
   "execution_count": 4,
   "id": "56406303",
   "metadata": {},
   "outputs": [
    {
     "ename": "TypeError",
     "evalue": "'module' object is not callable",
     "output_type": "error",
     "traceback": [
      "\u001b[1;31m---------------------------------------------------------------------------\u001b[0m",
      "\u001b[1;31mTypeError\u001b[0m                                 Traceback (most recent call last)",
      "\u001b[1;32m~\\AppData\\Local\\Temp\\ipykernel_9696\\3076233099.py\u001b[0m in \u001b[0;36m<module>\u001b[1;34m\u001b[0m\n\u001b[1;32m----> 1\u001b[1;33m \u001b[0mnp\u001b[0m\u001b[1;33m.\u001b[0m\u001b[0mrandom\u001b[0m\u001b[1;33m(\u001b[0m\u001b[1;33m)\u001b[0m\u001b[1;33m\u001b[0m\u001b[1;33m\u001b[0m\u001b[0m\n\u001b[0m",
      "\u001b[1;31mTypeError\u001b[0m: 'module' object is not callable"
     ]
    }
   ],
   "source": [
    "np.random()"
   ]
  },
  {
   "cell_type": "markdown",
   "id": "bf278d4e",
   "metadata": {},
   "source": [
    "## ``random.rand`` Array Numpy\n",
    "\n",
    "* Valores aleatórios em uma determinada forma"
   ]
  },
  {
   "cell_type": "code",
   "execution_count": 149,
   "id": "20f36df4",
   "metadata": {},
   "outputs": [
    {
     "data": {
      "text/plain": [
       "array([[0.37849214, 0.95454573],\n",
       "       [0.38959295, 0.89642685],\n",
       "       [0.23048084, 0.69403522],\n",
       "       [0.38534729, 0.25732938]])"
      ]
     },
     "execution_count": 149,
     "metadata": {},
     "output_type": "execute_result"
    }
   ],
   "source": [
    "# Criar uma matriz com 4 por 2 com valores aleatorios entre 0 e 1\n",
    "np.random.rand(4,2)"
   ]
  },
  {
   "cell_type": "markdown",
   "id": "c388d1c1",
   "metadata": {},
   "source": [
    "## ``random.randint`` Array Numpy\n",
    "\n",
    "* Retorna inteiros aleatórios da distribuição “uniforme discreta” do dtype especificado no interval"
   ]
  },
  {
   "cell_type": "code",
   "execution_count": 150,
   "id": "eb0eac38",
   "metadata": {},
   "outputs": [
    {
     "data": {
      "text/plain": [
       "array([[-2, -2,  4],\n",
       "       [ 6, -3, -2],\n",
       "       [ 6,  2, -4]])"
      ]
     },
     "execution_count": 150,
     "metadata": {},
     "output_type": "execute_result"
    }
   ],
   "source": [
    "# Criar uma Matriz 3 por 3 com valores aleatorios entre -4 e 8\n",
    "np.random.randint(-4, 8, size=(3,3))"
   ]
  },
  {
   "cell_type": "markdown",
   "id": "4f34e011",
   "metadata": {},
   "source": [
    "## <center> Manipulando Dimensões de um Array </center>"
   ]
  },
  {
   "cell_type": "markdown",
   "id": "f61fe675",
   "metadata": {},
   "source": [
    "## ``reshape`` Array Numpy\n",
    "\n",
    "* Uma nova forma a um array sem alterar seus dados."
   ]
  },
  {
   "cell_type": "code",
   "execution_count": 151,
   "id": "212ee422",
   "metadata": {},
   "outputs": [
    {
     "name": "stdout",
     "output_type": "stream",
     "text": [
      "Matriz 2x6 :\n",
      " [[0.45 0.45 0.45 0.45 0.45 0.45]\n",
      " [0.45 0.45 0.45 0.45 0.45 0.45]]\n",
      "\n",
      "\n",
      "Matriz 3x4 \n",
      " [[0.45 0.45 0.45 0.45]\n",
      " [0.45 0.45 0.45 0.45]\n",
      " [0.45 0.45 0.45 0.45]]\n"
     ]
    }
   ],
   "source": [
    "# Craindo uma Matriz com 2 linhas e 6 colunas\n",
    "narray = np.full((2,6),0.45)\n",
    "print(f'Matriz 2x6 :\\n {narray}\\n\\n')\n",
    "# 2 * 6 = 12\n",
    "\n",
    "# Aplicando a função numpy \"reshape()\" transformar em uma Matriz de 3 linhas e 4 colunas\n",
    "narray = narray.reshape(3,4)\n",
    "print(f'Matriz 3x4 \\n {narray}')\n",
    "#  3 * 4 = 12"
   ]
  },
  {
   "cell_type": "code",
   "execution_count": 152,
   "id": "82f80ecf",
   "metadata": {},
   "outputs": [
    {
     "data": {
      "text/plain": [
       "(3, 4)"
      ]
     },
     "execution_count": 152,
     "metadata": {},
     "output_type": "execute_result"
    }
   ],
   "source": [
    "narray.shape"
   ]
  },
  {
   "cell_type": "markdown",
   "id": "0ea4a953",
   "metadata": {},
   "source": [
    "## ``ravel`` Array Numpy\n",
    "\n",
    "* Retorna uma matriz achatada contígua. Uma matriz 1-D, contendo os elementos da entrada, é retornada."
   ]
  },
  {
   "cell_type": "code",
   "execution_count": 153,
   "id": "749565f3",
   "metadata": {},
   "outputs": [
    {
     "name": "stdout",
     "output_type": "stream",
     "text": [
      "[0.45 0.45 0.45 0.45 0.45 0.45 0.45 0.45 0.45 0.45 0.45 0.45]\n",
      "\n",
      "(12,)\n"
     ]
    }
   ],
   "source": [
    "# Criar uma uma matriz achatada contígua. \"np.ravel()\"\n",
    "arr = (narray.ravel())\n",
    "print(arr)\n",
    "print()\n",
    "print(arr.shape)\n",
    "# transfoma a matriz em uma linha"
   ]
  },
  {
   "cell_type": "markdown",
   "id": "9defa00b",
   "metadata": {},
   "source": [
    "## <center> Fatiamento em Arrays </center>"
   ]
  },
  {
   "cell_type": "code",
   "execution_count": 154,
   "id": "d0d48684",
   "metadata": {},
   "outputs": [
    {
     "name": "stdout",
     "output_type": "stream",
     "text": [
      "[[0, 1, 2, 3], [4, 5, 6, 7], [8, 9, 10, 11]]\n"
     ]
    }
   ],
   "source": [
    "lista = [[0,1,2,3], [4,5,6,7],[8,9,10,11]]\n",
    "print(lista)"
   ]
  },
  {
   "cell_type": "code",
   "execution_count": 155,
   "id": "1a907911",
   "metadata": {},
   "outputs": [
    {
     "data": {
      "text/plain": [
       "5"
      ]
     },
     "execution_count": 155,
     "metadata": {},
     "output_type": "execute_result"
    }
   ],
   "source": [
    "lista[1][1]"
   ]
  },
  {
   "cell_type": "code",
   "execution_count": 156,
   "id": "a2d9e7ca",
   "metadata": {},
   "outputs": [
    {
     "data": {
      "text/plain": [
       "array([[ 0,  1,  2,  3],\n",
       "       [ 4,  5,  6,  7],\n",
       "       [ 8,  9, 10, 11]])"
      ]
     },
     "execution_count": 156,
     "metadata": {},
     "output_type": "execute_result"
    }
   ],
   "source": [
    "mat = np.array(lista)\n",
    "mat"
   ]
  },
  {
   "cell_type": "code",
   "execution_count": 157,
   "id": "d786a9aa",
   "metadata": {},
   "outputs": [
    {
     "data": {
      "text/plain": [
       "5"
      ]
     },
     "execution_count": 157,
     "metadata": {},
     "output_type": "execute_result"
    }
   ],
   "source": [
    "mat[1][1]"
   ]
  },
  {
   "cell_type": "code",
   "execution_count": 158,
   "id": "caae2a1b",
   "metadata": {},
   "outputs": [
    {
     "data": {
      "text/plain": [
       "array([0, 1, 2])"
      ]
     },
     "execution_count": 158,
     "metadata": {},
     "output_type": "execute_result"
    }
   ],
   "source": [
    "mat[0, :3]"
   ]
  },
  {
   "cell_type": "code",
   "execution_count": 159,
   "id": "2ea32311",
   "metadata": {},
   "outputs": [
    {
     "data": {
      "text/plain": [
       "array([0, 1, 2])"
      ]
     },
     "execution_count": 159,
     "metadata": {},
     "output_type": "execute_result"
    }
   ],
   "source": [
    "mat[0][:3]"
   ]
  },
  {
   "cell_type": "code",
   "execution_count": 160,
   "id": "15a9d822",
   "metadata": {},
   "outputs": [
    {
     "data": {
      "text/plain": [
       "array([0, 1, 2])"
      ]
     },
     "execution_count": 160,
     "metadata": {},
     "output_type": "execute_result"
    }
   ],
   "source": [
    "mat[0, 0:3]"
   ]
  },
  {
   "cell_type": "code",
   "execution_count": 161,
   "id": "13ccd8ae",
   "metadata": {},
   "outputs": [
    {
     "data": {
      "text/plain": [
       "(3, 4)"
      ]
     },
     "execution_count": 161,
     "metadata": {},
     "output_type": "execute_result"
    }
   ],
   "source": [
    "mat.shape"
   ]
  },
  {
   "cell_type": "code",
   "execution_count": 162,
   "id": "c399787b",
   "metadata": {},
   "outputs": [
    {
     "data": {
      "text/plain": [
       "array([[ 0,  1,  2,  3],\n",
       "       [ 4,  5,  6,  7],\n",
       "       [ 8,  9, 10, 11]])"
      ]
     },
     "execution_count": 162,
     "metadata": {},
     "output_type": "execute_result"
    }
   ],
   "source": [
    "mat"
   ]
  },
  {
   "cell_type": "code",
   "execution_count": 163,
   "id": "02d35e37",
   "metadata": {},
   "outputs": [
    {
     "data": {
      "text/plain": [
       "0"
      ]
     },
     "execution_count": 163,
     "metadata": {},
     "output_type": "execute_result"
    }
   ],
   "source": [
    "mat[0,0]"
   ]
  },
  {
   "cell_type": "code",
   "execution_count": 164,
   "id": "b65929c0",
   "metadata": {},
   "outputs": [],
   "source": [
    "mat[0,0] = 100"
   ]
  },
  {
   "cell_type": "code",
   "execution_count": 165,
   "id": "3ab4f3d7",
   "metadata": {},
   "outputs": [
    {
     "data": {
      "text/plain": [
       "array([[100,   1,   2,   3],\n",
       "       [  4,   5,   6,   7],\n",
       "       [  8,   9,  10,  11]])"
      ]
     },
     "execution_count": 165,
     "metadata": {},
     "output_type": "execute_result"
    }
   ],
   "source": [
    "mat"
   ]
  },
  {
   "cell_type": "code",
   "execution_count": 166,
   "id": "d13fc629",
   "metadata": {},
   "outputs": [
    {
     "data": {
      "text/plain": [
       "100"
      ]
     },
     "execution_count": 166,
     "metadata": {},
     "output_type": "execute_result"
    }
   ],
   "source": [
    "mat[0,0]"
   ]
  },
  {
   "cell_type": "code",
   "execution_count": 167,
   "id": "c4f3f853",
   "metadata": {},
   "outputs": [
    {
     "data": {
      "text/plain": [
       "array([100,   4,   8])"
      ]
     },
     "execution_count": 167,
     "metadata": {},
     "output_type": "execute_result"
    }
   ],
   "source": [
    "mat[:, 0]"
   ]
  },
  {
   "cell_type": "code",
   "execution_count": 168,
   "id": "59c1ab63",
   "metadata": {},
   "outputs": [],
   "source": [
    "mat[:, 0] = [200, 8, 16]"
   ]
  },
  {
   "cell_type": "code",
   "execution_count": 169,
   "id": "12d2354a",
   "metadata": {},
   "outputs": [
    {
     "data": {
      "text/plain": [
       "array([200,   8,  16])"
      ]
     },
     "execution_count": 169,
     "metadata": {},
     "output_type": "execute_result"
    }
   ],
   "source": [
    "mat[:,0]"
   ]
  },
  {
   "cell_type": "code",
   "execution_count": 170,
   "id": "b4d4ffc5",
   "metadata": {},
   "outputs": [
    {
     "data": {
      "text/plain": [
       "array([[200,   1,   2,   3],\n",
       "       [  8,   5,   6,   7],\n",
       "       [ 16,   9,  10,  11]])"
      ]
     },
     "execution_count": 170,
     "metadata": {},
     "output_type": "execute_result"
    }
   ],
   "source": [
    "mat"
   ]
  },
  {
   "cell_type": "markdown",
   "id": "842d25f8",
   "metadata": {},
   "source": [
    "## <center> Operações Matemáticas com Arrays </center>"
   ]
  },
  {
   "cell_type": "code",
   "execution_count": 171,
   "id": "9eab186b",
   "metadata": {},
   "outputs": [
    {
     "name": "stdout",
     "output_type": "stream",
     "text": [
      "[1 2 3 4]\n"
     ]
    }
   ],
   "source": [
    "# Craindo Array para exemplificação\n",
    "array_ex2 = np.array([1,2,3,4])\n",
    "print(array_ex2)"
   ]
  },
  {
   "cell_type": "code",
   "execution_count": 172,
   "id": "09bb4d8c",
   "metadata": {},
   "outputs": [
    {
     "name": "stdout",
     "output_type": "stream",
     "text": [
      "[3 4 5 6]\n"
     ]
    }
   ],
   "source": [
    "# Soma de Array por Escalar\n",
    "print(array_ex2 + 2)"
   ]
  },
  {
   "cell_type": "code",
   "execution_count": 173,
   "id": "6fb05bfe",
   "metadata": {},
   "outputs": [
    {
     "name": "stdout",
     "output_type": "stream",
     "text": [
      "[-1  0  1  2]\n"
     ]
    }
   ],
   "source": [
    "# Subtração de Array por Escalar\n",
    "print(array_ex2 - 2)"
   ]
  },
  {
   "cell_type": "code",
   "execution_count": 174,
   "id": "faabb687",
   "metadata": {},
   "outputs": [
    {
     "name": "stdout",
     "output_type": "stream",
     "text": [
      "[2 4 6 8]\n"
     ]
    }
   ],
   "source": [
    "# Multiplicação de Array por Escalar\n",
    "print(array_ex2 * 2)"
   ]
  },
  {
   "cell_type": "code",
   "execution_count": 175,
   "id": "3280285f",
   "metadata": {},
   "outputs": [
    {
     "name": "stdout",
     "output_type": "stream",
     "text": [
      "[0.5 1.  1.5 2. ]\n"
     ]
    }
   ],
   "source": [
    "# Divisão de Array por Escalar\n",
    "print(array_ex2 / 2)"
   ]
  },
  {
   "cell_type": "code",
   "execution_count": 176,
   "id": "e74d15c7",
   "metadata": {},
   "outputs": [
    {
     "name": "stdout",
     "output_type": "stream",
     "text": [
      "[ 1  4  9 16]\n"
     ]
    }
   ],
   "source": [
    "# Exponenciação de Array por Escalar\n",
    "print(array_ex2 ** 2)"
   ]
  },
  {
   "cell_type": "code",
   "execution_count": 177,
   "id": "5dc0e16a",
   "metadata": {},
   "outputs": [
    {
     "name": "stdout",
     "output_type": "stream",
     "text": [
      "[ 0.54030231 -0.41614684 -0.9899925  -0.65364362]\n"
     ]
    }
   ],
   "source": [
    "# Extraindo Cosseno do Array\n",
    "print(np.cos(array_ex2))"
   ]
  },
  {
   "cell_type": "markdown",
   "id": "7b1a8d83",
   "metadata": {},
   "source": [
    "# <center> Exemplos </center>"
   ]
  },
  {
   "cell_type": "code",
   "execution_count": 178,
   "id": "7285d453",
   "metadata": {},
   "outputs": [
    {
     "name": "stdout",
     "output_type": "stream",
     "text": [
      "[[1 4 3]\n",
      " [4 5 6]]\n"
     ]
    }
   ],
   "source": [
    "# Craindo Array para exemplificação\n",
    "array_ex = np.array([[1,4,3],[4,5,6]])\n",
    "print(array_ex)"
   ]
  },
  {
   "cell_type": "code",
   "execution_count": 179,
   "id": "3ae78c25",
   "metadata": {},
   "outputs": [
    {
     "name": "stdout",
     "output_type": "stream",
     "text": [
      "1\n",
      "4\n",
      "3\n",
      "4\n",
      "5\n",
      "6\n"
     ]
    }
   ],
   "source": [
    "# 1º Opção - Percorrendo cada elemento do array\n",
    "for num in array_ex:\n",
    "    for i in num:\n",
    "        print(i)"
   ]
  },
  {
   "cell_type": "code",
   "execution_count": 180,
   "id": "1deff75a",
   "metadata": {},
   "outputs": [
    {
     "name": "stdout",
     "output_type": "stream",
     "text": [
      "1\n",
      "4\n",
      "3\n",
      "4\n",
      "5\n",
      "6\n"
     ]
    }
   ],
   "source": [
    "# 2º Opção - Percorrendo cada elemento do array\n",
    "for i in range(array_ex.shape[0]):\n",
    "    for j in range(array_ex.shape[1]):\n",
    "        print(array_ex[i,j])"
   ]
  },
  {
   "cell_type": "markdown",
   "id": "76adde9b",
   "metadata": {},
   "source": [
    "## ``ndenumerate``  Numpy\n",
    "\n",
    "* É um iterador de índice multidimensional"
   ]
  },
  {
   "cell_type": "code",
   "execution_count": 181,
   "id": "e28a439c",
   "metadata": {},
   "outputs": [
    {
     "name": "stdout",
     "output_type": "stream",
     "text": [
      "(0, 0) 1\n",
      "(0, 1) 4\n",
      "(0, 2) 3\n",
      "(1, 0) 4\n",
      "(1, 1) 5\n",
      "(1, 2) 6\n"
     ]
    }
   ],
   "source": [
    "# 3º Opção - Percorrendo cada elemento do array\n",
    "for index, x in np.ndenumerate(array_ex):\n",
    "    print(index, x)"
   ]
  },
  {
   "cell_type": "code",
   "execution_count": 182,
   "id": "96766079",
   "metadata": {},
   "outputs": [
    {
     "data": {
      "text/plain": [
       "(2, 3)"
      ]
     },
     "execution_count": 182,
     "metadata": {},
     "output_type": "execute_result"
    }
   ],
   "source": [
    "# Verificando a forma do array\n",
    "array_ex.shape"
   ]
  },
  {
   "cell_type": "code",
   "execution_count": 184,
   "id": "0b30fa48",
   "metadata": {},
   "outputs": [
    {
     "name": "stdout",
     "output_type": "stream",
     "text": [
      "[[1 2 3]\n",
      " [4 5 6]\n",
      " [7 8 9]]\n"
     ]
    }
   ],
   "source": [
    "# Percorrer cada elemento do Array Bidimensional e somar os elementos impares\n",
    "arr_ = np.array([[1,2,3], [4,5,6], [7,8,9]])\n",
    "print(arr_)"
   ]
  },
  {
   "cell_type": "markdown",
   "id": "4d790c16",
   "metadata": {},
   "source": [
    "## ``append``  Array Numpy\n",
    "\n",
    "* Acrescente valores ao final de uma matriz."
   ]
  },
  {
   "cell_type": "code",
   "execution_count": 187,
   "id": "c98ea0af",
   "metadata": {},
   "outputs": [
    {
     "name": "stdout",
     "output_type": "stream",
     "text": [
      "[1, 3, 5, 7, 9] \n",
      "\n",
      "25\n"
     ]
    }
   ],
   "source": [
    "impar = [] \n",
    "\n",
    "for i in range(arr_.shape[0]):\n",
    "    for j in range(arr_.shape[1]):\n",
    "        if arr_[i,j] %2 != 0:\n",
    "            impar.append(arr_[i,j])\n",
    "            \n",
    "print(impar,'\\n')\n",
    "soma = sum(impar)\n",
    "print(soma)\n"
   ]
  },
  {
   "cell_type": "code",
   "execution_count": 189,
   "id": "c66901c4",
   "metadata": {},
   "outputs": [
    {
     "name": "stdout",
     "output_type": "stream",
     "text": [
      "3\n",
      "3\n",
      "(3, 3)\n"
     ]
    }
   ],
   "source": [
    "print(arr_.shape[0])\n",
    "print(arr_.shape[1])\n",
    "print(arr_.shape)"
   ]
  }
 ],
 "metadata": {
  "kernelspec": {
   "display_name": "Python 3 (ipykernel)",
   "language": "python",
   "name": "python3"
  },
  "language_info": {
   "codemirror_mode": {
    "name": "ipython",
    "version": 3
   },
   "file_extension": ".py",
   "mimetype": "text/x-python",
   "name": "python",
   "nbconvert_exporter": "python",
   "pygments_lexer": "ipython3",
   "version": "3.9.13"
  }
 },
 "nbformat": 4,
 "nbformat_minor": 5
}
