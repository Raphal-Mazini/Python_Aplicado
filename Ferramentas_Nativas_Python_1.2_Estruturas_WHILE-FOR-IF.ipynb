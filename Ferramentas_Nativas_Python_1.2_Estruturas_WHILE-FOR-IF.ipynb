{
 "cells": [
  {
   "attachments": {},
   "cell_type": "markdown",
   "id": "2418b9e1",
   "metadata": {},
   "source": [
    "# <center>  Ferramentas Nativas do Python </center>\n",
    "\n",
    "## <center>  Principais Funções e Comandos nativos do python </center>"
   ]
  },
  {
   "attachments": {},
   "cell_type": "markdown",
   "id": "1a23f358",
   "metadata": {},
   "source": [
    "# ``while`` \n",
    "\n",
    "A função do comando ``while`` é criar uma estrutura de repetição utilizada quando queremos que determinado bloco de código seja executado ENQUANTO (do inglês while) determinada condição for satisfeita\n",
    "\n",
    "__A diferença entre for e while :__  \n",
    "\n",
    "* ``While`` Executa o loop primeiro e depois verifica a condição e não irá para até que seja verdadeira a condição estabelecida \n",
    "* ``For:``   Executa o loop enquanto a condição for verdadeira\n",
    "\n",
    "A diferença está na repetição em si, enquando o ``for`` repete a condição por ser verdadeira, ``while`` não irá para de repetir até que a condição verdadeira seja interrompida, em resumo, __for__ é uma estrutura de repetição limitada a condição verdadeira e o  __while__ é uma estrutura de repetição infinita enquando a condição verdadeira ou a condição quebrada."
   ]
  },
  {
   "cell_type": "code",
   "execution_count": 19,
   "id": "870c2bc2",
   "metadata": {},
   "outputs": [
    {
     "name": "stdout",
     "output_type": "stream",
     "text": [
      "R a p h a e l "
     ]
    }
   ],
   "source": [
    "i = 0\n",
    "while i < len(\"Raphael\"):\n",
    "    print(\"Raphael\"[i], end=' ')\n",
    "    i += 1"
   ]
  },
  {
   "cell_type": "code",
   "execution_count": 20,
   "id": "29e515f9",
   "metadata": {},
   "outputs": [
    {
     "name": "stdout",
     "output_type": "stream",
     "text": [
      "Insira um numero sem ponto ou virgula:  5\n",
      "Insira um numero sem ponto ou virgula:  0\n",
      "Fim!\n"
     ]
    }
   ],
   "source": [
    "n = 1\n",
    "while n != 0:\n",
    "    n = int(input('Insira um numero sem ponto ou virgula:  '))\n",
    "print('Fim!')"
   ]
  },
  {
   "cell_type": "code",
   "execution_count": 21,
   "id": "6ed41f4f",
   "metadata": {},
   "outputs": [
    {
     "name": "stdout",
     "output_type": "stream",
     "text": [
      "Digite 999 para encerrar\n",
      "\n",
      "Digite um valor sem ponto ou virgula:  521\n",
      "Digite um valor sem ponto ou virgula:  999\n",
      "Foi inserido um total de 1 valores, resultando na soma de 521 \n"
     ]
    }
   ],
   "source": [
    "soma = count = 0\n",
    "print('Digite 999 para encerrar\\n')\n",
    "while True:\n",
    "    num = int(input(\"Digite um valor sem ponto ou virgula:  \"))\n",
    "    if num == 999:\n",
    "        break\n",
    "    soma += num\n",
    "    count += 1\n",
    "print(f\"Foi inserido um total de {count} valores, resultando na soma de {soma} \")    "
   ]
  },
  {
   "cell_type": "code",
   "execution_count": 22,
   "id": "eddc04fd",
   "metadata": {},
   "outputs": [
    {
     "name": "stdout",
     "output_type": "stream",
     "text": [
      "Qual a Tabuada de interesse ? >>>   9\n",
      "------------------------------\n",
      "9 x 1 = 9\n",
      "9 x 2 = 18\n",
      "9 x 3 = 27\n",
      "9 x 4 = 36\n",
      "9 x 5 = 45\n",
      "9 x 6 = 54\n",
      "9 x 7 = 63\n",
      "9 x 8 = 72\n",
      "9 x 9 = 81\n",
      "9 x 10 = 90\n",
      "------------------------------\n",
      "Qual a Tabuada de interesse ? >>>   99\n",
      "------------------------------\n",
      "99 x 1 = 99\n",
      "99 x 2 = 198\n",
      "99 x 3 = 297\n",
      "99 x 4 = 396\n",
      "99 x 5 = 495\n",
      "99 x 6 = 594\n",
      "99 x 7 = 693\n",
      "99 x 8 = 792\n",
      "99 x 9 = 891\n",
      "99 x 10 = 990\n",
      "------------------------------\n",
      "Qual a Tabuada de interesse ? >>>   -1\n",
      "Encerrado !!\n"
     ]
    }
   ],
   "source": [
    "while True:\n",
    "    n = int(input('Qual a Tabuada de interesse ? >>>   '))\n",
    "    if n < 0:\n",
    "        break\n",
    "        \n",
    "    print('-' * 30)\n",
    "    for c in range(1, 11):\n",
    "        print(f'{n} x {c} = {n * c}')\n",
    "    print('-' * 30)\n",
    "    \n",
    "print('Encerrado !!')"
   ]
  },
  {
   "cell_type": "code",
   "execution_count": 23,
   "id": "ec99bad2",
   "metadata": {},
   "outputs": [
    {
     "name": "stdout",
     "output_type": "stream",
     "text": [
      "Digite um valor: 3\n",
      "Par ou ímpar [ P / I ] >>>   p\n",
      "Você jogou 3 O computador 4\n",
      "Total 7 Ímpar\n",
      "\n",
      "Perdeu !!!\n",
      "\n",
      "Game Finalizado !! Venceu 0 veze(s)\n"
     ]
    }
   ],
   "source": [
    "from random import randint\n",
    "v = 0\n",
    "while True:\n",
    "    jogador = int(input('Digite um valor: '))\n",
    "    computador = randint(0,10)\n",
    "    total = jogador + computador\n",
    "    opcao = ' '\n",
    "    while opcao not in 'PI':\n",
    "        opcao = str(input('Par ou ímpar [ P / I ] >>>   ')).strip().upper()[0]\n",
    "    print(f\"Você jogou {jogador} O computador {computador}\\nTotal {total}\",end=' ')\n",
    "    print('Par' if total % 2 == 0 else 'Ímpar')\n",
    "    if opcao == 'P':\n",
    "        if total %2 == 0:\n",
    "            print('\\nVenceu !!!\\n')\n",
    "            v += 1\n",
    "        else:\n",
    "            print('\\nPerdeu !!!\\n')\n",
    "            break\n",
    "            \n",
    "    elif opcao == 'I':\n",
    "        if total % 2 != 0:\n",
    "            print('\\nVenceu !!!\\n')\n",
    "            v += 1\n",
    "        else:\n",
    "            print('\\nPerdeu !!!\\n')\n",
    "            break\n",
    "    print('Jogue novamente...\\n\\n')        \n",
    "print(f'Game Finalizado !! Venceu {v} veze(s)')    "
   ]
  },
  {
   "cell_type": "code",
   "execution_count": 26,
   "id": "552390e5",
   "metadata": {},
   "outputs": [
    {
     "name": "stdout",
     "output_type": "stream",
     "text": [
      "Insira sua idade\n",
      "2425\n",
      "Masculino ou Feminino [ M / F ]\n",
      "1\n",
      "Masculino ou Feminino [ M / F ]\n",
      "m\n",
      "Deseja Continuar [S / N] \n",
      "n\n",
      "\n",
      "Total de Pessoas com +18 anos >>> 1\n",
      "Total de Homens >>> 1\n",
      "Total de Mulheres -20 anos >>> 0\n",
      "\n",
      "\n",
      "Fim !!\n"
     ]
    }
   ],
   "source": [
    "total18 = totalH = totalM =  0\n",
    "\n",
    "while True: \n",
    "    idade = int(input('Insira sua idade\\n'))\n",
    "    sexo = ' '\n",
    "    while sexo not in 'MF':\n",
    "        sexo = str(input('Masculino ou Feminino [ M / F ]\\n')).strip().upper()[0]\n",
    "    if idade >= 18:\n",
    "        total18 += 1\n",
    "    if sexo == 'M':\n",
    "        totalH += 1\n",
    "    if sexo == 'F' and idade < 20:\n",
    "        totalM += 1\n",
    "        \n",
    "    resp = ' '\n",
    "    while resp not in 'SN':\n",
    "        resp = str(input('Deseja Continuar [S / N] \\n')).strip().upper()[0]    \n",
    "    if resp == 'N':\n",
    "        break\n",
    "        \n",
    "print(f\"\"\"\n",
    "Total de Pessoas com +18 anos >>> {total18}\n",
    "Total de Homens >>> {totalH}\n",
    "Total de Mulheres -20 anos >>> {totalM}\n",
    "\\n\"\"\")\n",
    "print('Fim !!')"
   ]
  },
  {
   "cell_type": "code",
   "execution_count": 27,
   "id": "b91416ec",
   "metadata": {},
   "outputs": [
    {
     "name": "stdout",
     "output_type": "stream",
     "text": [
      "\n",
      "Nome do Produto  >>>>  sfdf\n",
      "\n",
      "Preço R$ 1\n",
      "\n",
      "Deseja Continuar Sim ou Não [ S / N ]  >>>>  n\n",
      "\n",
      "A quantidade total de produtos acima de R$ 1.000,00 >>>> 0\n",
      "\n",
      "O total da compra foi de R$ 1.00\n",
      "\n",
      "O produto mais barato nesta compra SFDF ao custo de 1.00\n",
      "\n",
      "\u001b[31mFim !!\n",
      "Volte Sempre !!\n"
     ]
    }
   ],
   "source": [
    "total = totmil = count = menor = 0\n",
    "barato = ' '\n",
    "while True:\n",
    "    produto = str(input('\\nNome do Produto  >>>>  ')).upper()\n",
    "    preco = float(input('\\nPreço R$ '))\n",
    "    opcao = ' '\n",
    "    count += 1\n",
    "    total += preco   \n",
    "    if preco >= 1000:\n",
    "        totmil += 1\n",
    "    if count == 1 or preco< menor:\n",
    "        menor = preco\n",
    "        barato = produto\n",
    "    while opcao not in 'SN':\n",
    "        opcao = str(input('\\n\\033[34mDeseja Continuar Sim ou Não [ S / N ]  >>>>  ')).strip().upper()[0]\n",
    "    if opcao == 'N':\n",
    "        break  \n",
    "print(f'\\nA quantidade total de produtos acima de R$ 1.000,00 >>>> {totmil}')\n",
    "print(f'\\nO total da compra foi de R$ {total:.2f}')\n",
    "print(f'\\nO produto mais barato nesta compra {barato} ao custo de {menor:.2f}')\n",
    "print('\\n\\033[31mFim !!\\nVolte Sempre !!')"
   ]
  },
  {
   "cell_type": "code",
   "execution_count": 28,
   "id": "09474d83",
   "metadata": {},
   "outputs": [
    {
     "name": "stdout",
     "output_type": "stream",
     "text": [
      "==============================\n",
      "                   Banco Te Amo                   \n",
      "==============================\n",
      "\n",
      "Valor a Sacar R$  654\n",
      "------------------------------------------\n",
      "Tota de 13 cédulas de R$ 50.00\n",
      "------------------------------------------\n",
      "Tota de 4 cédulas de R$ 1.00\n"
     ]
    }
   ],
   "source": [
    "print('=' * 30)\n",
    "print(f'{\"Banco Te Amo\":^50}')\n",
    "print('=' * 30)\n",
    "\n",
    "valor = int(input('\\nValor a Sacar R$  '))\n",
    "total = valor\n",
    "ced = 50\n",
    "totced = 0\n",
    "\n",
    "while True:\n",
    "    if total >= ced:\n",
    "        total -= ced\n",
    "        totced += 1\n",
    "    else:\n",
    "        if totced > 0:\n",
    "            print('-' * 42)\n",
    "            print(f'Tota de {totced} cédulas de R$ {ced:.2f}')           \n",
    "        if ced == 50:\n",
    "            ced = 20\n",
    "        elif ced == 20:\n",
    "            ced = 10\n",
    "        elif ced == 10:\n",
    "            ced =1\n",
    "        totced = 0\n",
    "        if total == 0:\n",
    "            break"
   ]
  },
  {
   "cell_type": "code",
   "execution_count": 1,
   "id": "487c763c",
   "metadata": {},
   "outputs": [
    {
     "name": "stdout",
     "output_type": "stream",
     "text": [
      "Digite um valor entre 0 e 20 >>> 5\n",
      "O valor digitado foi >>> cinco\n"
     ]
    }
   ],
   "source": [
    "grp = ('zero', 'um', 'dois', 'três', 'quatro', 'cinco', \n",
    "       'seis', 'sete', 'oito', 'nove', 'dez', 'onze'\n",
    "      'dose', 'treze', 'quatorze', 'quinze', 'dezesseis'\n",
    "      'dezessete', 'dezoito', 'dezenove', 'vinte')\n",
    "\n",
    "while True:\n",
    "    num = int(input('Digite um valor entre 0 e 20 >>> '))\n",
    "    if 0 <= num <= 20:\n",
    "        break\n",
    "    print('Tente Novamente', sep=' ')\n",
    "print(f'O valor digitado foi >>> {grp[num]}')    "
   ]
  },
  {
   "cell_type": "code",
   "execution_count": 11,
   "id": "95cdef5f",
   "metadata": {},
   "outputs": [
    {
     "name": "stdout",
     "output_type": "stream",
     "text": [
      "Insira um valor  >>  22\n",
      "Valor Adicionado a Lista\n",
      "Deseja Continuar Sim ou Não [ S / N ]  >>>  s\n",
      "Insira um valor  >>  36\n",
      "Valor Adicionado a Lista\n",
      "Deseja Continuar Sim ou Não [ S / N ]  >>>  s\n",
      "Insira um valor  >>  02\n",
      "Valor Adicionado a Lista\n",
      "Deseja Continuar Sim ou Não [ S / N ]  >>>  s\n",
      "Insira um valor  >>  1\n",
      "Valor Adicionado a Lista\n",
      "Deseja Continuar Sim ou Não [ S / N ]  >>>  s\n",
      "Insira um valor  >>  52\n",
      "Valor Adicionado a Lista\n",
      "Deseja Continuar Sim ou Não [ S / N ]  >>>  s\n",
      "Insira um valor  >>  14\n",
      "Valor Adicionado a Lista\n",
      "Deseja Continuar Sim ou Não [ S / N ]  >>>  n\n",
      "-=--=--=--=--=--=--=--=--=--=--=--=--=--=--=--=--=--=--=--=-\n",
      "Os Valores que constam na lista são [1, 2, 14, 22, 36, 52]\n",
      "-=--=--=--=--=--=--=--=--=--=--=--=--=--=--=--=--=--=--=--=-\n"
     ]
    }
   ],
   "source": [
    "numeros = list()\n",
    "\n",
    "while True:\n",
    "    valor = int(input('Insira um valor  >>  '))\n",
    "    if valor not in numeros:\n",
    "        numeros.append(valor)\n",
    "        print('Valor Adicionado a Lista')\n",
    "    else:\n",
    "        print('Valor Consta da Lista !')\n",
    "    s_n = str(input('Deseja Continuar Sim ou Não [ S / N ]  >>>  ')) \n",
    "    if s_n in 'NnNãonão':\n",
    "        break\n",
    "numeros.sort()        \n",
    "print('-=-'*20)\n",
    "print(f'Os Valores que constam na lista são {numeros}')\n",
    "print('-=-'*20)"
   ]
  },
  {
   "cell_type": "code",
   "execution_count": 18,
   "id": "1ebcfe6d",
   "metadata": {},
   "outputs": [
    {
     "name": "stdout",
     "output_type": "stream",
     "text": [
      "Digite um valor >>> 5\n",
      "Valor Adiconado !!\n",
      "Deseja Continuar Sim ou Não [ S / N ]  >>>  s\n",
      "Digite um valor >>> 3\n",
      "Valor Adiconado !!\n",
      "Deseja Continuar Sim ou Não [ S / N ]  >>>  s\n",
      "Digite um valor >>> 7\n",
      "Valor Adiconado !!\n",
      "Deseja Continuar Sim ou Não [ S / N ]  >>>  s\n",
      "Digite um valor >>> 5\n",
      "Valor Consta da Lista !\n",
      "Deseja Continuar Sim ou Não [ S / N ]  >>>  s\n",
      "Digite um valor >>> 9\n",
      "Valor Adiconado !!\n",
      "Deseja Continuar Sim ou Não [ S / N ]  >>>  s\n",
      "Digite um valor >>> 25\n",
      "Valor Adiconado !!\n",
      "Deseja Continuar Sim ou Não [ S / N ]  >>>  n\n",
      "\n",
      "Os valores em ordem decrescente que compõem o conjunto são [25, 9, 7, 5, 3]\n",
      "A quantidade total de valores inseridos sem duplicidade foram 5\n",
      "O valor 5 consta do conjunto\n"
     ]
    }
   ],
   "source": [
    "conj = [ ]\n",
    "\n",
    "while True:\n",
    "    nun = int(input('Digite um valor >>> '))\n",
    "    if nun not in conj:\n",
    "        conj.append(nun)\n",
    "        print('Valor Adiconado !!')\n",
    "    else:\n",
    "         print('Valor Consta da Lista !')\n",
    "    s_n = str(input('Deseja Continuar Sim ou Não [ S / N ]  >>>  ')) \n",
    "    if s_n in 'NnNãonão':\n",
    "        break\n",
    "        \n",
    "conj.sort(reverse=True)   \n",
    "print(f'\\nOs valores em ordem decrescente que compõem o conjunto são {conj}')\n",
    "print(f'A quantidade total de valores inseridos sem duplicidade foram {len(conj)}')\n",
    "if 5 in conj:\n",
    "    print('O valor 5 consta do conjunto')\n",
    "else:\n",
    "    print('O valor 5 NÃO consta no conjunto')"
   ]
  },
  {
   "cell_type": "code",
   "execution_count": 2,
   "id": "46a76d9a",
   "metadata": {},
   "outputs": [
    {
     "name": "stdout",
     "output_type": "stream",
     "text": [
      "\n",
      "Lista [2, 6, 8, 9]\n",
      "Total de Elementos 4\n",
      "Os Números Pares [2, 6, 8] Total de Elementos 3 , 3 \n",
      "Os Números Ímpares [9] Total de Elementos 1 , 1\n"
     ]
    }
   ],
   "source": [
    "lista = [ ]\n",
    "par = [ ]\n",
    "impar = [ ]\n",
    "total_par = total_impar = 0\n",
    "while True:\n",
    "    valor = int(input('Digite um Valor: '))\n",
    "    lista.append(valor)\n",
    "    if valor % 2 == 0:\n",
    "        par.append(valor)\n",
    "        total_par += 1\n",
    "    elif valor < 0:\n",
    "        lista\n",
    "        break\n",
    "    else:\n",
    "        impar.append(valor)\n",
    "        total_impar += 1\n",
    "lista.pop()        \n",
    "print(f'\\nLista {lista}\\nTotal de Elementos {len(lista)}')\n",
    "print(f'Os Números Pares {par} Total de Elementos {total_par} , {len(par)} ' )\n",
    "print(f'Os Números Ímpares {impar} Total de Elementos {total_impar} , {len(impar)}')"
   ]
  },
  {
   "cell_type": "code",
   "execution_count": 2,
   "id": "ca35c569",
   "metadata": {},
   "outputs": [
    {
     "name": "stdout",
     "output_type": "stream",
     "text": [
      "Cadastro [['marta', 85.5], ['vitoria', 68.6]]\n",
      "O total de pessoas cadastradas 2\n",
      "Maior Peso marta com 85.5Kg\n",
      "Menor Peso vitoria com 68.6Kg\n"
     ]
    }
   ],
   "source": [
    "pessoas = [ ]\n",
    "dados_p = [ ]\n",
    "mai = men = 0\n",
    "\n",
    "while True:\n",
    "    dados_p.append(str(input('Digite Nome >>> ')))\n",
    "    dados_p.append(float(input('Digite o Peso >>> ')))\n",
    "    \n",
    "    if len(pessoas) == 0:\n",
    "        mai = men = dados_p[1]\n",
    "    else:\n",
    "        if dados_p[1] > mai:\n",
    "            mai = dados_p[1]\n",
    "        if dados_p[1] < men:\n",
    "            men = dados_p[1]        \n",
    "    pessoas.append(dados_p[:])\n",
    "    dados_p.clear()\n",
    "    resp = str(input('Continuar [ S / N ] >>> '))\n",
    "    if resp in 'Nn':\n",
    "        break\n",
    "    \n",
    "    \n",
    "\n",
    "print(f'Cadastro {pessoas}')\n",
    "print(f'O total de pessoas cadastradas {len(pessoas)}')  \n",
    "\n",
    "for p in pessoas:\n",
    "    if p[1] == mai:\n",
    "        print(f'Maior Peso {p[0]} com {mai}Kg')\n",
    "for p in pessoas:        \n",
    "    if p[1] == men:\n",
    "        print(f'Menor Peso {p[0]} com {men}Kg')"
   ]
  },
  {
   "cell_type": "code",
   "execution_count": 39,
   "id": "730c080e",
   "metadata": {},
   "outputs": [
    {
     "name": "stdout",
     "output_type": "stream",
     "text": [
      "-=--=- Sortendo 2 Jogos -=--=- \n",
      "\n",
      "1º jogo: [2, 4, 29, 42, 50, 53] \n",
      "2º jogo: [3, 16, 23, 28, 39, 45] \n",
      "-=--=--=--=--=--=--=--=--=--=--=-\n"
     ]
    }
   ],
   "source": [
    "from random import randint\n",
    "\n",
    "lista = []\n",
    "jogos = []\n",
    "quant = int(input('Deseja quantos jogos ? >>> '))\n",
    "tot = 1\n",
    "\n",
    "\n",
    "while tot <= quant:\n",
    "    count = 0\n",
    "    while True:\n",
    "        num = randint(1,60)\n",
    "        if num not in lista:\n",
    "            lista.append(num)\n",
    "            count += 1\n",
    "        if count >= 6:\n",
    "            break\n",
    "    lista.sort()\n",
    "    jogos.append(lista[:])\n",
    "    lista.clear()\n",
    "    tot += 1\n",
    "\n",
    "print('-=-'*2,f'Sortendo {quant} Jogos','-=-'*2,'\\n')\n",
    "for i, l in enumerate(jogos):\n",
    "    print(f'{i+1}º jogo: {l} ')  \n",
    "print('-=-'*11)          "
   ]
  },
  {
   "cell_type": "code",
   "execution_count": 97,
   "id": "a53f9f00",
   "metadata": {},
   "outputs": [
    {
     "name": "stdout",
     "output_type": "stream",
     "text": [
      "=-==-==-==-==-==-==-==-=\n",
      "No. Nome           Média\n",
      "=-==-==-==-==-==-==-==-=\n",
      "0   Ana             7.0\n",
      "1   Marvio          7.2\n",
      "2   Noel            6.2\n",
      "3   Arnaldo         7.0\n",
      "=-==-==-==-==-==-==-==-= \n",
      "\n",
      "Digite < 999 > para encerrar a seção\n",
      "Notas Arnaldo são [8.0, 6.0]\n",
      "Digite < 999 > para encerrar a seção\n",
      "Notas Ana são [8.0, 6.0]\n",
      "Digite < 999 > para encerrar a seção\n"
     ]
    }
   ],
   "source": [
    "lista = []\n",
    "\n",
    "while True:\n",
    "    nome = str(input('Nome: >>> '))\n",
    "    nota1 = float(input('1º Nota: >>> '))\n",
    "    nota2 = float(input('2º Nota: >>> '))\n",
    "    media = (nota1+nota2) / 2\n",
    "    lista.append([nome,[nota1,nota2],media])\n",
    "    resp = str(input('Deseja Proseguir [ S / N ] >> '))\n",
    "    if resp in 'Nn':\n",
    "        break\n",
    "\n",
    "print('=-='*8)\n",
    "print(f'{\"No.\":<4}{\"Nome\":<10}{\"Média\":>10}')\n",
    "print('=-='*8)\n",
    "\n",
    "for i, a in enumerate(lista):\n",
    "    print(f'{i:<4}{a[0]:<10}{a[2]:>9.1f}')\n",
    "print('=-='*8,'\\n')    \n",
    "\n",
    "while True:\n",
    "    print('Digite < 999 > para encerrar a seção')\n",
    "    opc = int(input('Selecione o índice do Aluno: '))\n",
    "    if opc == 999:\n",
    "        break\n",
    "    if opc <= len(lista) - 1:\n",
    "        print(f'Notas {lista[opc][0]} >>>> {lista[opc][1]}')\n"
   ]
  },
  {
   "cell_type": "code",
   "execution_count": 2,
   "id": "15c174f3",
   "metadata": {},
   "outputs": [
    {
     "name": "stdout",
     "output_type": "stream",
     "text": [
      "==================================================\n",
      "Total de cadastradas: 4 pessoas\n",
      "A Média de Idade: 42 anos\n",
      "A lista de Mulhres no grupo:, ana maria barbara \n",
      "Pessoas com idade acima da média:, maria, \n",
      "==================================================\n",
      "\n",
      "\n",
      "\n",
      " [{'nome': 'ana', 'sexo': 'F', 'idade': 25}, {'nome': 'maria', 'sexo': 'F', 'idade': 85}, {'nome': 'mario', 'sexo': 'M', 'idade': 22}, {'nome': 'barbara', 'sexo': 'F', 'idade': 38}] \n",
      "\n"
     ]
    }
   ],
   "source": [
    "pessoas = dict()\n",
    "geral = []\n",
    "soma = media = 0\n",
    "print('=' * 50)\n",
    "while True:\n",
    "    pessoas.clear()\n",
    "    pessoas['nome'] = str(input('Nome >> ')) \n",
    "    while True:\n",
    "        pessoas['sexo'] = str(input(f'{pessoas[\"nome\"]} [ M / F ] >> ')).upper()[0]\n",
    "        if pessoas['sexo'] in 'MF':\n",
    "            break    \n",
    "        print('Erro !! Digite M ou F')\n",
    "        \n",
    "    pessoas['idade']  = int(input(f'Qual a idade {pessoas[\"nome\"]} >> '))\n",
    "    soma += pessoas['idade']   \n",
    "    geral.append(pessoas.copy())\n",
    "    while True:\n",
    "        resp = str(input('Deseja Continuar S / N >> ')).upper()[0]\n",
    "        if resp in 'SN':\n",
    "            break\n",
    "        print('Erro !! Digite S ou N')\n",
    "    if resp == 'N':\n",
    "        break \n",
    "\n",
    "\n",
    "media = soma / len(geral)\n",
    "\n",
    "print(f'Total de cadastradas: {len(geral)} pessoas')\n",
    "print(f'A Média de Idade: {media:.0f} anos')\n",
    "print(f'A lista de Mulhres no grupo:', end=' ')\n",
    "for mul in geral:\n",
    "    if mul['sexo'] in 'Ff':\n",
    "        print(f'{mul[\"nome\"]}', end=' ')\n",
    "print(f'\\nPessoas com idade acima da média:', end=' ')\n",
    "for ida in geral:\n",
    "    if ida['idade'] > media:\n",
    "        print(f'{ida[\"nome\"]}', end=' ')\n",
    "print()        \n",
    "print('=' * 50)        \n",
    "\n",
    "\n",
    "print('\\n\\n\\n',geral, '\\n') "
   ]
  },
  {
   "cell_type": "code",
   "execution_count": 5,
   "id": "f449aac0",
   "metadata": {},
   "outputs": [
    {
     "name": "stdout",
     "output_type": "stream",
     "text": [
      "========================================\n"
     ]
    },
    {
     "name": "stdout",
     "output_type": "stream",
     "text": [
      "\n",
      "0 Marcos  [2, 1, 3]  6  \n",
      "\n",
      "1 Fabio  [1, 2, 1]  4  \n",
      "\n",
      "2 Barreto  [3, 1, 0]  4  \n",
      "\n",
      "========================================\n",
      "Jogador Fabio \n",
      " No jogo 1 marcou 1 gols \n",
      " No jogo 2 marcou 2 gols \n",
      " No jogo 3 marcou 1 gols \n",
      "========================================\n",
      "\n",
      "\n",
      " [{'nome': 'Marcos', 'gols': [2, 1, 3], 'total': 6}, {'nome': 'Fabio', 'gols': [1, 2, 1], 'total': 4}, {'nome': 'Barreto', 'gols': [3, 1, 0], 'total': 4}]\n"
     ]
    }
   ],
   "source": [
    "time = []\n",
    "jogador = dict()\n",
    "partidas = []\n",
    "print('=' * 40)\n",
    "while True:\n",
    "    jogador.clear()\n",
    "    jogador['nome'] = str(input('Nome: '))\n",
    "    tot = int(input(f'Total de Partidas: '))\n",
    "    partidas.clear()\n",
    "    for c in range(0, tot):\n",
    "        partidas.append(int(input(f'Gols por Partida {c+1}º: ')))\n",
    "    jogador['gols'] = partidas[:]\n",
    "    jogador['total'] = sum(partidas)\n",
    "    time.append(jogador.copy())\n",
    "    while True:\n",
    "        resp = str(input('Continuar [ S / N ]: ')).upper()[0]\n",
    "        if resp in 'SN':\n",
    "            break\n",
    "        print('Erro !! Digite S ou N')\n",
    "    if resp in 'Nn':\n",
    "        break\n",
    "\n",
    "print()\n",
    "\n",
    "for i, v in enumerate(time):\n",
    "    print(f'{i}', end=' ')\n",
    "    for d in v.values():\n",
    "        print(f'{str(d)} ', end=' ')\n",
    "    print('\\n')\n",
    "print('=' * 40)\n",
    "\n",
    "while True:\n",
    "    busca = int(input('Digite a Posição do Jogador: (999 Stop): '))\n",
    "    if busca == 999:\n",
    "        break\n",
    "    if busca >= len(time):\n",
    "        print(f'Erro !! Posição {busca} NÃO existe !!')\n",
    "    else:\n",
    "        print(f'Jogador {time[busca][\"nome\"]} ')\n",
    "        for e, g in enumerate(time[busca]['gols']):\n",
    "            print(f' No jogo {e+1} marcou {g} gols ')\n",
    "\n",
    "            \n",
    "print('=' * 40)     \n",
    "\n",
    "print('\\n\\n',time)        "
   ]
  },
  {
   "cell_type": "code",
   "execution_count": null,
   "id": "d4108f3c",
   "metadata": {},
   "outputs": [],
   "source": []
  }
 ],
 "metadata": {
  "kernelspec": {
   "display_name": "Python 3 (ipykernel)",
   "language": "python",
   "name": "python3"
  },
  "language_info": {
   "codemirror_mode": {
    "name": "ipython",
    "version": 3
   },
   "file_extension": ".py",
   "mimetype": "text/x-python",
   "name": "python",
   "nbconvert_exporter": "python",
   "pygments_lexer": "ipython3",
   "version": "3.10.11"
  }
 },
 "nbformat": 4,
 "nbformat_minor": 5
}
