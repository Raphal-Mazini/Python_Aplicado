{
 "cells": [
  {
   "cell_type": "markdown",
   "id": "3bda5ded",
   "metadata": {},
   "source": [
    "# Ferramentas Nativas do Python"
   ]
  },
  {
   "cell_type": "markdown",
   "id": "cf899e1f",
   "metadata": {},
   "source": [
    "##  Principais Funções e Comandos nativas do python"
   ]
  },
  {
   "cell_type": "markdown",
   "id": "b4657171",
   "metadata": {},
   "source": [
    " Abaixo são dois exemplos para encontrar a ``area`` de uma ``circunferencia`` "
   ]
  },
  {
   "cell_type": "code",
   "execution_count": 1,
   "id": "757209c1",
   "metadata": {},
   "outputs": [
    {
     "name": "stdout",
     "output_type": "stream",
     "text": [
      "3.141592653589793\n",
      "12.566370614359172\n"
     ]
    }
   ],
   "source": [
    "# Exemplo encontrando a area do circunferencia\n",
    "\n",
    "import math\n",
    "\n",
    "# Print the value of pi\n",
    "valor_pi = math.pi\n",
    "print (valor_pi)\n",
    "\n",
    "# Área do Círculo\n",
    "pi = 3.14\n",
    "raio = 2\n",
    "area = valor_pi * raio**2 # utilizamos o ** para potenciação\n",
    "print(area)"
   ]
  },
  {
   "cell_type": "code",
   "execution_count": 2,
   "id": "23ae3a2d",
   "metadata": {},
   "outputs": [
    {
     "name": "stdout",
     "output_type": "stream",
     "text": [
      "12.56\n"
     ]
    }
   ],
   "source": [
    "# Área do Círculo\n",
    "PI = 3.14\n",
    "raio = 2\n",
    "area = PI * raio ** 2 # utilizamos o ** para potenciação\n",
    "print(area)"
   ]
  },
  {
   "cell_type": "markdown",
   "id": "ff0a00d7",
   "metadata": {},
   "source": [
    "# Estruturas Condicional"
   ]
  },
  {
   "cell_type": "markdown",
   "id": "130f329f",
   "metadata": {},
   "source": [
    "## ``if/else``\n",
    "\n",
    "O comando Python ``if / else`` é uma estrutura condicional utilizada para executar um bloco de código, se uma determinada condição for verdadeira, e executar outro conjunto de instruções caso ela seja falsa."
   ]
  },
  {
   "cell_type": "code",
   "execution_count": 3,
   "id": "009d4302",
   "metadata": {},
   "outputs": [
    {
     "name": "stdout",
     "output_type": "stream",
     "text": [
      "Digite a Nota do Aluno: 5\n",
      "Aluno Reprovado\n"
     ]
    }
   ],
   "source": [
    "# Exemplo nota de aluno, aprova ou reprova\n",
    "nota = float(input('Digite a Nota do Aluno: '))\n",
    "\n",
    "#  if: Caso a nota do aluno seja maior ou igual a 7.0 o aluno nestá aprovado, caso contrario, else: Reprovado\n",
    "if nota >= 7.0:\n",
    "    print('Aluno Aprovado')\n",
    "else:\n",
    "    print('Aluno Reprovado')"
   ]
  },
  {
   "cell_type": "code",
   "execution_count": 4,
   "id": "40890e82",
   "metadata": {},
   "outputs": [
    {
     "name": "stdout",
     "output_type": "stream",
     "text": [
      "Digite o numero pretendido: 6\n",
      "Este é um número par\n"
     ]
    }
   ],
   "source": [
    "# Exemplo numero par ou impar\n",
    "numero = int(input('Digite o numero pretendido: '))\n",
    "\n",
    "if numero %2 == 0:\n",
    "    print('Este é um número par')\n",
    "else:\n",
    "    print('Este número é ímpar')"
   ]
  },
  {
   "cell_type": "code",
   "execution_count": 5,
   "id": "be23969e",
   "metadata": {},
   "outputs": [
    {
     "name": "stdout",
     "output_type": "stream",
     "text": [
      "Digite o numero pretendido: 8\n",
      "Este número é par\n"
     ]
    }
   ],
   "source": [
    "numero = int(input('Digite o numero pretendido: '))\n",
    "\n",
    "if numero %2 != 0:\n",
    "    print('Este é um número impar')\n",
    "else:\n",
    "    print('Este número é par')"
   ]
  },
  {
   "cell_type": "code",
   "execution_count": 6,
   "id": "3adae4f4",
   "metadata": {},
   "outputs": [
    {
     "name": "stdout",
     "output_type": "stream",
     "text": [
      "Velocidade Captada pelo Radar em Km 300\n",
      "Excedeu o Limite de velocidade em 220.0Km/h\n",
      "Multado em R$ 1540\n"
     ]
    }
   ],
   "source": [
    "# Exemplo radar excesso de velocidade e multa \n",
    "velocidade = float(input('Velocidade Captada pelo Radar em Km '))\n",
    "\n",
    "\n",
    "if velocidade <= 80:\n",
    "    print('Boa viajem e Dirija com segurança')\n",
    "    \n",
    "else:\n",
    "    print(f'Excedeu o Limite de velocidade em {abs(velocidade - 80)}Km/h')\n",
    "    print(f'Multado em R$ {round(abs(velocidade - 80)*7)}')"
   ]
  },
  {
   "cell_type": "code",
   "execution_count": 48,
   "id": "7b981cde",
   "metadata": {},
   "outputs": [
    {
     "name": "stdout",
     "output_type": "stream",
     "text": [
      "Digite o Valor do Imovel R$ 120000\n",
      "Qual valor do Salario R$ 6800\n",
      "Em quantos anos de financiamento 6\n",
      "Emprestimo Aprovado !\n",
      "\n",
      "A prestação do imovel fica em 72x de R$ 1666.67 \n",
      "Necessario um Salario mensal de no minimo R$ 2040.0\n",
      "\n"
     ]
    }
   ],
   "source": [
    "# exemplo aprovalção ou negação de emprestimo\n",
    "\n",
    "casa = float(input('Digite o Valor do Imovel R$ '))\n",
    "salario = float(input('Qual valor do Salario R$ '))\n",
    "anos = int(input('Em quantos anos de financiamento '))\n",
    "valor_prestacao = (casa / (anos * 12))\n",
    "minimo_aceitavel = (salario * 0.3)\n",
    "\n",
    "if valor_prestacao <= minimo_aceitavel:\n",
    "    print(\"Emprestimo Aprovado !\")\n",
    "    print(f\"\"\"\n",
    "A prestação do imovel fica em {anos * 12}x de R$ {round(valor_prestacao, 2)} \n",
    "Necessario um Salario mensal de no minimo R$ {round(minimo_aceitavel,2)}\n",
    "\"\"\")\n",
    "else:\n",
    "    print(\"Emprestimo Recusado !\")"
   ]
  },
  {
   "cell_type": "markdown",
   "id": "b4dc0005",
   "metadata": {},
   "source": [
    "# `` if / elif / else ``"
   ]
  },
  {
   "cell_type": "code",
   "execution_count": 7,
   "id": "c7093651",
   "metadata": {},
   "outputs": [
    {
     "name": "stdout",
     "output_type": "stream",
     "text": [
      "Digite a Nota do Aluno: 2\n",
      "Aluno Reprovado\n"
     ]
    }
   ],
   "source": [
    "# Exemplo nota do aluno, aprovado, reprovado ou recuperação\n",
    "\n",
    "nota_aluno = float(input('Digite a Nota do Aluno: '))\n",
    "\n",
    "if nota_aluno >= 7:\n",
    "    print('Aluno Aprovado')\n",
    "elif nota_aluno >= 5:\n",
    "    print('Aluno de Recuperação')\n",
    "else:\n",
    "    print('Aluno Reprovado')"
   ]
  },
  {
   "cell_type": "code",
   "execution_count": 12,
   "id": "fc6e236c",
   "metadata": {},
   "outputs": [
    {
     "name": "stdout",
     "output_type": "stream",
     "text": [
      "A nome do aluno é amaro\n",
      "A media do aluno é 6.0\n",
      "A Situação do aluno é Recuperação\n",
      "\n",
      " {'nome': 'amaro', 'media': 6.0, 'Situação': 'Recuperação'}\n"
     ]
    }
   ],
   "source": [
    "aluno = dict()\n",
    "aluno['nome'] = str(input('Nome: '))\n",
    "aluno['media'] = float(input(f'Média de {aluno[\"nome\"]}: '))\n",
    "if aluno['media'] >= 7:\n",
    "    aluno['Situação'] = 'Aprovado' \n",
    "elif 5 <= aluno['media'] < 7:\n",
    "    aluno['Situação'] = 'Recuperação'\n",
    "else:\n",
    "    aluno['Situação'] = 'Reprovado'\n",
    "\n",
    "for k, v in aluno.items():\n",
    "    print(f'A {k} do aluno é {v}')\n",
    "print('\\n',aluno)                "
   ]
  },
  {
   "cell_type": "code",
   "execution_count": 8,
   "id": "8d66acc4",
   "metadata": {},
   "outputs": [
    {
     "name": "stdout",
     "output_type": "stream",
     "text": [
      "Ano de nascimento: 2005\n",
      "Sua idade é de alistamento militar\n"
     ]
    }
   ],
   "source": [
    "# Exemplo idade de alistamento militar\n",
    "from datetime import date\n",
    "\n",
    "atual = date.today().year\n",
    "nasc = int(input('Ano de nascimento: '))\n",
    "\n",
    "idade = atual - nasc\n",
    "\n",
    "if idade == 18:\n",
    "    print('Sua idade é de alistamento militar')\n",
    "elif idade < 18:\n",
    "    print('Ainda não está na idade de alistamento militar')\n",
    "else:\n",
    "    print('Já passou do tempo de alistamento militar')"
   ]
  },
  {
   "cell_type": "code",
   "execution_count": 74,
   "id": "6a5b4fa9",
   "metadata": {},
   "outputs": [
    {
     "name": "stdout",
     "output_type": "stream",
     "text": [
      "Digite o Peso em Kg: 75\n",
      "Digite a Altura em m: 1.73\n",
      "Acima do Peso Ideal\n",
      "O Índice de Massa Corporal 25.06\n"
     ]
    }
   ],
   "source": [
    "# exemplo IMC Índice de Massa Corporal –> IMC = Massa (kg) ÷ Altura (m)²\n",
    "peso = float(input('Digite o Peso em Kg: '))\n",
    "altura = float(input('Digite a Altura em m: '))\n",
    "imc = peso / (altura**2)\n",
    "if imc < 18.5:\n",
    "    print('Abaixo do Peso Ideal')\n",
    "elif imc >= 18.5 and imc <= 25:\n",
    "    print('Peso Ideal')\n",
    "elif imc >= 25 and imc <= 30:\n",
    "    print('Acima do Peso Ideal')\n",
    "elif imc >= 30 and imc <= 40:\n",
    "    print('Obesidade !')\n",
    "else:\n",
    "    print('Obesiade Morbida !')\n",
    "print(f'O Índice de Massa Corporal {round(imc,2)}')"
   ]
  },
  {
   "cell_type": "code",
   "execution_count": 9,
   "id": "1e40ea87",
   "metadata": {},
   "outputs": [
    {
     "name": "stdout",
     "output_type": "stream",
     "text": [
      "Tente Vencer o Computador !!!\n",
      "-=-=-=-=-=-=-=-=-=-=-=-=-=-=-=-=-=\n",
      "Suas opções são: \n",
      "[ 0 ] Pedra\n",
      "[ 1 ] Papel\n",
      "[ 2 ]Tesoura\n",
      "-=-=-=-=-=-=-=-=-=-=-=-=-=-=-=-=-=\n",
      "Selecione a sua jogada: 0\n",
      "-=-=-=-=-=-=-=-=-=-=-=-=-=-=-=-=-=\n",
      "Sua jogada Pedra\n",
      "-=-=-=-=-=-=-=-=-=-=-=-=-=-=-=-=-=\n",
      "Jogada Computador Pedra\n",
      "Empate\n"
     ]
    }
   ],
   "source": [
    "# Exemplo Jogo jokenpô Pedra, Papel e Tesoura\n",
    "from random import randint\n",
    "print('Tente Vencer o Computador !!!')\n",
    "print('-=' * 17)\n",
    "jogada = (\"Pedra\", \"Papel\", \"Tesoura\")\n",
    "pc = randint(0,2)\n",
    "print(\"\"\"Suas opções são: \n",
    "[ 0 ] Pedra\n",
    "[ 1 ] Papel\n",
    "[ 2 ]Tesoura\"\"\")\n",
    "print('-=' * 17)\n",
    "jogador = int(input(\"Selecione a sua jogada: \"))\n",
    "print('-=' * 17)\n",
    "print(f\"Sua jogada {jogada[jogador]}\")\n",
    "print('-=' * 17)\n",
    "print(f\"Jogada Computador {jogada[pc]}\")    \n",
    "\n",
    "if pc == 0: # pc jogou Pedra\n",
    "    if  jogador == 0:\n",
    "        print('Empate')\n",
    "    elif jogador == 1:\n",
    "        print('Você Venceu !!!')\n",
    "    elif jogador == 2:\n",
    "        print('Computador Venceu !!!')\n",
    "    \n",
    "elif pc == 1:# pc jogou Papel    \n",
    "    if jogador == 0:\n",
    "        print('Computador Vence !!!')\n",
    "    elif jogador == 1:\n",
    "        print('Empate')\n",
    "    elif jogador == 2:\n",
    "        print('Você Venceu !!!')\n",
    "        \n",
    "elif pc == 2: # pc jogou Tesoura    \n",
    "    if jogador == 0:\n",
    "        print('Você Venceu !!!')\n",
    "    elif jogador == 1:\n",
    "        print('Computador Venceu !!!')\n",
    "\n",
    "else:\n",
    "    print('Jogada invalida tente outra vez !!!')"
   ]
  },
  {
   "cell_type": "code",
   "execution_count": 56,
   "id": "7c90b9e2",
   "metadata": {},
   "outputs": [
    {
     "name": "stdout",
     "output_type": "stream",
     "text": [
      "Digite um numero sem ponto ou virgula: 320\n",
      "\n",
      "[ 1 ] Converter para Binário\n",
      "[ 2 ] Converte para Octal \n",
      "[ 3 ] Converte para Hexadecimal\n",
      "\n",
      "Digite a opção para coversão: 1\n",
      "320 convertido em Binário é igual 0b101000000 \n"
     ]
    }
   ],
   "source": [
    "# Exemplo de base de conversão\n",
    "num = int(input('Digite um numero sem ponto ou virgula: '))\n",
    "print(\"\"\"\n",
    "[ 1 ] Converter para Binário\n",
    "[ 2 ] Converte para Octal \n",
    "[ 3 ] Converte para Hexadecimal\n",
    "\"\"\")\n",
    "opcao = int(input('Digite a opção para coversão: '))\n",
    "if opcao == 1:\n",
    "    print(f\"{num} convertido em Binário é igual {bin(num)} \")\n",
    "elif opcao == 2:\n",
    "    print(f\"{num} convertido em Octal é igual {oct(num)}\")\n",
    "elif opcao == 3:\n",
    "    print(f\"{num} convertido em Hexadecimal {hex(num)}\")\n",
    "else:\n",
    "    print('Opção Inválida Tente Novamente')"
   ]
  },
  {
   "cell_type": "markdown",
   "id": "b7bfb19e",
   "metadata": {},
   "source": [
    "## ``AND``\n",
    "``AND`` (E) retorna verdadeiro se as duas entradas forem verdadeiras"
   ]
  },
  {
   "cell_type": "code",
   "execution_count": 10,
   "id": "a16fcf03",
   "metadata": {},
   "outputs": [
    {
     "name": "stdout",
     "output_type": "stream",
     "text": [
      "Primeira nota do aluno: 5\n",
      "Segunda nota do aluno: 3\n",
      "Aluno reprovado\n"
     ]
    }
   ],
   "source": [
    "# Este exemplo acrescenta o comando \"and\" \n",
    "# O termo AND significa “e”. Utiliza-se o operador AND quando  precisa juntar dois conceitos\n",
    "# Com esse operador Logico se acrescente mais cindições a serem verdadeiras para serem atendidas\n",
    "\n",
    "nota01 = float(input('Primeira nota do aluno: '))\n",
    "nota02 = float(input('Segunda nota do aluno: '))\n",
    "\n",
    "media = (nota01 + nota02) / 2\n",
    "\n",
    "if media >= 5 and media < 7:\n",
    "    print('Aluno de Recuperação')\n",
    "\n",
    "elif media < 5:\n",
    "    print('Aluno reprovado')\n",
    "    \n",
    "else:\n",
    "    print('Aluno aprovado')"
   ]
  },
  {
   "cell_type": "code",
   "execution_count": 65,
   "id": "5caa5eaa",
   "metadata": {},
   "outputs": [
    {
     "name": "stdout",
     "output_type": "stream",
     "text": [
      "Inseira a medida do 1º Segmento de Reta: 6\n",
      "Inseira a medida do 2º Segmento de Reta: 4\n",
      "Inseira a medida do 3º Segmento de Reta: 4\n",
      "Estes Segmentos de Reta podem Formar um Triagulo !\n",
      "Triângulo Isóceles\n"
     ]
    }
   ],
   "source": [
    "# Exemplo identificando a existencia da forma de triangulo e o tipo\n",
    "\n",
    "r1 = float(input('Inseira a medida do 1º Segmento de Reta: '))\n",
    "r2 = float(input('Inseira a medida do 2º Segmento de Reta: '))\n",
    "r3 = float(input('Inseira a medida do 3º Segmento de Reta: '))\n",
    "\n",
    "if r1 < r2 + r3 and r2 < r1 + r3 and r3 < r1 + r2:\n",
    "    print('Estes Segmentos de Reta podem Formar um Triagulo !')\n",
    "    if r1 == r2 == r3:\n",
    "        print('Triãngulo Equilátero')\n",
    "    elif r1 != r2 !=r3 != r1:\n",
    "        print('Triângulo Escaleno')\n",
    "    else:\n",
    "        print('Triângulo Isóceles')\n",
    "    \n",
    "else:\n",
    "    print('Estes Segmentos de Reta não podem Compor um Triângulo !')"
   ]
  },
  {
   "cell_type": "code",
   "execution_count": 1,
   "id": "f67e42a8",
   "metadata": {},
   "outputs": [
    {
     "name": "stdout",
     "output_type": "stream",
     "text": [
      "Nome é Odroaldo\n",
      "Media é 5.5\n",
      "Situacao é Recuperação\n"
     ]
    }
   ],
   "source": [
    "aluno = dict()\n",
    "\n",
    "aluno['Nome'] = str(input('Nome: '))\n",
    "aluno['Media'] = float(input(f\"Média aluno {aluno['Nome']}: \"))\n",
    "\n",
    "if aluno['Media'] >= 7:\n",
    "    aluno['Situacao'] = 'Aprovado'\n",
    "elif 5 <= aluno['Media'] < 7:\n",
    "    aluno['Situacao'] = 'Recuperação'\n",
    "else:\n",
    "    aluno['Situacao'] = 'Reprovado'      \n",
    "\n",
    "for k, v in aluno.items():\n",
    "    print(f'{k} é {v}')     "
   ]
  },
  {
   "cell_type": "code",
   "execution_count": 2,
   "id": "99613de3",
   "metadata": {},
   "outputs": [
    {
     "name": "stdout",
     "output_type": "stream",
     "text": [
      "-=-=-=-=-= Ficha do Funcionario =-=-=-=-=- \n",
      "\n",
      " * nome >>> Agnaldo\n",
      "\n",
      " * ctps >>> 1234\n",
      "\n",
      " * idade >>> 24\n",
      "\n",
      " * contratacao >>> 2002\n",
      "\n",
      " * salario >>> 2500.0\n",
      "\n",
      " * aposentadoria >>> 38\n",
      "\n",
      "=-==-==-==-==-==-==-==-==-==-==-==-==-==-=\n"
     ]
    }
   ],
   "source": [
    "from datetime import datetime\n",
    "\n",
    "dados = dict()\n",
    "\n",
    "dados['nome'] = str(input('Nome >>> '))\n",
    "ano_nasc = int(input('Ano de Nascimento >>> '))\n",
    "dados['ctps'] = int(input('Carteira de Trabalho (0 não tem): '))\n",
    "dados['idade'] = datetime.now().year - ano_nasc\n",
    "\n",
    "if dados['ctps'] != 0:\n",
    "    dados['contratacao'] = int(input('Ano de Contratação >>> '))\n",
    "    dados['salario'] = float(input('Salário >>> R$ '))\n",
    "    dados['aposentadoria'] = dados['idade'] + ((dados['contratacao'] + 35) - datetime.now().year)\n",
    "\n",
    "print('-=' * 5,'Ficha do Funcionario', 5 * '=-','\\n')    \n",
    "for k, v in dados.items():\n",
    "    print(f' * {k} >>> {v}\\n') \n",
    "print('=-=' * 14) "
   ]
  },
  {
   "cell_type": "markdown",
   "id": "179c06d8",
   "metadata": {},
   "source": [
    "## ``map()``\n",
    "\n",
    "A função ``map()`` é uma função integrada (interna) em Python que permite aplicar uma determinada função a cada elemento de um iterável (como uma lista, tupla ou conjunto) e retorna um objeto map que contém os resultados."
   ]
  },
  {
   "cell_type": "code",
   "execution_count": 11,
   "id": "1e7f2377",
   "metadata": {},
   "outputs": [
    {
     "name": "stdout",
     "output_type": "stream",
     "text": [
      "[5000, 9900.0, 2000, 16500.0]\n"
     ]
    }
   ],
   "source": [
    "precos_produtos = [\n",
    "    5000,\n",
    "    9000,\n",
    "    2000,\n",
    "    15000\n",
    "]\n",
    "\n",
    "def aplicar_aumento(preco):\n",
    "    if preco > 6000:\n",
    "        return preco * 1.1 # \"return\" objetivo retornar algo de uma função, para que ao chamar essa mesma função, tenha acesso ao valor retornado.\n",
    "    else:\n",
    "        return preco\n",
    "    \n",
    "novos_precos = list(map(aplicar_aumento, precos_produtos))\n",
    "\n",
    "print(novos_precos)"
   ]
  },
  {
   "cell_type": "markdown",
   "id": "04012f13",
   "metadata": {},
   "source": [
    "## ``OR``\n",
    " \n",
    "``OR(OU)`` retorna verdadeiro se pelo menos uma das entradas for verdadeira (uma OU outra)"
   ]
  },
  {
   "cell_type": "code",
   "execution_count": 12,
   "id": "b7eb7018",
   "metadata": {},
   "outputs": [
    {
     "name": "stdout",
     "output_type": "stream",
     "text": [
      "Escolha seu numero entre 0 a 10 \n",
      " >>>>  6\n",
      "Perdeu !!\n"
     ]
    }
   ],
   "source": [
    "numero = int(input('Escolha seu numero entre 0 a 10 \\n >>>>  '))\n",
    "\n",
    "if numero == 2 or numero == 8:\n",
    "    print('Vitoria !!')\n",
    "\n",
    "else:\n",
    "    print('Perdeu !!')"
   ]
  },
  {
   "cell_type": "markdown",
   "id": "cac1e269",
   "metadata": {},
   "source": [
    "## ``NOT``\n",
    "\n",
    "``NOT`` (NÃO) simplesmente inverte o resultado, ou seja, se a entrada for verdadeira ela retorna falsa e vice-versa"
   ]
  },
  {
   "cell_type": "code",
   "execution_count": 13,
   "id": "5591b19f",
   "metadata": {},
   "outputs": [
    {
     "name": "stdout",
     "output_type": "stream",
     "text": [
      "False\n",
      "True\n"
     ]
    }
   ],
   "source": [
    "a = 1\n",
    "b = 2\n",
    "print(a == b)\n",
    "print(not a == b)"
   ]
  }
 ],
 "metadata": {
  "kernelspec": {
   "display_name": "Python 3 (ipykernel)",
   "language": "python",
   "name": "python3"
  },
  "language_info": {
   "codemirror_mode": {
    "name": "ipython",
    "version": 3
   },
   "file_extension": ".py",
   "mimetype": "text/x-python",
   "name": "python",
   "nbconvert_exporter": "python",
   "pygments_lexer": "ipython3",
   "version": "3.10.11"
  }
 },
 "nbformat": 4,
 "nbformat_minor": 5
}
