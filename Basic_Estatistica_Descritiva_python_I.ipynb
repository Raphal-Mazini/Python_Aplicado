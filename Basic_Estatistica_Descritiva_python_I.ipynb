{
 "cells": [
  {
   "cell_type": "markdown",
   "id": "cc809263",
   "metadata": {},
   "source": [
    "# <center> Estatistica Descritiva Basica em Pytrhon </center>\n",
    "\n",
    "## Basic ToolBox - Estatistica Descritiva I"
   ]
  },
  {
   "cell_type": "markdown",
   "id": "7e4f7953",
   "metadata": {},
   "source": [
    "A  ``estatística descritiva`` possui como objetivo básico, **sintetizar** uma **série de valores** de mesma natureza, permitindo dessa forma, que se tenha uma visão mais ampla, da **variação** desses **valores**, **organiza e descreve** os dados de três maneiras: por meio de **tabelas**, de **gráficos** e de **medidas descritivas**. \n",
    "\n",
    "A ``statística descritiva`` fornece resumos simples sobre a amostra e sobre as observações que foram feitas, este é o ramo da estatística que se concentra na **coleta**, **organização**, **análise**, **interpretação** e **apresentação de dados**.\n",
    "\n",
    "Podemos dizer que a principal diferença entre a ``estatística descritiva`` e **inferencial** é que, a ``estatística descritiva`` lida com a **descrição e o resumo dos dados**, enquanto a **estatística inferencial**,  lida com a **generalização dos resultados da amostra** para a população em geral.\n",
    "\n",
    "As ``estatísticas descritivas`` podem ser agrupadas em: **medidas de tendência central**, **medidas de dispersão** e **medidas de forma**.\n",
    "\n",
    "De uma maneira mais resumida, podemos dizer que, a ``estatística descritiva`` é a etapa inicial da **análise de dados**, e tem por objetivo **descrever os dados** observados. Na sua função de **descrição dos dados**, esta, tem as seguintes atribuições: a **obtenção**, **organização**, **redução** e **representação** dos dados estatísticos de forma a **auxiliar a descrição do fenômeno observado**."
   ]
  },
  {
   "cell_type": "code",
   "execution_count": 108,
   "id": "0c3b5d20",
   "metadata": {},
   "outputs": [],
   "source": [
    "import pandas as pd\n",
    "import numpy as np\n",
    "from scipy import stats\n",
    "import seaborn as sns"
   ]
  },
  {
   "cell_type": "markdown",
   "id": "9d13bd5c",
   "metadata": {},
   "source": [
    "# Tipos de Variaveis\n",
    "\n",
    "Basicamente, as variáveis são classificadas em ``qualitativas`` e ``quantitativas``.\n",
    "\n",
    "**Qualitativa**: Qualidade/Característica que não se pode medir.\n",
    "\n",
    "**Quantitativa**: Atributo/Característica que pode ser medido(a)\n",
    "\n",
    "Dentro de variáveis ``qualitativas`` ainda podemos ter a seguinte subdivisão:\n",
    "\n",
    "**Nominal**: Não é possível criar ordenação. Exemplo: Cor dos olhos\n",
    "\n",
    "**Ordinal**: É possível ordenar. Exemplo: Nível de Escolaridade, Cargos em uma empresa (C-Level, Head, Gerente, Tech Lead)\n",
    "\n",
    "Por sua vez, as variáveis ``quantitativas`` possuem a seguinte subdivisão:\n",
    "\n",
    "**Discreta**: Resultam geralmente de uma contagem. Exemplo: Número de Filhos, Número de Gols\n",
    "\n",
    "**Contínua**: O valor percente aos números reais e resultam geralmente de uma mensuração. Exemplo: Altura, Peso.\n",
    "\n",
    "\n",
    "![](https://www.researchgate.net/profile/Marcel_Queiroz2/publication/311607483/figure/fig4/AS:438948062339075@1481664781910/Figura-15-Classificacao-dos-principais-tipos-de-variaveis-Triola-2005-3-Bastos.png)"
   ]
  },
  {
   "cell_type": "markdown",
   "id": "3f1c81e9",
   "metadata": {},
   "source": [
    "# Medidas de Tendência Central\n",
    "\n",
    "As ``medidas de tendência central`` são usadas para resumir os dados em torno de um ponto central, representando uma “média” ou um “valor típico” que pode ser usado para descrever os dados em termos mais simples. Tais medidas são partes fundamentais da análise de dados em estatística descritiva\n",
    "\n",
    "Uma medida de centralidade descreve um número ao redor dos quais as observações se concentram. Ela expressa um valor ``típico`` nas observações para uma determinada variável.\n",
    "\n",
    "Basicamente, nos deparamos com três medidas de tendência central:\n",
    "\n",
    "* Média\n",
    "* Mediana\n",
    "* Moda"
   ]
  },
  {
   "cell_type": "markdown",
   "id": "c93a02a7",
   "metadata": {},
   "source": [
    "### Média Aritmética Simples (Ms)\n",
    "\n",
    "A ``média`` como medida de tendencia central, pode resumir em uma caracteristica o conjunto de dados, porém, esta é fortemente influenciada por **outliers**\n",
    "\n",
    "![](https://www.estudopratico.com.br/wp-content/uploads/2014/05/media-aritmetica-simples.jpg)"
   ]
  },
  {
   "cell_type": "code",
   "execution_count": 109,
   "id": "713f13bc",
   "metadata": {},
   "outputs": [
    {
     "data": {
      "text/plain": [
       "22.0"
      ]
     },
     "execution_count": 109,
     "metadata": {},
     "output_type": "execute_result"
    }
   ],
   "source": [
    "# Extraindo a Média Simples\n",
    "np.mean([1, 2, 3, 4, 100])"
   ]
  },
  {
   "cell_type": "markdown",
   "id": "d92dbfef",
   "metadata": {},
   "source": [
    "### Mediana\n",
    "\n",
    "A outra medida utilizada como representante de um conjunto de dados é a ``mediana``. Diferentemente da **média**, essa estatística sofre menos com **outliers**.\n",
    "\n",
    "Depois de ordenar o conjunto de dados em ordem **crescente** ou **decrescente**, a ``mediana`` será o valor que **divide** nosso **conjunto de dados em 2: **50% acima** e **50% abaixo** desse valor."
   ]
  },
  {
   "cell_type": "code",
   "execution_count": 110,
   "id": "be5d865e",
   "metadata": {},
   "outputs": [
    {
     "data": {
      "text/plain": [
       "3.0"
      ]
     },
     "execution_count": 110,
     "metadata": {},
     "output_type": "execute_result"
    }
   ],
   "source": [
    "# Extraindo a Mediana\n",
    "np.median([1, 2, 3, 4, 100])"
   ]
  },
  {
   "cell_type": "markdown",
   "id": "3b8e3aa7",
   "metadata": {},
   "source": [
    "### Moda\n",
    "\n",
    "A ``moda`` é a observação mais comum do nosso conjunto de dados e é mais utilizada em dados **qualitativos** ou quando os dados **quantitativos são discretos**"
   ]
  },
  {
   "cell_type": "code",
   "execution_count": 111,
   "id": "265db610",
   "metadata": {},
   "outputs": [
    {
     "data": {
      "text/plain": [
       "ModeResult(mode=1, count=4)"
      ]
     },
     "execution_count": 111,
     "metadata": {},
     "output_type": "execute_result"
    }
   ],
   "source": [
    "# Extraindo a Moda \n",
    "stats.mode([1,2,3,4,1,8,9,1,7,1], keepdims=False)"
   ]
  },
  {
   "cell_type": "code",
   "execution_count": 112,
   "id": "016a992e",
   "metadata": {},
   "outputs": [
    {
     "name": "stderr",
     "output_type": "stream",
     "text": [
      "C:\\Users\\SAMSUNG\\anaconda3\\lib\\site-packages\\scipy\\stats\\_stats_py.py:110: RuntimeWarning: The input array could not be properly checked for nan values. nan values will be ignored.\n",
      "  warnings.warn(\"The input array could not be properly \"\n",
      "C:\\Users\\SAMSUNG\\AppData\\Local\\Temp\\ipykernel_6412\\3910013219.py:2: DeprecationWarning: Support for non-numeric arrays has been deprecated as of SciPy 1.9.0 and will be removed in 1.11.0. `pandas.DataFrame.mode` can be used instead, see https://pandas.pydata.org/docs/reference/api/pandas.DataFrame.mode.html.\n",
      "  stats.mode(['Verde', 'Vermelho', 'Amarelo', 'Verde'], keepdims=True)\n"
     ]
    },
    {
     "data": {
      "text/plain": [
       "ModeResult(mode=array(['Verde'], dtype='<U8'), count=array([2]))"
      ]
     },
     "execution_count": 112,
     "metadata": {},
     "output_type": "execute_result"
    }
   ],
   "source": [
    "# Extraindo a Moda \n",
    "stats.mode(['Verde', 'Vermelho', 'Amarelo', 'Verde'], keepdims=True)"
   ]
  },
  {
   "cell_type": "code",
   "execution_count": 113,
   "id": "0f14415c",
   "metadata": {},
   "outputs": [
    {
     "data": {
      "text/html": [
       "<div>\n",
       "<style scoped>\n",
       "    .dataframe tbody tr th:only-of-type {\n",
       "        vertical-align: middle;\n",
       "    }\n",
       "\n",
       "    .dataframe tbody tr th {\n",
       "        vertical-align: top;\n",
       "    }\n",
       "\n",
       "    .dataframe thead th {\n",
       "        text-align: right;\n",
       "    }\n",
       "</style>\n",
       "<table border=\"1\" class=\"dataframe\">\n",
       "  <thead>\n",
       "    <tr style=\"text-align: right;\">\n",
       "      <th></th>\n",
       "      <th>0</th>\n",
       "    </tr>\n",
       "  </thead>\n",
       "  <tbody>\n",
       "    <tr>\n",
       "      <th>0</th>\n",
       "      <td>1</td>\n",
       "    </tr>\n",
       "  </tbody>\n",
       "</table>\n",
       "</div>"
      ],
      "text/plain": [
       "   0\n",
       "0  1"
      ]
     },
     "execution_count": 113,
     "metadata": {},
     "output_type": "execute_result"
    }
   ],
   "source": [
    "# Extraindo a Moda \n",
    "df = pd.DataFrame([1,2,3,4,1,8,9,1,7,1])\n",
    "df.mode()"
   ]
  },
  {
   "cell_type": "code",
   "execution_count": 114,
   "id": "0694ce6d",
   "metadata": {},
   "outputs": [
    {
     "data": {
      "text/html": [
       "<div>\n",
       "<style scoped>\n",
       "    .dataframe tbody tr th:only-of-type {\n",
       "        vertical-align: middle;\n",
       "    }\n",
       "\n",
       "    .dataframe tbody tr th {\n",
       "        vertical-align: top;\n",
       "    }\n",
       "\n",
       "    .dataframe thead th {\n",
       "        text-align: right;\n",
       "    }\n",
       "</style>\n",
       "<table border=\"1\" class=\"dataframe\">\n",
       "  <thead>\n",
       "    <tr style=\"text-align: right;\">\n",
       "      <th></th>\n",
       "      <th>0</th>\n",
       "    </tr>\n",
       "  </thead>\n",
       "  <tbody>\n",
       "    <tr>\n",
       "      <th>0</th>\n",
       "      <td>Azul</td>\n",
       "    </tr>\n",
       "    <tr>\n",
       "      <th>1</th>\n",
       "      <td>Verde</td>\n",
       "    </tr>\n",
       "  </tbody>\n",
       "</table>\n",
       "</div>"
      ],
      "text/plain": [
       "       0\n",
       "0   Azul\n",
       "1  Verde"
      ]
     },
     "execution_count": 114,
     "metadata": {},
     "output_type": "execute_result"
    }
   ],
   "source": [
    "# Extraindo a Moda \n",
    "df = pd.DataFrame(['Verde', 'Vermelho', 'Amarelo', 'Verde', 'Azul', 'Azul'])\n",
    "df.mode()"
   ]
  },
  {
   "cell_type": "markdown",
   "id": "fe1b4b82",
   "metadata": {},
   "source": [
    "# Medidas de Dispersão\n",
    "\n",
    "As ``medidas de dispersão`` mostra o quão esticada ou espremida uma distribuição está. As ``medidas de dispersão`` são utilizadas para que possamos saber qual o **grau de variação** dos nossos dados, pois afinal, nenhuma medida é de fato exata, já que há diversos fatores que podem influenciar.\n",
    "\n",
    "* Amplitude\n",
    "* Variancia \n",
    "* Desvio Padrão\n",
    "\n",
    "![](https://upload.wikimedia.org/wikipedia/commons/thumb/6/69/WrappedNormalPDF.png/1200px-WrappedNormalPDF.png)"
   ]
  },
  {
   "cell_type": "markdown",
   "id": "180711cc",
   "metadata": {},
   "source": [
    "## Amplitude\n",
    "\n",
    "A ``amplitude`` de um conjunto de dados, é a diferença, entre o maior elemento desse conjunto e o menor. Uma das medidas que utilizamos para ter noção da **variabilidade é a amplitude**.\n",
    "\n",
    "A ``amplitude`` pode ser utilizada para verificar se um conjunto de dados está **estável ou não**. ``Amplitudes`` muito **elevadas** mostram uma **grande variação** entre os limites do conjunto numérico, enquanto **menores** ``amplitudes`` indicam um **equilíbrio** no conjunto de dados."
   ]
  },
  {
   "cell_type": "code",
   "execution_count": 115,
   "id": "cd2a6567",
   "metadata": {},
   "outputs": [
    {
     "name": "stdout",
     "output_type": "stream",
     "text": [
      "4\n"
     ]
    }
   ],
   "source": [
    "# Criando lista para exemplificação\n",
    "lista1 = [1,2,3,4,5]\n",
    "\n",
    "# Extrair a Ampltude do conjunto de dados(lista1)\n",
    "amplitude = np.max(lista1) - np.min(lista1)\n",
    "\n",
    "# Visualizando\n",
    "print(amplitude)"
   ]
  },
  {
   "cell_type": "markdown",
   "id": "583f8d82",
   "metadata": {},
   "source": [
    "## Variância\n",
    "\n",
    "A ``variância`` é uma **medida de dispersão** que mostra o **quão distante cada valor** desse conjunto **stá do valor central (médio)**. Quanto **menor** é a ``variância``, mais **próximos os valores estão da média**; mas quanto **maior** a ``variância ``é, **mais os valores estão distantes da média**. A amplitude não leva em consideração a média para seu cálculo. A ``variância``, por sua vez, **mede o grau de distância** entre os **pontos** e a **média**.\n",
    "\n",
    "![](https://linkconcursos.com.br/wp-content/uploads/2013/03/varianciadaamostra.jpg)"
   ]
  },
  {
   "cell_type": "code",
   "execution_count": 116,
   "id": "86fdc576",
   "metadata": {},
   "outputs": [
    {
     "name": "stdout",
     "output_type": "stream",
     "text": [
      "2.5\n"
     ]
    }
   ],
   "source": [
    "# Criando um conjunto de dados para exemplificação\n",
    "lista2 = np.array([1,2,3,4,5])\n",
    "\n",
    "# Extrair a média\n",
    "media = np.mean(lista2)\n",
    "\n",
    "# Extraindo a diferença do dado e a media ao quadrado\n",
    "media_2 = (lista2 - media)**2\n",
    "\n",
    "# Extraindo a Variância, a soma de todos os termos dividido pelo tamanho, menos um\n",
    "variancia = (sum(media_2 ) / (len(lista2) - 1))\n",
    "\n",
    "# Visualizando a Variância\n",
    "print(variancia)"
   ]
  },
  {
   "cell_type": "markdown",
   "id": "951af955",
   "metadata": {},
   "source": [
    "### ``var`` DataFrame Pandas\n",
    "\n",
    "* Retorna a variação imparcial sobre o eixo solicitado."
   ]
  },
  {
   "cell_type": "code",
   "execution_count": 117,
   "id": "1c7ae454",
   "metadata": {},
   "outputs": [
    {
     "name": "stdout",
     "output_type": "stream",
     "text": [
      "2.0\n"
     ]
    }
   ],
   "source": [
    "# Extraindo a Variância com função pandas \n",
    "print(lista2.var())"
   ]
  },
  {
   "cell_type": "markdown",
   "id": "876132ce",
   "metadata": {},
   "source": [
    "## Desvio Padrão \n",
    "\n",
    "O ``desvio-padrão`` demonstra a distância dos valores em relação à média do conjunto, quanto mais próximo de 0 for o desvio-padrão, menos dispersos são os dados daquele conjunto. \n",
    "\n",
    "Em algumas situações, apenas o cálculo da variância pode não ser suficiente, pois essa é uma medida de dispersão muito influenciada por valores que estão muito distantes da média. Além disso, o fato de a variância ser calculada ao quadrado causa uma certa camuflagem dos valores (pois aumenta a divergencia), dificultando um pouco o entendimento. Uma alternativa para solucionar esse problema é o ``desvio padrão``."
   ]
  },
  {
   "cell_type": "markdown",
   "id": "fadf9a4e",
   "metadata": {},
   "source": [
    "## ``std`` Numpy\n",
    "\n",
    "* Calcule o desvio padrão ao longo do eixo especificado."
   ]
  },
  {
   "cell_type": "code",
   "execution_count": 118,
   "id": "64ee6010",
   "metadata": {},
   "outputs": [
    {
     "name": "stdout",
     "output_type": "stream",
     "text": [
      "1.41\n"
     ]
    }
   ],
   "source": [
    "# Criando um conjunto de dados para exemplificação\n",
    "lista2 = np.array([1,2,3,4,5])\n",
    "\n",
    "# Extraindo o Desvio Padrão com função pandas\n",
    "print(round(lista2.std(), 2))"
   ]
  },
  {
   "cell_type": "markdown",
   "id": "291b8c46",
   "metadata": {},
   "source": [
    "## Quantis, Percentis e Quartis\n",
    "\n",
    "\n",
    "Mesmo com as ``medidas de tendência central`` e ``variabilidade``, falta representar a ``simetria da distribuição dos dados``.\n",
    "\n",
    "Nós comentamos que a mediana é o valor que deixa metate dos dados acima e abaixo. Vamos definir uma outra medida, ``p-quantil``, escrita como ``q(p)``, sendo ``p`` uma proporção qualquer entre **0** e **1**, de tal maneira que **100*p%** das observações da série sejam menores que ``q(p)``.\n",
    "\n",
    "Sendo assim, a mediana é o ``q(0.5)``, pois resulta em ``100*0.5 = 50%`` dos dados abaixo do valor.\n",
    "\n",
    "O ``Percentil`` é a forma mais direta de falar desses números. Podemos perguntar pelo ``percentil 50`` e este será igual ao valor abaixo do qual ``50%`` dos dados se encontram. Um caso particular dos ``percentis`` são os ``quartis``. Temos **3** ``quartis``, 1, 2, 3. \n",
    "\n",
    "O ``Primeiro Quartil`` é o valor abaixo do qual ``25%`` dos **dados se encontram**\n",
    "\n",
    "O ``Segundo Quartil`` é o valor abaixo do qual ``50%`` dos **dados se encontram** (note que isso é igual ao Percentil 50 e quantil 0.5)\n",
    "\n",
    "O ``Terceiro Quartil`` seria o valor abaixo do qual ``75%`` dos **dados se encontram**. \n",
    "\n",
    "Dessas relações, podemos definir:\n",
    "\n",
    "Para encontrar **quantis**, podemos utilizar a função ``np.quantile()`` e para encontrar **percentis**, podemos utilizar ``np.percentile()``\n",
    "\n",
    "São valores que separam o rol (os dados ordenados) em quatro (quartis), dez (decis) ou em cem (percentis) partes iguais. Note que para a sua correta aplicação, exige-se que os dados estejam organizados num rol. São valores que dividem o conjunto de dados ordenados (**rol**) "
   ]
  },
  {
   "cell_type": "markdown",
   "id": "ba00967c",
   "metadata": {},
   "source": [
    "## ``quantile`` ou ``percentile`` Numpy\n",
    "\n",
    "* Calcule o q-ésimo quantil dos dados ao longo do eixo especificado. O q-ésimo é geralmente usado para indicar algum tipo de elemento genérico de um conjunto de dados, pode ser em um vetor ou uma matriz"
   ]
  },
  {
   "cell_type": "code",
   "execution_count": 119,
   "id": "eb244341",
   "metadata": {},
   "outputs": [
    {
     "name": "stdout",
     "output_type": "stream",
     "text": [
      "24.75\n",
      "24.75\n",
      "True\n"
     ]
    }
   ],
   "source": [
    "lista3 = np.arange(100)\n",
    "\n",
    "print(np.quantile(lista3, 0.25))\n",
    "\n",
    "print(np.percentile(lista3, 25))\n",
    "\n",
    "# Checando se o quantil 0.25 é igual ao percentil 25\n",
    "print(np.quantile(lista3, 0.25) == np.percentile(lista3, 25))"
   ]
  },
  {
   "cell_type": "code",
   "execution_count": 120,
   "id": "ef779729",
   "metadata": {
    "scrolled": true
   },
   "outputs": [
    {
     "name": "stdout",
     "output_type": "stream",
     "text": [
      "[24.75 49.5  74.25]\n"
     ]
    }
   ],
   "source": [
    "print(np.quantile(lista3,[0.25,0.50,0.75]))"
   ]
  },
  {
   "cell_type": "code",
   "execution_count": 121,
   "id": "1e70080d",
   "metadata": {},
   "outputs": [
    {
     "name": "stdout",
     "output_type": "stream",
     "text": [
      "[24.75 49.5  74.25]\n"
     ]
    }
   ],
   "source": [
    "print(np.percentile(lista3,[25, 50, 75]))"
   ]
  },
  {
   "cell_type": "code",
   "execution_count": 122,
   "id": "6dd0dfab",
   "metadata": {},
   "outputs": [
    {
     "data": {
      "image/png": "[encoded data removed]",
      "text/plain": [
       "<Figure size 640x480 with 1 Axes>"
      ]
     },
     "metadata": {},
     "output_type": "display_data"
    }
   ],
   "source": [
    "sns.boxplot(lista3);"
   ]
  },
  {
   "cell_type": "markdown",
   "id": "47963c2c",
   "metadata": {},
   "source": [
    "Dos quartis derivamos o BoxPlot.\n",
    "\n",
    "![](https://i0.wp.com/www.abgconsultoria.com.br/blog/wp-content/uploads/boxplot-1-1024x664.png?resize=1024%2C664)"
   ]
  },
  {
   "cell_type": "markdown",
   "id": "5a863a51",
   "metadata": {},
   "source": [
    "# <center>  Análise Bidimensional </center>\n",
    "\n",
    "Quando consideramos duas variáveis podemos nos deparar com três situações:\n",
    "\n",
    "* As duas variáveis são qualitativas\n",
    "* As duas variáveis são quantitativas\n",
    "* Uma variável é qualitativa e a outra é quantitativa\n",
    "\n",
    "Quando queremos encontrar ``associações`` e ``correlações`` e**ntre as variáveis**, podemos utilizar **métodos gráficos** ou **medidas específicas**.\n",
    "\n",
    "De maneira geral, podemos **quantificar o grau de associação** entre **duas variáveis** por meio dos chamados ``coeficientes de associação`` ou ``correlação``. \n",
    "\n",
    "Para facilitar **assimilação** e **comparações**, usualmente esses coeficientes possuem **valores limitados** entre **0** e **1** ou **-1** e **1**. A proximidade do **0** indicará ``fraca associação ou correlação``.\n",
    "\n",
    "\n",
    "\n",
    "##  Associação Entre Variáveis ``Qualitativas``\n",
    "\n",
    "\n",
    "### Tabela de Contingência\n",
    "\n",
    "Uma forma de representar dados entre **duas variáveis qualitativas** é por meio de ``tabelas de contingência``. A ``tabela de contingência`` ou ``tabela cruzada`` descreve **duas ou mais variáveis qualitativas(categóricas) simultaneamente relacionando a freqüência** das mesmas. \n",
    "\n",
    "O que se analisa é a freqüência de **cada célula** da tabela. As ``tabelas de contingência de frequências`` mostram **quantos dados** se encaixam em **cada categoria**. ``Tabela de contingência``, vamos definí-la como, uma tabela que **cruza duas variáveis qualitativas** e guarda em suas células o **número de observações correspondentes** às combinações possíveis das duas variáveis."
   ]
  },
  {
   "cell_type": "markdown",
   "id": "858d6c9f",
   "metadata": {},
   "source": [
    "## ``crosstab`` Pandas \n",
    "\n",
    "* Calcula uma tabulação cruzada simples de dois (ou mais) fatores."
   ]
  },
  {
   "cell_type": "code",
   "execution_count": 123,
   "id": "2ab5c291",
   "metadata": {},
   "outputs": [
    {
     "data": {
      "text/html": [
       "<div>\n",
       "<style scoped>\n",
       "    .dataframe tbody tr th:only-of-type {\n",
       "        vertical-align: middle;\n",
       "    }\n",
       "\n",
       "    .dataframe tbody tr th {\n",
       "        vertical-align: top;\n",
       "    }\n",
       "\n",
       "    .dataframe thead th {\n",
       "        text-align: right;\n",
       "    }\n",
       "</style>\n",
       "<table border=\"1\" class=\"dataframe\">\n",
       "  <thead>\n",
       "    <tr style=\"text-align: right;\">\n",
       "      <th></th>\n",
       "      <th>Sexo</th>\n",
       "      <th>Disciplina</th>\n",
       "    </tr>\n",
       "  </thead>\n",
       "  <tbody>\n",
       "    <tr>\n",
       "      <th>0</th>\n",
       "      <td>Masculino</td>\n",
       "      <td>Matemática</td>\n",
       "    </tr>\n",
       "    <tr>\n",
       "      <th>1</th>\n",
       "      <td>Feminino</td>\n",
       "      <td>Estatística</td>\n",
       "    </tr>\n",
       "    <tr>\n",
       "      <th>2</th>\n",
       "      <td>Feminino</td>\n",
       "      <td>Estatística</td>\n",
       "    </tr>\n",
       "    <tr>\n",
       "      <th>3</th>\n",
       "      <td>Masculino</td>\n",
       "      <td>Matemática</td>\n",
       "    </tr>\n",
       "    <tr>\n",
       "      <th>4</th>\n",
       "      <td>Feminino</td>\n",
       "      <td>Matemática</td>\n",
       "    </tr>\n",
       "  </tbody>\n",
       "</table>\n",
       "</div>"
      ],
      "text/plain": [
       "        Sexo   Disciplina\n",
       "0  Masculino   Matemática\n",
       "1   Feminino  Estatística\n",
       "2   Feminino  Estatística\n",
       "3  Masculino   Matemática\n",
       "4   Feminino   Matemática"
      ]
     },
     "metadata": {},
     "output_type": "display_data"
    }
   ],
   "source": [
    "# Criando tabela de contingência\n",
    "df_alunos_disciplinas = pd.DataFrame({'Sexo':np.random.choice(['Feminino', 'Masculino'], 100),\n",
    "                                       'Disciplina': np.random.choice(['Matemática', 'Estatística'], 100)})\n",
    "\n",
    "display(df_alunos_disciplinas.head())"
   ]
  },
  {
   "cell_type": "code",
   "execution_count": 124,
   "id": "5ddabf85",
   "metadata": {},
   "outputs": [
    {
     "data": {
      "text/html": [
       "<div>\n",
       "<style scoped>\n",
       "    .dataframe tbody tr th:only-of-type {\n",
       "        vertical-align: middle;\n",
       "    }\n",
       "\n",
       "    .dataframe tbody tr th {\n",
       "        vertical-align: top;\n",
       "    }\n",
       "\n",
       "    .dataframe thead th {\n",
       "        text-align: right;\n",
       "    }\n",
       "</style>\n",
       "<table border=\"1\" class=\"dataframe\">\n",
       "  <thead>\n",
       "    <tr style=\"text-align: right;\">\n",
       "      <th>Disciplina</th>\n",
       "      <th>Estatística</th>\n",
       "      <th>Matemática</th>\n",
       "    </tr>\n",
       "    <tr>\n",
       "      <th>Sexo</th>\n",
       "      <th></th>\n",
       "      <th></th>\n",
       "    </tr>\n",
       "  </thead>\n",
       "  <tbody>\n",
       "    <tr>\n",
       "      <th>Feminino</th>\n",
       "      <td>26</td>\n",
       "      <td>26</td>\n",
       "    </tr>\n",
       "    <tr>\n",
       "      <th>Masculino</th>\n",
       "      <td>29</td>\n",
       "      <td>19</td>\n",
       "    </tr>\n",
       "  </tbody>\n",
       "</table>\n",
       "</div>"
      ],
      "text/plain": [
       "Disciplina  Estatística  Matemática\n",
       "Sexo                               \n",
       "Feminino             26          26\n",
       "Masculino            29          19"
      ]
     },
     "metadata": {},
     "output_type": "display_data"
    }
   ],
   "source": [
    "# Criando tabela de contingência\n",
    "tab_cont = pd.crosstab(df_alunos_disciplinas['Sexo'], df_alunos_disciplinas['Disciplina'])\n",
    "\n",
    "display(tab_cont)"
   ]
  },
  {
   "cell_type": "markdown",
   "id": "58818fed",
   "metadata": {},
   "source": [
    "## Mensurando a Associação Entre Variáveis ``Qualitativas``"
   ]
  },
  {
   "cell_type": "code",
   "execution_count": 125,
   "id": "399651b2",
   "metadata": {},
   "outputs": [
    {
     "data": {
      "text/html": [
       "<div>\n",
       "<style scoped>\n",
       "    .dataframe tbody tr th:only-of-type {\n",
       "        vertical-align: middle;\n",
       "    }\n",
       "\n",
       "    .dataframe tbody tr th {\n",
       "        vertical-align: top;\n",
       "    }\n",
       "\n",
       "    .dataframe thead th {\n",
       "        text-align: right;\n",
       "    }\n",
       "</style>\n",
       "<table border=\"1\" class=\"dataframe\">\n",
       "  <thead>\n",
       "    <tr style=\"text-align: right;\">\n",
       "      <th></th>\n",
       "      <th>Estatística</th>\n",
       "      <th>Matemática</th>\n",
       "      <th>Total</th>\n",
       "    </tr>\n",
       "  </thead>\n",
       "  <tbody>\n",
       "    <tr>\n",
       "      <th>Masculino</th>\n",
       "      <td>60</td>\n",
       "      <td>110</td>\n",
       "      <td>170</td>\n",
       "    </tr>\n",
       "    <tr>\n",
       "      <th>Feminino</th>\n",
       "      <td>15</td>\n",
       "      <td>50</td>\n",
       "      <td>65</td>\n",
       "    </tr>\n",
       "  </tbody>\n",
       "</table>\n",
       "</div>"
      ],
      "text/plain": [
       "           Estatística  Matemática  Total\n",
       "Masculino           60         110    170\n",
       "Feminino            15          50     65"
      ]
     },
     "metadata": {},
     "output_type": "display_data"
    }
   ],
   "source": [
    "# Para exemplificar a medição da relação entre variáveis qualitativas, considere os seguintes dados:\n",
    "df_alunos_disciplinas2 = pd.DataFrame({'Estatística':[60,15], 'Matemática':[110, 50]}, \n",
    "                                     index=['Masculino', 'Feminino'])\n",
    "df_alunos_disciplinas2['Total'] = df_alunos_disciplinas2['Estatística']+df_alunos_disciplinas2['Matemática']\n",
    "\n",
    "display(df_alunos_disciplinas2)"
   ]
  },
  {
   "cell_type": "markdown",
   "id": "8ef205a1",
   "metadata": {},
   "source": [
    "Podemos dizer se existe alguma associação entre o sexo e a escolha da disciplina?\n",
    "\n",
    "Inicialmente, é difícil tirar qualquer conclusão, uma das formas de começar a visualizar tais relações é extraindo proporções, entre linhas ou colunas, para então realizar algumas comparações.\n",
    "\n",
    "Vamos calcular a  %,  total por disciplina, para saber a proporção geral."
   ]
  },
  {
   "cell_type": "code",
   "execution_count": 126,
   "id": "aa7ae34d",
   "metadata": {},
   "outputs": [
    {
     "data": {
      "text/plain": [
       "Estatística    0.319149\n",
       "Matemática     0.680851\n",
       "Total          1.000000\n",
       "dtype: float64"
      ]
     },
     "execution_count": 126,
     "metadata": {},
     "output_type": "execute_result"
    }
   ],
   "source": [
    "# % total de alunos que prefere cada disciplina.\n",
    "df_alunos_disciplinas2.sum()/df_alunos_disciplinas2['Total'].sum()"
   ]
  },
  {
   "cell_type": "markdown",
   "id": "50057da5",
   "metadata": {},
   "source": [
    "Independentemente do sexo, ``68%`` dos alunos preferem **Matemática** e ``32%`` preferem **Estatística**. Não havendo dependência entre as variáveis, deveríamos observar essas mesmas proporções para cada sexo. Vamos observar isso."
   ]
  },
  {
   "cell_type": "code",
   "execution_count": 127,
   "id": "5811052f",
   "metadata": {},
   "outputs": [
    {
     "data": {
      "text/html": [
       "<div>\n",
       "<style scoped>\n",
       "    .dataframe tbody tr th:only-of-type {\n",
       "        vertical-align: middle;\n",
       "    }\n",
       "\n",
       "    .dataframe tbody tr th {\n",
       "        vertical-align: top;\n",
       "    }\n",
       "\n",
       "    .dataframe thead th {\n",
       "        text-align: right;\n",
       "    }\n",
       "</style>\n",
       "<table border=\"1\" class=\"dataframe\">\n",
       "  <thead>\n",
       "    <tr style=\"text-align: right;\">\n",
       "      <th></th>\n",
       "      <th>Estatística</th>\n",
       "      <th>Matemática</th>\n",
       "    </tr>\n",
       "  </thead>\n",
       "  <tbody>\n",
       "    <tr>\n",
       "      <th>Masculino</th>\n",
       "      <td>35.294118</td>\n",
       "      <td>64.705882</td>\n",
       "    </tr>\n",
       "    <tr>\n",
       "      <th>Feminino</th>\n",
       "      <td>23.076923</td>\n",
       "      <td>76.923077</td>\n",
       "    </tr>\n",
       "  </tbody>\n",
       "</table>\n",
       "</div>"
      ],
      "text/plain": [
       "           Estatística  Matemática\n",
       "Masculino    35.294118   64.705882\n",
       "Feminino     23.076923   76.923077"
      ]
     },
     "execution_count": 127,
     "metadata": {},
     "output_type": "execute_result"
    }
   ],
   "source": [
    "# % de alunos de acordo com o sexo relacionado a disciplina\n",
    "df_alunos_disciplinas2[['Estatística','Matemática']].apply(lambda x: 100*x/x.sum(), axis=1)"
   ]
  },
  {
   "cell_type": "markdown",
   "id": "641e6e22",
   "metadata": {},
   "source": [
    "Veja que, no sexo masculino, ``35%`` são de **Estatística** e **65%** são de **Matemática**, ao passo que no sexo **feminino**, temos ``23%`` em **Estatística** e ``77%`` em **Matemática**.\n",
    "\n",
    "Dessa forma, vemos que esses **valores diferem do que foi ``observado`` anteriormente**, o que é um **indício de que há relação** entre essas **duas variáveis*.\n",
    "\n",
    "Havendo associação entre as variáveis, é interessante que essa **relação seja quantificada**."
   ]
  },
  {
   "attachments": {
    "image.png": {
     "image/png": "[encoded data removed]"
    }
   },
   "cell_type": "markdown",
   "id": "25ee0ba5",
   "metadata": {},
   "source": [
    "## Chi-quadrado, Chi2 ou X²\n",
    "\n",
    "Este é um teste utilizado para verificar se a frequência com que um determinado acontecimento ``observado(Real)``, em uma amostra, ``se desvia`` significativamente ou não da frequência com que ele ``é esperado(Previsto)``.\n",
    "\n",
    "Este ``teste χ²`` serve para **avaliar quantitativamente** a **relação** entre o resultado de um experimento e a distribuição esperada para o fenômeno. O ``teste Qui-quadrado`` é utilizado para **testar a significância da associação** ``observada`` entre **categorias** numa **tabela cruzada** ou de **contingência**. \n",
    "\n",
    "O **nível de significância da associação**,  também denotado como ``alfa`` ou ``α``, é a **probabilidade de rejeição da hipótese nula quando ela é verdadeira**. Por exemplo, um ``nível de significância`` de **0,05** indica um **risco de 5%** de concluir que **existe uma diferença** quando não há diferença real.\n",
    "\n",
    "O ``nível de significância (ou nível α)`` é um **limite** que determina se o **resultado** de um estudo pode ser **considerado estatisticamente significativo** depois de se realizarem os **teste estatísticos** planeados. O ``nível de significância`` é geralmente definido como 5% (ou 0,05), embora possam ser utilizados outros níveis dependendo do estudo. \n",
    "\n",
    "O ``teste χ²`` ajuda a determinar se existe uma associação entre **duas variáveis categóricas**(alguma propriedade qualitativa nominal ou ordinal). Este é um teste estatístico aplicado a dados categóricos para avaliar quão provável é que qualquer diferença observada aconteça ao acaso.<br><br>\n",
    "\n",
    "![image.png](attachment:image.png)<br>\n",
    "\n",
    "``o``:  **Observado**(Real) <br>\n",
    "``e``:  **Esperado**(Previsto) <br>\n",
    "``n``:  **Elementos**(Total de Valores/Elementos)<br>\n",
    "``i``:  **Índice**(Inicinando no primeiro elementos até o último)<br>\n",
    "``X²``:  **Coeficiênte de Associação**(Nivel ou Grau da Associação entre as Variaveis)<br><br>\n",
    "\n",
    "\n",
    "O ``teste qui-quadrado`` é obtido **somando-se razões** dadas pelos **quadrados das diferenças** entre **frequências observadas** e as **frequências esperadas**,**divididos pelas freqüências esperadas**. Quando as **variáveis são independentes**, é equivalente a dizer que **não existe associação**, e neste caso, o **valor do qui-quadrado** será **zero**.\n",
    "\n",
    "Vamos calcular os ``desvios`` das proporções **observadas** em relação às **esperadas**."
   ]
  },
  {
   "cell_type": "code",
   "execution_count": 128,
   "id": "40bbecc0",
   "metadata": {},
   "outputs": [
    {
     "data": {
      "text/html": [
       "<div>\n",
       "<style scoped>\n",
       "    .dataframe tbody tr th:only-of-type {\n",
       "        vertical-align: middle;\n",
       "    }\n",
       "\n",
       "    .dataframe tbody tr th {\n",
       "        vertical-align: top;\n",
       "    }\n",
       "\n",
       "    .dataframe thead th {\n",
       "        text-align: right;\n",
       "    }\n",
       "</style>\n",
       "<table border=\"1\" class=\"dataframe\">\n",
       "  <thead>\n",
       "    <tr style=\"text-align: right;\">\n",
       "      <th></th>\n",
       "      <th>Estatística</th>\n",
       "      <th>Matemática</th>\n",
       "      <th>Total</th>\n",
       "    </tr>\n",
       "  </thead>\n",
       "  <tbody>\n",
       "    <tr>\n",
       "      <th>Masculino</th>\n",
       "      <td>60</td>\n",
       "      <td>110</td>\n",
       "      <td>170</td>\n",
       "    </tr>\n",
       "    <tr>\n",
       "      <th>Feminino</th>\n",
       "      <td>15</td>\n",
       "      <td>50</td>\n",
       "      <td>65</td>\n",
       "    </tr>\n",
       "  </tbody>\n",
       "</table>\n",
       "</div>"
      ],
      "text/plain": [
       "           Estatística  Matemática  Total\n",
       "Masculino           60         110    170\n",
       "Feminino            15          50     65"
      ]
     },
     "execution_count": 128,
     "metadata": {},
     "output_type": "execute_result"
    }
   ],
   "source": [
    "# Tabela de Contigência para Exemplificação\n",
    "df_alunos_disciplinas2"
   ]
  },
  {
   "cell_type": "code",
   "execution_count": 129,
   "id": "a919e9dd",
   "metadata": {},
   "outputs": [
    {
     "data": {
      "text/html": [
       "<div>\n",
       "<style scoped>\n",
       "    .dataframe tbody tr th:only-of-type {\n",
       "        vertical-align: middle;\n",
       "    }\n",
       "\n",
       "    .dataframe tbody tr th {\n",
       "        vertical-align: top;\n",
       "    }\n",
       "\n",
       "    .dataframe thead th {\n",
       "        text-align: right;\n",
       "    }\n",
       "</style>\n",
       "<table border=\"1\" class=\"dataframe\">\n",
       "  <thead>\n",
       "    <tr style=\"text-align: right;\">\n",
       "      <th></th>\n",
       "      <th>Estatística</th>\n",
       "      <th>Matemática</th>\n",
       "    </tr>\n",
       "  </thead>\n",
       "  <tbody>\n",
       "    <tr>\n",
       "      <th>Masculino</th>\n",
       "      <td>35.294118</td>\n",
       "      <td>64.705882</td>\n",
       "    </tr>\n",
       "    <tr>\n",
       "      <th>Feminino</th>\n",
       "      <td>23.076923</td>\n",
       "      <td>76.923077</td>\n",
       "    </tr>\n",
       "  </tbody>\n",
       "</table>\n",
       "</div>"
      ],
      "text/plain": [
       "           Estatística  Matemática\n",
       "Masculino    35.294118   64.705882\n",
       "Feminino     23.076923   76.923077"
      ]
     },
     "execution_count": 129,
     "metadata": {},
     "output_type": "execute_result"
    }
   ],
   "source": [
    "# Obtendo a proporção de alunos por disciplina e por sexo em %\n",
    "df_alunos_disciplinas2[['Estatística', 'Matemática']].apply(lambda x: 100* x / x.sum(), axis = 1)"
   ]
  },
  {
   "cell_type": "code",
   "execution_count": 130,
   "id": "2df75758",
   "metadata": {},
   "outputs": [
    {
     "data": {
      "text/plain": [
       "Estatística    0.319149\n",
       "Matemática     0.680851\n",
       "Total          1.000000\n",
       "dtype: float64"
      ]
     },
     "execution_count": 130,
     "metadata": {},
     "output_type": "execute_result"
    }
   ],
   "source": [
    "# Obtendo a proporção total de alunos por disciplina em %\n",
    "df_alunos_disciplinas2.sum() / df_alunos_disciplinas2['Total'].sum()"
   ]
  },
  {
   "cell_type": "markdown",
   "id": "6dfc4988",
   "metadata": {},
   "source": [
    "Observando para o **Total**, vemos que **170** alunos do sexo **Masculino** e **65** do sexo **Feminino**. Sendo assim, deveríamos esperar que, para o sexo **Masculino, 0.32x170** alunos fossem de **Estatística** e **0.68x170** alunos fossem de Matemática.\n",
    "\n",
    "Da mesma maneira, **0.32x65** alunos do sexo **Feminino** seriam de **Estatística** e **0.68x65** alunos seriam de **Matemática**.\n",
    "\n",
    "Para **medir** o quanto se **desviam**:\n",
    "\n",
    "$\\huge\\frac{\\left( o-e \\right)^{2}}{e}$\n",
    "\n",
    "``o``: **observado**(Real) <br>\n",
    "``e``: **esperado**(Previsto)"
   ]
  },
  {
   "cell_type": "code",
   "execution_count": 131,
   "id": "3eb7bb70",
   "metadata": {},
   "outputs": [
    {
     "name": "stdout",
     "output_type": "stream",
     "text": [
      "Estatística Masculino Valor Previsto: 54\n",
      "\n",
      "Estatística Masculino Valor Real: 60\n"
     ]
    }
   ],
   "source": [
    "# Extraindo valor esperado \"Estatística Masculino\"\n",
    "esp_masc_est = int(0.32 * 170)\n",
    "print(f'Estatística Masculino Valor Previsto: {esp_masc_est}\\n')\n",
    "\n",
    "# Atribuindo a uma variavel valor observado \"Estatística Masculino\"\n",
    "obs_masc_est = 60\n",
    "print(f'Estatística Masculino Valor Real: {obs_masc_est}')"
   ]
  },
  {
   "cell_type": "code",
   "execution_count": 132,
   "id": "56ab1741",
   "metadata": {},
   "outputs": [
    {
     "name": "stdout",
     "output_type": "stream",
     "text": [
      "Masculino Matemática Valor Esperado: 116\n",
      "\n",
      "Masculino Matemática Valor Observado: 110\n"
     ]
    }
   ],
   "source": [
    "# Extraindo valor esperado \"Masculino Matemática\"\n",
    "esp_masc_mat = 170 - (int(0.32 * 170))\n",
    "print(f'Masculino Matemática Valor Esperado: {esp_masc_mat}\\n')\n",
    "\n",
    "# Atribuindo a uma variavel o valor observado  \"Masculino Matemática\"\n",
    "obs_masc_mat = 110\n",
    "print(f'Masculino Matemática Valor Observado: {obs_masc_mat}')"
   ]
  },
  {
   "cell_type": "code",
   "execution_count": 133,
   "id": "eb1c7702",
   "metadata": {},
   "outputs": [
    {
     "name": "stdout",
     "output_type": "stream",
     "text": [
      "Feminino Estatística Valor Esperado: 20\n",
      "\n",
      "Feminino Estatística Valor Observado: 15\n"
     ]
    }
   ],
   "source": [
    "# Extraindo valor esperado \"Feminino Estatística\"\n",
    "esp_fem_est = int(0.32 * 65)\n",
    "print(f'Feminino Estatística Valor Esperado: {esp_fem_est}\\n')\n",
    "\n",
    "# Atribuindo a uma variavel valor observado \"Feminino Estatística\"\n",
    "obs_fem_est = 15\n",
    "print(f'Feminino Estatística Valor Observado: {obs_fem_est}')"
   ]
  },
  {
   "cell_type": "code",
   "execution_count": 134,
   "id": "b0b9c98a",
   "metadata": {},
   "outputs": [
    {
     "name": "stdout",
     "output_type": "stream",
     "text": [
      "Feminino Matemática Valor Esperado: 45\n",
      "\n",
      "Feminino Matemática Valor observado: 50\n"
     ]
    }
   ],
   "source": [
    "# Extraindo valor esperado \"Feminino Matemática\"\n",
    "esp_fem_mat = 65 - int(0.32 * 65)\n",
    "print(f'Feminino Matemática Valor Esperado: {esp_fem_mat}\\n')\n",
    "\n",
    "# Atribuindo a uma variavel valor observado \"Feminino Matemática\"\n",
    "obs_fem_mat = 50\n",
    "print(f'Feminino Matemática Valor observado: {obs_fem_mat}')"
   ]
  },
  {
   "cell_type": "markdown",
   "id": "0d56899a",
   "metadata": {},
   "source": [
    "### Criar **dois arrays**, ``um`` de ``valores esperados`` e ``outro`` de ``valores observado``"
   ]
  },
  {
   "cell_type": "code",
   "execution_count": 135,
   "id": "9316cd98",
   "metadata": {},
   "outputs": [],
   "source": [
    "# Criando Array de valores \"Observados\"\n",
    "ar_obs = np.array([\n",
    "    obs_masc_est,\n",
    "    obs_masc_mat,\n",
    "    obs_fem_est,\n",
    "    obs_fem_mat\n",
    "                  ])\n",
    "\n",
    "# Criando Array de valores \"Esperados\"\n",
    "ar_esp = np.array([\n",
    "    esp_masc_est,\n",
    "    esp_masc_mat,\n",
    "    esp_fem_est,\n",
    "    esp_fem_mat\n",
    "])"
   ]
  },
  {
   "cell_type": "code",
   "execution_count": 136,
   "id": "7056ea7d",
   "metadata": {},
   "outputs": [
    {
     "name": "stdout",
     "output_type": "stream",
     "text": [
      "[0.66666667 0.31034483 1.25       0.55555556] \n",
      "\n",
      "2.7825670498084287\n"
     ]
    }
   ],
   "source": [
    "# Obtendo um array com os \"Resultados dos Desvios\"\n",
    "print(((ar_obs - ar_esp)**2) / ar_esp, '\\n')\n",
    "\n",
    "# Obtendo a estatística x² que é a soma do array\n",
    "Chi2 = sum(((ar_obs - ar_esp)**2) / ar_esp)\n",
    "print(Chi2)"
   ]
  },
  {
   "cell_type": "markdown",
   "id": "92534364",
   "metadata": {},
   "source": [
    "## ``chi2_contingency`` Scipy.Stats\n",
    "\n",
    "* Teste qui-quadrado de independência das variáveis de uma tabela de contingência. Esta função calcula a estatística qui-quadrado e o valor p para o teste de hipótese de independência das frequências observadas na tabela de contingência"
   ]
  },
  {
   "cell_type": "code",
   "execution_count": 137,
   "id": "af4fa893",
   "metadata": {},
   "outputs": [],
   "source": [
    "chi2_teste, p, df, arr = stats.chi2_contingency(df_alunos_disciplinas2.drop('Total',axis=1))"
   ]
  },
  {
   "cell_type": "code",
   "execution_count": 138,
   "id": "f5b6233b",
   "metadata": {},
   "outputs": [
    {
     "name": "stdout",
     "output_type": "stream",
     "text": [
      "Chi-quadrado: 2.6921434294871784\n"
     ]
    }
   ],
   "source": [
    "# Chii-Quqadrado\n",
    "print(f'Chi-quadrado: {chi2_teste}')"
   ]
  },
  {
   "cell_type": "markdown",
   "id": "bcb13484",
   "metadata": {},
   "source": [
    "O ``valor-p`` ou ``p-valor``, é a probabilidade de se obter uma **estatística de teste** igual ou mais extrema que aquela observada em uma amostra, sob a **hipótese nula**. Por exemplo, em **testes de hipótese**, pode-se **rejeitar a hipótese nula a 5%** caso o ``valor-p`` seja **menor que 5%**.  O ``valor-p`` indica a **probabilidade de se observar uma diferença** tão grande ou maior do que a que foi observada sob a **hipótese nula**."
   ]
  },
  {
   "cell_type": "code",
   "execution_count": 139,
   "id": "ff247ca9",
   "metadata": {},
   "outputs": [
    {
     "name": "stdout",
     "output_type": "stream",
     "text": [
      "P-Valor: 0.10084407717669668\n"
     ]
    }
   ],
   "source": [
    "# P-Valor\n",
    "print(f'P-Valor: {p}')"
   ]
  },
  {
   "cell_type": "markdown",
   "id": "62de0864",
   "metadata": {},
   "source": [
    "## Cramer V\n",
    "\n",
    "``V de Cramér`` é uma **medida de tamanho do efeito** para o **teste qui-quadrado** de independência. Ele mede o **grau de associação** entre **dois campos categóricos**.  Use a ``V de Cramer`` quando tiver **mais de duas categorias** para uma ou ambas as variáveis. Use **Phi** quando você tiver **exatamente duas categorias para cada variável**.\n",
    "\n",
    "\n",
    "Apesar de termos encontrado uma estatística que **mede o grau de associação**, não possuímos nenhum poder de comparação entre outras associações. Isso, pois o valor de ``X²`` depende do tamanho da ``tabela de contingência``.\n",
    "\n",
    "Como meio de contornar esse inconveniente, definiu-se uma nova estatística, chamada ``V de Cramer``, que é **normalizada entre 0 e 1** e que utiliza o``X²`` como base. Dessa maneira, temos uma medida que podemos utilizar para comparações.\n",
    "\n",
    "\\begin{equation*}\n",
    "V = \\sqrt{\\frac{\\chi^2}{n\\times\\left(\\text{MIN}\\left(r, c\\right) - 1\\right)}}\n",
    "\\end{equation*}\n",
    "\n",
    "* ``X²``: Chi Quadrado\n",
    "* ``n``: soma dos elementos da tabela de contingência\n",
    "* ``r``: número de linhas da tabela de contingência\n",
    "* ``c``: número de colunas da tabela de contingência\n",
    "\n",
    "O caso especial em que a **tabela de contingência é 2x2** é chamado de ``Cramer phi``"
   ]
  },
  {
   "cell_type": "markdown",
   "id": "84640d1d",
   "metadata": {},
   "source": [
    "## ``to_numpy`` DataFrame Pandas\n",
    "\n",
    "* Converta o DataFrame em um array NumPy."
   ]
  },
  {
   "cell_type": "code",
   "execution_count": 140,
   "id": "bf55c293",
   "metadata": {},
   "outputs": [],
   "source": [
    "# Definindo valor de \"r\" (Nº de Linhas Tabela de Contigência)\n",
    "r = len(df_alunos_disciplinas2.drop('Total', axis=1))\n",
    "\n",
    "# Definindo valor de \"c\" (Nº de Colunas Tabela de Contigência)\n",
    "c = len(df_alunos_disciplinas2.drop('Total', axis=1))\n",
    "\n",
    "# Obtendo a Soma dos Elementos da Tabela de Contigência\n",
    "n = df_alunos_disciplinas2.drop('Total', axis=1).to_numpy().sum()"
   ]
  },
  {
   "cell_type": "code",
   "execution_count": 142,
   "id": "b01554cf",
   "metadata": {},
   "outputs": [
    {
     "data": {
      "text/plain": [
       "(2, 2, 235, 2.7825670498084287)"
      ]
     },
     "execution_count": 142,
     "metadata": {},
     "output_type": "execute_result"
    }
   ],
   "source": [
    "r, c, n, Chi2"
   ]
  },
  {
   "cell_type": "code",
   "execution_count": 146,
   "id": "cd123a98",
   "metadata": {},
   "outputs": [
    {
     "name": "stdout",
     "output_type": "stream",
     "text": [
      "Coeficiente V de Cramer: 0.10881503044271335\n"
     ]
    }
   ],
   "source": [
    "v_cram = np.sqrt((Chi2 / n * (min([r,c]) - 1)))\n",
    "print(f'Coeficiente V de Cramer: {v_cram}')"
   ]
  },
  {
   "cell_type": "markdown",
   "id": "f976f98b",
   "metadata": {},
   "source": [
    "Para determinar o nível de força dessa associação, precisamos levar em consideração ainda o **grau de liberdade**. O **grau de liberdade** é simplesmente ``MIN(r,c) - 1``.\n",
    "\n",
    "Segundo Cohen (1988, pp. 222,224, 225), devemos observar esse **grau de liberdade** antes de tirar conclusões sobre o **valor de V**.\n",
    "\n",
    "Vamos calcular nosso grau de liberdade, gl."
   ]
  },
  {
   "cell_type": "code",
   "execution_count": 145,
   "id": "c10bc200",
   "metadata": {},
   "outputs": [
    {
     "name": "stdout",
     "output_type": "stream",
     "text": [
      "1\n"
     ]
    }
   ],
   "source": [
    "gl = np.min([r,c]) - 1\n",
    "print(gl)"
   ]
  },
  {
   "cell_type": "markdown",
   "id": "65ef75ec",
   "metadata": {},
   "source": [
    "A interpretação de ``V``, seguindo a **tabela proposta por Cohen**, baseada em ``graus de liberdade, gl``, é esta abaixo:\n",
    "\n",
    "|gl|desprezível|baixo|médio|alto|\n",
    "|-------|---|---|---|---|\n",
    "|1|0 < .10|.10 < .30|.30 < .50|.50+|\n",
    "|2|0 < .07|.07 < .21|.21 < .35|.35+|\n",
    "|3|0 < .06|.06 < .17|.17 < .29|.29+|\n",
    "|4|0 < .05|.05 < .15|.15 < .25|.25+|\n",
    "|5|0 < .05|.05 < .13|.13 < .22|.22+|\n",
    "\n",
    "Segundo nosso resultado, podemos concluir que **há uma associação baixa** entre a disciplina e o sexo dos alunos.\n",
    "\n",
    "Esse método serve para avaliar tanto ``variáveis qualitativas`` **nominais** quanto **ordinais**.\n",
    "\n",
    "Outros métodos de medição de associação: - ``Information Value (Weight of Evidence)`` - muito usado em **fraude e crédito** - Theil's U"
   ]
  }
 ],
 "metadata": {
  "kernelspec": {
   "display_name": "Python 3 (ipykernel)",
   "language": "python",
   "name": "python3"
  },
  "language_info": {
   "codemirror_mode": {
    "name": "ipython",
    "version": 3
   },
   "file_extension": ".py",
   "mimetype": "text/x-python",
   "name": "python",
   "nbconvert_exporter": "python",
   "pygments_lexer": "ipython3",
   "version": "3.9.13"
  }
 },
 "nbformat": 4,
 "nbformat_minor": 5
}
