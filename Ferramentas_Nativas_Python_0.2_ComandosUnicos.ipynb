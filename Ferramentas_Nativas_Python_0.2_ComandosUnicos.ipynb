{
 "cells": [
  {
   "cell_type": "markdown",
   "id": "6eb74721",
   "metadata": {},
   "source": [
    "# <center>  Ferramentas Nativas do Python </center>\n",
    "\n",
    "## <center>  Principais Funções e Comandos nativos do python </center>"
   ]
  },
  {
   "cell_type": "markdown",
   "id": "f525def8",
   "metadata": {},
   "source": [
    "## ``enumerate()``\n",
    "\n",
    "A função ``enumerate()`` retorna uma tupla de dois elementos a cada iteração: um número sequencial e um item da sequência correspondente. lista, não geram novas listas\n",
    "\n",
    "Podem fazer uso do ``enumerate()`` dentro de um único laço. Ao invés de colocar o iterável diretamente após o presente para dentro, você estará colocando entre parênteses do comando enumerar()."
   ]
  },
  {
   "cell_type": "code",
   "execution_count": 29,
   "id": "60ad33a6",
   "metadata": {},
   "outputs": [
    {
     "name": "stdout",
     "output_type": "stream",
     "text": [
      "Eu Comi Hoje : (0, 'hamburguer')\n",
      "Eu Comi Hoje : (1, 'suco')\n",
      "Eu Comi Hoje : (2, 'pizza')\n",
      "Eu Comi Hoje : (3, 'pudim')\n",
      "Eu Comi Hoje : (4, 'bife')\n",
      "\n",
      "Foram ao todo 5 refeições hoje\n",
      "\n",
      "Eu Comi Hoje : hamburguer em 0 º\n",
      "Eu Comi Hoje : suco em 1 º\n",
      "Eu Comi Hoje : pizza em 2 º\n",
      "Eu Comi Hoje : pudim em 3 º\n",
      "Eu Comi Hoje : bife em 4 º\n",
      "\n",
      "Foram ao todo 5 refeições hoje\n",
      "\n",
      "Eu Comi Hoje hamburguer\n",
      "Eu Comi Hoje suco\n",
      "Eu Comi Hoje pizza\n",
      "Eu Comi Hoje pudim\n",
      "Eu Comi Hoje bife\n",
      "\n",
      "Foram ao todo 5 refeições hoje\n",
      "\n"
     ]
    }
   ],
   "source": [
    "lanch =('hamburguer','suco', 'pizza', 'pudim', 'bife')\n",
    "for c in enumerate(lanch):\n",
    "    print(f'Eu Comi Hoje : {c}')\n",
    "print(f'\\nForam ao todo {len(lanch)} refeições hoje\\n')    \n",
    "\n",
    "for pos, c in enumerate(lanch):\n",
    "    print(f'Eu Comi Hoje : {c} em {pos} º')\n",
    "print(f'\\nForam ao todo {len(lanch)} refeições hoje\\n')    \n",
    "\n",
    "\n",
    "for count in range(0, len(lanch)):\n",
    "    print(f'Eu Comi Hoje {lanch[count]}')\n",
    "print(f'\\nForam ao todo {len(lanch)} refeições hoje\\n')     "
   ]
  },
  {
   "cell_type": "markdown",
   "id": "3d1cd6c2",
   "metadata": {},
   "source": [
    "##  ``sorted()`` \n",
    "\n",
    "A função ``sorted()`` constrói uma nova lista ordenada à partir de um iterável."
   ]
  },
  {
   "cell_type": "code",
   "execution_count": 34,
   "id": "201448ec",
   "metadata": {},
   "outputs": [
    {
     "name": "stdout",
     "output_type": "stream",
     "text": [
      "('hamburguer', 'suco', 'pizza', 'pudim', 'bife')\n",
      "['bife', 'hamburguer', 'pizza', 'pudim', 'suco']\n"
     ]
    }
   ],
   "source": [
    "lanch =('hamburguer','suco', 'pizza', 'pudim', 'bife')\n",
    "print(lanch)\n",
    "print(sorted(lanch))"
   ]
  },
  {
   "cell_type": "code",
   "execution_count": 36,
   "id": "9b0562ef",
   "metadata": {},
   "outputs": [
    {
     "name": "stdout",
     "output_type": "stream",
     "text": [
      "('5', '2', '3', '9', '1')\n",
      "['1', '2', '3', '5', '9']\n"
     ]
    }
   ],
   "source": [
    "posicao = ('5', '2', '3', '9', '1')\n",
    "print(posicao)\n",
    "print(sorted(posicao))"
   ]
  },
  {
   "cell_type": "markdown",
   "id": "1ecfe7c4",
   "metadata": {},
   "source": [
    "## ``sort()``\n",
    "\n",
    "função ``sort()`` permite que você organize uma lista em ordem ascendente ou descendente. Ele recebe argumentos somente nomeados: key e reverse . reverse determina se a lista é ordenada em ordem ascendente ou descendente. key é uma função que gera um valor intermediário para cada elemento."
   ]
  },
  {
   "cell_type": "code",
   "execution_count": 192,
   "id": "33d7f02e",
   "metadata": {},
   "outputs": [
    {
     "name": "stdout",
     "output_type": "stream",
     "text": [
      "Original ['5', '2', '3', '9', '1']\n",
      "\n",
      "Decrescente ['9', '5', '3', '2', '1']\n",
      "\n",
      "Crescente ['1', '2', '3', '5', '9']\n"
     ]
    }
   ],
   "source": [
    "posicao = ['5', '2', '3', '9', '1']\n",
    "print(f'Original {posicao}\\n')\n",
    "posicao.sort(reverse=True)\n",
    "print(f'Decrescente {posicao}\\n')\n",
    "posicao.sort()\n",
    "print(f'Crescente {posicao}')"
   ]
  },
  {
   "cell_type": "code",
   "execution_count": 193,
   "id": "f215d335",
   "metadata": {},
   "outputs": [
    {
     "name": "stdout",
     "output_type": "stream",
     "text": [
      "Original [5, 2, 3, 9, 1]\n",
      "\n",
      "Decrescente [9, 5, 3, 2, 1]\n",
      "\n",
      "Crescente [1, 2, 3, 5, 9]\n"
     ]
    }
   ],
   "source": [
    "posicao = [5, 2, 3, 9, 1]\n",
    "print(f'Original {posicao}\\n')\n",
    "posicao.sort(reverse=True)\n",
    "print(f'Decrescente {posicao}\\n')\n",
    "posicao.sort()\n",
    "print(f'Crescente {posicao}')"
   ]
  },
  {
   "cell_type": "markdown",
   "id": "f2679443",
   "metadata": {},
   "source": [
    "## ``count()``\n",
    "A função ``count()`` retorna a quantidade de vezes que um mesmo elemento está contido numa lista"
   ]
  },
  {
   "cell_type": "code",
   "execution_count": 6,
   "id": "659f31e1",
   "metadata": {},
   "outputs": [
    {
     "name": "stdout",
     "output_type": "stream",
     "text": [
      "1\n"
     ]
    }
   ],
   "source": [
    "a = (2, 3, 5, 8, 9)\n",
    "b = (6, 5, 9, 7, 2)\n",
    "c = a + b\n",
    "print(c.count(3))"
   ]
  },
  {
   "cell_type": "markdown",
   "id": "b15c4e57",
   "metadata": {},
   "source": [
    "## ``index()``\n",
    "\n",
    "Em Python ``index()``  se utiliza para encontrar o índice de um item em uma lista."
   ]
  },
  {
   "cell_type": "code",
   "execution_count": 36,
   "id": "23e08aaa",
   "metadata": {},
   "outputs": [
    {
     "name": "stdout",
     "output_type": "stream",
     "text": [
      "[2, 2, 3, 5, 5, 6, 7, 8, 9, 9]\n",
      "0\n",
      "1\n"
     ]
    }
   ],
   "source": [
    "a = (2, 3, 5, 8, 9)\n",
    "b = (6, 5, 9, 7, 2)\n",
    "c = sorted(a + b)\n",
    "print(c)\n",
    "print(c.index(2))\n",
    "print(c.index(2, 1))"
   ]
  },
  {
   "cell_type": "markdown",
   "id": "3951a492",
   "metadata": {},
   "source": [
    "## ``del()`` \n",
    "\n",
    "Função ``del()`` usada para remover ou apagar informações e serve para listas também. Não é um método como o __remove() , pop() ou clear()__ , mas no final faz a mesma coisa. O __del (del list python)__ remove o item de uma lista pelo índice tanto quanto pela sequência do __índice (slice)__"
   ]
  },
  {
   "cell_type": "code",
   "execution_count": 38,
   "id": "4f14397a",
   "metadata": {},
   "outputs": [
    {
     "name": "stdout",
     "output_type": "stream",
     "text": [
      "(2, 3, 5, 8, 9)\n"
     ]
    },
    {
     "ename": "NameError",
     "evalue": "name 'b' is not defined",
     "output_type": "error",
     "traceback": [
      "\u001b[1;31m---------------------------------------------------------------------------\u001b[0m",
      "\u001b[1;31mNameError\u001b[0m                                 Traceback (most recent call last)",
      "\u001b[1;32m~\\AppData\\Local\\Temp\\ipykernel_9196\\3715652481.py\u001b[0m in \u001b[0;36m<module>\u001b[1;34m\u001b[0m\n\u001b[0;32m      3\u001b[0m \u001b[0mprint\u001b[0m\u001b[1;33m(\u001b[0m\u001b[0ma\u001b[0m\u001b[1;33m)\u001b[0m\u001b[1;33m\u001b[0m\u001b[1;33m\u001b[0m\u001b[0m\n\u001b[0;32m      4\u001b[0m \u001b[1;32mdel\u001b[0m\u001b[1;33m(\u001b[0m\u001b[0mb\u001b[0m\u001b[1;33m)\u001b[0m\u001b[1;33m\u001b[0m\u001b[1;33m\u001b[0m\u001b[0m\n\u001b[1;32m----> 5\u001b[1;33m \u001b[0mprint\u001b[0m\u001b[1;33m(\u001b[0m\u001b[0mb\u001b[0m\u001b[1;33m)\u001b[0m\u001b[1;33m\u001b[0m\u001b[1;33m\u001b[0m\u001b[0m\n\u001b[0m",
      "\u001b[1;31mNameError\u001b[0m: name 'b' is not defined"
     ]
    }
   ],
   "source": [
    "a = (2, 3, 5, 8, 9)\n",
    "b = (6, 5, 9, 7, 2)\n",
    "print(a)\n",
    "del(b)\n",
    "print(b)"
   ]
  },
  {
   "cell_type": "markdown",
   "id": "8c460555",
   "metadata": {},
   "source": [
    "## ``append()``\n",
    "\n",
    "comando ``append()`` é um recurso em Python que permite adicionar um elemento ao final de uma lista existente. Essa função é extremamente útil quando você precisa expandir uma lista com mais itens dinamicamente, sem precisar criar uma nova lista a cada vez."
   ]
  },
  {
   "cell_type": "code",
   "execution_count": 196,
   "id": "0367c23d",
   "metadata": {},
   "outputs": [
    {
     "name": "stdout",
     "output_type": "stream",
     "text": [
      "[2, 3, 5, 8, 9, 23, 55, 74]\n"
     ]
    }
   ],
   "source": [
    "a = [2, 3, 5, 8, 9, 23, 74]\n",
    "a.append(55)\n",
    "a.sort()\n",
    "print(a)"
   ]
  },
  {
   "cell_type": "markdown",
   "id": "7b775b1d",
   "metadata": {},
   "source": [
    "## ``insert()``\n",
    "\n",
    "comando ``insert()`` utiliza se para inserir um item em uma determinada posição da lista. O primeiro argumento é o índice do elemento anterior a inserção, o segundo é o elemento propriamente dito. Portanto, a. insert(0, x)irá inserir o elemento x no início da lista."
   ]
  },
  {
   "cell_type": "code",
   "execution_count": 208,
   "id": "bde9361e",
   "metadata": {},
   "outputs": [
    {
     "name": "stdout",
     "output_type": "stream",
     "text": [
      "[74, 55, 0, 23, 9, 6, 5, 3, 2]\n"
     ]
    }
   ],
   "source": [
    "num = [2, 3, 5, 8, 9, 23, 55, 74]\n",
    "num[3] = 6\n",
    "num.sort(reverse=True)\n",
    "num.insert(2, 0)\n",
    "print(num)"
   ]
  },
  {
   "cell_type": "markdown",
   "id": "35e4705f",
   "metadata": {},
   "source": [
    "## ``min()`` e ``max()``\n",
    "\n",
    "Comandos ``min()`` e ``max()`` o __minimo__ tem a função min e para o __máximo__ tem a função max ."
   ]
  },
  {
   "cell_type": "code",
   "execution_count": 64,
   "id": "d6d3a967",
   "metadata": {},
   "outputs": [
    {
     "name": "stdout",
     "output_type": "stream",
     "text": [
      "A seguencia de numeros (3, 4, 1, 8, 3)\n",
      "\n",
      "O menor valor nesta seguencia é 1\n",
      "O maior valor nesta seguencia é 8\n"
     ]
    }
   ],
   "source": [
    "from random import randint\n",
    "n = (randint(1,10), randint(1,10), randint(1,10),\n",
    "    randint(1,10),randint(1,10))\n",
    "print(f'A seguencia de numeros {n}\\n')\n",
    "print(f'O menor valor nesta seguencia é {min(n)}')\n",
    "print(f'O maior valor nesta seguencia é {max(n)}')"
   ]
  },
  {
   "cell_type": "markdown",
   "id": "43fbc44f",
   "metadata": {},
   "source": [
    "## ``pop()``\n",
    "\n",
    "comando ``pop()`` é embutido no Python que remove e retorna o último valor da __lista__ ou o valor de __índice fornecido__."
   ]
  },
  {
   "cell_type": "code",
   "execution_count": 205,
   "id": "78990168",
   "metadata": {},
   "outputs": [
    {
     "name": "stdout",
     "output_type": "stream",
     "text": [
      "Conjunto Original [2, 3, 5, 8, 9, 23, 55, 74]\n",
      "Aplicando Comando pop() 74\n",
      "Após Comando pop() [2, 3, 5, 8, 9, 23, 55]\n"
     ]
    }
   ],
   "source": [
    "# Removendo ultimo com comando pop()\n",
    "conjunto = [2, 3, 5, 8, 9, 23, 55, 74]\n",
    "print(f'Conjunto Original {conjunto}')\n",
    "print(f'Aplicando Comando pop() {conjunto.pop()}')\n",
    "print(f'Após Comando pop() {conjunto}')"
   ]
  },
  {
   "cell_type": "code",
   "execution_count": 206,
   "id": "fcc46105",
   "metadata": {},
   "outputs": [
    {
     "name": "stdout",
     "output_type": "stream",
     "text": [
      "Conjunto Original [2, 3, 5, 8, 9, 23, 55, 74]\n",
      "Aplicando Comando pop(3) 8\n",
      "Após Comando pop() [2, 3, 5, 9, 23, 55, 74]\n"
     ]
    }
   ],
   "source": [
    "# Removendo pelo index com comando pop()\n",
    "conjunto = [2, 3, 5, 8, 9, 23, 55, 74]\n",
    "print(f'Conjunto Original {conjunto}')\n",
    "print(f'Aplicando Comando pop(3) {conjunto.pop(3)}')\n",
    "print(f'Após Comando pop() {conjunto}')"
   ]
  },
  {
   "cell_type": "markdown",
   "id": "d7fcd844",
   "metadata": {},
   "source": [
    "## ``remove()``\n",
    "\n",
    "Comando ``remove()`` você pode remover um valor especificado dentro dos parênteses. Então, este método remove o primeiro item deste valor."
   ]
  },
  {
   "cell_type": "code",
   "execution_count": 209,
   "id": "a7b6fdcd",
   "metadata": {},
   "outputs": [
    {
     "name": "stdout",
     "output_type": "stream",
     "text": [
      "Conjunto Original [2, 3, 5, 8, 9, 5, 23, 55, 74]\n",
      "Conjunto Após Comando [2, 3, 8, 9, 5, 23, 55, 74]\n"
     ]
    }
   ],
   "source": [
    "conjunto = [2, 3, 5, 8, 9, 5, 23, 55, 74]\n",
    "print(f'Conjunto Original {conjunto}')\n",
    "conjunto.remove(5)\n",
    "print(f'Conjunto Após Comando {conjunto}')"
   ]
  },
  {
   "cell_type": "markdown",
   "id": "24b6981e",
   "metadata": {},
   "source": [
    "### variavel = variavel[:]\n",
    "\n",
    "Este mecanismo cria uma copia da variavel de interesse, e manipulando a copia da varivel, as alterações na copia não irá inferfeir na original"
   ]
  },
  {
   "cell_type": "code",
   "execution_count": 213,
   "id": "99a68c2b",
   "metadata": {},
   "outputs": [
    {
     "name": "stdout",
     "output_type": "stream",
     "text": [
      "Lista A [2, 3, 5, 8, 9, 5, 23, 55, 74]\n",
      "Lista B [2, 3, 5, 6, 9, 5, 23, 55, 74]\n"
     ]
    }
   ],
   "source": [
    "a = [2, 3, 5, 8, 9, 5, 23, 55, 74]\n",
    "b = a[:]\n",
    "b[3] = 6\n",
    "print(f'Lista A {a}')\n",
    "print(f'Lista B {b}')"
   ]
  },
  {
   "cell_type": "markdown",
   "id": "1f7cfd8b",
   "metadata": {},
   "source": [
    "## ``dict()``\n",
    "\n",
    "Comendo ``dict()`` em Python, converte em dicionario uma coleção de dados sem ordem,  onde cada elemento possui um par ``chave/valor``. E o que é um par __chave/valor__? Basicamente é uma forma de se indexar um valor a partir de uma chave.\n",
    "\n",
    "Para pegar o valor de um __Dict__, Percorrendo as chaves e valores de um Dicionário e uma maneira de obter chaves e valores é utilizando o método ``dict. items()``"
   ]
  },
  {
   "cell_type": "code",
   "execution_count": 10,
   "id": "c9bd4b47",
   "metadata": {},
   "outputs": [
    {
     "name": "stdout",
     "output_type": "stream",
     "text": [
      "{'Nome': 'Pedro', 'Idade': 25}\n",
      "{'Nome': 'Pedro', 'Idade': 25, 'Sexo': 'M'}\n",
      "{'Nome': 'Pedro', 'Sexo': 'M'}\n"
     ]
    }
   ],
   "source": [
    "dados = {'Nome':'Pedro', 'Idade':25}\n",
    "print(dados)\n",
    "dados['Sexo'] = 'M'\n",
    "print(dados)\n",
    "del dados['Idade']\n",
    "print(dados)"
   ]
  },
  {
   "cell_type": "markdown",
   "id": "516c170d",
   "metadata": {},
   "source": [
    "## ``values()``\n",
    "\n",
    "Comando ``values()`` aplicado a dicionarios, retorna a lista de valores existentes no dicionario."
   ]
  },
  {
   "cell_type": "code",
   "execution_count": 28,
   "id": "67d857ba",
   "metadata": {},
   "outputs": [
    {
     "data": {
      "text/plain": [
       "dict_values([1, 2, 5])"
      ]
     },
     "execution_count": 28,
     "metadata": {},
     "output_type": "execute_result"
    }
   ],
   "source": [
    "a = {'n':1,\n",
    "     'm':2,\n",
    "     'b':5\n",
    "}\n",
    "a.values()"
   ]
  },
  {
   "cell_type": "markdown",
   "id": "7145d138",
   "metadata": {},
   "source": [
    "## ``keys()``\n",
    "Assim como o comando __values()__ que retorna a lista de valores de um dicionario, o comando ``keys()``  irá retornar a lista de chaves contidas no dicionário. "
   ]
  },
  {
   "cell_type": "code",
   "execution_count": 29,
   "id": "f0419e4d",
   "metadata": {},
   "outputs": [
    {
     "data": {
      "text/plain": [
       "dict_keys(['n', 'm', 'b'])"
      ]
     },
     "execution_count": 29,
     "metadata": {},
     "output_type": "execute_result"
    }
   ],
   "source": [
    "a = {'n':1,\n",
    "     'm':2,\n",
    "     'b':5\n",
    "}\n",
    "a.keys()"
   ]
  },
  {
   "cell_type": "markdown",
   "id": "b0d1b3eb",
   "metadata": {},
   "source": [
    "## ``items()``\n",
    "\n",
    "Comando ``items()`` permite acessar as chaves e os valores existentes em um dicionário. Quando pegamos utilizamos __.items()__ isso irá retornar uma lista contendo pares de tuplas, onde, em cada uma dessas tuplas, o primeiro elemento será a chave do dicionário e o segundo elemento o valor"
   ]
  },
  {
   "cell_type": "code",
   "execution_count": 30,
   "id": "b0370d56",
   "metadata": {},
   "outputs": [
    {
     "data": {
      "text/plain": [
       "dict_items([('n', 1), ('m', 2), ('b', 5)])"
      ]
     },
     "execution_count": 30,
     "metadata": {},
     "output_type": "execute_result"
    }
   ],
   "source": [
    "a = {'n':1,\n",
    "     'm':2,\n",
    "     'b':5\n",
    "}\n",
    "a.items()"
   ]
  },
  {
   "cell_type": "code",
   "execution_count": 33,
   "id": "0cefd5a7",
   "metadata": {},
   "outputs": [
    {
     "name": "stdout",
     "output_type": "stream",
     "text": [
      "O Titulo: ChuChun e sua Turma\n",
      "O Ano: 1976\n",
      "O Diretor: Juca Lamberte\n"
     ]
    }
   ],
   "source": [
    "filme = {'Titulo':'ChuChun e sua Turma',\n",
    "         'Ano':1976,\n",
    "         'Diretor': 'Juca Lamberte'}\n",
    "\n",
    "for k, v in filme.items():\n",
    "    print(f'O {k}: {v}')"
   ]
  },
  {
   "cell_type": "code",
   "execution_count": 38,
   "id": "49dcc346",
   "metadata": {},
   "outputs": [
    {
     "name": "stdout",
     "output_type": "stream",
     "text": [
      "{'uf': 'Rio de Janeiro', 'Sigla': 'RJ'}\n",
      "{'uf': 'São Paulo', 'Sigla': 'SP'}\n",
      "Rio de Janeiro\n",
      "SP\n"
     ]
    }
   ],
   "source": [
    "# Listas e Dicionarios\n",
    "brasil = []\n",
    "estado1 = {'uf':'Rio de Janeiro', 'Sigla': 'RJ'}\n",
    "estado2 = {'uf': 'São Paulo', 'Sigla': 'SP'}\n",
    "brasil.append(estado1)\n",
    "brasil.append(estado2)\n",
    "print(brasil[0])\n",
    "print(brasil[1])\n",
    "print(brasil[0]['uf'])\n",
    "print(brasil[1]['Sigla'])"
   ]
  },
  {
   "cell_type": "markdown",
   "id": "438be589",
   "metadata": {},
   "source": [
    "## ``return``\n",
    "\n",
    "O ``return`` tem como objetivo retornar algo de uma função para que ao se chamar essa mesma se tenha acesso ao valor retornado.\n",
    "\n",
    "Uma função __DEF__ pode ou não retornar algum valor. Quando for necessário retornar, usa-se a declaração ``return``. Essa declaração gera a __saída do método__ atual e faz com que o controle de fluxo retorne onde o método foi invocado"
   ]
  },
  {
   "cell_type": "code",
   "execution_count": 17,
   "id": "eb6bf754",
   "metadata": {},
   "outputs": [
    {
     "name": "stdout",
     "output_type": "stream",
     "text": [
      "4 e 3\n",
      "==============================\n",
      "Os Resultados Foram: 4 e 3\n"
     ]
    }
   ],
   "source": [
    "def somar(a=0, b=0, c=0):\n",
    "    s = a + b + c\n",
    "    return s\n",
    "\n",
    "print(somar(2,2), end=' e ')\n",
    "print(somar(1,1,1))\n",
    "\n",
    "print('=' * 30)\n",
    "\n",
    "r1 = somar(2,2)\n",
    "r2 = somar(1,1,1)\n",
    "\n",
    "print(f'Os Resultados Foram: {r1} e {r2}')"
   ]
  },
  {
   "cell_type": "code",
   "execution_count": null,
   "id": "abed30af",
   "metadata": {},
   "outputs": [],
   "source": []
  },
  {
   "cell_type": "code",
   "execution_count": null,
   "id": "792d63ef",
   "metadata": {},
   "outputs": [],
   "source": []
  }
 ],
 "metadata": {
  "kernelspec": {
   "display_name": "Python 3 (ipykernel)",
   "language": "python",
   "name": "python3"
  },
  "language_info": {
   "codemirror_mode": {
    "name": "ipython",
    "version": 3
   },
   "file_extension": ".py",
   "mimetype": "text/x-python",
   "name": "python",
   "nbconvert_exporter": "python",
   "pygments_lexer": "ipython3",
   "version": "3.10.-1"
  }
 },
 "nbformat": 4,
 "nbformat_minor": 5
}
