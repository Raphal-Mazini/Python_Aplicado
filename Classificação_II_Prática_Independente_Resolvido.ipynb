{
 "cells": [
  {
   "cell_type": "markdown",
   "metadata": {
    "id": "ufDApr8YVpg8"
   },
   "source": [
    "# Prática Independente"
   ]
  },
  {
   "cell_type": "markdown",
   "metadata": {
    "id": "8w32S6ZHVphA"
   },
   "source": [
    "# Setup"
   ]
  },
  {
   "cell_type": "code",
   "execution_count": 1,
   "metadata": {
    "id": "l-5xojZBVphE"
   },
   "outputs": [],
   "source": [
    "import pandas as pd\n",
    "import numpy as np\n",
    "from sklearn.pipeline import Pipeline\n",
    "from sklearn.svm import SVC\n",
    "from sklearn.neighbors import KNeighborsClassifier\n",
    "from sklearn.linear_model import LogisticRegression\n",
    "from sklearn.naive_bayes import GaussianNB\n",
    "from sklearn.ensemble import RandomForestClassifier\n",
    "from sklearn.tree import DecisionTreeClassifier\n",
    "import os\n",
    "import matplotlib.pyplot as plt\n",
    "from sklearn.model_selection import train_test_split\n",
    "from sklearn.preprocessing import OneHotEncoder, MinMaxScaler\n",
    "from sklearn.metrics import auc, precision_recall_curve, log_loss,confusion_matrix, recall_score, precision_score\n",
    "from sklearn.compose import ColumnTransformer\n",
    "import warnings\n",
    "warnings.filterwarnings('ignore')\n"
   ]
  },
  {
   "cell_type": "markdown",
   "metadata": {
    "id": "uGTPSRZaVphE"
   },
   "source": [
    "# Dados"
   ]
  },
  {
   "cell_type": "code",
   "execution_count": 2,
   "metadata": {
    "id": "Uj_pSVNbh8va"
   },
   "outputs": [],
   "source": [
    "df_churn = pd.read_csv('https://raw.githubusercontent.com/abnr/ml-data/main/churn.csv')"
   ]
  },
  {
   "cell_type": "markdown",
   "metadata": {
    "id": "XGVKFt88VphF"
   },
   "source": [
    "Realizem a divisão dos dados em Treino e Teste, com 20% dos dados para teste e o parâmetro ```random_state``` = 123"
   ]
  },
  {
   "cell_type": "code",
   "execution_count": 3,
   "metadata": {
    "id": "9I2qjRASVphG"
   },
   "outputs": [],
   "source": [
    "# digite seu código aqui\n",
    "df_train, df_test = train_test_split(df_churn, \n",
    "                                     random_state=123, \n",
    "                                     test_size=0.2,\n",
    "                                     stratify=df_churn['Churn'])"
   ]
  },
  {
   "cell_type": "code",
   "execution_count": 4,
   "metadata": {
    "id": "UTFBz6Ro8dp2"
   },
   "outputs": [],
   "source": [
    "X_train, y_train = df_train.drop('Churn', axis=1), df_train['Churn']\n",
    "X_test, y_test = df_test.drop('Churn', axis=1), df_test['Churn']"
   ]
  },
  {
   "cell_type": "markdown",
   "metadata": {
    "id": "WjHxZdyvVphG"
   },
   "source": [
    "## Divisão dos Dados"
   ]
  },
  {
   "cell_type": "markdown",
   "metadata": {
    "id": "9MgzipZJVphK"
   },
   "source": [
    "Divida seus dados de forma estratificada ```random_state=123``` e separe as colunas categóricas das numéricas em duas listas."
   ]
  },
  {
   "cell_type": "code",
   "execution_count": 5,
   "metadata": {
    "id": "GvaWE_XuVphL"
   },
   "outputs": [],
   "source": [
    "cat_columns_churn = X_train.select_dtypes(include=['object']).columns.tolist()\n",
    "num_columns_churn = X_train.select_dtypes(exclude=['object']).columns.tolist()"
   ]
  },
  {
   "cell_type": "code",
   "execution_count": 6,
   "metadata": {
    "colab": {
     "base_uri": "https://localhost:8080/"
    },
    "id": "7AHz2syk9a6O",
    "outputId": "d2838486-3e2d-487c-a9a2-23ce7532d3f0"
   },
   "outputs": [
    {
     "data": {
      "text/plain": [
       "['State', 'International plan', 'Voice mail plan']"
      ]
     },
     "execution_count": 6,
     "metadata": {},
     "output_type": "execute_result"
    }
   ],
   "source": [
    "cat_columns_churn"
   ]
  },
  {
   "cell_type": "code",
   "execution_count": 7,
   "metadata": {
    "colab": {
     "base_uri": "https://localhost:8080/"
    },
    "id": "QFdzymTQ9dHb",
    "outputId": "8bcd704c-ad95-4c0a-dc64-6459b4084ce0"
   },
   "outputs": [
    {
     "data": {
      "text/plain": [
       "['Account length',\n",
       " 'Area code',\n",
       " 'Number vmail messages',\n",
       " 'Total day minutes',\n",
       " 'Total day calls',\n",
       " 'Total day charge',\n",
       " 'Total eve minutes',\n",
       " 'Total eve calls',\n",
       " 'Total eve charge',\n",
       " 'Total night minutes',\n",
       " 'Total night calls',\n",
       " 'Total night charge',\n",
       " 'Total intl minutes',\n",
       " 'Total intl calls',\n",
       " 'Total intl charge',\n",
       " 'Customer service calls']"
      ]
     },
     "execution_count": 7,
     "metadata": {},
     "output_type": "execute_result"
    }
   ],
   "source": [
    "num_columns_churn"
   ]
  },
  {
   "cell_type": "markdown",
   "metadata": {
    "id": "hGlZYTZNVphL"
   },
   "source": [
    "# Pipelines"
   ]
  },
  {
   "cell_type": "markdown",
   "metadata": {
    "id": "zgSsr-YXVphM"
   },
   "source": [
    "Crie um pipeline para processamento dos dados de entrada. Primeiro crie um pipeline categórico com ```OneHotEncoder``` e depois um pipeline numérico com ```MinMaxScaler```"
   ]
  },
  {
   "cell_type": "markdown",
   "metadata": {
    "id": "_WFdiG-2VphM"
   },
   "source": [
    "Combine tudo com o ```ColumnTransformer```"
   ]
  },
  {
   "cell_type": "code",
   "execution_count": 8,
   "metadata": {
    "id": "EYKAijSeVphN"
   },
   "outputs": [],
   "source": [
    "pipe_cat_columns_churn = ('one_hot_encoder', \n",
    "                          OneHotEncoder(handle_unknown='ignore'),\n",
    "                          cat_columns_churn)\n",
    "\n",
    "pipe_num_columns_churn = ('min_max_scaler',\n",
    "                          MinMaxScaler(), \n",
    "                          num_columns_churn)"
   ]
  },
  {
   "cell_type": "code",
   "execution_count": 9,
   "metadata": {
    "id": "KnRIerbE-FXQ"
   },
   "outputs": [],
   "source": [
    "transformers = [pipe_num_columns_churn, pipe_cat_columns_churn]\n",
    "pre_processor = ColumnTransformer(transformers)"
   ]
  },
  {
   "cell_type": "markdown",
   "metadata": {
    "id": "HdQrXk-HVphN"
   },
   "source": [
    "# Modelagem"
   ]
  },
  {
   "cell_type": "markdown",
   "metadata": {
    "id": "BAxcq8I9VphN"
   },
   "source": [
    "Compare os seguintes algoritmos, utilizando a métrica log loss.:\n",
    "- Regressão Logística\n",
    "- SVM\n",
    "- KNN\n",
    "- Decision Tree\n",
    "- Random Forest"
   ]
  },
  {
   "cell_type": "markdown",
   "metadata": {
    "id": "VKXaP95NVphO"
   },
   "source": [
    "Construa um pipeline para cada um, utilizando o ```ColumnTransformer``` do passo anterior."
   ]
  },
  {
   "cell_type": "code",
   "execution_count": 10,
   "metadata": {
    "id": "T2XWSFSFVphO"
   },
   "outputs": [],
   "source": [
    "model_reglog = Pipeline(steps=[('pre_processor', pre_processor), \n",
    "                               ('model', LogisticRegression(max_iter=5000, \n",
    "                                                            random_state=123))])\n",
    "# pipeline para SVM\n",
    "model_svm = Pipeline(steps=[('pre_processor', pre_processor), \n",
    "                               ('model', SVC(kernel='rbf', probability=True))])\n",
    "# pipeline para KNN"
   ]
  },
  {
   "cell_type": "markdown",
   "metadata": {
    "id": "PqeFpfUYVphO"
   },
   "source": [
    "Vamos rodar todos os modelos e checar a performance com alguma métrica a sua escolha. Dica, crie uma lista de modelos e rode um for loop."
   ]
  },
  {
   "cell_type": "code",
   "execution_count": 11,
   "metadata": {
    "colab": {
     "base_uri": "https://localhost:8080/"
    },
    "id": "kN1lzxFsVphP",
    "outputId": "de371917-c475-4eda-f75f-5d485d27f69e"
   },
   "outputs": [
    {
     "name": "stdout",
     "output_type": "stream",
     "text": [
      "LogisticRegression \n",
      "\n",
      "log_loss treino: 0.3133204901958391\n",
      "log_loss teste: 0.3211824543598783\n",
      "----------------------------------------------------------------------------------------------------\n",
      "SVC \n",
      "\n",
      "log_loss treino: 0.23463365734356767\n",
      "log_loss teste: 0.2983980374844398\n",
      "----------------------------------------------------------------------------------------------------\n"
     ]
    }
   ],
   "source": [
    "classifiers = [model_reglog, model_svm]\n",
    "\n",
    "for classifier in classifiers:\n",
    "    classifier.fit(X_train, y_train)\n",
    "    print(type(classifier['model']).__name__,'\\n')\n",
    "    print(f'log_loss treino: {log_loss(y_train, classifier.predict_proba(X_train)[:,1])}')\n",
    "    print(f'log_loss teste: {log_loss(y_test, classifier.predict_proba(X_test)[:,1])}')\n",
    "    print(100*'-')"
   ]
  },
  {
   "cell_type": "markdown",
   "metadata": {
    "id": "t2z3Cl5aVphP"
   },
   "source": [
    "# Avaliação do Threshold"
   ]
  },
  {
   "cell_type": "markdown",
   "metadata": {
    "id": "lH82bjpWVphQ"
   },
   "source": [
    "Treine o modelo campeão."
   ]
  },
  {
   "cell_type": "code",
   "execution_count": null,
   "metadata": {
    "id": "4VQkyeNNVphQ"
   },
   "outputs": [],
   "source": [
    "#digite seu código aqui"
   ]
  },
  {
   "cell_type": "markdown",
   "metadata": {
    "id": "KAf_KTnAVphQ"
   },
   "source": [
    "Avalie as métricas em relação ao threshold escolhido."
   ]
  },
  {
   "cell_type": "code",
   "execution_count": null,
   "metadata": {
    "id": "NiZNWbP6VphQ"
   },
   "outputs": [],
   "source": [
    "#digite seu código aqui"
   ]
  },
  {
   "cell_type": "code",
   "execution_count": null,
   "metadata": {
    "id": "41FP-E-rVphT"
   },
   "outputs": [],
   "source": []
  },
  {
   "cell_type": "markdown",
   "metadata": {
    "id": "blfRo0dJVphU"
   },
   "source": [
    "Podemos ver esse problema de uma outra forma. E se em vez de responder a esse tipo de pergunta, quiséssemos escolher o threshold que permitisse que a empresa lucrasse mais?"
   ]
  },
  {
   "cell_type": "markdown",
   "metadata": {
    "id": "CZJP8nY5VphU"
   },
   "source": [
    "Crie uma função de custo personalizada para o problema, levando em conta falsos positivos, falsos negativos, verdadeiros positivos e verdadeiros negativos e escolha o threshold que maximiza ou minimiza essa função (dependendo do problema). Qual o impacto financeiro de um Falso Positivo? E de um Falso Negativo? E de um Verdadeiro Positivo? E de um Verdadeiro Negativo?"
   ]
  },
  {
   "cell_type": "markdown",
   "metadata": {
    "id": "5a8XF42YVphU"
   },
   "source": [
    "Para esse exercício, precisamos definir os custos e receita de cada componente da matriz de confusão."
   ]
  },
  {
   "cell_type": "markdown",
   "metadata": {
    "id": "Qid7jJOJVphU"
   },
   "source": [
    "**Verdadeiro Positivo:** O verdadeiro positivo é o cara que iria desativar o produto e foi identificado corretamente pelo modelo. Esse cara gasta em média R$ 150 por mês com o produto da empresa e tem uma probabilidade de 15 por cento de ser retido, caso liguem para ele. \n",
    "\n",
    " "
   ]
  },
  {
   "cell_type": "markdown",
   "metadata": {
    "id": "CVLGABUvVphU"
   },
   "source": [
    "Dessa forma podemos criar uma expressão que traz em média o \"custo\" de um Verdadeiro Positivo. Lembrando que a ligação também tem um custo, que vamos admitir que seja de R$ 10,00. Dessa forma, a expressão para o Verdadeiro positivo fica:    \n",
    "     VP = 0.15*150 - 10\n",
    "\n"
   ]
  },
  {
   "cell_type": "markdown",
   "metadata": {
    "id": "y1QXZ1cCVphV"
   },
   "source": [
    "**Falso Positivo**: O falso positivo insere o custo da ligação. Dessa forma  a expressão fica:\n",
    "FP = 150 - 10"
   ]
  },
  {
   "cell_type": "markdown",
   "metadata": {
    "id": "T4ZOWNwOVphV"
   },
   "source": [
    "**Verdadeiro Negativo**: O verdadeiro negativo traz lucro para a empresa, pois consome em média 150 reais.<br>\n",
    "VN = 150"
   ]
  },
  {
   "cell_type": "markdown",
   "metadata": {
    "id": "enJAgrYtVphW"
   },
   "source": [
    "**Falso Negativo**: Por fim, o Falso Negativo é o cara que simplesmente deixa o produto e não transaciona mais, vamos admitir que é uma perda para a empresa. Como cada cliente transaciona em média 150 reais, a empresa terá uma perda equivalente.\n",
    "<br>\n",
    "FN = -150"
   ]
  },
  {
   "cell_type": "code",
   "execution_count": null,
   "metadata": {
    "id": "bmWv9nhIVphW"
   },
   "outputs": [],
   "source": [
    "#digite seu código aqui"
   ]
  }
 ],
 "metadata": {
  "colab": {
   "name": "Classificação II - Prática Independente - Resolvido",
   "provenance": [],
   "toc_visible": true
  },
  "kernelspec": {
   "display_name": "Python 3 (ipykernel)",
   "language": "python",
   "name": "python3"
  },
  "language_info": {
   "codemirror_mode": {
    "name": "ipython",
    "version": 3
   },
   "file_extension": ".py",
   "mimetype": "text/x-python",
   "name": "python",
   "nbconvert_exporter": "python",
   "pygments_lexer": "ipython3",
   "version": "3.9.7"
  },
  "toc": {
   "base_numbering": 1,
   "nav_menu": {},
   "number_sections": true,
   "sideBar": true,
   "skip_h1_title": false,
   "title_cell": "Table of Contents",
   "title_sidebar": "Contents",
   "toc_cell": false,
   "toc_position": {},
   "toc_section_display": true,
   "toc_window_display": true
  },
  "varInspector": {
   "cols": {
    "lenName": 16,
    "lenType": 16,
    "lenVar": 40
   },
   "kernels_config": {
    "python": {
     "delete_cmd_postfix": "",
     "delete_cmd_prefix": "del ",
     "library": "var_list.py",
     "varRefreshCmd": "print(var_dic_list())"
    },
    "r": {
     "delete_cmd_postfix": ") ",
     "delete_cmd_prefix": "rm(",
     "library": "var_list.r",
     "varRefreshCmd": "cat(var_dic_list()) "
    }
   },
   "types_to_exclude": [
    "module",
    "function",
    "builtin_function_or_method",
    "instance",
    "_Feature"
   ],
   "window_display": false
  }
 },
 "nbformat": 4,
 "nbformat_minor": 1
}
