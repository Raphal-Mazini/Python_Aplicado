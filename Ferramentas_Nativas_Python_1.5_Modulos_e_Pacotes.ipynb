{
 "cells": [
  {
   "cell_type": "code",
   "execution_count": 4,
   "metadata": {},
   "outputs": [],
   "source": [
    "from uteis import fatorial"
   ]
  },
  {
   "cell_type": "code",
   "execution_count": 5,
   "metadata": {},
   "outputs": [
    {
     "name": "stdout",
     "output_type": "stream",
     "text": [
      "O Fatorial de 5 é 120\n"
     ]
    }
   ],
   "source": [
    "from uteis import fatorial\n",
    "    \n",
    "\n",
    "num = int(input('Digite >> '))\n",
    "fat = fatorial(num)\n",
    "print(f'O Fatorial de {num} é {fat}')    "
   ]
  },
  {
   "cell_type": "code",
   "execution_count": 6,
   "metadata": {},
   "outputs": [
    {
     "name": "stdout",
     "output_type": "stream",
     "text": [
      "O Dobro de 5 é 10\n"
     ]
    }
   ],
   "source": [
    "from uteis import dobro\n",
    "\n",
    "num1 = int(input('Digite >> '))\n",
    "fat1 = dobro(num1)\n",
    "print(f'O Dobro de {num1} é {fat1}')    "
   ]
  },
  {
   "cell_type": "code",
   "execution_count": 7,
   "metadata": {},
   "outputs": [
    {
     "name": "stdout",
     "output_type": "stream",
     "text": [
      "O Triplo de 5 é 15\n"
     ]
    }
   ],
   "source": [
    "from uteis import triplo\n",
    "\n",
    "num2 = int(input('digite Nº >> '))\n",
    "fat2 = triplo(num2)\n",
    "print(f'O Triplo de {num2} é {fat2}')"
   ]
  },
  {
   "cell_type": "code",
   "execution_count": 32,
   "metadata": {},
   "outputs": [
    {
     "name": "stdout",
     "output_type": "stream",
     "text": [
      "O Preço R$ 1200.00 tem sua metade o valor de R$ 600.00\n",
      "O Preço R$ 1200.00 tem o seu dobro o valor de R$ 2400.00\n",
      "O Preço R$ 1200.00 acrescentando a taxa de 10.0 % o preço será de R$ 1320.00\n",
      "O Preço R$ 1200.00 descontando a taxa de 10.0 % o preço será de R$ 1080.00\n"
     ]
    }
   ],
   "source": [
    "import moeda as mo\n",
    "import uteis \n",
    "\n",
    "valor = float(input('Insira o Preço >>> R$ '))\n",
    "print(f'O Preço R$ {valor:.2f} tem sua metade o valor de R$ {mo.metade(valor):.2f}')\n",
    "print(f'O Preço R$ {valor:.2f} tem o seu dobro o valor de R$ {uteis.dobro(valor):.2f}')\n",
    "p = float(input('Insira a Taxa >>> '))\n",
    "print(f'O Preço R$ {valor:.2f} acrescentando a taxa de {p} % o preço será de R$ {mo.aumentar(valor, p)[0]:.2f}')\n",
    "print(f'O Preço R$ {valor:.2f} descontando a taxa de {p} % o preço será de R$ {mo.diminuir(valor, p)[0]:.2f}')"
   ]
  },
  {
   "cell_type": "code",
   "execution_count": 36,
   "metadata": {},
   "outputs": [
    {
     "name": "stdout",
     "output_type": "stream",
     "text": [
      "Help on module moeda:\n",
      "\n",
      "NAME\n",
      "    moeda\n",
      "\n",
      "FUNCTIONS\n",
      "    aumentar(preco=0, taxa=0, formato=False)\n",
      "    \n",
      "    diminuir(preco=0, taxa=0, formato=False)\n",
      "    \n",
      "    dobro(n=0, formato=False)\n",
      "    \n",
      "    metade(preco=0, formato=False)\n",
      "    \n",
      "    moeda(preco=0, moeda='R$')\n",
      "    \n",
      "    triplo(n=0, formato=False)\n",
      "\n",
      "FILE\n",
      "    c:\\users\\samsung\\documents\\moeda.py\n",
      "\n",
      "\n"
     ]
    }
   ],
   "source": [
    "import moeda \n",
    "help(moeda)"
   ]
  },
  {
   "cell_type": "code",
   "execution_count": 44,
   "metadata": {},
   "outputs": [
    {
     "name": "stdout",
     "output_type": "stream",
     "text": [
      "Aumentar (1320.0, 120.0)\n",
      "Diminuir (1080.0, 'R$1080,00')\n",
      "Dobro R$2400,00\n",
      "Meatade R$600,00\n",
      "Triplo 3600.0\n"
     ]
    }
   ],
   "source": [
    "import moeda as mo\n",
    "\n",
    "valor = float(input('Insira o Preço >>> R$ '))\n",
    "p = float(input('Insira a Taxa >>> '))\n",
    "print(f'Aumentar {mo.aumentar(preco=valor, taxa=p, formato=False)}')\n",
    "print(f'Diminuir {mo.diminuir(preco=valor, taxa=p, formato=True)}')\n",
    "print(f'Dobro {mo.dobro(n=valor, formato=True)}')\n",
    "print(f'Meatade {mo.metade(preco=valor, formato=True)}')\n",
    "print(f'Triplo {mo.triplo(n=valor, formato=False)}')\n"
   ]
  }
 ],
 "metadata": {
  "kernelspec": {
   "display_name": "Python 3",
   "language": "python",
   "name": "python3"
  },
  "language_info": {
   "codemirror_mode": {
    "name": "ipython",
    "version": 3
   },
   "file_extension": ".py",
   "mimetype": "text/x-python",
   "name": "python",
   "nbconvert_exporter": "python",
   "pygments_lexer": "ipython3",
   "version": "3.10.2"
  },
  "orig_nbformat": 4
 },
 "nbformat": 4,
 "nbformat_minor": 2
}
