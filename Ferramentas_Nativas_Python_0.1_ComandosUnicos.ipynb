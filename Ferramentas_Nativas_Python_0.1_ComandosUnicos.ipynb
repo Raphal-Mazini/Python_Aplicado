{
 "cells": [
  {
   "cell_type": "markdown",
   "id": "9414e20c",
   "metadata": {},
   "source": [
    "# Resumo Ferramentas Nativas do Python\n",
    "\n",
    "## Principais Funções e Comandos nativas do python"
   ]
  },
  {
   "cell_type": "markdown",
   "id": "f60233e8",
   "metadata": {},
   "source": [
    "## ``capitalize()``\n",
    "\n",
    "Função ``capitalize()`` retorna uma cópia da string com a primeira palavra iniciando em maiúscula, e as demais letras minúsculas."
   ]
  },
  {
   "cell_type": "code",
   "execution_count": 78,
   "id": "26041547",
   "metadata": {},
   "outputs": [
    {
     "data": {
      "text/plain": [
       "'Teste para exemplo'"
      ]
     },
     "execution_count": 78,
     "metadata": {},
     "output_type": "execute_result"
    }
   ],
   "source": [
    "frase = 'teste para exemplo'\n",
    "frase.capitalize()"
   ]
  },
  {
   "cell_type": "markdown",
   "id": "d73a1144",
   "metadata": {},
   "source": [
    "## ``title()``\n",
    "Função ``title()`` faz com que as strings passem a ter a primeira letra maiúscula"
   ]
  },
  {
   "cell_type": "code",
   "execution_count": 79,
   "id": "a8fdf914",
   "metadata": {},
   "outputs": [
    {
     "data": {
      "text/plain": [
       "'Teste Para Exemplo'"
      ]
     },
     "execution_count": 79,
     "metadata": {},
     "output_type": "execute_result"
    }
   ],
   "source": [
    "frase = 'teste para exemplo'\n",
    "frase.title()"
   ]
  },
  {
   "cell_type": "markdown",
   "id": "40624495",
   "metadata": {},
   "source": [
    "### Buscar elemtos por meio do índice "
   ]
  },
  {
   "cell_type": "code",
   "execution_count": 10,
   "id": "0f7406d0",
   "metadata": {},
   "outputs": [
    {
     "name": "stdout",
     "output_type": "stream",
     "text": [
      "Teste para exemplo\n",
      "Teste pa\n",
      "ste para\n",
      "Ttpaxp\n"
     ]
    }
   ],
   "source": [
    "# String\n",
    "frase = 'Teste para exemplo'\n",
    "print(frase)\n",
    "print(frase[:8])\n",
    "print(frase[2:10])\n",
    "print(frase[::3])"
   ]
  },
  {
   "cell_type": "code",
   "execution_count": 11,
   "id": "c6f09f68",
   "metadata": {},
   "outputs": [
    {
     "name": "stdout",
     "output_type": "stream",
     "text": [
      "[1, 2, 3, 4, 5, 6, 7, 8, 9, 10]\n",
      "[1, 2, 3, 4, 5, 6, 7, 8]\n",
      "[3, 4, 5, 6, 7, 8, 9, 10]\n",
      "[1, 4, 7, 10]\n"
     ]
    }
   ],
   "source": [
    "numeros = [1,2,3,4,5,6,7,8,9,10]\n",
    "\n",
    "print(numeros)\n",
    "print(numeros[:8])\n",
    "print(numeros[2:10])\n",
    "print(numeros[::3])"
   ]
  },
  {
   "cell_type": "markdown",
   "id": "afd89b31",
   "metadata": {},
   "source": [
    "### ``Range()``"
   ]
  },
  {
   "cell_type": "markdown",
   "id": "4e53505a",
   "metadata": {},
   "source": [
    "A função ``range()`` transforma em objeto iteravel, uma seguencia de numeros não aleatorios, e que permite especificar o inicio de uma sequência, o passo (ou pulo) e valor final. Com isso, o Python nos retorna uma sequência de números para que possamos iterar!\n",
    "\n",
    "``range()`` retorna um conjunto de números sequenciais. Ela contém os parâmetros __start, stop__ e __step__, que permitem configurar o retorno do intervalo de diferentes maneiras, como valores múltiplos de um determinado número e até intervalos com números negativos e positivos."
   ]
  },
  {
   "cell_type": "code",
   "execution_count": 17,
   "id": "2986df50",
   "metadata": {},
   "outputs": [
    {
     "data": {
      "text/plain": [
       "[0, 1, 2, 3, 4, 5, 6, 7, 8, 9, 10, 11, 12, 13, 14, 15, 16, 17, 18, 19]"
      ]
     },
     "execution_count": 17,
     "metadata": {},
     "output_type": "execute_result"
    }
   ],
   "source": [
    "d = range(20)\n",
    "list(d)"
   ]
  },
  {
   "cell_type": "code",
   "execution_count": 18,
   "id": "1add5786",
   "metadata": {},
   "outputs": [
    {
     "data": {
      "text/plain": [
       "[0, 1, 2, 3, 4, 5, 6, 7, 8, 9, 10, 11, 12, 13, 14, 15, 16, 17, 18, 19]"
      ]
     },
     "execution_count": 18,
     "metadata": {},
     "output_type": "execute_result"
    }
   ],
   "source": [
    "D = range(0,20)\n",
    "list(D)"
   ]
  },
  {
   "cell_type": "code",
   "execution_count": 19,
   "id": "f7e83056",
   "metadata": {},
   "outputs": [
    {
     "data": {
      "text/plain": [
       "[0, 2, 4, 6, 8, 10, 12, 14, 16, 18]"
      ]
     },
     "execution_count": 19,
     "metadata": {},
     "output_type": "execute_result"
    }
   ],
   "source": [
    "Dd = range(0,20,2)\n",
    "list(Dd)"
   ]
  },
  {
   "cell_type": "markdown",
   "id": "7affdb4a",
   "metadata": {},
   "source": [
    "## ``abs()``"
   ]
  },
  {
   "cell_type": "markdown",
   "id": "9c7bdcbb",
   "metadata": {},
   "source": [
    "A função ``abs()`` na linguagem Python retorna o valor absoluto de um número. Valor absoluto nada mais é do que a distância entre um número e 0 na reta numérica."
   ]
  },
  {
   "cell_type": "code",
   "execution_count": 21,
   "id": "db82ddd4",
   "metadata": {},
   "outputs": [
    {
     "name": "stdout",
     "output_type": "stream",
     "text": [
      "-10\n"
     ]
    }
   ],
   "source": [
    "print(10-20)"
   ]
  },
  {
   "cell_type": "code",
   "execution_count": 22,
   "id": "6fb11c4a",
   "metadata": {},
   "outputs": [
    {
     "name": "stdout",
     "output_type": "stream",
     "text": [
      "10\n"
     ]
    }
   ],
   "source": [
    "print(abs(10-20))"
   ]
  },
  {
   "cell_type": "markdown",
   "id": "3f21a829",
   "metadata": {},
   "source": [
    "## ``Len ()``\n",
    "\n",
    "``Len ()`` é uma função integrada ao Python que é utilizada para obter o número de itens em um determinado objeto, string, array, listas, entre outros. É um método bastante utilizado no desenvolvimento de programas."
   ]
  },
  {
   "cell_type": "code",
   "execution_count": 12,
   "id": "b0226e2d",
   "metadata": {},
   "outputs": [
    {
     "data": {
      "text/plain": [
       "18"
      ]
     },
     "execution_count": 12,
     "metadata": {},
     "output_type": "execute_result"
    }
   ],
   "source": [
    "frase = 'Teste para exemplo'\n",
    "len(frase)"
   ]
  },
  {
   "cell_type": "markdown",
   "id": "253bae6a",
   "metadata": {},
   "source": [
    "##  ``find ()``\n",
    "\n",
    "``find ()`` pega um caractere e encontra (finds) em qual índice aquele caractere aparece. Se o caractere não é encontrado, a função retorna -1 ."
   ]
  },
  {
   "cell_type": "code",
   "execution_count": 20,
   "id": "ed3b2091",
   "metadata": {},
   "outputs": [
    {
     "name": "stdout",
     "output_type": "stream",
     "text": [
      "6\n",
      "p\n"
     ]
    }
   ],
   "source": [
    "frase = 'Teste para exemplo'\n",
    "print(frase.find('p'))\n",
    "print(frase[6])"
   ]
  },
  {
   "cell_type": "code",
   "execution_count": 21,
   "id": "70aa24a3",
   "metadata": {},
   "outputs": [
    {
     "data": {
      "text/plain": [
       "True"
      ]
     },
     "execution_count": 21,
     "metadata": {},
     "output_type": "execute_result"
    }
   ],
   "source": [
    "'Teste' in frase"
   ]
  },
  {
   "cell_type": "markdown",
   "id": "bdf4c86a",
   "metadata": {},
   "source": [
    "## ``replace()``\n",
    "\n",
    "A função ``replace()`` substitui uma parte do texto por uma outra String. A palavra replace(), do Inglês, siginifca substituir e é isso que a função replace() da classe String do Python faz. "
   ]
  },
  {
   "cell_type": "code",
   "execution_count": 109,
   "id": "589aec71",
   "metadata": {},
   "outputs": [
    {
     "name": "stdout",
     "output_type": "stream",
     "text": [
      "Modelo para exemplo\n"
     ]
    }
   ],
   "source": [
    "frase = frase.replace('Teste', 'Modelo')\n",
    "print(frase)"
   ]
  },
  {
   "cell_type": "markdown",
   "id": "549f63d4",
   "metadata": {},
   "source": [
    "## ``UPPER( )``\n",
    "A função ``UPPER( )`` converte todos os caracteres alfabéticos na cadeia em letras maiúsculas. Todos os caracteres não alfabéticos permanecem inalterados."
   ]
  },
  {
   "cell_type": "code",
   "execution_count": 56,
   "id": "38b69378",
   "metadata": {},
   "outputs": [
    {
     "name": "stdout",
     "output_type": "stream",
     "text": [
      "Teste para exemplo\n",
      "TESTE PARA EXEMPLO\n"
     ]
    }
   ],
   "source": [
    "print(frase)\n",
    "print(frase.upper())"
   ]
  },
  {
   "cell_type": "markdown",
   "id": "cd82cd31",
   "metadata": {},
   "source": [
    "## ``lower()``\n",
    "\n",
    "função ``lower()`` converte todos os caracteres da string em minúsculas."
   ]
  },
  {
   "cell_type": "code",
   "execution_count": 57,
   "id": "ab90f926",
   "metadata": {},
   "outputs": [
    {
     "name": "stdout",
     "output_type": "stream",
     "text": [
      "Teste para exemplo\n",
      "teste para exemplo\n"
     ]
    }
   ],
   "source": [
    "print(frase)\n",
    "print(frase.lower())"
   ]
  },
  {
   "cell_type": "markdown",
   "id": "672f7917",
   "metadata": {},
   "source": [
    "## ``strip()``\n",
    "\n",
    "A função ``strip()`` serve para remover os espaços em branco no início e no final de uma string, retornando uma cópia formatada da string sem os espaços em branco do ínicio e final, os excedentes"
   ]
  },
  {
   "cell_type": "code",
   "execution_count": 94,
   "id": "77864dca",
   "metadata": {},
   "outputs": [
    {
     "name": "stdout",
     "output_type": "stream",
     "text": [
      "         Teste para Exemplo   \n",
      "30 \n",
      "\n",
      "Teste para Exemplo\n",
      "18\n"
     ]
    }
   ],
   "source": [
    "frase = '         Teste para Exemplo   '\n",
    "print(frase)\n",
    "print(len(frase),'\\n')\n",
    "print(frase.strip())\n",
    "print(len(frase.strip()))"
   ]
  },
  {
   "cell_type": "markdown",
   "id": "b1e7e1c9",
   "metadata": {},
   "source": [
    "## ``rstrip()``\n",
    "\n",
    "O ``rstrip()`` remove todos os caracteres finais (caracteres no final de uma string), o espaço é o caractere final padrão a ser removido."
   ]
  },
  {
   "cell_type": "code",
   "execution_count": 95,
   "id": "b8236ecf",
   "metadata": {},
   "outputs": [
    {
     "name": "stdout",
     "output_type": "stream",
     "text": [
      "         Teste para Exemplo   \n",
      "30 \n",
      "\n",
      "         Teste para Exemplo\n",
      "27\n"
     ]
    }
   ],
   "source": [
    "frase = '         Teste para Exemplo   '\n",
    "print(frase)\n",
    "print(len(frase),'\\n')\n",
    "print(frase.rstrip())\n",
    "print(len(frase.rstrip()))"
   ]
  },
  {
   "cell_type": "markdown",
   "id": "b8c5f9d2",
   "metadata": {},
   "source": [
    "## ``lstrip()``\n",
    "\n",
    "O ``lstrip()`` remove todos os caracteres iniciais (o espaço é o caractere inicial padrão a ser removido)"
   ]
  },
  {
   "cell_type": "code",
   "execution_count": 96,
   "id": "0cd25208",
   "metadata": {},
   "outputs": [
    {
     "name": "stdout",
     "output_type": "stream",
     "text": [
      "         Teste para Exemplo   \n",
      "30 \n",
      "\n",
      "Teste para Exemplo   \n",
      "21\n"
     ]
    }
   ],
   "source": [
    "frase = '         Teste para Exemplo   '\n",
    "print(frase)\n",
    "print(len(frase),'\\n')\n",
    "print(frase.lstrip())\n",
    "print(len(frase.lstrip()))"
   ]
  },
  {
   "cell_type": "markdown",
   "id": "ea916a1a",
   "metadata": {},
   "source": [
    "## ``join()``\n",
    "\n",
    "Método ``join()`` vai unir cada string da lista, colocando uma vírgula, ou qualquer outro separador de interesse entre as strings, assim como  no exemplo abaixo"
   ]
  },
  {
   "cell_type": "code",
   "execution_count": 107,
   "id": "b216576c",
   "metadata": {},
   "outputs": [
    {
     "name": "stdout",
     "output_type": "stream",
     "text": [
      "Teste para exemplo \n",
      "\n",
      "['Teste', 'para', 'exemplo'] \n",
      "\n",
      "Teste para exemplo \n",
      "\n",
      "Teste-para-exemplo \n",
      "\n",
      "Teste_para_exemplo\n"
     ]
    }
   ],
   "source": [
    "frase = 'Teste para exemplo'\n",
    "print(frase,'\\n')\n",
    "frase0 = frase.split()\n",
    "print(frase0,'\\n')\n",
    "print(' '.join(frase0),'\\n')\n",
    "print('-'.join(frase0),'\\n')\n",
    "print('_'.join(frase0))"
   ]
  },
  {
   "cell_type": "markdown",
   "id": "c9034af8",
   "metadata": {},
   "source": [
    "## ``split()``\n",
    "\n",
    "A função ``split()`` funciona passando para ele um texto e um separador, e ele retorna para você um array, com o texto desse separador dividido em cada posição."
   ]
  },
  {
   "cell_type": "code",
   "execution_count": 99,
   "id": "5ea4c202",
   "metadata": {},
   "outputs": [
    {
     "name": "stdout",
     "output_type": "stream",
     "text": [
      "Teste para exemplo\n"
     ]
    },
    {
     "data": {
      "text/plain": [
       "['Teste', 'para', 'exemplo']"
      ]
     },
     "execution_count": 99,
     "metadata": {},
     "output_type": "execute_result"
    }
   ],
   "source": [
    "frase = 'Teste para exemplo'\n",
    "print(frase)\n",
    "frase.split()"
   ]
  },
  {
   "cell_type": "markdown",
   "id": "0b5d5ee5",
   "metadata": {},
   "source": [
    "## ``splice()``\n",
    "\n",
    "O método ``splice()`` altera o conteúdo de uma lista, adicionando novos elementos enquanto remove elementos antigos"
   ]
  },
  {
   "cell_type": "code",
   "execution_count": null,
   "id": "92096622",
   "metadata": {},
   "outputs": [],
   "source": []
  },
  {
   "cell_type": "markdown",
   "id": "949069f0",
   "metadata": {},
   "source": [
    "## ``slices()``\n",
    "\n",
    "``slices()`` em Python suportam uma operação conhecida como slicing, que consiste em obter uma sub-lista contendo os elementos de uma posição inicial até uma posição final de uma lista."
   ]
  },
  {
   "cell_type": "code",
   "execution_count": null,
   "id": "38daf593",
   "metadata": {},
   "outputs": [],
   "source": []
  }
 ],
 "metadata": {
  "kernelspec": {
   "display_name": "Python 3 (ipykernel)",
   "language": "python",
   "name": "python3"
  },
  "language_info": {
   "codemirror_mode": {
    "name": "ipython",
    "version": 3
   },
   "file_extension": ".py",
   "mimetype": "text/x-python",
   "name": "python",
   "nbconvert_exporter": "python",
   "pygments_lexer": "ipython3",
   "version": "3.9.13"
  }
 },
 "nbformat": 4,
 "nbformat_minor": 5
}
