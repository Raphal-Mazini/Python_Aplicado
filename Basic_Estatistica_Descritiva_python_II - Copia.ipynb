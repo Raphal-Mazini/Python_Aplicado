{
 "cells": [
  {
   "cell_type": "markdown",
   "id": "0390dae0",
   "metadata": {},
   "source": [
    "# <center> Estatistica Descritiva Basica em Pytrhon </center>\n",
    "\n",
    "## Basic ToolBox - Estatistica Descritiva II"
   ]
  },
  {
   "cell_type": "code",
   "execution_count": 87,
   "id": "ce27ff2a",
   "metadata": {},
   "outputs": [],
   "source": [
    "import pandas as pd\n",
    "import numpy as np\n",
    "from scipy import stats\n",
    "import seaborn as sns\n",
    "import matplotlib.pyplot as plt\n",
    "import math\n",
    "from collections import Counter\n",
    "from scipy.stats import bernoulli"
   ]
  },
  {
   "cell_type": "markdown",
   "id": "4ac05843",
   "metadata": {},
   "source": [
    "# Associação Entre Variáveis ``Quantitativas``\n",
    "\n",
    "\n",
    "## Correlação de  Pearson\n",
    "\n",
    "A segunda combinação possível é quando nos deparamos com ``duas variáveis quantitativas``, sejam elas **discretas** ou **contínuas**. Nesse sentido, há um ganho de métodos e visualizações em relação as associações entre variaveis qualitativas.\n",
    "\n",
    "O ``Coeficiente de correlação de Pearson`` é uma **medida adimensional** que pode assumir valores no intervalo **entre -1 e +1**. O coeficiente **mede a intensidade** e a **direção** de relações lineares. A intensidade diz respeito ao`` grau de relacionamento`` entre duas variáveis.\n",
    "\n",
    "A ``correlação de Pearson`` **mede** como **duas variáveis quantitativas** estão relacionadas de maneira linear, ou seja, se elas **aumentam** ou **diminuem** juntas.\n",
    "\n",
    "O ``coeficiente de correlação de Pearson``, também chamado de **coeficiente de correlação produto-momento** ou simplesmente de ``ρ de Pearson`` mede o **grau da correlação** entre **duas variáveis de escala métrica**. Este coeficiente, normalmente representado por ``ρ`` assume apenas valores entre ``-1`` e ``1``.\n",
    "\n",
    "Uma das formas de **analisar visualmente a relações entre variáveis quantiativas** é por meio de ``gráficos de dispersão``. Vamos analisar a relação entre o **tempo de serviço** de agentes de uma companhia de seguros e seu **número de clientes**."
   ]
  },
  {
   "cell_type": "code",
   "execution_count": 88,
   "id": "2571ab25",
   "metadata": {},
   "outputs": [
    {
     "data": {
      "text/html": [
       "<div>\n",
       "<style scoped>\n",
       "    .dataframe tbody tr th:only-of-type {\n",
       "        vertical-align: middle;\n",
       "    }\n",
       "\n",
       "    .dataframe tbody tr th {\n",
       "        vertical-align: top;\n",
       "    }\n",
       "\n",
       "    .dataframe thead th {\n",
       "        text-align: right;\n",
       "    }\n",
       "</style>\n",
       "<table border=\"1\" class=\"dataframe\">\n",
       "  <thead>\n",
       "    <tr style=\"text-align: right;\">\n",
       "      <th></th>\n",
       "      <th>tempo_de_serviço</th>\n",
       "      <th>numero_de_clientes</th>\n",
       "    </tr>\n",
       "  </thead>\n",
       "  <tbody>\n",
       "    <tr>\n",
       "      <th>0</th>\n",
       "      <td>1</td>\n",
       "      <td>200</td>\n",
       "    </tr>\n",
       "    <tr>\n",
       "      <th>1</th>\n",
       "      <td>1</td>\n",
       "      <td>205</td>\n",
       "    </tr>\n",
       "    <tr>\n",
       "      <th>2</th>\n",
       "      <td>1</td>\n",
       "      <td>200</td>\n",
       "    </tr>\n",
       "    <tr>\n",
       "      <th>3</th>\n",
       "      <td>1</td>\n",
       "      <td>220</td>\n",
       "    </tr>\n",
       "    <tr>\n",
       "      <th>4</th>\n",
       "      <td>1</td>\n",
       "      <td>230</td>\n",
       "    </tr>\n",
       "  </tbody>\n",
       "</table>\n",
       "</div>"
      ],
      "text/plain": [
       "  tempo_de_serviço   numero_de_clientes\n",
       "0                1                  200\n",
       "1                1                  205\n",
       "2                1                  200\n",
       "3                1                  220\n",
       "4                1                  230"
      ]
     },
     "execution_count": 88,
     "metadata": {},
     "output_type": "execute_result"
    }
   ],
   "source": [
    "# Carregando DataFrame para Exemplificação\n",
    "df_anos_servicos_clientes = pd.read_csv('correlacao1.csv', sep = \";\")\n",
    "df_anos_servicos_clientes.head()"
   ]
  },
  {
   "cell_type": "code",
   "execution_count": 89,
   "id": "34fd001c",
   "metadata": {},
   "outputs": [
    {
     "data": {
      "image/png": "[encoded data removed]",
      "text/plain": [
       "<Figure size 640x480 with 1 Axes>"
      ]
     },
     "metadata": {},
     "output_type": "display_data"
    }
   ],
   "source": [
    "# Plotando um grafico de dispersão \"Tempo de Serviço\" vs \"Nº de Clientes\"\n",
    "sns.scatterplot(data=df_anos_servicos_clientes, x='tempo_de_serviço', y=' numero_de_clientes')\n",
    "plt.show()\n",
    "# Existe uma relação aparentemente \"forte e positiva\""
   ]
  },
  {
   "cell_type": "markdown",
   "id": "33f6516f",
   "metadata": {},
   "source": [
    "Parece haver alguma relação positiva entre o **tempo** e o **número de clientes**. Nesse caso, quanto maior o tempo de serviço, mais clientes os agentes possui."
   ]
  },
  {
   "cell_type": "code",
   "execution_count": 90,
   "id": "299014d7",
   "metadata": {},
   "outputs": [
    {
     "data": {
      "text/html": [
       "<div>\n",
       "<style scoped>\n",
       "    .dataframe tbody tr th:only-of-type {\n",
       "        vertical-align: middle;\n",
       "    }\n",
       "\n",
       "    .dataframe tbody tr th {\n",
       "        vertical-align: top;\n",
       "    }\n",
       "\n",
       "    .dataframe thead th {\n",
       "        text-align: right;\n",
       "    }\n",
       "</style>\n",
       "<table border=\"1\" class=\"dataframe\">\n",
       "  <thead>\n",
       "    <tr style=\"text-align: right;\">\n",
       "      <th></th>\n",
       "      <th>renda</th>\n",
       "      <th>gasto_saude</th>\n",
       "    </tr>\n",
       "  </thead>\n",
       "  <tbody>\n",
       "    <tr>\n",
       "      <th>0</th>\n",
       "      <td>2000</td>\n",
       "      <td>500</td>\n",
       "    </tr>\n",
       "    <tr>\n",
       "      <th>1</th>\n",
       "      <td>2000</td>\n",
       "      <td>470</td>\n",
       "    </tr>\n",
       "    <tr>\n",
       "      <th>2</th>\n",
       "      <td>2200</td>\n",
       "      <td>470</td>\n",
       "    </tr>\n",
       "    <tr>\n",
       "      <th>3</th>\n",
       "      <td>2800</td>\n",
       "      <td>450</td>\n",
       "    </tr>\n",
       "    <tr>\n",
       "      <th>4</th>\n",
       "      <td>3000</td>\n",
       "      <td>456</td>\n",
       "    </tr>\n",
       "  </tbody>\n",
       "</table>\n",
       "</div>"
      ],
      "text/plain": [
       "   renda  gasto_saude\n",
       "0   2000          500\n",
       "1   2000          470\n",
       "2   2200          470\n",
       "3   2800          450\n",
       "4   3000          456"
      ]
     },
     "execution_count": 90,
     "metadata": {},
     "output_type": "execute_result"
    }
   ],
   "source": [
    "# Carregando DataFrame para Exemplificação\n",
    "df_renda_saude = pd.read_csv('correlacao3.csv', sep = \";\")\n",
    "df_renda_saude.head()"
   ]
  },
  {
   "cell_type": "code",
   "execution_count": 91,
   "id": "6cd436d9",
   "metadata": {},
   "outputs": [
    {
     "data": {
      "image/png": "[encoded data removed]",
      "text/plain": [
       "<Figure size 640x480 with 1 Axes>"
      ]
     },
     "metadata": {},
     "output_type": "display_data"
    }
   ],
   "source": [
    "# Plotando um grafico de dispersão \"renda\" vs \"gasto_saude\"\n",
    "sns.scatterplot(data=df_renda_saude, x='renda', y='gasto_saude')\n",
    "plt.show()\n",
    "# Existe uma relação aparentemente \"forte e negativa\""
   ]
  },
  {
   "cell_type": "markdown",
   "id": "44555dbf",
   "metadata": {},
   "source": [
    "Nesse exemplo, podemos ver uma **relação inversa**, pois quanto maior a renda familiar (em salários mínimos), menor é a tendência de se gastar com assistência médica **(% da renda anual)**"
   ]
  },
  {
   "cell_type": "code",
   "execution_count": 92,
   "id": "fca4b69b",
   "metadata": {},
   "outputs": [
    {
     "data": {
      "text/html": [
       "<div>\n",
       "<style scoped>\n",
       "    .dataframe tbody tr th:only-of-type {\n",
       "        vertical-align: middle;\n",
       "    }\n",
       "\n",
       "    .dataframe tbody tr th {\n",
       "        vertical-align: top;\n",
       "    }\n",
       "\n",
       "    .dataframe thead th {\n",
       "        text-align: right;\n",
       "    }\n",
       "</style>\n",
       "<table border=\"1\" class=\"dataframe\">\n",
       "  <thead>\n",
       "    <tr style=\"text-align: right;\">\n",
       "      <th></th>\n",
       "      <th>resultado</th>\n",
       "      <th>tempo</th>\n",
       "    </tr>\n",
       "  </thead>\n",
       "  <tbody>\n",
       "    <tr>\n",
       "      <th>0</th>\n",
       "      <td>134,4548774</td>\n",
       "      <td>2700</td>\n",
       "    </tr>\n",
       "    <tr>\n",
       "      <th>1</th>\n",
       "      <td>500,6073562</td>\n",
       "      <td>2800</td>\n",
       "    </tr>\n",
       "    <tr>\n",
       "      <th>2</th>\n",
       "      <td>450,2982568</td>\n",
       "      <td>4600</td>\n",
       "    </tr>\n",
       "    <tr>\n",
       "      <th>3</th>\n",
       "      <td>561,7147389</td>\n",
       "      <td>4100</td>\n",
       "    </tr>\n",
       "    <tr>\n",
       "      <th>4</th>\n",
       "      <td>238,6563412</td>\n",
       "      <td>2600</td>\n",
       "    </tr>\n",
       "  </tbody>\n",
       "</table>\n",
       "</div>"
      ],
      "text/plain": [
       "     resultado  tempo\n",
       "0  134,4548774   2700\n",
       "1  500,6073562   2800\n",
       "2  450,2982568   4600\n",
       "3  561,7147389   4100\n",
       "4  238,6563412   2600"
      ]
     },
     "execution_count": 92,
     "metadata": {},
     "output_type": "execute_result"
    }
   ],
   "source": [
    "# Carregando DataFrame para Exemplificação\n",
    "df_resultado_tempo = pd.read_csv('correlacao2.csv', sep = ';')\n",
    "df_resultado_tempo.head()"
   ]
  },
  {
   "cell_type": "code",
   "execution_count": 93,
   "id": "0b3ae2f2",
   "metadata": {},
   "outputs": [
    {
     "data": {
      "image/png": "[encoded data removed]",
      "text/plain": [
       "<Figure size 640x480 with 1 Axes>"
      ]
     },
     "metadata": {},
     "output_type": "display_data"
    }
   ],
   "source": [
    "# Plotando um grafico de dispersão \"resultado\" vs \"tempo\"\n",
    "sns.scatterplot(data=df_resultado_tempo, x=\"resultado\", y='tempo')\n",
    "plt.show()\n",
    "# Não Existe uma Relação Aparentemente entre as Variaveis"
   ]
  },
  {
   "cell_type": "markdown",
   "id": "1f73a37f",
   "metadata": {},
   "source": [
    "Note que, **contrariamente aos outros dois gráficos**, parece **não haver relação** muito clara entre as variáveis, isto é, conhecer o resultado do teste de língua estrangeira não nos traz muita informação sobre o tempo que cada operador leverá para operar a máquina.\n",
    "\n",
    "Nesse tipo de situação, existe **pouca ou nenhuma associação**. Mas mesmo que ``qualitativamente`` tenhamos identificado alguns padrões, não dá para saber, por exemplo, qual associação é mais forte ou fraca.\n",
    "\n",
    "Para isso, vamos investigar uma estatística que nos ajudará a quantificar essas relações: **A correlação**.\n",
    "\n",
    "Existem muitos tipos de associação, inicialmente vamos focar em entender a mais simples delas, que é a linear. Isto é, iremos definir uma medida que avalia o quanto a nuvem de pontos que estamos observando se aproximam de uma reta. Como propriedade importante, a ``correlação linear`` sempre estará dentro de um intervalo de ``-1 a 1``."
   ]
  },
  {
   "cell_type": "code",
   "execution_count": 94,
   "id": "33cd1e77",
   "metadata": {},
   "outputs": [],
   "source": [
    "# criando nuvens de pontos para exemplificação\n",
    "x = np.linspace(-1,1,100)\n",
    "y1 = 2*x + np.random.normal(0, 1,len(x))\n",
    "y2 = -2*x + np.random.normal(0, 1,len(x))\n",
    "y3 = np.random.normal(0, 1,len(x))"
   ]
  },
  {
   "cell_type": "code",
   "execution_count": 95,
   "id": "ce29f3ca",
   "metadata": {},
   "outputs": [
    {
     "data": {
      "image/png": "[encoded data removed]",
      "text/plain": [
       "<Figure size 640x480 with 1 Axes>"
      ]
     },
     "metadata": {},
     "output_type": "display_data"
    }
   ],
   "source": [
    "# Plotando um grafico de dispersão\n",
    "plt.scatter(x,y1)\n",
    "plt.title('Figura (a)')\n",
    "plt.axhline(0)\n",
    "plt.axvline(0)\n",
    "plt.show()\n",
    "# Correlação Media e Positiva"
   ]
  },
  {
   "cell_type": "code",
   "execution_count": 96,
   "id": "b1972836",
   "metadata": {},
   "outputs": [
    {
     "data": {
      "image/png": "[encoded data removed]",
      "text/plain": [
       "<Figure size 640x480 with 1 Axes>"
      ]
     },
     "metadata": {},
     "output_type": "display_data"
    }
   ],
   "source": [
    "# Plotando um grafico de dispersão \n",
    "plt.scatter(x,y2)\n",
    "plt.title('Figura (b)')\n",
    "plt.axhline(0)\n",
    "plt.axvline(0)\n",
    "plt.show()\n",
    "# Correlação Media e Negativa"
   ]
  },
  {
   "cell_type": "code",
   "execution_count": 97,
   "id": "a5fda154",
   "metadata": {},
   "outputs": [
    {
     "data": {
      "image/png": "[encoded data removed]",
      "text/plain": [
       "<Figure size 640x480 with 1 Axes>"
      ]
     },
     "metadata": {},
     "output_type": "display_data"
    }
   ],
   "source": [
    "# Plotando um grafico de dispersão \n",
    "plt.scatter(x,y3)\n",
    "plt.title('Figura (c)')\n",
    "plt.axhline(0)\n",
    "plt.axvline(0)\n",
    "plt.show()\n",
    "# Não existe correlçao"
   ]
  },
  {
   "cell_type": "markdown",
   "id": "de191bba",
   "metadata": {},
   "source": [
    "Na ``figura (a)``, vemos uma **associação linear** (se aproxima de uma reta) e **positiva**. Note que a maioria dos pontos estão localizados nos **quadrantes 1 e 3**. \n",
    "\n",
    "Nesses **quadrantes**, as ``coordenadas (x,y)`` dos pontos possuem o mesmo sinal e, portanto, o produto entre elas é sempre **positivo**. Se somássemos o produto de todos as coordenadas de todos os pontos, a soma seria positiva, por haver mais pontos localizados nessas regiões.\n",
    "\n",
    "De maneira análoga, na ``figura (b)`` temos o **inverso da Figura (a)**, mais pontos nos **quadrantes 2 e 4**. Neles, as coordenadas dos pontos possuem sinais distinto e, dessa forma, os produtos resultarão em um **número negativo**. Nesse caso, havendo mais pontos presentes nessas regiões, as somas desses produtos resultaria em um **número negativo**.\n",
    "\n",
    "Por fim, podemos ver que a ``Figura (c)`` possui pontos espalhados por todos os quadrantes. Dessa forma, se somarmos os produtos das coordenadas, teremos um valor **próximo a zero**, pois cada ponto positivo possui seu correspondente simétrico e acabará cancelando na soma.\n",
    "\n",
    "Embora poderoso, o método da correlação de pearson pode trazer alguns pontos negativos e aos quais devemos estar atentos.\n",
    "\n",
    "NÃO OLHE APENAS OS NÚMEROS CORRELAÇÃO NÃO IMPLICA CAUSA"
   ]
  },
  {
   "cell_type": "markdown",
   "id": "f1476ee7",
   "metadata": {},
   "source": [
    "Vimos a **correlação de Pearson** e como ela pode ser calculada com numpy e pandas. Agora, será introduzido um **novo meio de medir essa relação**, que apresenta algumas vantagens. Vimos que a **correlação de pearson varia de -1 a 1** e que esta **mede a relação linear** entre ``variáveis quantitativas``. Mas e se a **relação não for linear**? Bom, aí podemos utilizar a ``correlação de Spearman``."
   ]
  },
  {
   "attachments": {
    "image.png": {
     "image/png": "[encoded data removed]"
    }
   },
   "cell_type": "markdown",
   "id": "f0b048ad",
   "metadata": {},
   "source": [
    "# Correlação de Spearman\n",
    "\n",
    "O ``Coeficiente de Correlação por Postos de Spearman``, é uma medida não paramétrica da dependência dos postos das variáveis.A correlação de Spearman é muito usada para avaliar relações envolvendo variáveis ordinais. Por exemplo, você poderia usar a correlação de Spearman para avaliar se a ordem na qual os funcionários executam um teste está relacionada ao número de meses de emprego.\n",
    "\n",
    "![image.png](attachment:image.png)\n",
    "\n",
    "O ``coeficiente de correlação de Spearman`` é uma medida não paramétrica da correlação de postos (dependência estatística do ranking entre duas variáveis). É usado principalmente para análise de dados. Meça a força e direção da associação entre duas variáveis classificadas\n",
    "\n",
    "Para calcular a correlação de Spearman, vamo seguir o passo a passo:\n",
    "    \n",
    "<ol>\n",
    "    <li> Extrair o ranking de valores para as variáveis </li>\n",
    "    <li> Calcular a distância dos rankings </li>\n",
    "    <li> Calcular a distância ao quadrado</li>\n",
    "    <li> Aplicar a equação de Spearman </li>\n",
    "</ol>"
   ]
  },
  {
   "cell_type": "code",
   "execution_count": 98,
   "id": "60744afa",
   "metadata": {},
   "outputs": [
    {
     "data": {
      "text/html": [
       "<div>\n",
       "<style scoped>\n",
       "    .dataframe tbody tr th:only-of-type {\n",
       "        vertical-align: middle;\n",
       "    }\n",
       "\n",
       "    .dataframe tbody tr th {\n",
       "        vertical-align: top;\n",
       "    }\n",
       "\n",
       "    .dataframe thead th {\n",
       "        text-align: right;\n",
       "    }\n",
       "</style>\n",
       "<table border=\"1\" class=\"dataframe\">\n",
       "  <thead>\n",
       "    <tr style=\"text-align: right;\">\n",
       "      <th></th>\n",
       "      <th>x</th>\n",
       "      <th>y</th>\n",
       "    </tr>\n",
       "  </thead>\n",
       "  <tbody>\n",
       "    <tr>\n",
       "      <th>0</th>\n",
       "      <td>73</td>\n",
       "      <td>77</td>\n",
       "    </tr>\n",
       "    <tr>\n",
       "      <th>1</th>\n",
       "      <td>76</td>\n",
       "      <td>78</td>\n",
       "    </tr>\n",
       "    <tr>\n",
       "      <th>2</th>\n",
       "      <td>78</td>\n",
       "      <td>79</td>\n",
       "    </tr>\n",
       "    <tr>\n",
       "      <th>3</th>\n",
       "      <td>65</td>\n",
       "      <td>80</td>\n",
       "    </tr>\n",
       "    <tr>\n",
       "      <th>4</th>\n",
       "      <td>86</td>\n",
       "      <td>86</td>\n",
       "    </tr>\n",
       "    <tr>\n",
       "      <th>5</th>\n",
       "      <td>82</td>\n",
       "      <td>89</td>\n",
       "    </tr>\n",
       "    <tr>\n",
       "      <th>6</th>\n",
       "      <td>91</td>\n",
       "      <td>95</td>\n",
       "    </tr>\n",
       "  </tbody>\n",
       "</table>\n",
       "</div>"
      ],
      "text/plain": [
       "    x   y\n",
       "0  73  77\n",
       "1  76  78\n",
       "2  78  79\n",
       "3  65  80\n",
       "4  86  86\n",
       "5  82  89\n",
       "6  91  95"
      ]
     },
     "metadata": {},
     "output_type": "display_data"
    }
   ],
   "source": [
    "# Gerando Dados para Exemplificação\n",
    "df_spearman = pd.DataFrame({'x':[73, 76, 78, 65, 86, 82, 91],\n",
    "                            'y':[77, 78, 79, 80, 86, 89, 95]})\n",
    "display(df_spearman)"
   ]
  },
  {
   "cell_type": "markdown",
   "id": "2bf37998",
   "metadata": {},
   "source": [
    "``1``. **Extrair o ranking de valores para as variáveis**"
   ]
  },
  {
   "cell_type": "markdown",
   "id": "6df18e47",
   "metadata": {},
   "source": [
    "## ``rank`` DataFrame Pandas\n",
    "\n",
    "* Calcule classificações de dados numéricos (1 a n) ao longo do eixo. Por padrão, valores iguais recebem uma classificação que é a média das classificações desses valores."
   ]
  },
  {
   "cell_type": "code",
   "execution_count": 99,
   "id": "23c645b1",
   "metadata": {},
   "outputs": [],
   "source": [
    "# Extrair o ranking de cada valor em relação às suas respectivas colunas.\n",
    "df_spearman['x_rank'] = df_spearman['x'].rank(ascending=False)\n",
    "df_spearman['y_rank'] = df_spearman['y'].rank(ascending=False)"
   ]
  },
  {
   "cell_type": "code",
   "execution_count": 100,
   "id": "45143c99",
   "metadata": {},
   "outputs": [
    {
     "data": {
      "text/html": [
       "<div>\n",
       "<style scoped>\n",
       "    .dataframe tbody tr th:only-of-type {\n",
       "        vertical-align: middle;\n",
       "    }\n",
       "\n",
       "    .dataframe tbody tr th {\n",
       "        vertical-align: top;\n",
       "    }\n",
       "\n",
       "    .dataframe thead th {\n",
       "        text-align: right;\n",
       "    }\n",
       "</style>\n",
       "<table border=\"1\" class=\"dataframe\">\n",
       "  <thead>\n",
       "    <tr style=\"text-align: right;\">\n",
       "      <th></th>\n",
       "      <th>x</th>\n",
       "      <th>y</th>\n",
       "      <th>x_rank</th>\n",
       "      <th>y_rank</th>\n",
       "    </tr>\n",
       "  </thead>\n",
       "  <tbody>\n",
       "    <tr>\n",
       "      <th>0</th>\n",
       "      <td>73</td>\n",
       "      <td>77</td>\n",
       "      <td>6.0</td>\n",
       "      <td>7.0</td>\n",
       "    </tr>\n",
       "    <tr>\n",
       "      <th>1</th>\n",
       "      <td>76</td>\n",
       "      <td>78</td>\n",
       "      <td>5.0</td>\n",
       "      <td>6.0</td>\n",
       "    </tr>\n",
       "    <tr>\n",
       "      <th>2</th>\n",
       "      <td>78</td>\n",
       "      <td>79</td>\n",
       "      <td>4.0</td>\n",
       "      <td>5.0</td>\n",
       "    </tr>\n",
       "    <tr>\n",
       "      <th>3</th>\n",
       "      <td>65</td>\n",
       "      <td>80</td>\n",
       "      <td>7.0</td>\n",
       "      <td>4.0</td>\n",
       "    </tr>\n",
       "    <tr>\n",
       "      <th>4</th>\n",
       "      <td>86</td>\n",
       "      <td>86</td>\n",
       "      <td>2.0</td>\n",
       "      <td>3.0</td>\n",
       "    </tr>\n",
       "    <tr>\n",
       "      <th>5</th>\n",
       "      <td>82</td>\n",
       "      <td>89</td>\n",
       "      <td>3.0</td>\n",
       "      <td>2.0</td>\n",
       "    </tr>\n",
       "    <tr>\n",
       "      <th>6</th>\n",
       "      <td>91</td>\n",
       "      <td>95</td>\n",
       "      <td>1.0</td>\n",
       "      <td>1.0</td>\n",
       "    </tr>\n",
       "  </tbody>\n",
       "</table>\n",
       "</div>"
      ],
      "text/plain": [
       "    x   y  x_rank  y_rank\n",
       "0  73  77     6.0     7.0\n",
       "1  76  78     5.0     6.0\n",
       "2  78  79     4.0     5.0\n",
       "3  65  80     7.0     4.0\n",
       "4  86  86     2.0     3.0\n",
       "5  82  89     3.0     2.0\n",
       "6  91  95     1.0     1.0"
      ]
     },
     "metadata": {},
     "output_type": "display_data"
    }
   ],
   "source": [
    "display(df_spearman)"
   ]
  },
  {
   "cell_type": "markdown",
   "id": "df126a91",
   "metadata": {},
   "source": [
    "``2`` **Calcular a distância dos rankings**"
   ]
  },
  {
   "cell_type": "code",
   "execution_count": 101,
   "id": "d98eb056",
   "metadata": {},
   "outputs": [],
   "source": [
    "# Obter as diferenças de ranking por linhas.\n",
    "df_spearman['d'] = df_spearman['x_rank'] - df_spearman['y_rank']\n",
    "# Coluna \"d\" = Diferença"
   ]
  },
  {
   "cell_type": "code",
   "execution_count": 102,
   "id": "df986e17",
   "metadata": {},
   "outputs": [
    {
     "data": {
      "text/html": [
       "<div>\n",
       "<style scoped>\n",
       "    .dataframe tbody tr th:only-of-type {\n",
       "        vertical-align: middle;\n",
       "    }\n",
       "\n",
       "    .dataframe tbody tr th {\n",
       "        vertical-align: top;\n",
       "    }\n",
       "\n",
       "    .dataframe thead th {\n",
       "        text-align: right;\n",
       "    }\n",
       "</style>\n",
       "<table border=\"1\" class=\"dataframe\">\n",
       "  <thead>\n",
       "    <tr style=\"text-align: right;\">\n",
       "      <th></th>\n",
       "      <th>x</th>\n",
       "      <th>y</th>\n",
       "      <th>x_rank</th>\n",
       "      <th>y_rank</th>\n",
       "      <th>d</th>\n",
       "    </tr>\n",
       "  </thead>\n",
       "  <tbody>\n",
       "    <tr>\n",
       "      <th>0</th>\n",
       "      <td>73</td>\n",
       "      <td>77</td>\n",
       "      <td>6.0</td>\n",
       "      <td>7.0</td>\n",
       "      <td>-1.0</td>\n",
       "    </tr>\n",
       "    <tr>\n",
       "      <th>1</th>\n",
       "      <td>76</td>\n",
       "      <td>78</td>\n",
       "      <td>5.0</td>\n",
       "      <td>6.0</td>\n",
       "      <td>-1.0</td>\n",
       "    </tr>\n",
       "    <tr>\n",
       "      <th>2</th>\n",
       "      <td>78</td>\n",
       "      <td>79</td>\n",
       "      <td>4.0</td>\n",
       "      <td>5.0</td>\n",
       "      <td>-1.0</td>\n",
       "    </tr>\n",
       "    <tr>\n",
       "      <th>3</th>\n",
       "      <td>65</td>\n",
       "      <td>80</td>\n",
       "      <td>7.0</td>\n",
       "      <td>4.0</td>\n",
       "      <td>3.0</td>\n",
       "    </tr>\n",
       "    <tr>\n",
       "      <th>4</th>\n",
       "      <td>86</td>\n",
       "      <td>86</td>\n",
       "      <td>2.0</td>\n",
       "      <td>3.0</td>\n",
       "      <td>-1.0</td>\n",
       "    </tr>\n",
       "    <tr>\n",
       "      <th>5</th>\n",
       "      <td>82</td>\n",
       "      <td>89</td>\n",
       "      <td>3.0</td>\n",
       "      <td>2.0</td>\n",
       "      <td>1.0</td>\n",
       "    </tr>\n",
       "    <tr>\n",
       "      <th>6</th>\n",
       "      <td>91</td>\n",
       "      <td>95</td>\n",
       "      <td>1.0</td>\n",
       "      <td>1.0</td>\n",
       "      <td>0.0</td>\n",
       "    </tr>\n",
       "  </tbody>\n",
       "</table>\n",
       "</div>"
      ],
      "text/plain": [
       "    x   y  x_rank  y_rank    d\n",
       "0  73  77     6.0     7.0 -1.0\n",
       "1  76  78     5.0     6.0 -1.0\n",
       "2  78  79     4.0     5.0 -1.0\n",
       "3  65  80     7.0     4.0  3.0\n",
       "4  86  86     2.0     3.0 -1.0\n",
       "5  82  89     3.0     2.0  1.0\n",
       "6  91  95     1.0     1.0  0.0"
      ]
     },
     "metadata": {},
     "output_type": "display_data"
    }
   ],
   "source": [
    "display(df_spearman)"
   ]
  },
  {
   "cell_type": "markdown",
   "id": "614b74f9",
   "metadata": {},
   "source": [
    "``3``. **Calcular a distância ao quadrado**"
   ]
  },
  {
   "cell_type": "code",
   "execution_count": 103,
   "id": "daee2b4a",
   "metadata": {},
   "outputs": [],
   "source": [
    "# Obtendo a distancia ao quadrado\n",
    "df_spearman['d2'] = df_spearman['d']**2\n",
    "# coluna \"d2\" = Diferença ao Quadrado"
   ]
  },
  {
   "cell_type": "code",
   "execution_count": 104,
   "id": "769b31a9",
   "metadata": {},
   "outputs": [
    {
     "data": {
      "text/html": [
       "<div>\n",
       "<style scoped>\n",
       "    .dataframe tbody tr th:only-of-type {\n",
       "        vertical-align: middle;\n",
       "    }\n",
       "\n",
       "    .dataframe tbody tr th {\n",
       "        vertical-align: top;\n",
       "    }\n",
       "\n",
       "    .dataframe thead th {\n",
       "        text-align: right;\n",
       "    }\n",
       "</style>\n",
       "<table border=\"1\" class=\"dataframe\">\n",
       "  <thead>\n",
       "    <tr style=\"text-align: right;\">\n",
       "      <th></th>\n",
       "      <th>x</th>\n",
       "      <th>y</th>\n",
       "      <th>x_rank</th>\n",
       "      <th>y_rank</th>\n",
       "      <th>d</th>\n",
       "      <th>d2</th>\n",
       "    </tr>\n",
       "  </thead>\n",
       "  <tbody>\n",
       "    <tr>\n",
       "      <th>0</th>\n",
       "      <td>73</td>\n",
       "      <td>77</td>\n",
       "      <td>6.0</td>\n",
       "      <td>7.0</td>\n",
       "      <td>-1.0</td>\n",
       "      <td>1.0</td>\n",
       "    </tr>\n",
       "    <tr>\n",
       "      <th>1</th>\n",
       "      <td>76</td>\n",
       "      <td>78</td>\n",
       "      <td>5.0</td>\n",
       "      <td>6.0</td>\n",
       "      <td>-1.0</td>\n",
       "      <td>1.0</td>\n",
       "    </tr>\n",
       "    <tr>\n",
       "      <th>2</th>\n",
       "      <td>78</td>\n",
       "      <td>79</td>\n",
       "      <td>4.0</td>\n",
       "      <td>5.0</td>\n",
       "      <td>-1.0</td>\n",
       "      <td>1.0</td>\n",
       "    </tr>\n",
       "    <tr>\n",
       "      <th>3</th>\n",
       "      <td>65</td>\n",
       "      <td>80</td>\n",
       "      <td>7.0</td>\n",
       "      <td>4.0</td>\n",
       "      <td>3.0</td>\n",
       "      <td>9.0</td>\n",
       "    </tr>\n",
       "    <tr>\n",
       "      <th>4</th>\n",
       "      <td>86</td>\n",
       "      <td>86</td>\n",
       "      <td>2.0</td>\n",
       "      <td>3.0</td>\n",
       "      <td>-1.0</td>\n",
       "      <td>1.0</td>\n",
       "    </tr>\n",
       "    <tr>\n",
       "      <th>5</th>\n",
       "      <td>82</td>\n",
       "      <td>89</td>\n",
       "      <td>3.0</td>\n",
       "      <td>2.0</td>\n",
       "      <td>1.0</td>\n",
       "      <td>1.0</td>\n",
       "    </tr>\n",
       "    <tr>\n",
       "      <th>6</th>\n",
       "      <td>91</td>\n",
       "      <td>95</td>\n",
       "      <td>1.0</td>\n",
       "      <td>1.0</td>\n",
       "      <td>0.0</td>\n",
       "      <td>0.0</td>\n",
       "    </tr>\n",
       "  </tbody>\n",
       "</table>\n",
       "</div>"
      ],
      "text/plain": [
       "    x   y  x_rank  y_rank    d   d2\n",
       "0  73  77     6.0     7.0 -1.0  1.0\n",
       "1  76  78     5.0     6.0 -1.0  1.0\n",
       "2  78  79     4.0     5.0 -1.0  1.0\n",
       "3  65  80     7.0     4.0  3.0  9.0\n",
       "4  86  86     2.0     3.0 -1.0  1.0\n",
       "5  82  89     3.0     2.0  1.0  1.0\n",
       "6  91  95     1.0     1.0  0.0  0.0"
      ]
     },
     "metadata": {},
     "output_type": "display_data"
    }
   ],
   "source": [
    "display(df_spearman)"
   ]
  },
  {
   "cell_type": "markdown",
   "id": "29170219",
   "metadata": {},
   "source": [
    "``4``. **Aplicar a equação de Spearman**\n",
    "\n",
    "<img src=\"https://bloqm.files.wordpress.com/2013/10/rho-de-spearman.jpg\" height=300 width=300>"
   ]
  },
  {
   "cell_type": "code",
   "execution_count": 105,
   "id": "677df22f",
   "metadata": {},
   "outputs": [],
   "source": [
    "# Soma de todos as diferenças ao quadrado\n",
    "sum_d2 = df_spearman['d2'].sum()\n",
    "\n",
    "# Nº Total de elementos no conjunto de dados\n",
    "n = len(df_spearman)\n",
    "\n",
    "# Aplicando a Equação de Spearman\n",
    "rs = 1 - (6*sum_d2)/(n*(n**2 -1))"
   ]
  },
  {
   "cell_type": "code",
   "execution_count": 106,
   "id": "33656ad7",
   "metadata": {},
   "outputs": [
    {
     "name": "stdout",
     "output_type": "stream",
     "text": [
      "0.75\n"
     ]
    }
   ],
   "source": [
    "# Visualizando o \"Coeficiente de Correlação de Spearman\"\n",
    "print(rs)"
   ]
  },
  {
   "cell_type": "markdown",
   "id": "4189c986",
   "metadata": {},
   "source": [
    "## ``corr`` DataFrame Pandas\n",
    "\n",
    "* Calcule a correlação de pares de colunas, excluindo valores NA/nulos."
   ]
  },
  {
   "cell_type": "code",
   "execution_count": 107,
   "id": "ad9d34a2",
   "metadata": {},
   "outputs": [
    {
     "data": {
      "text/html": [
       "<div>\n",
       "<style scoped>\n",
       "    .dataframe tbody tr th:only-of-type {\n",
       "        vertical-align: middle;\n",
       "    }\n",
       "\n",
       "    .dataframe tbody tr th {\n",
       "        vertical-align: top;\n",
       "    }\n",
       "\n",
       "    .dataframe thead th {\n",
       "        text-align: right;\n",
       "    }\n",
       "</style>\n",
       "<table border=\"1\" class=\"dataframe\">\n",
       "  <thead>\n",
       "    <tr style=\"text-align: right;\">\n",
       "      <th></th>\n",
       "      <th>x</th>\n",
       "      <th>y</th>\n",
       "    </tr>\n",
       "  </thead>\n",
       "  <tbody>\n",
       "    <tr>\n",
       "      <th>x</th>\n",
       "      <td>1.00</td>\n",
       "      <td>0.75</td>\n",
       "    </tr>\n",
       "    <tr>\n",
       "      <th>y</th>\n",
       "      <td>0.75</td>\n",
       "      <td>1.00</td>\n",
       "    </tr>\n",
       "  </tbody>\n",
       "</table>\n",
       "</div>"
      ],
      "text/plain": [
       "      x     y\n",
       "x  1.00  0.75\n",
       "y  0.75  1.00"
      ]
     },
     "metadata": {},
     "output_type": "display_data"
    }
   ],
   "source": [
    "# Tabela de Correlação com o \"metodo de Correlçao de Spearman\"\n",
    "display(df_spearman[['x', 'y']].corr(method = 'spearman'))"
   ]
  },
  {
   "cell_type": "code",
   "execution_count": 108,
   "id": "e9667239",
   "metadata": {},
   "outputs": [
    {
     "data": {
      "text/html": [
       "<div>\n",
       "<style scoped>\n",
       "    .dataframe tbody tr th:only-of-type {\n",
       "        vertical-align: middle;\n",
       "    }\n",
       "\n",
       "    .dataframe tbody tr th {\n",
       "        vertical-align: top;\n",
       "    }\n",
       "\n",
       "    .dataframe thead th {\n",
       "        text-align: right;\n",
       "    }\n",
       "</style>\n",
       "<table border=\"1\" class=\"dataframe\">\n",
       "  <thead>\n",
       "    <tr style=\"text-align: right;\">\n",
       "      <th></th>\n",
       "      <th>x</th>\n",
       "      <th>y</th>\n",
       "    </tr>\n",
       "  </thead>\n",
       "  <tbody>\n",
       "    <tr>\n",
       "      <th>x</th>\n",
       "      <td>1.000000</td>\n",
       "      <td>0.806167</td>\n",
       "    </tr>\n",
       "    <tr>\n",
       "      <th>y</th>\n",
       "      <td>0.806167</td>\n",
       "      <td>1.000000</td>\n",
       "    </tr>\n",
       "  </tbody>\n",
       "</table>\n",
       "</div>"
      ],
      "text/plain": [
       "          x         y\n",
       "x  1.000000  0.806167\n",
       "y  0.806167  1.000000"
      ]
     },
     "metadata": {},
     "output_type": "display_data"
    }
   ],
   "source": [
    "# Tabela de Correlação com o \"metodo de Correlçao de Pearson\"\n",
    "display(df_spearman[['x', 'y']].corr(method='pearson'))"
   ]
  },
  {
   "cell_type": "markdown",
   "id": "aaf79ec8",
   "metadata": {},
   "source": [
    "# ``Spearman`` Vs ``Pearson``\n",
    "\n",
    "## Não Linearidade\n",
    "\n",
    "Vamos ver como **Spearman** consegue captar padrões que **Pearson** deixa **passar**"
   ]
  },
  {
   "cell_type": "code",
   "execution_count": 109,
   "id": "1449d717",
   "metadata": {},
   "outputs": [],
   "source": [
    "# Criando uma variável independente para exemplificação\n",
    "x = np.arange(-10,10)"
   ]
  },
  {
   "cell_type": "code",
   "execution_count": 110,
   "id": "cd6cec30",
   "metadata": {},
   "outputs": [],
   "source": [
    "# Criando uma variável dependente (curva expoencial) para exemplificação\n",
    "y = np.exp(x)"
   ]
  },
  {
   "cell_type": "code",
   "execution_count": 111,
   "id": "3d49e83a",
   "metadata": {},
   "outputs": [],
   "source": [
    "# Carrendo dados em um DataFrame para exemplificação\n",
    "df_correlations = pd.DataFrame({'x':x, 'y':y})"
   ]
  },
  {
   "cell_type": "code",
   "execution_count": 112,
   "id": "f7f27a05",
   "metadata": {},
   "outputs": [
    {
     "data": {
      "image/png": "[encoded data removed]",
      "text/plain": [
       "<Figure size 640x480 with 1 Axes>"
      ]
     },
     "metadata": {},
     "output_type": "display_data"
    }
   ],
   "source": [
    "# Plotando Grafico de dispersão \"y vs x\"\n",
    "plt.scatter(x, y)\n",
    "plt.xlabel('x')\n",
    "plt.ylabel('e^x')\n",
    "plt.title('Relação Não-Linear')\n",
    "plt.show()"
   ]
  },
  {
   "cell_type": "code",
   "execution_count": 113,
   "id": "d3e51bd9",
   "metadata": {},
   "outputs": [
    {
     "data": {
      "text/html": [
       "<div>\n",
       "<style scoped>\n",
       "    .dataframe tbody tr th:only-of-type {\n",
       "        vertical-align: middle;\n",
       "    }\n",
       "\n",
       "    .dataframe tbody tr th {\n",
       "        vertical-align: top;\n",
       "    }\n",
       "\n",
       "    .dataframe thead th {\n",
       "        text-align: right;\n",
       "    }\n",
       "</style>\n",
       "<table border=\"1\" class=\"dataframe\">\n",
       "  <thead>\n",
       "    <tr style=\"text-align: right;\">\n",
       "      <th></th>\n",
       "      <th>x</th>\n",
       "      <th>y</th>\n",
       "    </tr>\n",
       "  </thead>\n",
       "  <tbody>\n",
       "    <tr>\n",
       "      <th>x</th>\n",
       "      <td>1.000000</td>\n",
       "      <td>0.538701</td>\n",
       "    </tr>\n",
       "    <tr>\n",
       "      <th>y</th>\n",
       "      <td>0.538701</td>\n",
       "      <td>1.000000</td>\n",
       "    </tr>\n",
       "  </tbody>\n",
       "</table>\n",
       "</div>"
      ],
      "text/plain": [
       "          x         y\n",
       "x  1.000000  0.538701\n",
       "y  0.538701  1.000000"
      ]
     },
     "metadata": {},
     "output_type": "display_data"
    }
   ],
   "source": [
    "# Obtendo Coeficiênte de \"Correlação de Pearson\"\n",
    "display(df_correlations.corr(method='pearson'))"
   ]
  },
  {
   "cell_type": "code",
   "execution_count": 114,
   "id": "36298880",
   "metadata": {},
   "outputs": [
    {
     "data": {
      "text/html": [
       "<div>\n",
       "<style scoped>\n",
       "    .dataframe tbody tr th:only-of-type {\n",
       "        vertical-align: middle;\n",
       "    }\n",
       "\n",
       "    .dataframe tbody tr th {\n",
       "        vertical-align: top;\n",
       "    }\n",
       "\n",
       "    .dataframe thead th {\n",
       "        text-align: right;\n",
       "    }\n",
       "</style>\n",
       "<table border=\"1\" class=\"dataframe\">\n",
       "  <thead>\n",
       "    <tr style=\"text-align: right;\">\n",
       "      <th></th>\n",
       "      <th>x</th>\n",
       "      <th>y</th>\n",
       "    </tr>\n",
       "  </thead>\n",
       "  <tbody>\n",
       "    <tr>\n",
       "      <th>x</th>\n",
       "      <td>1.0</td>\n",
       "      <td>1.0</td>\n",
       "    </tr>\n",
       "    <tr>\n",
       "      <th>y</th>\n",
       "      <td>1.0</td>\n",
       "      <td>1.0</td>\n",
       "    </tr>\n",
       "  </tbody>\n",
       "</table>\n",
       "</div>"
      ],
      "text/plain": [
       "     x    y\n",
       "x  1.0  1.0\n",
       "y  1.0  1.0"
      ]
     },
     "execution_count": 114,
     "metadata": {},
     "output_type": "execute_result"
    }
   ],
   "source": [
    "# Obtendo Coeficiênte de \"Correlação de Spearman\"\n",
    "df_correlations.corr(method='spearman')"
   ]
  },
  {
   "cell_type": "markdown",
   "id": "df5a5f74",
   "metadata": {},
   "source": [
    "Note que a ``correlação de Pearson`` **não consegue** captar uma **relação não-linear** tão bem quanto a de ``Spearman``."
   ]
  },
  {
   "cell_type": "markdown",
   "id": "de5bea39",
   "metadata": {},
   "source": [
    "# Outliers\n",
    "\n",
    "``Outlier``, ``valor aberrante`` ou ``valor atípico``, é uma observação que apresenta um **grande afastamento** dos demais dados da série, ou que é **inconsistente** com os dados da série. A existência de ``outliers`` implica, tipicamente, em **prejuízos à interpretação** dos resultados dos testes estatísticos aplicados às amostras. \n",
    "\n",
    "Os ``outliers`` são dados que se diferenciam drasticamente de todos os outros. Em outras palavras, um ``outlier`` é um valor que foge da normalidade.\n",
    "\n",
    "Quando existem ``outliers`` na amostra, a **correlação de pearson** é **fortemente afetada**, podendo resultar até mesmo numa **inversão de tendência**."
   ]
  },
  {
   "cell_type": "code",
   "execution_count": 115,
   "id": "8dc92d11",
   "metadata": {},
   "outputs": [],
   "source": [
    "# Variável independente\n",
    "x1 = np.arange(1,11)\n",
    "# Variável dependente\n",
    "y1 = -0.1*x1"
   ]
  },
  {
   "cell_type": "code",
   "execution_count": 116,
   "id": "eba5a4d0",
   "metadata": {},
   "outputs": [],
   "source": [
    "x1 = np.append(x1, [30])\n",
    "y1 = np.append(y1, [50])"
   ]
  },
  {
   "cell_type": "code",
   "execution_count": 117,
   "id": "b1a43bf2",
   "metadata": {},
   "outputs": [],
   "source": [
    "df_correlations1 = pd.DataFrame({'x1':x1, 'y1':y1})"
   ]
  },
  {
   "cell_type": "code",
   "execution_count": 118,
   "id": "895cadc6",
   "metadata": {},
   "outputs": [
    {
     "data": {
      "image/png": "[encoded data removed]",
      "text/plain": [
       "<Figure size 640x480 with 1 Axes>"
      ]
     },
     "metadata": {},
     "output_type": "display_data"
    }
   ],
   "source": [
    "plt.scatter(x1, y1)\n",
    "plt.xlabel('x')\n",
    "plt.ylabel('x^2')\n",
    "plt.title('Relação Não-Linear')\n",
    "plt.show()"
   ]
  },
  {
   "cell_type": "code",
   "execution_count": 119,
   "id": "819040f9",
   "metadata": {},
   "outputs": [
    {
     "data": {
      "text/html": [
       "<div>\n",
       "<style scoped>\n",
       "    .dataframe tbody tr th:only-of-type {\n",
       "        vertical-align: middle;\n",
       "    }\n",
       "\n",
       "    .dataframe tbody tr th {\n",
       "        vertical-align: top;\n",
       "    }\n",
       "\n",
       "    .dataframe thead th {\n",
       "        text-align: right;\n",
       "    }\n",
       "</style>\n",
       "<table border=\"1\" class=\"dataframe\">\n",
       "  <thead>\n",
       "    <tr style=\"text-align: right;\">\n",
       "      <th></th>\n",
       "      <th>x1</th>\n",
       "      <th>y1</th>\n",
       "    </tr>\n",
       "  </thead>\n",
       "  <tbody>\n",
       "    <tr>\n",
       "      <th>x1</th>\n",
       "      <td>1.00000</td>\n",
       "      <td>0.92503</td>\n",
       "    </tr>\n",
       "    <tr>\n",
       "      <th>y1</th>\n",
       "      <td>0.92503</td>\n",
       "      <td>1.00000</td>\n",
       "    </tr>\n",
       "  </tbody>\n",
       "</table>\n",
       "</div>"
      ],
      "text/plain": [
       "         x1       y1\n",
       "x1  1.00000  0.92503\n",
       "y1  0.92503  1.00000"
      ]
     },
     "execution_count": 119,
     "metadata": {},
     "output_type": "execute_result"
    }
   ],
   "source": [
    "# correlação de pearson para x^2\n",
    "df_correlations1.corr(method='pearson')"
   ]
  },
  {
   "cell_type": "code",
   "execution_count": 120,
   "id": "d49d78f6",
   "metadata": {},
   "outputs": [
    {
     "data": {
      "text/html": [
       "<div>\n",
       "<style scoped>\n",
       "    .dataframe tbody tr th:only-of-type {\n",
       "        vertical-align: middle;\n",
       "    }\n",
       "\n",
       "    .dataframe tbody tr th {\n",
       "        vertical-align: top;\n",
       "    }\n",
       "\n",
       "    .dataframe thead th {\n",
       "        text-align: right;\n",
       "    }\n",
       "</style>\n",
       "<table border=\"1\" class=\"dataframe\">\n",
       "  <thead>\n",
       "    <tr style=\"text-align: right;\">\n",
       "      <th></th>\n",
       "      <th>x1</th>\n",
       "      <th>y1</th>\n",
       "    </tr>\n",
       "  </thead>\n",
       "  <tbody>\n",
       "    <tr>\n",
       "      <th>x1</th>\n",
       "      <td>1.0</td>\n",
       "      <td>-0.5</td>\n",
       "    </tr>\n",
       "    <tr>\n",
       "      <th>y1</th>\n",
       "      <td>-0.5</td>\n",
       "      <td>1.0</td>\n",
       "    </tr>\n",
       "  </tbody>\n",
       "</table>\n",
       "</div>"
      ],
      "text/plain": [
       "     x1   y1\n",
       "x1  1.0 -0.5\n",
       "y1 -0.5  1.0"
      ]
     },
     "execution_count": 120,
     "metadata": {},
     "output_type": "execute_result"
    }
   ],
   "source": [
    "# correlação de spearman para x^2\n",
    "df_correlations1.corr(method='spearman')"
   ]
  },
  {
   "cell_type": "markdown",
   "id": "c4bb53e4",
   "metadata": {},
   "source": [
    "# Associação Entre Variáveis ``Qualitativas`` e ``Quantitativas``\n",
    "\n",
    "Nossa última possível combinação entre natureza de variáveis é o caso de querermos medir relações entre uma ``variável qualitativa`` e uma ``variável quantitativa``. Para isso utilizaremos a ``correlação Point-Biserial`` e a ``análise de R2``.\n",
    "\n",
    "## Correlação Point-Biserial\n",
    "\n",
    "\n",
    "A ``correlaçao Point-Biserial`` é um caso particular da **correlação de Pearson**. É usada para casos em que se possui uma ``variável dicotômica`` (**2 valores possíveis**) e uma ``variável contínua``."
   ]
  },
  {
   "cell_type": "markdown",
   "id": "9e16efbd",
   "metadata": {},
   "source": [
    "![](https://wikimedia.org/api/rest_v1/media/math/render/svg/790e9e1b2fd9213233a747036ff6b87efe4efb5e)"
   ]
  },
  {
   "cell_type": "markdown",
   "id": "827809f7",
   "metadata": {},
   "source": [
    "Assim como as demais correlações, a ``Point-Biserial varia de -1 a 1``. Na equação acima:\n",
    "\n",
    "```M1```: **Média da variável contínua para o grupo 1**<br>\n",
    "```M0```: **Média da variável contínua para o grupo 0**<br>\n",
    "```n1```: **Número de observações do grupo 1**<br>\n",
    "```n0```: **Número de observações do grupo 0**<br>\n",
    "```n```:  **Número total de observações**<br>\n",
    "```Sn```: **Desvio Padrão Populacional**<br>\n",
    "\n",
    "\n",
    "Vamos criar uma **variável contínua**. Porém, vamos constituí-la de um **primeiro grupo**, **x1**, cuja **média é 10** e **desvio padrão é 10** e **outro grupo**,**x2**, cuja **média é 60** e **desvio padrão é 10**. Criaremos **100 amostras** para as quais a ``variável y`` corresponde a ``1`` e **100** para as quais a ``variável y é 0``."
   ]
  },
  {
   "cell_type": "code",
   "execution_count": 121,
   "id": "6dc0d427",
   "metadata": {},
   "outputs": [],
   "source": [
    "# Criando um grupo fixo de numeros aleatorios\n",
    "np.random.seed(10)\n",
    "\n",
    "# 1º Criando uma Variavel independente\n",
    "x1 = np.random.normal(10, 10, 100)\n",
    "\n",
    "# 2º Criando uma Variavel independente\n",
    "x2 = np.random.normal(60, 10, 100)\n",
    "\n",
    "# Criando uma variavel dependente \n",
    "y = 100*[0] + 100*[1]"
   ]
  },
  {
   "cell_type": "code",
   "execution_count": 122,
   "id": "ab192975",
   "metadata": {},
   "outputs": [],
   "source": [
    "# Craindo um DataFrame com as variaveis criadas sinteticamente\n",
    "df_pb = pd.DataFrame({'x':np.concatenate([x1,x2]), 'y':y})"
   ]
  },
  {
   "cell_type": "code",
   "execution_count": 123,
   "id": "66cac029",
   "metadata": {},
   "outputs": [
    {
     "data": {
      "text/html": [
       "<div>\n",
       "<style scoped>\n",
       "    .dataframe tbody tr th:only-of-type {\n",
       "        vertical-align: middle;\n",
       "    }\n",
       "\n",
       "    .dataframe tbody tr th {\n",
       "        vertical-align: top;\n",
       "    }\n",
       "\n",
       "    .dataframe thead th {\n",
       "        text-align: right;\n",
       "    }\n",
       "</style>\n",
       "<table border=\"1\" class=\"dataframe\">\n",
       "  <thead>\n",
       "    <tr style=\"text-align: right;\">\n",
       "      <th></th>\n",
       "      <th>x</th>\n",
       "      <th>y</th>\n",
       "    </tr>\n",
       "  </thead>\n",
       "  <tbody>\n",
       "    <tr>\n",
       "      <th>0</th>\n",
       "      <td>23.315865</td>\n",
       "      <td>0</td>\n",
       "    </tr>\n",
       "    <tr>\n",
       "      <th>1</th>\n",
       "      <td>17.152790</td>\n",
       "      <td>0</td>\n",
       "    </tr>\n",
       "    <tr>\n",
       "      <th>2</th>\n",
       "      <td>-5.454003</td>\n",
       "      <td>0</td>\n",
       "    </tr>\n",
       "    <tr>\n",
       "      <th>3</th>\n",
       "      <td>9.916162</td>\n",
       "      <td>0</td>\n",
       "    </tr>\n",
       "    <tr>\n",
       "      <th>4</th>\n",
       "      <td>16.213360</td>\n",
       "      <td>0</td>\n",
       "    </tr>\n",
       "  </tbody>\n",
       "</table>\n",
       "</div>"
      ],
      "text/plain": [
       "           x  y\n",
       "0  23.315865  0\n",
       "1  17.152790  0\n",
       "2  -5.454003  0\n",
       "3   9.916162  0\n",
       "4  16.213360  0"
      ]
     },
     "metadata": {},
     "output_type": "display_data"
    }
   ],
   "source": [
    "# Visualizando DataFrame\n",
    "display(df_pb.head())"
   ]
  },
  {
   "cell_type": "code",
   "execution_count": 124,
   "id": "e8123b25",
   "metadata": {},
   "outputs": [],
   "source": [
    "#  Obtendo a Média da variável contínua para o grupo 0\n",
    "M0 = df_pb.groupby('y').mean().iloc[0,0]\n",
    "\n",
    "# Obtendo a Média da variável contínua para o grupo 1\n",
    "M1 = df_pb.groupby('y').mean().iloc[1,0]\n",
    "\n",
    "# Obtendo o Desvio Padrão \"Populacional\"\n",
    "std_ = df_pb['x'].std(ddof=0)"
   ]
  },
  {
   "cell_type": "markdown",
   "id": "a405f97d",
   "metadata": {},
   "source": [
    "``ddof=0`` nos permitirá **calcular a variância de uma população**. Enquanto que, ``ddof=1``  nos permitirá **estimar a variância populacional** usando uma amostra de dados."
   ]
  },
  {
   "cell_type": "code",
   "execution_count": 125,
   "id": "1b985977",
   "metadata": {},
   "outputs": [
    {
     "data": {
      "text/html": [
       "<div>\n",
       "<style scoped>\n",
       "    .dataframe tbody tr th:only-of-type {\n",
       "        vertical-align: middle;\n",
       "    }\n",
       "\n",
       "    .dataframe tbody tr th {\n",
       "        vertical-align: top;\n",
       "    }\n",
       "\n",
       "    .dataframe thead th {\n",
       "        text-align: right;\n",
       "    }\n",
       "</style>\n",
       "<table border=\"1\" class=\"dataframe\">\n",
       "  <thead>\n",
       "    <tr style=\"text-align: right;\">\n",
       "      <th></th>\n",
       "      <th>x</th>\n",
       "    </tr>\n",
       "    <tr>\n",
       "      <th>y</th>\n",
       "      <th></th>\n",
       "    </tr>\n",
       "  </thead>\n",
       "  <tbody>\n",
       "    <tr>\n",
       "      <th>0</th>\n",
       "      <td>10.794167</td>\n",
       "    </tr>\n",
       "    <tr>\n",
       "      <th>1</th>\n",
       "      <td>60.691972</td>\n",
       "    </tr>\n",
       "  </tbody>\n",
       "</table>\n",
       "</div>"
      ],
      "text/plain": [
       "           x\n",
       "y           \n",
       "0  10.794167\n",
       "1  60.691972"
      ]
     },
     "execution_count": 125,
     "metadata": {},
     "output_type": "execute_result"
    }
   ],
   "source": [
    "# Obtendo as medias de \"y\" em relação a \"x\"\n",
    "df_pb.groupby('y').mean()"
   ]
  },
  {
   "cell_type": "code",
   "execution_count": 126,
   "id": "2e55962c",
   "metadata": {},
   "outputs": [
    {
     "name": "stdout",
     "output_type": "stream",
     "text": [
      "0.931246752810707\n"
     ]
    }
   ],
   "source": [
    "# Aplicando a equação Correlação Point-Biserial\n",
    "print(((M1-M0)/std_)*np.sqrt(0.5**2))"
   ]
  },
  {
   "cell_type": "markdown",
   "id": "bb4b8c50",
   "metadata": {},
   "source": [
    "A ``correlação Point-Biserial`` será numericamente igual a **Correlação de Pearson**."
   ]
  },
  {
   "cell_type": "code",
   "execution_count": 127,
   "id": "a179304e",
   "metadata": {},
   "outputs": [
    {
     "data": {
      "text/html": [
       "<div>\n",
       "<style scoped>\n",
       "    .dataframe tbody tr th:only-of-type {\n",
       "        vertical-align: middle;\n",
       "    }\n",
       "\n",
       "    .dataframe tbody tr th {\n",
       "        vertical-align: top;\n",
       "    }\n",
       "\n",
       "    .dataframe thead th {\n",
       "        text-align: right;\n",
       "    }\n",
       "</style>\n",
       "<table border=\"1\" class=\"dataframe\">\n",
       "  <thead>\n",
       "    <tr style=\"text-align: right;\">\n",
       "      <th></th>\n",
       "      <th>x</th>\n",
       "      <th>y</th>\n",
       "    </tr>\n",
       "  </thead>\n",
       "  <tbody>\n",
       "    <tr>\n",
       "      <th>x</th>\n",
       "      <td>1.000000</td>\n",
       "      <td>0.931247</td>\n",
       "    </tr>\n",
       "    <tr>\n",
       "      <th>y</th>\n",
       "      <td>0.931247</td>\n",
       "      <td>1.000000</td>\n",
       "    </tr>\n",
       "  </tbody>\n",
       "</table>\n",
       "</div>"
      ],
      "text/plain": [
       "          x         y\n",
       "x  1.000000  0.931247\n",
       "y  0.931247  1.000000"
      ]
     },
     "execution_count": 127,
     "metadata": {},
     "output_type": "execute_result"
    }
   ],
   "source": [
    "# Aplicando a equação Correlação de Pearson.\n",
    "df_pb.corr()"
   ]
  },
  {
   "cell_type": "markdown",
   "id": "3013fec7",
   "metadata": {},
   "source": [
    "# R2\n",
    "\n",
    "A última **medida de associação entre as variáveis** que veremos é o ``R2``. O ``R2`` **quantifica o quanto, ``em %``, a variável independente ``X`` explica a variável dependete ``Y``**. E para isso, ele utiliza o conceito de **variância**. A lógica por trás desse cálculo é a seguinte:\n",
    "\n",
    "Vamos **medir a variância** do nosso **conjunto de dados**`` Y``. Se a **variância** de ``Y``, quando olhada dentro de **grupos ``X``**, for menor, significa que ``X`` explica uma **parcela (%)** de ``Y``. Esse **%** é justamente nosso ``R2``.\n",
    "\n",
    "Imagine a variável salário! Dentro de uma empresa o salário pode variar desde RS 5.000,00 a RS 100.000,00. Uma alta variabilidade, concorda? Mas se olharmos os grupos (cargos) separadamente, o salário tende a variar pouco entre os gerentes, C-Level, Tech Leads, pois cargos parecidos tendem a ganhar salários parecidos. Ou seja, a variabilidade diminui quando olhamos a variável salário pela perspectiva dos cargos."
   ]
  },
  {
   "cell_type": "code",
   "execution_count": 128,
   "id": "7890d1f9",
   "metadata": {},
   "outputs": [],
   "source": [
    "# Gerando dados sintéticos para exemplificação, variáveis relacionado a salários, para cada cargo de engenharia\n",
    "\n",
    "# Faixa Salarial de Estagiario\n",
    "estg = np.random.choice(np.arange(1000, 2000), 100)\n",
    "\n",
    "# Faixa Salarial de Eng. junior\n",
    "eng_jr = np.random.choice(np.arange(4500, 7000), 100)\n",
    "\n",
    "# Faixa Salarial de Eng.\n",
    "eng = np.random.choice(np.arange(6500, 8000), 100)\n",
    "\n",
    "# Faixa Salarial de Eng. Senior\n",
    "eng_sr = np.random.choice(np.arange(7500, 11000), 100)\n",
    "\n",
    "# Concatenando os Salários\n",
    "salarios = np.concatenate([estg, eng_jr, eng, eng_sr])"
   ]
  },
  {
   "cell_type": "code",
   "execution_count": 129,
   "id": "2af2c44c",
   "metadata": {},
   "outputs": [],
   "source": [
    "# Gerando dados sintéticos relacionado aos cargos\n",
    "cargo = 100*['estg'] + 100*['eng_jr'] + 100*['eng'] + 100*['eng_sr']"
   ]
  },
  {
   "cell_type": "code",
   "execution_count": 130,
   "id": "5f4f72b8",
   "metadata": {},
   "outputs": [
    {
     "data": {
      "text/html": [
       "<div>\n",
       "<style scoped>\n",
       "    .dataframe tbody tr th:only-of-type {\n",
       "        vertical-align: middle;\n",
       "    }\n",
       "\n",
       "    .dataframe tbody tr th {\n",
       "        vertical-align: top;\n",
       "    }\n",
       "\n",
       "    .dataframe thead th {\n",
       "        text-align: right;\n",
       "    }\n",
       "</style>\n",
       "<table border=\"1\" class=\"dataframe\">\n",
       "  <thead>\n",
       "    <tr style=\"text-align: right;\">\n",
       "      <th></th>\n",
       "      <th>Cargo</th>\n",
       "      <th>Salário</th>\n",
       "    </tr>\n",
       "  </thead>\n",
       "  <tbody>\n",
       "    <tr>\n",
       "      <th>0</th>\n",
       "      <td>estg</td>\n",
       "      <td>1265</td>\n",
       "    </tr>\n",
       "    <tr>\n",
       "      <th>1</th>\n",
       "      <td>estg</td>\n",
       "      <td>1283</td>\n",
       "    </tr>\n",
       "    <tr>\n",
       "      <th>2</th>\n",
       "      <td>estg</td>\n",
       "      <td>1308</td>\n",
       "    </tr>\n",
       "    <tr>\n",
       "      <th>3</th>\n",
       "      <td>estg</td>\n",
       "      <td>1346</td>\n",
       "    </tr>\n",
       "    <tr>\n",
       "      <th>4</th>\n",
       "      <td>estg</td>\n",
       "      <td>1825</td>\n",
       "    </tr>\n",
       "  </tbody>\n",
       "</table>\n",
       "</div>"
      ],
      "text/plain": [
       "  Cargo  Salário\n",
       "0  estg     1265\n",
       "1  estg     1283\n",
       "2  estg     1308\n",
       "3  estg     1346\n",
       "4  estg     1825"
      ]
     },
     "metadata": {},
     "output_type": "display_data"
    },
    {
     "name": "stdout",
     "output_type": "stream",
     "text": [
      "(400, 2)\n"
     ]
    }
   ],
   "source": [
    "# Criando um DataFrame com os dados sintéticos para exemplificação\n",
    "df_salario = pd.DataFrame({'Cargo':cargo, 'Salário':salarios})\n",
    "display(df_salario.head())\n",
    "print(df_salario.shape)"
   ]
  },
  {
   "cell_type": "code",
   "execution_count": 131,
   "id": "9a5fec1b",
   "metadata": {},
   "outputs": [
    {
     "name": "stdout",
     "output_type": "stream",
     "text": [
      "9028016\n"
     ]
    }
   ],
   "source": [
    "# A variância será o desvio-padrão ao quadrado\n",
    "var_total = (df_salario['Salário'].std())**2\n",
    "print(round(var_total))"
   ]
  },
  {
   "cell_type": "markdown",
   "id": "359658df",
   "metadata": {},
   "source": [
    "Agora iremos **calcular a variância** olhando pela perspectiva dos **cargos**. \n",
    "\n",
    "Para isso precisaremos de uma **medida-resumo**, que são, medidas de posição, as mais utilizadas são: a média, a mediana, a moda e os quartis da distribuição, e medidas de dispersão, as mais utlizadas são: são amplitude, desvio, variância e desvio padrão, e  no caso aqui aplicado, pode ser a **média**. \n",
    "\n",
    "Mas iremos **ponderar a média das variâncias** pelo **número de observações** de **cada grupo**."
   ]
  },
  {
   "cell_type": "code",
   "execution_count": 132,
   "id": "6ad40ea7",
   "metadata": {},
   "outputs": [],
   "source": [
    "# Variância em relação salario estagiario\n",
    "var_estg = (estg.std())**2\n",
    "\n",
    "# Variância em relação salario Eng. Junior\n",
    "var_eng_jr = (eng_jr.std())**2\n",
    "\n",
    "# Variância em relação salario Eng.\n",
    "var_eng = (eng.std())**2\n",
    "\n",
    "# Variância em relação salario Eng. Senior\n",
    "var_eng_sr = (eng_sr.std())**2"
   ]
  },
  {
   "cell_type": "code",
   "execution_count": 133,
   "id": "5de07cb9",
   "metadata": {},
   "outputs": [],
   "source": [
    "# Combinação de Variancia de desvios ao quadrado\n",
    "var_combinada = (100*var_estg + 100*var_eng_jr + 100*var_eng + 100*var_eng_sr) / 400"
   ]
  },
  {
   "cell_type": "code",
   "execution_count": 134,
   "id": "fd5dfcc2",
   "metadata": {},
   "outputs": [
    {
     "data": {
      "text/plain": [
       "0.9515712903675189"
      ]
     },
     "execution_count": 134,
     "metadata": {},
     "output_type": "execute_result"
    }
   ],
   "source": [
    "# Obtendo R²\n",
    "(var_total - var_combinada) / var_total"
   ]
  },
  {
   "cell_type": "code",
   "execution_count": 135,
   "id": "7437eaf5",
   "metadata": {},
   "outputs": [
    {
     "data": {
      "text/plain": [
       "True"
      ]
     },
     "execution_count": 135,
     "metadata": {},
     "output_type": "execute_result"
    }
   ],
   "source": [
    "# Variancia de X maior que Y\n",
    "var_total > var_combinada"
   ]
  },
  {
   "cell_type": "markdown",
   "id": "67b1cba2",
   "metadata": {},
   "source": [
    "# Distribuições de Probabilidade\n",
    "\n",
    "\n",
    "Uma ``distribuição de probabilidade`` é um modelo matemático capaz de nos **fornecer a probabilidade de ocorrência** de um evento. Uma ``distribuição de probabilidade`` descreve o comportamento aleatório de um fenômeno dependente do acaso.\n",
    "\n",
    "Uma ``distribuição de probabilidade`` relaciona um certo valor da variável em estudo com a sua **probabilidade de ocorrência**. A ``distribuição de probabilidades`` associa uma probabilidade a cada resultado numérico de um experimento, ou seja, dá a probabilidade de cada valor de uma variável aleatória.\n",
    "\n",
    "A ``distribuição de probabilidade`` é uma medida muitas vezes vista como uma distribuição que descreve o comportamento de uma variável aleatória **discreta** ou **contínua**.\n",
    "\n",
    "• Por exemplo, no lançamento de um dado cada face tem a mesma probabilidade de ocorrência que é 1/6.\n",
    "\n",
    "Podemos classificar a **Distribuição de Probabilidade** em dois tipos:\n",
    "\n",
    "* **Discreta**\n",
    "* **Contínua**\n",
    "\n",
    "As ``Distribuições de Probabilidade Discretas`` são utilizadas para modelar **variáveis contáveis**, como o número de gols numa partida de futebol (0,1,2,3,4...). Uma **distribuição discreta de probabilidade enumera cada valor possível** da variável aleatória, bem como **sua probabilidade**. Uma **distribuição discreta descreve a probabilidade de ocorrência de cada valor** de uma variável aleatória discreta. Uma variável aleatória discreta tem valores contáveis, como uma **lista de inteiros não negativos**.\n",
    "\n",
    "As ``Distribuições de Probabilidade Contínuas``, por sua vez, são utilizadas quando queremos modelar **variáveis** cujas **ocorrências** podem estar associadas a **infinitos valores** dentro de um **intervalo**.  Exemplo: Temperatura. A temperatura de uma cidade pode assumir qualquer valor entre 10 e 20 graus, seja ele 10.1, 10.2, 10.2123, 10.2345, e assim por diante. São **infinitos valores possíveis**."
   ]
  },
  {
   "cell_type": "markdown",
   "id": "16c7bce9",
   "metadata": {},
   "source": [
    "## Distribuições Discretas\n",
    "\n",
    "* **Uniforme**\n",
    "\n",
    "Quando os valores possíveis para um evento possuírem igual probabilidade de ocorrência, dizemos que estes seguem uma distribuição uniforme.\n",
    "\n",
    "Exemplo: O lançamento de um dado não viciado.\n",
    "\n",
    "Um dado possui **6 lados** e, se não estiver viciado, cada face possuirá **igual probabilidade** de ocorrer em um lançamento. Nesse caso, o modelo matemático que descreve a probabilidade para as possíveis ocorrências é:\n",
    "\n",
    "* ``P`` : É a **probabilidade**\n",
    "* ``x`` : São os **valores possíveis** \n",
    "* ``n`` : É a **quantidade de elementos** possíveis de ocorrer.\n",
    "\n",
    "Vamos simular o lançamento de um dado e observar a distribuição dos resultados obtidos."
   ]
  },
  {
   "cell_type": "code",
   "execution_count": 136,
   "id": "b8cc754e",
   "metadata": {},
   "outputs": [],
   "source": [
    "# Criando um grupo fixo(semente) de numeros aleatorios\n",
    "np.random.seed(100)\n",
    "\n",
    "# Nº de Lançamentos\n",
    "n = 100000\n",
    "\n",
    "# Valor minimo\n",
    "Vmin = 1\n",
    "\n",
    "# Valor maximo\n",
    "Vmax = 6 + 1\n",
    "\n",
    "# Lançamentos aleatorios\n",
    "lancamentos = np.random.randint(low=Vmin, high=Vmax, size=n)"
   ]
  },
  {
   "cell_type": "code",
   "execution_count": 137,
   "id": "68d33e14",
   "metadata": {},
   "outputs": [
    {
     "data": {
      "image/png": "[encoded data removed]",
      "text/plain": [
       "<Figure size 500x500 with 1 Axes>"
      ]
     },
     "metadata": {},
     "output_type": "display_data"
    }
   ],
   "source": [
    "# Plotando o grafico de histograma\n",
    "sns.displot(lancamentos, kde=False);\n",
    "plt.xlabel('Face Obtida')\n",
    "plt.show()\n",
    "# O Grafico mostra uma \"distribuição normal\", pois cada face ocorre um Nº proximos de vezes"
   ]
  },
  {
   "cell_type": "code",
   "execution_count": 138,
   "id": "64bc7c94",
   "metadata": {},
   "outputs": [
    {
     "data": {
      "text/plain": [
       "Face\n",
       "1    16755\n",
       "2    16527\n",
       "3    16593\n",
       "4    16858\n",
       "5    16750\n",
       "6    16517\n",
       "dtype: int64"
      ]
     },
     "metadata": {},
     "output_type": "display_data"
    }
   ],
   "source": [
    "df_lancamentos = pd.DataFrame(lancamentos, columns=['Face'])\n",
    "\n",
    "# Obtendo o numero de vezes de cada face\n",
    "display(df_lancamentos.groupby('Face').size())"
   ]
  },
  {
   "cell_type": "code",
   "execution_count": 139,
   "id": "804e5460",
   "metadata": {},
   "outputs": [
    {
     "data": {
      "text/plain": [
       "Face\n",
       "4       16858\n",
       "1       16755\n",
       "5       16750\n",
       "3       16593\n",
       "2       16527\n",
       "6       16517\n",
       "Name: count, dtype: int64"
      ]
     },
     "execution_count": 139,
     "metadata": {},
     "output_type": "execute_result"
    }
   ],
   "source": [
    "# Obtendo o numero de vezes de cada face\n",
    "df_lancamentos.value_counts()"
   ]
  },
  {
   "cell_type": "markdown",
   "id": "97ce8569",
   "metadata": {},
   "source": [
    "## Dist. de Prob. Discreta de Bernoulli\n",
    "\n",
    "A ``distribuição de Bernoulli`` é uma outra **distribuição discreta**, cujo propósito é **avaliar a probabilidade de sucesso** de um evento. Por sucesso, fala-se em um **evento de interesse** do pesquisador. A **probabilidade de sucesso** do evento é ``p`` e a **probabilidade de fracasso** é ``1 - p``.\n",
    "\n",
    "Um exemplo bastante comum dessa distribuição envolve o lançamento de uma moeda, em que dar ``coroa`` pode ser o **evento de sucesso** com **probabilidade** ``p`` e dar ``cara`` pode ser o **evento de fracasso**, de probabilidade ``1 - p``. Quando a moeda não é viciada, espera-se que ``p = 0.5``. \n",
    "\n",
    "Porém, há uma série de aplicações bastante conhecidas e definidas que utilizam ``distribuição de bernoulli``, tais como:\n",
    "\n",
    "* Ramo de Seguros\n",
    "* Ramo de Crédito\n",
    "\n",
    "A ``distribuição de Bernoulli``, a **média é sempre a probabilidade de sucesso** ``p``, e a  variância é ``p(1-p)``\n",
    "\n",
    "Para simular um evento que segue uma **distribuição de Bernoulli**, usamos a biblioteca **scipy** e o módulo ``scipy.stats.bernoulli``"
   ]
  },
  {
   "cell_type": "code",
   "execution_count": 140,
   "id": "271b032b",
   "metadata": {},
   "outputs": [],
   "source": [
    "# Atribuindo a uma variavel a \"Distribuição de Discreta de Bernoulli\"\n",
    "Dist_Bern = bernoulli.rvs(\n",
    "    p = 0.7, # Probabilidade de Sucesso\n",
    "    size = 100000,  # Nº de Experimentos (Quantidade de Ocorrencia)\n",
    "    loc = 0, # Fracasso\n",
    "    random_state = 12) # Seed"
   ]
  },
  {
   "cell_type": "code",
   "execution_count": 141,
   "id": "d8c4969d",
   "metadata": {},
   "outputs": [
    {
     "data": {
      "image/png": "[encoded data removed]",
      "text/plain": [
       "<Figure size 640x480 with 1 Axes>"
      ]
     },
     "metadata": {},
     "output_type": "display_data"
    }
   ],
   "source": [
    "plt.hist(Dist_Bern)\n",
    "plt.title('Distribuição de Bernoulli ( p = 0.7)')\n",
    "plt.show()"
   ]
  },
  {
   "cell_type": "code",
   "execution_count": 142,
   "id": "c5b8bd16",
   "metadata": {},
   "outputs": [
    {
     "data": {
      "text/plain": [
       "0.69962"
      ]
     },
     "execution_count": 142,
     "metadata": {},
     "output_type": "execute_result"
    }
   ],
   "source": [
    "# Média da Distribuição ( Valor de  p =  probabilidade de sucesso)\n",
    "Dist_Bern.mean()"
   ]
  },
  {
   "cell_type": "code",
   "execution_count": 143,
   "id": "2633cce4",
   "metadata": {},
   "outputs": [
    {
     "data": {
      "text/plain": [
       "0.21015185560000002"
      ]
     },
     "execution_count": 143,
     "metadata": {},
     "output_type": "execute_result"
    }
   ],
   "source": [
    "# Variancância da Dsitribuição ( Valor p(1 -p) =  probabilidade de fracasso)\n",
    "Dist_Bern.std()**2"
   ]
  },
  {
   "cell_type": "code",
   "execution_count": 144,
   "id": "15730487",
   "metadata": {},
   "outputs": [
    {
     "data": {
      "text/plain": [
       "0.2101518556"
      ]
     },
     "execution_count": 144,
     "metadata": {},
     "output_type": "execute_result"
    }
   ],
   "source": [
    "# Aplicando a equação de fracasso para confirmar \n",
    "\n",
    "# Probabilidade de sucesso\n",
    "p = Dist_Bern.mean()\n",
    "\n",
    "# Probabilidade de fracasso\n",
    "p*(1-p)"
   ]
  },
  {
   "cell_type": "markdown",
   "id": "3e2b7742",
   "metadata": {},
   "source": [
    "## Distribuição binomial\n",
    "\n",
    "\n",
    "Agora, imagine que repetimos um **ensaio de bernoulli** (o lançamento de uma moeda, por exemplo) um **número ``n`` de vezes**. A quantidade de **vezes que obtivemos sucesso** nos ``n`` ensaios resultaram em uma **probabilidade**. Em resumo, a ``Distribuição Binomial`` é uma distribuição de probabilidade discreta que descreve o número de sucessos em uma sequência de ensaios independentes, em que cada ensaio tem apenas dois possíveis resultados.1\n",
    "\n",
    "A ``distribuição binomial`` é a **distribuição de probabilidade discreta** do **número de sucessos** numa **sequência** de ``n`` tentativas tais que: Cada tentativa tem exclusivamente como resultado **duas possibilidades**, ``sucesso`` ou ``fracasso``. Cada tentativa é independente das demais\n",
    "\n",
    "**Exemplo**: Qual a probabilidade de obtermos 2 caras em 5 lançamentos de uma moeda não viciada ?\n",
    "\n",
    "Se realizarmos ``m`` vezes os **5 lançamentos**, conseguimos construir uma **curva de probabilidade** e responder essa pergunta.\n",
    "\n",
    "![](https://miro.medium.com/max/2100/1*WVD2_j2CJkb14LR7nVsvjw.jpeg)"
   ]
  },
  {
   "cell_type": "code",
   "execution_count": 145,
   "id": "f2b9fba4",
   "metadata": {},
   "outputs": [],
   "source": [
    "# Nº de ensaios (Trial)\n",
    "n_trials = 10000\n",
    "\n",
    "# probabilidade de sucesso\n",
    "p = 0.5\n",
    "\n",
    "# numero de lançamentos em um trial\n",
    "n_lancamentos = 5"
   ]
  },
  {
   "cell_type": "code",
   "execution_count": 146,
   "id": "3b034bd9",
   "metadata": {},
   "outputs": [],
   "source": [
    "# Lista para quardar os resultados\n",
    "resultados_trial = []\n",
    "\n",
    "# Criando um looping para cada ensaio\n",
    "for i in range(n_trials):\n",
    "    bernoulli_dist = bernoulli.rvs(p=p, # probabilidade de sucesso\n",
    "                               size=n_lancamentos, # numero de experimentos\n",
    "                               loc=0) # fracasso\n",
    "    resultados_trial.append(sum(bernoulli_dist))"
   ]
  },
  {
   "cell_type": "code",
   "execution_count": 147,
   "id": "2781ff5e",
   "metadata": {},
   "outputs": [
    {
     "data": {
      "image/png": "[encoded data removed]",
      "text/plain": [
       "<Figure size 640x480 with 1 Axes>"
      ]
     },
     "metadata": {},
     "output_type": "display_data"
    }
   ],
   "source": [
    "# Plotando um Histigrama para Visualizar a Distribuição\n",
    "sns.histplot(resultados_trial,kde=False);\n",
    "# Existem mais probabilidade de obter de 2 a 3 vezes coroa em 5 jogadas"
   ]
  },
  {
   "cell_type": "markdown",
   "id": "61119767",
   "metadata": {},
   "source": [
    "### ``Counter`` Python\n",
    "\n",
    "* dict subclasse para contar objetos \n",
    "\n",
    "### ``items`` Python\n",
    "\n",
    "* Retorna um objeto de visualização (view) contendo os pares chave-valor do dicionário, como tuplas em uma lista"
   ]
  },
  {
   "cell_type": "code",
   "execution_count": 148,
   "id": "a1204005",
   "metadata": {},
   "outputs": [
    {
     "data": {
      "text/plain": [
       "dict_items([(4, 1507), (2, 3092), (1, 1584), (3, 3151), (5, 349), (0, 317)])"
      ]
     },
     "execution_count": 148,
     "metadata": {},
     "output_type": "execute_result"
    }
   ],
   "source": [
    "# Visualizando a contagem de vezes por cada resultado\n",
    "Counter(resultados_trial).items()"
   ]
  },
  {
   "cell_type": "code",
   "execution_count": 149,
   "id": "265b1495",
   "metadata": {},
   "outputs": [],
   "source": [
    "# Criando um DataFrame\n",
    "df_trials = pd.DataFrame(Counter(resultados_trial).items(), columns=['Heads', 'Contagem'])"
   ]
  },
  {
   "cell_type": "code",
   "execution_count": 150,
   "id": "4eaf4470",
   "metadata": {},
   "outputs": [],
   "source": [
    "# Obtendo a Frequancia em %\n",
    "df_trials['Frequência'] = df_trials['Contagem'] / 10000"
   ]
  },
  {
   "cell_type": "code",
   "execution_count": 151,
   "id": "140a9bfc",
   "metadata": {},
   "outputs": [
    {
     "data": {
      "text/html": [
       "<div>\n",
       "<style scoped>\n",
       "    .dataframe tbody tr th:only-of-type {\n",
       "        vertical-align: middle;\n",
       "    }\n",
       "\n",
       "    .dataframe tbody tr th {\n",
       "        vertical-align: top;\n",
       "    }\n",
       "\n",
       "    .dataframe thead th {\n",
       "        text-align: right;\n",
       "    }\n",
       "</style>\n",
       "<table border=\"1\" class=\"dataframe\">\n",
       "  <thead>\n",
       "    <tr style=\"text-align: right;\">\n",
       "      <th></th>\n",
       "      <th>Heads</th>\n",
       "      <th>Contagem</th>\n",
       "      <th>Frequência</th>\n",
       "    </tr>\n",
       "  </thead>\n",
       "  <tbody>\n",
       "    <tr>\n",
       "      <th>0</th>\n",
       "      <td>4</td>\n",
       "      <td>1507</td>\n",
       "      <td>0.1507</td>\n",
       "    </tr>\n",
       "    <tr>\n",
       "      <th>1</th>\n",
       "      <td>2</td>\n",
       "      <td>3092</td>\n",
       "      <td>0.3092</td>\n",
       "    </tr>\n",
       "    <tr>\n",
       "      <th>2</th>\n",
       "      <td>1</td>\n",
       "      <td>1584</td>\n",
       "      <td>0.1584</td>\n",
       "    </tr>\n",
       "    <tr>\n",
       "      <th>3</th>\n",
       "      <td>3</td>\n",
       "      <td>3151</td>\n",
       "      <td>0.3151</td>\n",
       "    </tr>\n",
       "    <tr>\n",
       "      <th>4</th>\n",
       "      <td>5</td>\n",
       "      <td>349</td>\n",
       "      <td>0.0349</td>\n",
       "    </tr>\n",
       "    <tr>\n",
       "      <th>5</th>\n",
       "      <td>0</td>\n",
       "      <td>317</td>\n",
       "      <td>0.0317</td>\n",
       "    </tr>\n",
       "  </tbody>\n",
       "</table>\n",
       "</div>"
      ],
      "text/plain": [
       "   Heads  Contagem  Frequência\n",
       "0      4      1507      0.1507\n",
       "1      2      3092      0.3092\n",
       "2      1      1584      0.1584\n",
       "3      3      3151      0.3151\n",
       "4      5       349      0.0349\n",
       "5      0       317      0.0317"
      ]
     },
     "metadata": {},
     "output_type": "display_data"
    }
   ],
   "source": [
    "display(df_trials)"
   ]
  },
  {
   "cell_type": "markdown",
   "id": "f794a9d5",
   "metadata": {},
   "source": [
    "Também temos a **forma analítica** de construir uma **curva de probabilidade** para esse tipo de ensaio, utilizando a **equação** abaixo.\n",
    "\n",
    "![](https://wikimedia.org/api/rest_v1/media/math/render/svg/9757f2616b6e9dffea51a6d9bcf9f958988063c3)"
   ]
  },
  {
   "cell_type": "markdown",
   "id": "045ded4b",
   "metadata": {},
   "source": [
    "Onde:<br>\n",
    "\n",
    "```n```: **Número de ensaios**<br>\n",
    "```p```: **Probabilidade de Sucesso**<br>\n",
    "```k```: **Número de sucessos**<br>"
   ]
  },
  {
   "cell_type": "code",
   "execution_count": 152,
   "id": "fa7f2753",
   "metadata": {},
   "outputs": [],
   "source": [
    "import math"
   ]
  },
  {
   "cell_type": "code",
   "execution_count": 153,
   "id": "d719784c",
   "metadata": {},
   "outputs": [],
   "source": [
    "#  Número de ensaios\n",
    "n = 5 \n",
    "\n",
    "# Probabilidade de Sucesso\n",
    "p = 0.5\n",
    "\n",
    "# Número de sucessos\n",
    "k = 2"
   ]
  },
  {
   "cell_type": "code",
   "execution_count": 154,
   "id": "510b07e3",
   "metadata": {},
   "outputs": [],
   "source": [
    "# Aplicando a equação relativa a função\n",
    "probabilidade = (math.factorial(n) / (math.factorial(k) * math.factorial(n - k))) * (p**k) * (1 - p)**(n - k) "
   ]
  },
  {
   "cell_type": "code",
   "execution_count": 155,
   "id": "773e3702",
   "metadata": {},
   "outputs": [
    {
     "name": "stdout",
     "output_type": "stream",
     "text": [
      "0.3125\n"
     ]
    }
   ],
   "source": [
    "# Visualizando a probabilidade de obter 2 caras em 5 jogadas\n",
    "print(probabilidade)"
   ]
  },
  {
   "cell_type": "markdown",
   "id": "c160ca68",
   "metadata": {},
   "source": [
    "Note que para distribuições discretas, podemos associar diretamente um valor (observação) a uma probabilidade por meio de uma função matemática ou simulação. Essa função matemática se chama **Função de Massa de Probabilidade**."
   ]
  },
  {
   "cell_type": "markdown",
   "id": "a8b62ca9",
   "metadata": {},
   "source": [
    "**Exemplo de Aplicação**: Call Center\n",
    "\n",
    "Imagine que você trabalha como cientista numa empresa de Call Center e você encontra as seguintes informações sobre a operação:\n",
    "\n",
    "* A probabilidade de conversão de um cliente a cada ligação é **4%**\n",
    "* Cada funcionário faz em **média 50 ligações** por dia\n",
    "* A **receita média** que cada cliente traz é **RS 100.00**\n",
    "* A empresa tem **100 funcionários** ligando para clientes\n",
    "* Cada **funcionário recebe** um salário de **RS 200.00 por dia** de trabalho\n",
    "\n",
    "Vocês conseguem imaginar os funcionários como distribuições binomiais?\n",
    "\n",
    "Cada funcionário é uma distribuição binomial, cujo ``p`` = **4%** e ``n`` = **50**."
   ]
  },
  {
   "cell_type": "code",
   "execution_count": 156,
   "id": "4aa46423",
   "metadata": {},
   "outputs": [],
   "source": [
    "# Simulando Call Center\n",
    "\n",
    "# Nº de Funcionarios\n",
    "funcionarios = 100\n",
    "\n",
    "# Salario dos Funcionarios\n",
    "salarios = 200\n",
    "\n",
    "# Nº de Ligações \n",
    "n_ligacoes = 50\n",
    "\n",
    "# Probabilidade de Sucesso\n",
    "p = 0.04\n",
    "\n",
    "# Retorno de Receita por Sucesso\n",
    "receita = 100"
   ]
  },
  {
   "cell_type": "code",
   "execution_count": 157,
   "id": "b44c47a4",
   "metadata": {},
   "outputs": [
    {
     "data": {
      "text/plain": [
       "20000"
      ]
     },
     "execution_count": 157,
     "metadata": {},
     "output_type": "execute_result"
    }
   ],
   "source": [
    "funcionarios * salarios"
   ]
  },
  {
   "cell_type": "code",
   "execution_count": 158,
   "id": "1d683c98",
   "metadata": {},
   "outputs": [
    {
     "name": "stdout",
     "output_type": "stream",
     "text": [
      "Conversão Média 2.25\n",
      "\n",
      "Receita Total (1 dia) R$ 22500\n",
      "\n",
      "Despesa com Funcionários (1 dia) R$ 20000\n",
      "\n",
      "Lucro de 1 dia R$ 2500\n"
     ]
    }
   ],
   "source": [
    "# Criar uma Distribuição Binomial com os Parametros\n",
    "np.random.seed(200)\n",
    "sucessos_ligacoes = np.random.binomial(n_ligacoes, p, size = funcionarios)\n",
    "\n",
    "# Métricas para o Call Center\n",
    "print(f'Conversão Média {round(np.mean(sucessos_ligacoes), 2)}\\n')\n",
    "print(f'Receita Total (1 dia) R$ {np.sum(sucessos_ligacoes * receita)}\\n')\n",
    "print(f'Despesa com Funcionários (1 dia) R$ {(funcionarios * salarios)}\\n')\n",
    "print(f'Lucro de 1 dia R$ {np.sum(sucessos_ligacoes)*receita - funcionarios*salarios}')"
   ]
  },
  {
   "cell_type": "code",
   "execution_count": 159,
   "id": "34471297",
   "metadata": {},
   "outputs": [],
   "source": [
    "# vamos simular 365 dias\n",
    "lucro = []\n",
    "for i in range(365):\n",
    "    sucessos_ligacoes = np.random.binomial(n_ligacoes, p, size=funcionarios)\n",
    "    lucro.append(np.sum(sucessos_ligacoes)*receita - funcionarios*salarios)"
   ]
  },
  {
   "cell_type": "code",
   "execution_count": 160,
   "id": "7562a367",
   "metadata": {},
   "outputs": [
    {
     "data": {
      "image/png": "[encoded data removed]",
      "text/plain": [
       "<Figure size 640x480 with 1 Axes>"
      ]
     },
     "metadata": {},
     "output_type": "display_data"
    }
   ],
   "source": [
    "# Visualizando a Distribuição\n",
    "sns.histplot(lucro, kde=True)\n",
    "plt.title('Distribuição do lucro')\n",
    "plt.show()"
   ]
  },
  {
   "cell_type": "code",
   "execution_count": 161,
   "id": "ab987b9d",
   "metadata": {},
   "outputs": [],
   "source": [
    "# vamos simular 365 dias\n",
    "n1 = 55\n",
    "p1 = 0.05\n",
    "lucro1 = []\n",
    "for i in range(365):\n",
    "    sucessos_ligacoes1 = np.random.binomial(n1, p1, size=funcionarios)\n",
    "    lucro1.append(np.sum(sucessos_ligacoes1)*receita - funcionarios*salarios)"
   ]
  },
  {
   "cell_type": "code",
   "execution_count": 162,
   "id": "4e02e970",
   "metadata": {},
   "outputs": [
    {
     "name": "stderr",
     "output_type": "stream",
     "text": [
      "C:\\Users\\SAMSUNG\\AppData\\Local\\Temp\\ipykernel_884\\191462722.py:1: UserWarning: \n",
      "\n",
      "`distplot` is a deprecated function and will be removed in seaborn v0.14.0.\n",
      "\n",
      "Please adapt your code to use either `displot` (a figure-level function with\n",
      "similar flexibility) or `histplot` (an axes-level function for histograms).\n",
      "\n",
      "For a guide to updating your code to use the new functions, please see\n",
      "https://gist.github.com/mwaskom/de44147ed2974457ad6372750bbe5751\n",
      "\n",
      "  sns.distplot(lucro1)\n"
     ]
    },
    {
     "data": {
      "image/png": "[encoded data removed]",
      "text/plain": [
       "<Figure size 640x480 with 1 Axes>"
      ]
     },
     "metadata": {},
     "output_type": "display_data"
    }
   ],
   "source": [
    "sns.distplot(lucro1)\n",
    "plt.title('Distribuição do lucro')\n",
    "plt.show()"
   ]
  },
  {
   "cell_type": "code",
   "execution_count": 163,
   "id": "687dd49c",
   "metadata": {},
   "outputs": [
    {
     "name": "stderr",
     "output_type": "stream",
     "text": [
      "C:\\Users\\SAMSUNG\\AppData\\Local\\Temp\\ipykernel_884\\535824830.py:3: UserWarning: \n",
      "\n",
      "`distplot` is a deprecated function and will be removed in seaborn v0.14.0.\n",
      "\n",
      "Please adapt your code to use either `displot` (a figure-level function with\n",
      "similar flexibility) or `histplot` (an axes-level function for histograms).\n",
      "\n",
      "For a guide to updating your code to use the new functions, please see\n",
      "https://gist.github.com/mwaskom/de44147ed2974457ad6372750bbe5751\n",
      "\n",
      "  ax = sns.distplot(lucro, bins=20, label='Call Center antes do cientista de dados')\n",
      "C:\\Users\\SAMSUNG\\AppData\\Local\\Temp\\ipykernel_884\\535824830.py:4: UserWarning: \n",
      "\n",
      "`distplot` is a deprecated function and will be removed in seaborn v0.14.0.\n",
      "\n",
      "Please adapt your code to use either `displot` (a figure-level function with\n",
      "similar flexibility) or `histplot` (an axes-level function for histograms).\n",
      "\n",
      "For a guide to updating your code to use the new functions, please see\n",
      "https://gist.github.com/mwaskom/de44147ed2974457ad6372750bbe5751\n",
      "\n",
      "  ax = sns.distplot(lucro1, bins=20, label='Call Center depois do cientista', color='red')\n"
     ]
    },
    {
     "data": {
      "image/png": "[encoded data removed]",
      "text/plain": [
       "<Figure size 1400x700 with 1 Axes>"
      ]
     },
     "metadata": {},
     "output_type": "display_data"
    }
   ],
   "source": [
    "# Plot and save the results as a histogram\n",
    "fig, ax = plt.subplots(figsize=(14,7))\n",
    "ax = sns.distplot(lucro, bins=20, label='Call Center antes do cientista de dados')\n",
    "ax = sns.distplot(lucro1, bins=20, label='Call Center depois do cientista', color='red')\n",
    "ax.set_xlabel(\"Lucro\",fontsize=16)\n",
    "ax.set_ylabel(\"Frequência\",fontsize=16)\n",
    "plt.legend()\n",
    "plt.show()"
   ]
  },
  {
   "cell_type": "markdown",
   "id": "e9048962",
   "metadata": {},
   "source": [
    "## Distribuições Contínuas\n",
    "\n",
    "### Distribuição Normal\n",
    "\n",
    "![](https://i.pinimg.com/originals/34/9b/f6/349bf66317f5a051c89a7b26264c9062.jpg)"
   ]
  },
  {
   "cell_type": "markdown",
   "id": "eb07fc4a",
   "metadata": {},
   "source": [
    "A ``distribuição normal`` ou ``Gaussiana`` é uma das mais importantes distribuições teóricas e práticas. Ela é muito utilizada na **inferência estatística**. A função **f(x)** é uma ``curva simétrica``,** unimodal com forma de sino** que, quando ``μ=0`` e ``σ=1``, ela descreve uma distribuição denominada ``Normal padrão`` ou ``Normal reduzida``.\n",
    "\n",
    "A ``Distribuição Normal`` é uma ``distribuiçao contínua`` e é uma das mais conhecidas na estatística e na ciência de dados. Isso, pois muitos fenômenos podem ser modelados por meio de uma **distribuição normal**. Matematicamente, uma distribuição é normal se segue a seguinte função de **densidade de probabilidade**. \n",
    "\n",
    "![](https://wikimedia.org/api/rest_v1/media/math/render/svg/362834b765239b64cf7719a3a3a04e172c883e3d)"
   ]
  },
  {
   "cell_type": "markdown",
   "id": "ee291758",
   "metadata": {},
   "source": [
    "O que é densidade de probabilidade? Por qual motivo não utilizamos um valor de probabilidade?\n",
    "\n",
    "Pra definir essa função, precisamos de uma **média*, representada pela letra grega ``mi`` e um **desvio padrão**, representado pela letra grega ``sigma``.\n",
    "\n",
    "Diferentemente da **Função de Massa de Probabilidade**, essa Função **não retorna a probabilidade**, mas um **valor correspondente** ao que se conhece por **densidade**. Para **calcular a probabilidade** temos que encontrar a ``área dentro do intervalo`` especificado."
   ]
  },
  {
   "cell_type": "markdown",
   "id": "0c237b53",
   "metadata": {},
   "source": [
    "Diferentemente da Função de **Massa de Probabilidade**, essa Função não **retorna** a probabilidade, mas um **valor** correspondente ao que se conhece por **densidade**. Para **calcular a probabilidade** temos que encontrar a área dentro do intervalo especificado.\n",
    "\n",
    "![](https://statistics.laerd.com/statistical-guides/img/normal-7.png)\n",
    "\n",
    "Características interessantes:\n",
    "\n",
    "- A curva é simétrica em relação a média\n",
    "- A média, a moda e a mediana são iguais\n",
    "\n",
    "**Relembrar agora do BoxPLot:**\n",
    "\n",
    "![](https://jingwen-z.github.io/images/20190319-boxplot-vs-pdf.png)"
   ]
  },
  {
   "cell_type": "markdown",
   "id": "2e7bcc29",
   "metadata": {},
   "source": [
    "* O ``IQR`` nos ajuda a localizar **outliers na distribuição**."
   ]
  },
  {
   "cell_type": "markdown",
   "id": "9c2e90c4",
   "metadata": {},
   "source": [
    "### Distribuição Normal Padrão\n",
    "\n",
    "\n",
    "A ``distribuição normal`` com **média nula** e **desvio padrão** unitário é chamada de ``distribuição normal centrada e reduzida`` ou de ``distribuição normal padrão``.\n",
    "\n",
    "\n",
    "![](https://encrypted-tbn0.gstatic.com/images?q=tbn%3AANd9GcRKw5o96x3h5uI4_-LC9l-MANxreLjcFB_QdQ&usqp=CAU)"
   ]
  },
  {
   "cell_type": "code",
   "execution_count": 164,
   "id": "dbd34b9b",
   "metadata": {},
   "outputs": [],
   "source": [
    "# Craindo dados sinteticos para exemplificação\n",
    "normal_dist = np.random.normal(50, 5, 3000)"
   ]
  },
  {
   "cell_type": "code",
   "execution_count": 165,
   "id": "65e66be1",
   "metadata": {},
   "outputs": [
    {
     "name": "stderr",
     "output_type": "stream",
     "text": [
      "C:\\Users\\SAMSUNG\\AppData\\Local\\Temp\\ipykernel_884\\1155739972.py:1: UserWarning: \n",
      "\n",
      "`distplot` is a deprecated function and will be removed in seaborn v0.14.0.\n",
      "\n",
      "Please adapt your code to use either `displot` (a figure-level function with\n",
      "similar flexibility) or `histplot` (an axes-level function for histograms).\n",
      "\n",
      "For a guide to updating your code to use the new functions, please see\n",
      "https://gist.github.com/mwaskom/de44147ed2974457ad6372750bbe5751\n",
      "\n",
      "  sns.distplot(normal_dist)\n"
     ]
    },
    {
     "data": {
      "image/png": "[encoded data removed]",
      "text/plain": [
       "<Figure size 640x480 with 1 Axes>"
      ]
     },
     "metadata": {},
     "output_type": "display_data"
    }
   ],
   "source": [
    "# Plotando os dados em um grafico de distribuição\n",
    "sns.distplot(normal_dist)\n",
    "plt.title('Curva Normal com Média = 50 e Desvio Padrão = 5')\n",
    "plt.show()"
   ]
  },
  {
   "cell_type": "code",
   "execution_count": 166,
   "id": "a2e29e07",
   "metadata": {},
   "outputs": [
    {
     "name": "stdout",
     "output_type": "stream",
     "text": [
      "49.94719591354585 5.023433296775534\n"
     ]
    }
   ],
   "source": [
    "# media \n",
    "media_normal = normal_dist.mean()\n",
    "# desvio \n",
    "desvio_normal = normal_dist.std()\n",
    "# padronização\n",
    "z_normal_dist = (normal_dist - media_normal)/desvio_normal\n",
    "print(media_normal,desvio_normal)"
   ]
  },
  {
   "cell_type": "code",
   "execution_count": 167,
   "id": "edd83b3c",
   "metadata": {},
   "outputs": [
    {
     "name": "stderr",
     "output_type": "stream",
     "text": [
      "C:\\Users\\SAMSUNG\\AppData\\Local\\Temp\\ipykernel_884\\902802711.py:1: UserWarning: \n",
      "\n",
      "`distplot` is a deprecated function and will be removed in seaborn v0.14.0.\n",
      "\n",
      "Please adapt your code to use either `displot` (a figure-level function with\n",
      "similar flexibility) or `histplot` (an axes-level function for histograms).\n",
      "\n",
      "For a guide to updating your code to use the new functions, please see\n",
      "https://gist.github.com/mwaskom/de44147ed2974457ad6372750bbe5751\n",
      "\n",
      "  sns.distplot(z_normal_dist)\n"
     ]
    },
    {
     "data": {
      "image/png": "[encoded data removed]",
      "text/plain": [
       "<Figure size 640x480 with 1 Axes>"
      ]
     },
     "metadata": {},
     "output_type": "display_data"
    }
   ],
   "source": [
    "sns.distplot(z_normal_dist)\n",
    "plt.title('Curva Normal com Média = 0 e Desvio Padrão = 1')\n",
    "plt.show()"
   ]
  },
  {
   "cell_type": "markdown",
   "id": "f6fa3167",
   "metadata": {},
   "source": [
    "Se quisermos saber, por exemplo, qual a **probabilidade de observarmos** valores menores que 45, transformamos 45 para ``Z score`` e usamos a função ```stats.norm.cdf``` para **obter a probabilidade**."
   ]
  },
  {
   "cell_type": "markdown",
   "id": "c6e0ac21",
   "metadata": {},
   "source": [
    "Antes disso, vamos ver como o **python** vai nos **retornar as probabilidades**"
   ]
  },
  {
   "cell_type": "markdown",
   "id": "695d88f8",
   "metadata": {},
   "source": [
    "![](https://i.stack.imgur.com/fGYNp.png)"
   ]
  },
  {
   "cell_type": "markdown",
   "id": "757d68cd",
   "metadata": {},
   "source": [
    "Acima temos uma ``curva normal padrão`` e temos um valor de ``x`` igual a **1.645**, que é o ``Z score``. Se quisermos descobrir a **probabilidade** de encontrarmos um **valor < 1.645**, usamos a função ``stats.norm.cdf``, passando como argumento o valor do ``Z score``."
   ]
  },
  {
   "cell_type": "code",
   "execution_count": 168,
   "id": "f2116ccf",
   "metadata": {},
   "outputs": [
    {
     "data": {
      "text/plain": [
       "0.9500150944608786"
      ]
     },
     "execution_count": 168,
     "metadata": {},
     "output_type": "execute_result"
    }
   ],
   "source": [
    "# Extraindo a probabilidade por meio de uma distribuição nomalizada\n",
    "stats.norm.cdf(1.645)\n",
    "# Obtendo a probabiliodade de observar valores menores que \"1.645\""
   ]
  },
  {
   "cell_type": "markdown",
   "id": "a236af27",
   "metadata": {},
   "source": [
    "Note que a **probabilidade** de encontrarmos um **valor abaixo de 1.645** na ``curva normal padrão`` é de **95%**\n",
    "\n",
    "Se quisermos **saber o inverso**."
   ]
  },
  {
   "cell_type": "code",
   "execution_count": 169,
   "id": "d8546488",
   "metadata": {},
   "outputs": [
    {
     "data": {
      "text/plain": [
       "1.6448536269514722"
      ]
     },
     "execution_count": 169,
     "metadata": {},
     "output_type": "execute_result"
    }
   ],
   "source": [
    "# Extraindo o valor de Z-Score\n",
    "stats.norm.ppf(0.95)\n",
    "# Aplicando a operação inversa anterior "
   ]
  },
  {
   "cell_type": "markdown",
   "id": "83869649",
   "metadata": {},
   "source": [
    "Sendo assim, vamos calcular o ``Z score`` de **45** e usar a função ``stats.norm.cdf()``"
   ]
  },
  {
   "cell_type": "code",
   "execution_count": 170,
   "id": "7e59cb46",
   "metadata": {},
   "outputs": [
    {
     "data": {
      "text/plain": [
       "0.16235535087010838"
      ]
     },
     "execution_count": 170,
     "metadata": {},
     "output_type": "execute_result"
    }
   ],
   "source": [
    "# Obtendo o  \"Z-score para 45\"\n",
    "z_45 = ( 45 - media_normal ) / desvio_normal\n",
    "stats.norm.cdf(z_45)"
   ]
  }
 ],
 "metadata": {
  "kernelspec": {
   "display_name": "Python 3 (ipykernel)",
   "language": "python",
   "name": "python3"
  },
  "language_info": {
   "codemirror_mode": {
    "name": "ipython",
    "version": 3
   },
   "file_extension": ".py",
   "mimetype": "text/x-python",
   "name": "python",
   "nbconvert_exporter": "python",
   "pygments_lexer": "ipython3",
   "version": "3.9.13"
  }
 },
 "nbformat": 4,
 "nbformat_minor": 5
}
